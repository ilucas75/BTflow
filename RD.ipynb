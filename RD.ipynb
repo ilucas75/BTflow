{
  "nbformat": 4,
  "nbformat_minor": 0,
  "metadata": {
    "colab": {
      "name": "RD.ipynb",
      "provenance": [],
      "collapsed_sections": [],
      "toc_visible": true,
      "include_colab_link": true
    },
    "kernelspec": {
      "name": "python3",
      "display_name": "Python 3"
    }
  },
  "cells": [
    {
      "cell_type": "markdown",
      "metadata": {
        "id": "view-in-github",
        "colab_type": "text"
      },
      "source": [
        "<a href=\"https://colab.research.google.com/github/ilucas75/BTflow/blob/dev/RD.ipynb\" target=\"_parent\"><img src=\"https://colab.research.google.com/assets/colab-badge.svg\" alt=\"Open In Colab\"/></a>"
      ]
    },
    {
      "cell_type": "code",
      "metadata": {
        "id": "uEcyr9cyjnct",
        "colab_type": "code",
        "outputId": "ff85fc3f-e9ec-498a-8353-4c4fae4c1f12",
        "colab": {
          "base_uri": "https://localhost:8080/",
          "height": 521
        }
      },
      "source": [
        "#install\n",
        "!pip install pdfminer.six\n",
        "!pip install spacy"
      ],
      "execution_count": 1,
      "outputs": [
        {
          "output_type": "stream",
          "text": [
            "Collecting pdfminer.six\n",
            "\u001b[?25l  Downloading https://files.pythonhosted.org/packages/60/0a/5806bd37362bceebb88cff526177c308276b3e0696611564ed01d67b8c6b/pdfminer.six-20200124-py3-none-any.whl (5.6MB)\n",
            "\u001b[K     |████████████████████████████████| 5.6MB 1.4MB/s \n",
            "\u001b[?25hRequirement already satisfied: chardet; python_version > \"3.0\" in /usr/local/lib/python3.6/dist-packages (from pdfminer.six) (3.0.4)\n",
            "Requirement already satisfied: sortedcontainers in /usr/local/lib/python3.6/dist-packages (from pdfminer.six) (2.1.0)\n",
            "Collecting pycryptodome\n",
            "\u001b[?25l  Downloading https://files.pythonhosted.org/packages/af/16/da16a22d47bac9bf9db39f3b9af74e8eeed8855c0df96be20b580ef92fff/pycryptodome-3.9.7-cp36-cp36m-manylinux1_x86_64.whl (13.7MB)\n",
            "\u001b[K     |████████████████████████████████| 13.7MB 308kB/s \n",
            "\u001b[?25hInstalling collected packages: pycryptodome, pdfminer.six\n",
            "Successfully installed pdfminer.six-20200124 pycryptodome-3.9.7\n",
            "Requirement already satisfied: spacy in /usr/local/lib/python3.6/dist-packages (2.2.4)\n",
            "Requirement already satisfied: numpy>=1.15.0 in /usr/local/lib/python3.6/dist-packages (from spacy) (1.18.2)\n",
            "Requirement already satisfied: catalogue<1.1.0,>=0.0.7 in /usr/local/lib/python3.6/dist-packages (from spacy) (1.0.0)\n",
            "Requirement already satisfied: murmurhash<1.1.0,>=0.28.0 in /usr/local/lib/python3.6/dist-packages (from spacy) (1.0.2)\n",
            "Requirement already satisfied: tqdm<5.0.0,>=4.38.0 in /usr/local/lib/python3.6/dist-packages (from spacy) (4.38.0)\n",
            "Requirement already satisfied: setuptools in /usr/local/lib/python3.6/dist-packages (from spacy) (46.0.0)\n",
            "Requirement already satisfied: thinc==7.4.0 in /usr/local/lib/python3.6/dist-packages (from spacy) (7.4.0)\n",
            "Requirement already satisfied: srsly<1.1.0,>=1.0.2 in /usr/local/lib/python3.6/dist-packages (from spacy) (1.0.2)\n",
            "Requirement already satisfied: requests<3.0.0,>=2.13.0 in /usr/local/lib/python3.6/dist-packages (from spacy) (2.21.0)\n",
            "Requirement already satisfied: preshed<3.1.0,>=3.0.2 in /usr/local/lib/python3.6/dist-packages (from spacy) (3.0.2)\n",
            "Requirement already satisfied: wasabi<1.1.0,>=0.4.0 in /usr/local/lib/python3.6/dist-packages (from spacy) (0.6.0)\n",
            "Requirement already satisfied: blis<0.5.0,>=0.4.0 in /usr/local/lib/python3.6/dist-packages (from spacy) (0.4.1)\n",
            "Requirement already satisfied: plac<1.2.0,>=0.9.6 in /usr/local/lib/python3.6/dist-packages (from spacy) (1.1.3)\n",
            "Requirement already satisfied: cymem<2.1.0,>=2.0.2 in /usr/local/lib/python3.6/dist-packages (from spacy) (2.0.3)\n",
            "Requirement already satisfied: importlib-metadata>=0.20; python_version < \"3.8\" in /usr/local/lib/python3.6/dist-packages (from catalogue<1.1.0,>=0.0.7->spacy) (1.6.0)\n",
            "Requirement already satisfied: certifi>=2017.4.17 in /usr/local/lib/python3.6/dist-packages (from requests<3.0.0,>=2.13.0->spacy) (2019.11.28)\n",
            "Requirement already satisfied: idna<2.9,>=2.5 in /usr/local/lib/python3.6/dist-packages (from requests<3.0.0,>=2.13.0->spacy) (2.8)\n",
            "Requirement already satisfied: chardet<3.1.0,>=3.0.2 in /usr/local/lib/python3.6/dist-packages (from requests<3.0.0,>=2.13.0->spacy) (3.0.4)\n",
            "Requirement already satisfied: urllib3<1.25,>=1.21.1 in /usr/local/lib/python3.6/dist-packages (from requests<3.0.0,>=2.13.0->spacy) (1.24.3)\n",
            "Requirement already satisfied: zipp>=0.5 in /usr/local/lib/python3.6/dist-packages (from importlib-metadata>=0.20; python_version < \"3.8\"->catalogue<1.1.0,>=0.0.7->spacy) (3.1.0)\n"
          ],
          "name": "stdout"
        }
      ]
    },
    {
      "cell_type": "code",
      "metadata": {
        "id": "XcK_diDZmwc_",
        "colab_type": "code",
        "outputId": "153f113b-827a-4ae7-bd99-51e1f9804ed2",
        "colab": {
          "base_uri": "https://localhost:8080/",
          "height": 1000
        }
      },
      "source": [
        "!python -m spacy download fr_core_news_sm\n",
        "!python -m spacy download fr_core_news_md"
      ],
      "execution_count": 2,
      "outputs": [
        {
          "output_type": "stream",
          "text": [
            "Collecting fr_core_news_sm==2.2.5\n",
            "\u001b[?25l  Downloading https://github.com/explosion/spacy-models/releases/download/fr_core_news_sm-2.2.5/fr_core_news_sm-2.2.5.tar.gz (14.7MB)\n",
            "\u001b[K     |████████████████████████████████| 14.7MB 1.0MB/s \n",
            "\u001b[?25hRequirement already satisfied: spacy>=2.2.2 in /usr/local/lib/python3.6/dist-packages (from fr_core_news_sm==2.2.5) (2.2.4)\n",
            "Requirement already satisfied: srsly<1.1.0,>=1.0.2 in /usr/local/lib/python3.6/dist-packages (from spacy>=2.2.2->fr_core_news_sm==2.2.5) (1.0.2)\n",
            "Requirement already satisfied: plac<1.2.0,>=0.9.6 in /usr/local/lib/python3.6/dist-packages (from spacy>=2.2.2->fr_core_news_sm==2.2.5) (1.1.3)\n",
            "Requirement already satisfied: catalogue<1.1.0,>=0.0.7 in /usr/local/lib/python3.6/dist-packages (from spacy>=2.2.2->fr_core_news_sm==2.2.5) (1.0.0)\n",
            "Requirement already satisfied: tqdm<5.0.0,>=4.38.0 in /usr/local/lib/python3.6/dist-packages (from spacy>=2.2.2->fr_core_news_sm==2.2.5) (4.38.0)\n",
            "Requirement already satisfied: wasabi<1.1.0,>=0.4.0 in /usr/local/lib/python3.6/dist-packages (from spacy>=2.2.2->fr_core_news_sm==2.2.5) (0.6.0)\n",
            "Requirement already satisfied: setuptools in /usr/local/lib/python3.6/dist-packages (from spacy>=2.2.2->fr_core_news_sm==2.2.5) (46.0.0)\n",
            "Requirement already satisfied: requests<3.0.0,>=2.13.0 in /usr/local/lib/python3.6/dist-packages (from spacy>=2.2.2->fr_core_news_sm==2.2.5) (2.21.0)\n",
            "Requirement already satisfied: murmurhash<1.1.0,>=0.28.0 in /usr/local/lib/python3.6/dist-packages (from spacy>=2.2.2->fr_core_news_sm==2.2.5) (1.0.2)\n",
            "Requirement already satisfied: blis<0.5.0,>=0.4.0 in /usr/local/lib/python3.6/dist-packages (from spacy>=2.2.2->fr_core_news_sm==2.2.5) (0.4.1)\n",
            "Requirement already satisfied: cymem<2.1.0,>=2.0.2 in /usr/local/lib/python3.6/dist-packages (from spacy>=2.2.2->fr_core_news_sm==2.2.5) (2.0.3)\n",
            "Requirement already satisfied: preshed<3.1.0,>=3.0.2 in /usr/local/lib/python3.6/dist-packages (from spacy>=2.2.2->fr_core_news_sm==2.2.5) (3.0.2)\n",
            "Requirement already satisfied: numpy>=1.15.0 in /usr/local/lib/python3.6/dist-packages (from spacy>=2.2.2->fr_core_news_sm==2.2.5) (1.18.2)\n",
            "Requirement already satisfied: thinc==7.4.0 in /usr/local/lib/python3.6/dist-packages (from spacy>=2.2.2->fr_core_news_sm==2.2.5) (7.4.0)\n",
            "Requirement already satisfied: importlib-metadata>=0.20; python_version < \"3.8\" in /usr/local/lib/python3.6/dist-packages (from catalogue<1.1.0,>=0.0.7->spacy>=2.2.2->fr_core_news_sm==2.2.5) (1.6.0)\n",
            "Requirement already satisfied: certifi>=2017.4.17 in /usr/local/lib/python3.6/dist-packages (from requests<3.0.0,>=2.13.0->spacy>=2.2.2->fr_core_news_sm==2.2.5) (2019.11.28)\n",
            "Requirement already satisfied: urllib3<1.25,>=1.21.1 in /usr/local/lib/python3.6/dist-packages (from requests<3.0.0,>=2.13.0->spacy>=2.2.2->fr_core_news_sm==2.2.5) (1.24.3)\n",
            "Requirement already satisfied: chardet<3.1.0,>=3.0.2 in /usr/local/lib/python3.6/dist-packages (from requests<3.0.0,>=2.13.0->spacy>=2.2.2->fr_core_news_sm==2.2.5) (3.0.4)\n",
            "Requirement already satisfied: idna<2.9,>=2.5 in /usr/local/lib/python3.6/dist-packages (from requests<3.0.0,>=2.13.0->spacy>=2.2.2->fr_core_news_sm==2.2.5) (2.8)\n",
            "Requirement already satisfied: zipp>=0.5 in /usr/local/lib/python3.6/dist-packages (from importlib-metadata>=0.20; python_version < \"3.8\"->catalogue<1.1.0,>=0.0.7->spacy>=2.2.2->fr_core_news_sm==2.2.5) (3.1.0)\n",
            "Building wheels for collected packages: fr-core-news-sm\n",
            "  Building wheel for fr-core-news-sm (setup.py) ... \u001b[?25l\u001b[?25hdone\n",
            "  Created wheel for fr-core-news-sm: filename=fr_core_news_sm-2.2.5-cp36-none-any.whl size=14727027 sha256=84fa149e1aa7b86f577640322e17e5261fd1ddd27cebcf0ea8e2931b1c857d93\n",
            "  Stored in directory: /tmp/pip-ephem-wheel-cache-uzygmjxj/wheels/46/1b/e6/29b020e3f9420a24c3f463343afe5136aaaf955dbc9e46dfc5\n",
            "Successfully built fr-core-news-sm\n",
            "Installing collected packages: fr-core-news-sm\n",
            "Successfully installed fr-core-news-sm-2.2.5\n",
            "\u001b[38;5;2m✔ Download and installation successful\u001b[0m\n",
            "You can now load the model via spacy.load('fr_core_news_sm')\n",
            "Collecting fr_core_news_md==2.2.5\n",
            "\u001b[?25l  Downloading https://github.com/explosion/spacy-models/releases/download/fr_core_news_md-2.2.5/fr_core_news_md-2.2.5.tar.gz (88.6MB)\n",
            "\u001b[K     |████████████████████████████████| 88.6MB 1.1MB/s \n",
            "\u001b[?25hRequirement already satisfied: spacy>=2.2.2 in /usr/local/lib/python3.6/dist-packages (from fr_core_news_md==2.2.5) (2.2.4)\n",
            "Requirement already satisfied: wasabi<1.1.0,>=0.4.0 in /usr/local/lib/python3.6/dist-packages (from spacy>=2.2.2->fr_core_news_md==2.2.5) (0.6.0)\n",
            "Requirement already satisfied: setuptools in /usr/local/lib/python3.6/dist-packages (from spacy>=2.2.2->fr_core_news_md==2.2.5) (46.0.0)\n",
            "Requirement already satisfied: preshed<3.1.0,>=3.0.2 in /usr/local/lib/python3.6/dist-packages (from spacy>=2.2.2->fr_core_news_md==2.2.5) (3.0.2)\n",
            "Requirement already satisfied: tqdm<5.0.0,>=4.38.0 in /usr/local/lib/python3.6/dist-packages (from spacy>=2.2.2->fr_core_news_md==2.2.5) (4.38.0)\n",
            "Requirement already satisfied: srsly<1.1.0,>=1.0.2 in /usr/local/lib/python3.6/dist-packages (from spacy>=2.2.2->fr_core_news_md==2.2.5) (1.0.2)\n",
            "Requirement already satisfied: thinc==7.4.0 in /usr/local/lib/python3.6/dist-packages (from spacy>=2.2.2->fr_core_news_md==2.2.5) (7.4.0)\n",
            "Requirement already satisfied: numpy>=1.15.0 in /usr/local/lib/python3.6/dist-packages (from spacy>=2.2.2->fr_core_news_md==2.2.5) (1.18.2)\n",
            "Requirement already satisfied: plac<1.2.0,>=0.9.6 in /usr/local/lib/python3.6/dist-packages (from spacy>=2.2.2->fr_core_news_md==2.2.5) (1.1.3)\n",
            "Requirement already satisfied: cymem<2.1.0,>=2.0.2 in /usr/local/lib/python3.6/dist-packages (from spacy>=2.2.2->fr_core_news_md==2.2.5) (2.0.3)\n",
            "Requirement already satisfied: requests<3.0.0,>=2.13.0 in /usr/local/lib/python3.6/dist-packages (from spacy>=2.2.2->fr_core_news_md==2.2.5) (2.21.0)\n",
            "Requirement already satisfied: blis<0.5.0,>=0.4.0 in /usr/local/lib/python3.6/dist-packages (from spacy>=2.2.2->fr_core_news_md==2.2.5) (0.4.1)\n",
            "Requirement already satisfied: murmurhash<1.1.0,>=0.28.0 in /usr/local/lib/python3.6/dist-packages (from spacy>=2.2.2->fr_core_news_md==2.2.5) (1.0.2)\n",
            "Requirement already satisfied: catalogue<1.1.0,>=0.0.7 in /usr/local/lib/python3.6/dist-packages (from spacy>=2.2.2->fr_core_news_md==2.2.5) (1.0.0)\n",
            "Requirement already satisfied: urllib3<1.25,>=1.21.1 in /usr/local/lib/python3.6/dist-packages (from requests<3.0.0,>=2.13.0->spacy>=2.2.2->fr_core_news_md==2.2.5) (1.24.3)\n",
            "Requirement already satisfied: chardet<3.1.0,>=3.0.2 in /usr/local/lib/python3.6/dist-packages (from requests<3.0.0,>=2.13.0->spacy>=2.2.2->fr_core_news_md==2.2.5) (3.0.4)\n",
            "Requirement already satisfied: certifi>=2017.4.17 in /usr/local/lib/python3.6/dist-packages (from requests<3.0.0,>=2.13.0->spacy>=2.2.2->fr_core_news_md==2.2.5) (2019.11.28)\n",
            "Requirement already satisfied: idna<2.9,>=2.5 in /usr/local/lib/python3.6/dist-packages (from requests<3.0.0,>=2.13.0->spacy>=2.2.2->fr_core_news_md==2.2.5) (2.8)\n",
            "Requirement already satisfied: importlib-metadata>=0.20; python_version < \"3.8\" in /usr/local/lib/python3.6/dist-packages (from catalogue<1.1.0,>=0.0.7->spacy>=2.2.2->fr_core_news_md==2.2.5) (1.6.0)\n",
            "Requirement already satisfied: zipp>=0.5 in /usr/local/lib/python3.6/dist-packages (from importlib-metadata>=0.20; python_version < \"3.8\"->catalogue<1.1.0,>=0.0.7->spacy>=2.2.2->fr_core_news_md==2.2.5) (3.1.0)\n",
            "Building wheels for collected packages: fr-core-news-md\n",
            "  Building wheel for fr-core-news-md (setup.py) ... \u001b[?25l\u001b[?25hdone\n",
            "  Created wheel for fr-core-news-md: filename=fr_core_news_md-2.2.5-cp36-none-any.whl size=90338488 sha256=6544172325418d6a51439d068e81b075787f87bda6175b51fcc94a5c1b765d8d\n",
            "  Stored in directory: /tmp/pip-ephem-wheel-cache-btcj_7jx/wheels/c6/18/b6/f628642acc7872a53cf81269dd1c394d96da69564ccfac5425\n",
            "Successfully built fr-core-news-md\n",
            "Installing collected packages: fr-core-news-md\n",
            "Successfully installed fr-core-news-md-2.2.5\n",
            "\u001b[38;5;2m✔ Download and installation successful\u001b[0m\n",
            "You can now load the model via spacy.load('fr_core_news_md')\n"
          ],
          "name": "stdout"
        }
      ]
    },
    {
      "cell_type": "code",
      "metadata": {
        "id": "aBtUJahtkUKq",
        "colab_type": "code",
        "outputId": "0af928a3-29a5-420b-9a01-9f663f27f545",
        "colab": {
          "resources": {
            "http://localhost:8080/nbextensions/google.colab/files.js": {
              "data": "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",
              "ok": true,
              "headers": [
                [
                  "content-type",
                  "application/javascript"
                ]
              ],
              "status": 200,
              "status_text": "OK"
            }
          },
          "base_uri": "https://localhost:8080/",
          "height": 74
        }
      },
      "source": [
        "from google.colab import files\n",
        "\n",
        "uploaded = files.upload()\n"
      ],
      "execution_count": 4,
      "outputs": [
        {
          "output_type": "display_data",
          "data": {
            "text/html": [
              "\n",
              "     <input type=\"file\" id=\"files-a5d0d74a-4805-4c19-97b1-2de65a09e5af\" name=\"files[]\" multiple disabled />\n",
              "     <output id=\"result-a5d0d74a-4805-4c19-97b1-2de65a09e5af\">\n",
              "      Upload widget is only available when the cell has been executed in the\n",
              "      current browser session. Please rerun this cell to enable.\n",
              "      </output>\n",
              "      <script src=\"/nbextensions/google.colab/files.js\"></script> "
            ],
            "text/plain": [
              "<IPython.core.display.HTML object>"
            ]
          },
          "metadata": {
            "tags": []
          }
        },
        {
          "output_type": "stream",
          "text": [
            "Saving dataset.json to dataset.json\n"
          ],
          "name": "stdout"
        }
      ]
    },
    {
      "cell_type": "code",
      "metadata": {
        "id": "6e8gfeF9kR3E",
        "colab_type": "code",
        "outputId": "9f687f97-e9aa-4677-b1f2-bc3ad5c9965d",
        "colab": {
          "base_uri": "https://localhost:8080/",
          "height": 34
        }
      },
      "source": [
        "ls"
      ],
      "execution_count": 5,
      "outputs": [
        {
          "output_type": "stream",
          "text": [
            "dataset.json  \u001b[0m\u001b[01;34msample_data\u001b[0m/\n"
          ],
          "name": "stdout"
        }
      ]
    },
    {
      "cell_type": "code",
      "metadata": {
        "id": "o0YioujofEk2",
        "colab_type": "code",
        "colab": {}
      },
      "source": [
        "import io\n",
        " \n",
        "from pdfminer.converter import TextConverter\n",
        "from pdfminer.pdfinterp import PDFPageInterpreter\n",
        "from pdfminer.pdfinterp import PDFResourceManager\n",
        "from pdfminer.pdfpage import PDFPage"
      ],
      "execution_count": 0,
      "outputs": []
    },
    {
      "cell_type": "code",
      "metadata": {
        "id": "0hYsJfqyvELy",
        "colab_type": "code",
        "colab": {}
      },
      "source": [
        "def extract_text_from_pdf(pdf_path):\n",
        "    resource_manager = PDFResourceManager()\n",
        "    fake_file_handle = io.StringIO()\n",
        "    converter = TextConverter(resource_manager, fake_file_handle)\n",
        "    page_interpreter = PDFPageInterpreter(resource_manager, converter)\n",
        " \n",
        "    with open(pdf_path, 'rb') as fh:\n",
        "        for page in PDFPage.get_pages(fh, \n",
        "                                      caching=True,\n",
        "                                      check_extractable=True):\n",
        "            page_interpreter.process_page(page)\n",
        " \n",
        "        text = fake_file_handle.getvalue()\n",
        " \n",
        "    # close open handles\n",
        "    converter.close()\n",
        "    fake_file_handle.close()\n",
        " \n",
        "    if text:\n",
        "        return text"
      ],
      "execution_count": 0,
      "outputs": []
    },
    {
      "cell_type": "code",
      "metadata": {
        "id": "Hpm_Cs4vb24P",
        "colab_type": "code",
        "outputId": "20b4a4d9-8c28-4b80-bf04-e078e725ae3b",
        "colab": {
          "base_uri": "https://localhost:8080/",
          "height": 34
        }
      },
      "source": [
        "pdfs = []\n",
        "for f in uploaded.keys():\n",
        "  try:\n",
        "    text=extract_text_from_pdf(f)\n",
        "    if \"Déclaration de franchissement de seuils\" in text:\n",
        "      pdfs.append({\n",
        "          \"file\": f,\n",
        "          \"text\": text,\n",
        "      })\n",
        "  except:\n",
        "    pass"
      ],
      "execution_count": 0,
      "outputs": [
        {
          "output_type": "stream",
          "text": [
            "ERROR! Session/line number was not unique in database. History logging moved to new session 60\n"
          ],
          "name": "stdout"
        }
      ]
    },
    {
      "cell_type": "code",
      "metadata": {
        "id": "t2TyEPHEJ08L",
        "colab_type": "code",
        "colab": {}
      },
      "source": [
        "import json\n",
        "with open('dataset.json') as f:\n",
        "  pdfs = json.load(f)"
      ],
      "execution_count": 0,
      "outputs": []
    },
    {
      "cell_type": "code",
      "metadata": {
        "id": "ddtCboWtjHe1",
        "colab_type": "code",
        "colab": {}
      },
      "source": [
        "import IPython\n",
        "from google.colab import output\n",
        "\n",
        "class AnnotWidget():\n",
        "  def __init__(self, to_annot):\n",
        "    self.to_annot = to_annot\n",
        "    self.cur = 0\n",
        "    self.colors_labels = [\n",
        "        (\"rgb(255, 0, 0)\", \"ISSUER\"),\n",
        "        (\"rgb(255, 0, 255)\", \"FIRM\"),\n",
        "        (\"rgb(0, 255, 255)\", \"NUMBER\"),\n",
        "        (\"rgb(160, 160, 255)\", \"PERCENT\"),\n",
        "        (\"rgb(192, 192, 192)\", \"TYPE\", ),\n",
        "        (\"rgb(255, 255, 0)\", \"DIRECTION\"),\n",
        "        (\"rgb(0, 255, 0)\", \"DATE\")\n",
        "      ]\n",
        "    self.controls = \"\"\n",
        "    for c, l in self.colors_labels:\n",
        "      self.controls += '''<button onclick='document.execCommand(\"backColor\", false, \"'''+c+'''\")'>'''+l+'''</button>'''\n",
        "\n",
        "  def text_entities_to_html(self):\n",
        "    if 'entities' not in self.to_annot[self.cur] or len(self.to_annot[self.cur]['entities']) == 0:\n",
        "      return self.to_annot[self.cur][\"text\"]\n",
        "    res = \"\"\n",
        "    offset = 0\n",
        "    text = self.to_annot[self.cur][\"text\"]\n",
        "    for ent_s, ent_e, label in self.to_annot[self.cur]['entities']:\n",
        "      res += text[offset:ent_s]\n",
        "      res += '''<span style=\"background-color: '''+ self.get_color(label) + '''\">'''\n",
        "      res += text[ent_s:ent_e]\n",
        "      res += \"</span>\"\n",
        "      offset = ent_e\n",
        "    res += text[offset:]\n",
        "    return res\n",
        "\n",
        "  def run(self):\n",
        "    display(IPython.display.HTML('''\n",
        "    <p>'''+str(self.cur) + \"/\" + str(len(self.to_annot)) + '''</p>\n",
        "    <div id=\"ed\" contenteditable=\"true\">'''+self.text_entities_to_html()+'''</div>\n",
        "    <fieldset>\n",
        "    '''+ self.controls +'''\n",
        "      <button onclick=\"document.execCommand('removeFormat', false, null)\">remove</button>\n",
        "      <button id='prev'>prev</button>\n",
        "      <button id='next'>next</button>\n",
        "    </fieldset>\n",
        "    <script>\n",
        "      function change(dir) {\n",
        "        children = document.querySelector(\"#ed\").childNodes;\n",
        "        res = [];\n",
        "        offset = 0;\n",
        "        for (var i = 0; i < children.length; i++) {\n",
        "          next_offset = offset + children[i].textContent.length;\n",
        "          if (children[i].nodeType != Node.TEXT_NODE) {\n",
        "            rgb = children[i].style.backgroundColor\n",
        "            res.push([offset, next_offset, rgb])\n",
        "          }\n",
        "          offset = next_offset;\n",
        "        }\n",
        "        next_text = google.colab.kernel.invokeFunction('notebook.SaveEntities', [res, dir]);\n",
        "        document.querySelector('#ed').innerHTML = next_text;\n",
        "      };\n",
        "      document.querySelector('#prev').onclick = () => {\n",
        "        change(-1)\n",
        "      };\n",
        "      document.querySelector('#next').onclick = () => {\n",
        "        change(1)\n",
        "      }\n",
        "    </script>\n",
        "    '''))\n",
        "    output.register_callback('notebook.SaveEntities', self.save_entities)\n",
        "\n",
        "  def get_color(self, label):\n",
        "    for c, l in self.colors_labels:\n",
        "        if l == label:\n",
        "          return c\n",
        "\n",
        "  def get_label(self, color):\n",
        "    for c, l in self.colors_labels:\n",
        "        if c == color:\n",
        "          return l\n",
        "\n",
        "  def save_entities(self, res, inc=1):\n",
        "    self.to_annot[self.cur]['entities'] = []\n",
        "    for ent_s, ent_e, color in res:\n",
        "      self.to_annot[self.cur]['entities'].append((ent_s, ent_e, self.get_label(color)))\n",
        "    output.clear()\n",
        "    if (self.cur < len(self.to_annot) and inc == 1) or (self.cur > 0 and inc == -1):\n",
        "      self.cur += inc\n",
        "    self.run()\n",
        "\n",
        "\n",
        "w = AnnotWidget(pdfs) "
      ],
      "execution_count": 0,
      "outputs": []
    },
    {
      "cell_type": "code",
      "metadata": {
        "id": "mQLXIHWSnAUG",
        "colab_type": "code",
        "colab": {
          "base_uri": "https://localhost:8080/",
          "height": 304
        },
        "outputId": "97b937bf-065d-4e26-8b62-a6b1778ff40c"
      },
      "source": [
        "w.run()"
      ],
      "execution_count": 20,
      "outputs": [
        {
          "output_type": "display_data",
          "data": {
            "text/html": [
              "\n",
              "    <p>13/117</p>\n",
              "    <div id=\"ed\" contenteditable=\"true\"> 220C0901-FR0013181864-FS0254              220C0901 FR0013181864-FS0254 <span style=\"background-color: rgb(0, 255, 0)\">10 mars 2020</span>   Déclaration de franchissement de seuils (article L. 233-7 du code de commerce)    <span style=\"background-color: rgb(255, 0, 255)\">CGG</span>  (Euronext Paris)   Par courrier reçu le <span style=\"background-color: rgb(0, 255, 0)\">9 mars 2020</span>, la société <span style=\"background-color: rgb(255, 0, 255)\">Morgan Stanley Corp.</span> (c/o The Corporation Trust Company (DE), Corporation Trust Center, 1209 Orange Street, Wilmington, Delaware DE 19801, Etats-Unis), a déclaré avoir franchi, <span style=\"background-color: rgb(255, 255, 0)\">en hausse</span>, le <span style=\"background-color: rgb(0, 255, 0)\">20 février 2020</span>, indirectement par l’intermédiaire de ses filiales, les seuils de <span style=\"background-color: rgb(160, 160, 255)\">5%</span> du <span style=\"background-color: rgb(192, 192, 192)\">capital</span> et des <span style=\"background-color: rgb(192, 192, 192)\">droits de vote</span> de la société <span style=\"background-color: rgb(255, 0, 0)\">CGG</span> et détenir indirectement <span style=\"background-color: rgb(0, 255, 255)\">35 588 487</span> <span style=\"background-color: rgb(192, 192, 192)\">actions</span> <span style=\"background-color: rgb(255, 0, 255)\">CGG</span> représentant autant de droits de vote, soit <span style=\"background-color: rgb(160, 160, 255)\">5,01%</span> du <span style=\"background-color: rgb(192, 192, 192)\">capital</span> et des droits de vote de cette société1, répartis comme suit :   Actions % capital Droits de vote % droits de vote Morgan Stanley & Co. International plc. 34 833 077 4,91 34 833 077 4,91 Morgan Stanley France S.A 575 615 0,08 575 615 0,08 Morgan Stanley Europe SE 170 093 0,02 170 093 0,02 Morgan Stanley & Co. LLC 9 702 ns 9 702 ns Total Morgan Stanley Corp. 35 588 487 5,01 35 588 487 5,01  Ce franchissement de seuils résulte d’une acquisition d’actions CGG sur le marché et hors marché, au résultat de laquelle l’exemption de trading ne s’applique plus pour le déclarant (cf. article 223-13 I, 2° du règlement général).  Au titre de l’article L. 233-9 I, 6° du code de commerce :  - la société Morgan Stanley & Co. LLC a précisé détenir 9 702 actions CGG au titre d’un contrat de « right to recall » portant sur autant d’actions CGG (prise en compte dans la détention visée ci-dessus) et lui permettant de rappeler à tout moment les actions visées par le contrat ;  - la société Morgan Stanley Europe SE a précisé détenir 170 093 actions CGG au titre d’un contrat de « right to recall » portant sur autant d’actions CGG (prise en compte dans la détention visée ci-dessus) et lui permettant de rappeler à tout moment les actions visées par le contrat ; et  - la société Morgan Stanley & Co. International plc a précisé détenir 31 223 actions CGG au titre d’un contrat de « right to recall » portant sur autant d’actions CGG (prise en compte dans la détention visée ci-dessus) et lui permettant de rappeler à tout moment les actions visées par le contrat.  Au titre de l’article L. 233-9, I, 4° bis du code de commerce et de l’article 223-14 V du règlement général, la société Morgan Stanley & Co. International plc a précisé détenir par assimilation 171 500 actions CGG2 (comprises dans la détention visée au 1er paragraphe), résultant de la détention d’un contrat « equity swap » à dénouement en espèces, exerçables à tout moment jusqu’au 16 mars 2020. _______                                                            1 Sur la base d'un capital composé de 709 960 012 actions représentant 710 098 578 droits de vote, en application du 2ème alinéa de l’article 223-11 I du règlement général. 2 Sur la base d’un delta de 1. \f</div>\n",
              "    <fieldset>\n",
              "    <button onclick='document.execCommand(\"backColor\", false, \"rgb(255, 0, 0)\")'>ISSUER</button><button onclick='document.execCommand(\"backColor\", false, \"rgb(255, 0, 255)\")'>FIRM</button><button onclick='document.execCommand(\"backColor\", false, \"rgb(0, 255, 255)\")'>NUMBER</button><button onclick='document.execCommand(\"backColor\", false, \"rgb(160, 160, 255)\")'>PERCENT</button><button onclick='document.execCommand(\"backColor\", false, \"rgb(192, 192, 192)\")'>TYPE</button><button onclick='document.execCommand(\"backColor\", false, \"rgb(255, 255, 0)\")'>DIRECTION</button><button onclick='document.execCommand(\"backColor\", false, \"rgb(0, 255, 0)\")'>DATE</button>\n",
              "      <button onclick=\"document.execCommand('removeFormat', false, null)\">remove</button>\n",
              "      <button id='prev'>prev</button>\n",
              "      <button id='next'>next</button>\n",
              "    </fieldset>\n",
              "    <script>\n",
              "      function change(dir) {\n",
              "        children = document.querySelector(\"#ed\").childNodes;\n",
              "        res = [];\n",
              "        offset = 0;\n",
              "        for (var i = 0; i < children.length; i++) {\n",
              "          next_offset = offset + children[i].textContent.length;\n",
              "          if (children[i].nodeType != Node.TEXT_NODE) {\n",
              "            rgb = children[i].style.backgroundColor\n",
              "            res.push([offset, next_offset, rgb])\n",
              "          }\n",
              "          offset = next_offset;\n",
              "        }\n",
              "        next_text = google.colab.kernel.invokeFunction('notebook.SaveEntities', [res, dir]);\n",
              "        document.querySelector('#ed').innerHTML = next_text;\n",
              "      };\n",
              "      document.querySelector('#prev').onclick = () => {\n",
              "        change(-1)\n",
              "      };\n",
              "      document.querySelector('#next').onclick = () => {\n",
              "        change(1)\n",
              "      }\n",
              "    </script>\n",
              "    "
            ],
            "text/plain": [
              "<IPython.core.display.HTML object>"
            ]
          },
          "metadata": {
            "tags": []
          }
        }
      ]
    },
    {
      "cell_type": "code",
      "metadata": {
        "id": "pX6sQWIOi4fA",
        "colab_type": "code",
        "colab": {}
      },
      "source": [
        "import json\n",
        "with open(\"dataset.json\", 'w+') as f:\n",
        "  json.dump(w.to_annot, f)"
      ],
      "execution_count": 0,
      "outputs": []
    },
    {
      "cell_type": "code",
      "metadata": {
        "id": "vxZGXdRdj1eu",
        "colab_type": "code",
        "colab": {}
      },
      "source": [
        "train_data = []\n",
        "for x in w.to_annot[:13]:\n",
        "  entities = [tuple(ent) for ent in  x[\"entities\"]]\n",
        "  train_data.append((x['text'], {'entities' : entities}))\n",
        "labels = ['ISSUER', 'FIRM', 'NUMBER', 'PERCENT', 'TYPE', 'DIRECTION', 'DATE']\n",
        "test_data = train_data[:2]\n",
        "train_data = train_data[2:]"
      ],
      "execution_count": 0,
      "outputs": []
    },
    {
      "cell_type": "code",
      "metadata": {
        "id": "huoXcIdQmGgR",
        "colab_type": "code",
        "outputId": "2ab240e5-3d18-4632-abe0-06dd354c4b99",
        "colab": {
          "base_uri": "https://localhost:8080/",
          "height": 521
        }
      },
      "source": [
        "import random\n",
        "import spacy\n",
        "from spacy.util import minibatch, compounding\n",
        "import fr_core_news_md\n",
        "\n",
        "n_iter=30\n",
        "nlp = fr_core_news_md.load()\n",
        "ner = nlp.get_pipe(\"ner\")\n",
        "for label in labels:\n",
        "  ner.add_label(label)\n",
        "optimizer = nlp.resume_training()\n",
        "pipe_exceptions = [\"ner\"]\n",
        "other_pipes = [pipe for pipe in nlp.pipe_names if pipe not in pipe_exceptions]\n",
        "with nlp.disable_pipes(*other_pipes):  # only train NER\n",
        "    sizes = compounding(1.0, 4.0, 1.001)\n",
        "    # batch up the examples using spaCy's minibatch\n",
        "    for itn in range(n_iter):\n",
        "        random.shuffle(train_data)\n",
        "        batches = minibatch(train_data, size=sizes)\n",
        "        losses = {}\n",
        "        for batch in batches:\n",
        "            texts, annotations = zip(*batch)\n",
        "            nlp.update(texts, annotations, sgd=optimizer, drop=0.35, losses=losses)\n",
        "        print(\"Losses\", losses)"
      ],
      "execution_count": 29,
      "outputs": [
        {
          "output_type": "stream",
          "text": [
            "Losses {'ner': 3784.534862152256}\n",
            "Losses {'ner': 3148.0505520086735}\n",
            "Losses {'ner': 2964.5361043633893}\n",
            "Losses {'ner': 2904.3241489715874}\n",
            "Losses {'ner': 2848.446144092828}\n",
            "Losses {'ner': 2823.5537864845246}\n",
            "Losses {'ner': 2808.8471510335803}\n",
            "Losses {'ner': 2824.875702910591}\n",
            "Losses {'ner': 2778.7116724615917}\n",
            "Losses {'ner': 2740.9250082997605}\n",
            "Losses {'ner': 2774.6721063230652}\n",
            "Losses {'ner': 2730.4985087886453}\n",
            "Losses {'ner': 2683.032482760027}\n",
            "Losses {'ner': 2656.437393248081}\n",
            "Losses {'ner': 2675.6870335098356}\n",
            "Losses {'ner': 2725.9327673777007}\n",
            "Losses {'ner': 2692.891166128218}\n",
            "Losses {'ner': 2693.7453514635563}\n",
            "Losses {'ner': 2685.9609784706845}\n",
            "Losses {'ner': 2652.357140702894}\n",
            "Losses {'ner': 2684.993739336729}\n",
            "Losses {'ner': 2692.2840438796266}\n",
            "Losses {'ner': 2587.298816113267}\n",
            "Losses {'ner': 2667.1742777680047}\n",
            "Losses {'ner': 2592.0304921641946}\n",
            "Losses {'ner': 2675.895578200929}\n",
            "Losses {'ner': 2699.140206466429}\n",
            "Losses {'ner': 2581.3309933543205}\n",
            "Losses {'ner': 2586.3389232456684}\n",
            "Losses {'ner': 2618.3080253079534}\n"
          ],
          "name": "stdout"
        }
      ]
    },
    {
      "cell_type": "code",
      "metadata": {
        "id": "EjbCTab3wApL",
        "colab_type": "code",
        "outputId": "1b125093-921e-4c8d-f0f1-bcd2b09ef3d1",
        "colab": {
          "base_uri": "https://localhost:8080/",
          "height": 739
        }
      },
      "source": [
        "doc = nlp(train_data[0][0])\n",
        "for ent in doc.ents:\n",
        "    print(ent.label_, ent.text)"
      ],
      "execution_count": 30,
      "outputs": [
        {
          "output_type": "stream",
          "text": [
            "DATE 20 février 2020\n",
            "ISSUER EUROPCAR MOBILITY GROUP\n",
            "DATE 20 février 2020\n",
            "FIRM Morgan Stanley Corp.\n",
            "FIRM Corporation Trust Centre, 1209 Orange Street, Wilmington, Delaware DE 19801, Etats\n",
            "DATE 14 février 2020\n",
            "PERCENT 5%\n",
            "TYPE capital\n",
            "TYPE droits de vote\n",
            "ISSUER EUROPCAR MOBILITY GROUP\n",
            "FIRM Morgan Stanley & Co.\n",
            "FIRM Morgan Stanley & Co.\n",
            "FIRM Morgan Stanley Capital Services LLC et Morgan Stanley France S.A., 13 372 152 actions EUROPCAR MOBILITY GROUP représentant autant de droits de vote, soit\n",
            "PERCENT 8,16%\n",
            "TYPE capital\n",
            "PERCENT 8,13%\n",
            "TYPE droits de vote\n",
            "FIRM Morgan Stanley & Co.\n",
            "NUMBER 12 825 285\n",
            "NUMBER 13 372 152\n",
            "ISSUER EUROPCAR MOBILITY GROUP\n",
            "FIRM Morgan Stanley & Co.\n",
            "FIRM Morgan Stanley & Co.\n",
            "NUMBER 39 659\n",
            "TYPE actions\n",
            "ISSUER EUROPCAR MOBILITY GROUP\n",
            "ISSUER EUROPCAR MOBILITY GROUP\n",
            "FIRM Morgan Stanley & Co.\n",
            "NUMBER 218 329\n",
            "TYPE actions\n",
            "ISSUER EUROPCAR MOBILITY GROUP\n",
            "ISSUER EUROPCAR MOBILITY GROUP\n",
            "NUMBER 163 884 278\n",
            "TYPE actions\n",
            "NUMBER 164 457 453\n",
            "TYPE droits de vote\n",
            "FIRM Morgan Stanley Capital Services LLC a précisé détenir 313 050 actions EUROPCAR MOBILITY GROUP2 (prise en\n",
            "DATE 20 novembre 2020\n",
            "FIRM Morgan Stanley & Co.\n",
            "NUMBER 447 367\n",
            "TYPE actions\n",
            "ISSUER EUROPCAR MOBILITY GROUP3\n",
            "DATE 21 octobre 2020\n"
          ],
          "name": "stdout"
        }
      ]
    },
    {
      "cell_type": "code",
      "metadata": {
        "id": "o37phzn34Y4z",
        "colab_type": "code",
        "outputId": "f08b2140-48ab-40ba-f6f8-4da0509431d9",
        "colab": {
          "base_uri": "https://localhost:8080/",
          "height": 218
        }
      },
      "source": [
        "!pip install tabula-py"
      ],
      "execution_count": 0,
      "outputs": [
        {
          "output_type": "stream",
          "text": [
            "Collecting tabula-py\n",
            "\u001b[?25l  Downloading https://files.pythonhosted.org/packages/53/a4/66add528eca00398af98f181772006750019eb9f2d68c7c6fdd53ba661c5/tabula_py-2.1.0-py3-none-any.whl (10.4MB)\n",
            "\u001b[K     |████████████████████████████████| 10.4MB 3.3MB/s \n",
            "\u001b[?25hCollecting distro\n",
            "  Downloading https://files.pythonhosted.org/packages/25/b7/b3c4270a11414cb22c6352ebc7a83aaa3712043be29daa05018fd5a5c956/distro-1.5.0-py2.py3-none-any.whl\n",
            "Requirement already satisfied: numpy in /usr/local/lib/python3.6/dist-packages (from tabula-py) (1.18.2)\n",
            "Requirement already satisfied: pandas>=0.25.3 in /usr/local/lib/python3.6/dist-packages (from tabula-py) (0.25.3)\n",
            "Requirement already satisfied: pytz>=2017.2 in /usr/local/lib/python3.6/dist-packages (from pandas>=0.25.3->tabula-py) (2018.9)\n",
            "Requirement already satisfied: python-dateutil>=2.6.1 in /usr/local/lib/python3.6/dist-packages (from pandas>=0.25.3->tabula-py) (2.8.1)\n",
            "Requirement already satisfied: six>=1.5 in /usr/local/lib/python3.6/dist-packages (from python-dateutil>=2.6.1->pandas>=0.25.3->tabula-py) (1.12.0)\n",
            "Installing collected packages: distro, tabula-py\n",
            "Successfully installed distro-1.5.0 tabula-py-2.1.0\n"
          ],
          "name": "stdout"
        }
      ]
    },
    {
      "cell_type": "code",
      "metadata": {
        "id": "zXNXlRcB4aJK",
        "colab_type": "code",
        "outputId": "2a33522a-9e0a-4794-ebb4-faa418713959",
        "colab": {
          "base_uri": "https://localhost:8080/",
          "height": 134
        }
      },
      "source": [
        "from tabula import read_pdf\n",
        "\n",
        "list_pdf = list(pdfs.keys())\n",
        "df = read_pdf(list_pdf[0], pages='all')"
      ],
      "execution_count": 0,
      "outputs": [
        {
          "output_type": "stream",
          "text": [
            "Got stderr: Mar 31, 2020 7:14:33 AM org.apache.pdfbox.pdmodel.font.PDTrueTypeFont <init>\n",
            "WARNING: Using fallback font 'LiberationSerif' for 'TimesNewRomanPSMT'\n",
            "Mar 31, 2020 7:14:33 AM org.apache.pdfbox.pdmodel.font.PDTrueTypeFont <init>\n",
            "WARNING: Using fallback font 'LiberationSerif-Bold' for 'TimesNewRomanPS-BoldMT'\n",
            "Mar 31, 2020 7:14:33 AM org.apache.pdfbox.pdmodel.font.PDTrueTypeFont <init>\n",
            "WARNING: Using fallback font 'LiberationSerif-Italic' for 'TimesNewRomanPS-ItalicMT'\n",
            "\n"
          ],
          "name": "stderr"
        }
      ]
    },
    {
      "cell_type": "code",
      "metadata": {
        "id": "-Q6N-eY44oXZ",
        "colab_type": "code",
        "outputId": "97df4064-bd12-4775-c895-852308a1294e",
        "colab": {
          "base_uri": "https://localhost:8080/",
          "height": 171
        }
      },
      "source": [
        "import pandas as pd\n",
        "for d in df:\n",
        "  if not d.empty:\n",
        "    print(d)\n",
        "    table_str = \"\"\n",
        "    for c in d.columns:\n",
        "      if not \"Unnamed:\" in c:\n",
        "        table_str += c + \" \"\n",
        "    for _, r in d.iterrows():\n",
        "      for c in d.columns:\n",
        "        if pd.notna(r[c]):\n",
        "          table_str += r[c] + \" \"\n",
        "    print(table_str)"
      ],
      "execution_count": 0,
      "outputs": [
        {
          "output_type": "stream",
          "text": [
            "                          Unnamed: 0  Unnamed: 1  ... % droits de vot Unnamed: 10\n",
            "0        Merrill Lynch International  14 101 661  ...             NaN         NaN\n",
            "1          BofA Securities Europe SA     276 021  ...             NaN         NaN\n",
            "2              BofA Securities, Inc.         213  ...             NaN         NaN\n",
            "3  Total Bank of America Corporation  14 377 895  ...             NaN         NaN\n",
            "\n",
            "[4 rows x 15 columns]\n",
            "Actions % capita Droits de vote % droits de vot Merrill Lynch International 14 101 661 5,49 14 101 661 5,47 BofA Securities Europe SA 276 021 0,11 276 021 0,11 BofA Securities, Inc. 213 ns 213 ns Total Bank of America Corporation 14 377 895 5,59 14 377 895 5,58 \n"
          ],
          "name": "stdout"
        }
      ]
    },
    {
      "cell_type": "code",
      "metadata": {
        "id": "xRUb3PW4kogs",
        "colab_type": "code",
        "colab": {}
      },
      "source": [
        "import json\n",
        "with open(\"texts.json\", \"w+\") as f:\n",
        "  json.dump(pdfs, f)\n"
      ],
      "execution_count": 0,
      "outputs": []
    },
    {
      "cell_type": "code",
      "metadata": {
        "id": "GuSgyIg1e4FK",
        "colab_type": "code",
        "colab": {}
      },
      "source": [
        "with open(\"texts.txt\", \"w+\") as f:\n",
        "  f.write(pdfs[list_pdf[0]]['text'])"
      ],
      "execution_count": 0,
      "outputs": []
    },
    {
      "cell_type": "code",
      "metadata": {
        "id": "w8RnwkbZjJID",
        "colab_type": "code",
        "outputId": "0cd41e97-7694-44ec-9574-a88416e7f16e",
        "colab": {
          "base_uri": "https://localhost:8080/",
          "height": 272
        }
      },
      "source": [
        "import spacy\n",
        "import fr_core_news_sm\n",
        "import fr_core_news_md\n",
        "\n",
        "#nlp = fr_core_news_sm.load()\n",
        "#nlp = fr_core_news_md.load()\n",
        "\n",
        "doc = nlp(train_data[0][0])\n",
        "for sent in doc.sents:\n",
        "    print(sent)\n",
        "\n"
      ],
      "execution_count": 24,
      "outputs": [
        {
          "output_type": "stream",
          "text": [
            " 220C0490-CH0308403085-FS0132             220C0490 CH0308403085-FS0132 6 février 2020   \n",
            "Déclaration de franchissement de seuils (article L. 233\n",
            "-7 du code de commerce)    GENEURO\n",
            "SA  (Euronext Paris)    Par courrier reçu le 5 février 2020, complété par un courrier reçu le 6 février, la société Invesco Ltd.\n",
            "(Invesco Head Quarters, Two Peachtree Pointe 1555 Peachtree St, Suite 1800 Atlanta, Georgie, Etats\n",
            "-Unis), agissant pour le compte du fonds Invesco Advisers, Inc.\n",
            "dont elle assure la gestion, a déclaré avoir franchi en hausse, le 4 février 2020, les seuils 5% du capital et des droits de vote de la société GENEURO SA et détenir, pour le compte dudit fonds, 1 661 017 actions GENEURO SA représentant autant de droits de vote, soit 8,07% du capital et des droits de vote de cette société1.  \n",
            "Ce franchissement de seuils résulte de la souscription à l’augmentation de capital de la société GENEURO SA2.  \n",
            "________                                                            1 Sur la base d’un capital composé de 20 590 319 actions représentant autant de droits de vote, en application du 2ème alinéa de l’article 223\n",
            "-11 du règlement général.\n",
            "2 Cf.\n",
            "notamment prospectus n° 20\n",
            "-024 visé par l’AMF le 31 janvier 2020 et communiqué de la société GENEURO SA\n",
            "du 31 janvier 2020. \f\n"
          ],
          "name": "stdout"
        }
      ]
    },
    {
      "cell_type": "code",
      "metadata": {
        "id": "0iqmE_92qKZs",
        "colab_type": "code",
        "outputId": "1433645c-6156-4649-9631-35877c8c20e3",
        "colab": {
          "base_uri": "https://localhost:8080/",
          "height": 622
        }
      },
      "source": [
        "for i in range(len(train_data[0][1]['entities'])):\n",
        "  s, e, _ = train_data[0][1]['entities'][i]\n",
        "  print(train_data[0][0][s:e])\n"
      ],
      "execution_count": 0,
      "outputs": [
        {
          "output_type": "stream",
          "text": [
            "21 février 2020\n",
            "ALTRAN TECHNOLOGIES\n",
            "20 février 2020\n",
            "21 février\n",
            "Bank of America Corporation\n",
            "en hausse\n",
            "17 février 2020\n",
            "5%\n",
            "capital\n",
            "droits de vote\n",
            "ALTRAN TECHNOLOGIES\n",
            "14 377 895\n",
            "actions\n",
            "ALTRAN TECHNOLOGIES\n",
            "5,59%\n",
            "capital\n",
            "5,58%\n",
            "droits de vote\n",
            "ALTRAN TECHNOLOGIES\n",
            "ALTRAN TECHNOLOGIES\n",
            "Merrill Lynch International\n",
            "en hausse\n",
            "Merrill Lynch International\n",
            "13 784 025\n",
            "actions\n",
            "ALTRAN TECHNOLOGIES\n",
            "Merrill Lynch International\n",
            "BofA Securities Europe SA\n",
            "274 482\n",
            "actions\n",
            "ALTRAN TECHNOLOGIES\n",
            "BofA Securities Europe SA\n",
            "Merrill Lynch International\n",
            "17 749\n",
            "actions\n",
            "ALTRAN TECHNOLOGIES\n"
          ],
          "name": "stdout"
        }
      ]
    },
    {
      "cell_type": "code",
      "metadata": {
        "id": "Da_KBD3BqbEJ",
        "colab_type": "code",
        "colab": {}
      },
      "source": [
        "from spacy import displacy"
      ],
      "execution_count": 0,
      "outputs": []
    },
    {
      "cell_type": "code",
      "metadata": {
        "id": "Ax9rMBtFmL36",
        "colab_type": "code",
        "outputId": "999144b7-17dd-4e7a-83fb-93375750c382",
        "colab": {
          "base_uri": "https://localhost:8080/",
          "height": 636
        }
      },
      "source": [
        "displacy.render(doc, style='ent', jupyter=True)"
      ],
      "execution_count": 31,
      "outputs": [
        {
          "output_type": "display_data",
          "data": {
            "text/html": [
              "<span class=\"tex2jax_ignore\"><div class=\"entities\" style=\"line-height: 2.5; direction: ltr\">1 220C0690-FR0012789949-FS0179             220C0690 FR0012789949-FS0179 \n",
              "<mark class=\"entity\" style=\"background: #bfe1d9; padding: 0.45em 0.6em; margin: 0 0.25em; line-height: 1; border-radius: 0.35em;\">\n",
              "    20 février 2020\n",
              "    <span style=\"font-size: 0.8em; font-weight: bold; line-height: 1; border-radius: 0.35em; text-transform: uppercase; vertical-align: middle; margin-left: 0.5rem\">DATE</span>\n",
              "</mark>\n",
              "   Déclaration de franchissement de seuils (article L. 233-7 du code de commerce)    \n",
              "<mark class=\"entity\" style=\"background: #ddd; padding: 0.45em 0.6em; margin: 0 0.25em; line-height: 1; border-radius: 0.35em;\">\n",
              "    EUROPCAR MOBILITY GROUP\n",
              "    <span style=\"font-size: 0.8em; font-weight: bold; line-height: 1; border-radius: 0.35em; text-transform: uppercase; vertical-align: middle; margin-left: 0.5rem\">ISSUER</span>\n",
              "</mark>\n",
              "  (Euronext Paris)    Par courrier reçu le \n",
              "<mark class=\"entity\" style=\"background: #bfe1d9; padding: 0.45em 0.6em; margin: 0 0.25em; line-height: 1; border-radius: 0.35em;\">\n",
              "    20 février 2020\n",
              "    <span style=\"font-size: 0.8em; font-weight: bold; line-height: 1; border-radius: 0.35em; text-transform: uppercase; vertical-align: middle; margin-left: 0.5rem\">DATE</span>\n",
              "</mark>\n",
              ", la société \n",
              "<mark class=\"entity\" style=\"background: #ddd; padding: 0.45em 0.6em; margin: 0 0.25em; line-height: 1; border-radius: 0.35em;\">\n",
              "    Morgan Stanley Corp.\n",
              "    <span style=\"font-size: 0.8em; font-weight: bold; line-height: 1; border-radius: 0.35em; text-transform: uppercase; vertical-align: middle; margin-left: 0.5rem\">FIRM</span>\n",
              "</mark>\n",
              " (c/o The Corporation Trust Company (DE), \n",
              "<mark class=\"entity\" style=\"background: #ddd; padding: 0.45em 0.6em; margin: 0 0.25em; line-height: 1; border-radius: 0.35em;\">\n",
              "    Corporation Trust Centre, 1209 Orange Street, Wilmington, Delaware DE 19801, Etats\n",
              "    <span style=\"font-size: 0.8em; font-weight: bold; line-height: 1; border-radius: 0.35em; text-transform: uppercase; vertical-align: middle; margin-left: 0.5rem\">FIRM</span>\n",
              "</mark>\n",
              "-Unis) a déclaré avoir franchi indirectement en hausse, le \n",
              "<mark class=\"entity\" style=\"background: #bfe1d9; padding: 0.45em 0.6em; margin: 0 0.25em; line-height: 1; border-radius: 0.35em;\">\n",
              "    14 février 2020\n",
              "    <span style=\"font-size: 0.8em; font-weight: bold; line-height: 1; border-radius: 0.35em; text-transform: uppercase; vertical-align: middle; margin-left: 0.5rem\">DATE</span>\n",
              "</mark>\n",
              ", les seuils de \n",
              "<mark class=\"entity\" style=\"background: #e4e7d2; padding: 0.45em 0.6em; margin: 0 0.25em; line-height: 1; border-radius: 0.35em;\">\n",
              "    5%\n",
              "    <span style=\"font-size: 0.8em; font-weight: bold; line-height: 1; border-radius: 0.35em; text-transform: uppercase; vertical-align: middle; margin-left: 0.5rem\">PERCENT</span>\n",
              "</mark>\n",
              " du \n",
              "<mark class=\"entity\" style=\"background: #ddd; padding: 0.45em 0.6em; margin: 0 0.25em; line-height: 1; border-radius: 0.35em;\">\n",
              "    capital\n",
              "    <span style=\"font-size: 0.8em; font-weight: bold; line-height: 1; border-radius: 0.35em; text-transform: uppercase; vertical-align: middle; margin-left: 0.5rem\">TYPE</span>\n",
              "</mark>\n",
              " et des \n",
              "<mark class=\"entity\" style=\"background: #ddd; padding: 0.45em 0.6em; margin: 0 0.25em; line-height: 1; border-radius: 0.35em;\">\n",
              "    droits de vote\n",
              "    <span style=\"font-size: 0.8em; font-weight: bold; line-height: 1; border-radius: 0.35em; text-transform: uppercase; vertical-align: middle; margin-left: 0.5rem\">TYPE</span>\n",
              "</mark>\n",
              " de la société \n",
              "<mark class=\"entity\" style=\"background: #ddd; padding: 0.45em 0.6em; margin: 0 0.25em; line-height: 1; border-radius: 0.35em;\">\n",
              "    EUROPCAR MOBILITY GROUP\n",
              "    <span style=\"font-size: 0.8em; font-weight: bold; line-height: 1; border-radius: 0.35em; text-transform: uppercase; vertical-align: middle; margin-left: 0.5rem\">ISSUER</span>\n",
              "</mark>\n",
              " et détenir indirectement, par l’intermédiaire de ses filiales \n",
              "<mark class=\"entity\" style=\"background: #ddd; padding: 0.45em 0.6em; margin: 0 0.25em; line-height: 1; border-radius: 0.35em;\">\n",
              "    Morgan Stanley &amp; Co.\n",
              "    <span style=\"font-size: 0.8em; font-weight: bold; line-height: 1; border-radius: 0.35em; text-transform: uppercase; vertical-align: middle; margin-left: 0.5rem\">FIRM</span>\n",
              "</mark>\n",
              " LLC, \n",
              "<mark class=\"entity\" style=\"background: #ddd; padding: 0.45em 0.6em; margin: 0 0.25em; line-height: 1; border-radius: 0.35em;\">\n",
              "    Morgan Stanley &amp; Co.\n",
              "    <span style=\"font-size: 0.8em; font-weight: bold; line-height: 1; border-radius: 0.35em; text-transform: uppercase; vertical-align: middle; margin-left: 0.5rem\">FIRM</span>\n",
              "</mark>\n",
              " International plc, \n",
              "<mark class=\"entity\" style=\"background: #ddd; padding: 0.45em 0.6em; margin: 0 0.25em; line-height: 1; border-radius: 0.35em;\">\n",
              "    Morgan Stanley Capital Services LLC et Morgan Stanley France S.A., 13 372 152 actions EUROPCAR MOBILITY GROUP représentant autant de droits de vote, soit\n",
              "    <span style=\"font-size: 0.8em; font-weight: bold; line-height: 1; border-radius: 0.35em; text-transform: uppercase; vertical-align: middle; margin-left: 0.5rem\">FIRM</span>\n",
              "</mark>\n",
              " \n",
              "<mark class=\"entity\" style=\"background: #e4e7d2; padding: 0.45em 0.6em; margin: 0 0.25em; line-height: 1; border-radius: 0.35em;\">\n",
              "    8,16%\n",
              "    <span style=\"font-size: 0.8em; font-weight: bold; line-height: 1; border-radius: 0.35em; text-transform: uppercase; vertical-align: middle; margin-left: 0.5rem\">PERCENT</span>\n",
              "</mark>\n",
              " du \n",
              "<mark class=\"entity\" style=\"background: #ddd; padding: 0.45em 0.6em; margin: 0 0.25em; line-height: 1; border-radius: 0.35em;\">\n",
              "    capital\n",
              "    <span style=\"font-size: 0.8em; font-weight: bold; line-height: 1; border-radius: 0.35em; text-transform: uppercase; vertical-align: middle; margin-left: 0.5rem\">TYPE</span>\n",
              "</mark>\n",
              " et \n",
              "<mark class=\"entity\" style=\"background: #e4e7d2; padding: 0.45em 0.6em; margin: 0 0.25em; line-height: 1; border-radius: 0.35em;\">\n",
              "    8,13%\n",
              "    <span style=\"font-size: 0.8em; font-weight: bold; line-height: 1; border-radius: 0.35em; text-transform: uppercase; vertical-align: middle; margin-left: 0.5rem\">PERCENT</span>\n",
              "</mark>\n",
              " des \n",
              "<mark class=\"entity\" style=\"background: #ddd; padding: 0.45em 0.6em; margin: 0 0.25em; line-height: 1; border-radius: 0.35em;\">\n",
              "    droits de vote\n",
              "    <span style=\"font-size: 0.8em; font-weight: bold; line-height: 1; border-radius: 0.35em; text-transform: uppercase; vertical-align: middle; margin-left: 0.5rem\">TYPE</span>\n",
              "</mark>\n",
              " de cette société1, répartis comme suit :   Actions % capital Droits de vote % droits de vote \n",
              "<mark class=\"entity\" style=\"background: #ddd; padding: 0.45em 0.6em; margin: 0 0.25em; line-height: 1; border-radius: 0.35em;\">\n",
              "    Morgan Stanley &amp; Co.\n",
              "    <span style=\"font-size: 0.8em; font-weight: bold; line-height: 1; border-radius: 0.35em; text-transform: uppercase; vertical-align: middle; margin-left: 0.5rem\">FIRM</span>\n",
              "</mark>\n",
              " International plc \n",
              "<mark class=\"entity\" style=\"background: #ddd; padding: 0.45em 0.6em; margin: 0 0.25em; line-height: 1; border-radius: 0.35em;\">\n",
              "    12 825 285\n",
              "    <span style=\"font-size: 0.8em; font-weight: bold; line-height: 1; border-radius: 0.35em; text-transform: uppercase; vertical-align: middle; margin-left: 0.5rem\">NUMBER</span>\n",
              "</mark>\n",
              " 7,83 12 825 285 7,80 Morgan Stanley Capital Services LLC  313 050 0,19 313 050 0,19 Morgan Stanley France S.A. 194 158 0,12 194 158 0,12 Morgan Stanley &amp; Co. LLC 39 659 0,02 39 659 0,02 Total Morgan Stanley Corp. \n",
              "<mark class=\"entity\" style=\"background: #ddd; padding: 0.45em 0.6em; margin: 0 0.25em; line-height: 1; border-radius: 0.35em;\">\n",
              "    13 372 152\n",
              "    <span style=\"font-size: 0.8em; font-weight: bold; line-height: 1; border-radius: 0.35em; text-transform: uppercase; vertical-align: middle; margin-left: 0.5rem\">NUMBER</span>\n",
              "</mark>\n",
              " 8,16 13 372 152 8,13  Ce franchissement de seuils résulte d’une acquisition d’actions \n",
              "<mark class=\"entity\" style=\"background: #ddd; padding: 0.45em 0.6em; margin: 0 0.25em; line-height: 1; border-radius: 0.35em;\">\n",
              "    EUROPCAR MOBILITY GROUP\n",
              "    <span style=\"font-size: 0.8em; font-weight: bold; line-height: 1; border-radius: 0.35em; text-transform: uppercase; vertical-align: middle; margin-left: 0.5rem\">ISSUER</span>\n",
              "</mark>\n",
              " hors marché, au résultat de laquelle l’exemption de trading ne s’applique plus pour le déclarant (cf. article 223-13 I, 2° du règlement général).  À cette occasion, la société \n",
              "<mark class=\"entity\" style=\"background: #ddd; padding: 0.45em 0.6em; margin: 0 0.25em; line-height: 1; border-radius: 0.35em;\">\n",
              "    Morgan Stanley &amp; Co.\n",
              "    <span style=\"font-size: 0.8em; font-weight: bold; line-height: 1; border-radius: 0.35em; text-transform: uppercase; vertical-align: middle; margin-left: 0.5rem\">FIRM</span>\n",
              "</mark>\n",
              " International plc a franchi directement en hausse les mêmes seuils.  Au titre de l’article L. 233-9 I, 6° du code de commerce :  - la société \n",
              "<mark class=\"entity\" style=\"background: #ddd; padding: 0.45em 0.6em; margin: 0 0.25em; line-height: 1; border-radius: 0.35em;\">\n",
              "    Morgan Stanley &amp; Co.\n",
              "    <span style=\"font-size: 0.8em; font-weight: bold; line-height: 1; border-radius: 0.35em; text-transform: uppercase; vertical-align: middle; margin-left: 0.5rem\">FIRM</span>\n",
              "</mark>\n",
              " LLC a précisé détenir \n",
              "<mark class=\"entity\" style=\"background: #ddd; padding: 0.45em 0.6em; margin: 0 0.25em; line-height: 1; border-radius: 0.35em;\">\n",
              "    39 659\n",
              "    <span style=\"font-size: 0.8em; font-weight: bold; line-height: 1; border-radius: 0.35em; text-transform: uppercase; vertical-align: middle; margin-left: 0.5rem\">NUMBER</span>\n",
              "</mark>\n",
              " \n",
              "<mark class=\"entity\" style=\"background: #ddd; padding: 0.45em 0.6em; margin: 0 0.25em; line-height: 1; border-radius: 0.35em;\">\n",
              "    actions\n",
              "    <span style=\"font-size: 0.8em; font-weight: bold; line-height: 1; border-radius: 0.35em; text-transform: uppercase; vertical-align: middle; margin-left: 0.5rem\">TYPE</span>\n",
              "</mark>\n",
              " \n",
              "<mark class=\"entity\" style=\"background: #ddd; padding: 0.45em 0.6em; margin: 0 0.25em; line-height: 1; border-radius: 0.35em;\">\n",
              "    EUROPCAR MOBILITY GROUP\n",
              "    <span style=\"font-size: 0.8em; font-weight: bold; line-height: 1; border-radius: 0.35em; text-transform: uppercase; vertical-align: middle; margin-left: 0.5rem\">ISSUER</span>\n",
              "</mark>\n",
              " au titre d’un contrat de « right to recall » portant sur autant d’actions \n",
              "<mark class=\"entity\" style=\"background: #ddd; padding: 0.45em 0.6em; margin: 0 0.25em; line-height: 1; border-radius: 0.35em;\">\n",
              "    EUROPCAR MOBILITY GROUP\n",
              "    <span style=\"font-size: 0.8em; font-weight: bold; line-height: 1; border-radius: 0.35em; text-transform: uppercase; vertical-align: middle; margin-left: 0.5rem\">ISSUER</span>\n",
              "</mark>\n",
              " (prise en compte dans la détention visée ci-dessus) et lui permettant de rappeler à tout moment les actions visées par le contrat ; et  - la société \n",
              "<mark class=\"entity\" style=\"background: #ddd; padding: 0.45em 0.6em; margin: 0 0.25em; line-height: 1; border-radius: 0.35em;\">\n",
              "    Morgan Stanley &amp; Co.\n",
              "    <span style=\"font-size: 0.8em; font-weight: bold; line-height: 1; border-radius: 0.35em; text-transform: uppercase; vertical-align: middle; margin-left: 0.5rem\">FIRM</span>\n",
              "</mark>\n",
              " International plc a précisé détenir \n",
              "<mark class=\"entity\" style=\"background: #ddd; padding: 0.45em 0.6em; margin: 0 0.25em; line-height: 1; border-radius: 0.35em;\">\n",
              "    218 329\n",
              "    <span style=\"font-size: 0.8em; font-weight: bold; line-height: 1; border-radius: 0.35em; text-transform: uppercase; vertical-align: middle; margin-left: 0.5rem\">NUMBER</span>\n",
              "</mark>\n",
              " \n",
              "<mark class=\"entity\" style=\"background: #ddd; padding: 0.45em 0.6em; margin: 0 0.25em; line-height: 1; border-radius: 0.35em;\">\n",
              "    actions\n",
              "    <span style=\"font-size: 0.8em; font-weight: bold; line-height: 1; border-radius: 0.35em; text-transform: uppercase; vertical-align: middle; margin-left: 0.5rem\">TYPE</span>\n",
              "</mark>\n",
              " \n",
              "<mark class=\"entity\" style=\"background: #ddd; padding: 0.45em 0.6em; margin: 0 0.25em; line-height: 1; border-radius: 0.35em;\">\n",
              "    EUROPCAR MOBILITY GROUP\n",
              "    <span style=\"font-size: 0.8em; font-weight: bold; line-height: 1; border-radius: 0.35em; text-transform: uppercase; vertical-align: middle; margin-left: 0.5rem\">ISSUER</span>\n",
              "</mark>\n",
              " au titre d’un contrat de « right to recall » portant sur autant d’actions \n",
              "<mark class=\"entity\" style=\"background: #ddd; padding: 0.45em 0.6em; margin: 0 0.25em; line-height: 1; border-radius: 0.35em;\">\n",
              "    EUROPCAR MOBILITY GROUP\n",
              "    <span style=\"font-size: 0.8em; font-weight: bold; line-height: 1; border-radius: 0.35em; text-transform: uppercase; vertical-align: middle; margin-left: 0.5rem\">ISSUER</span>\n",
              "</mark>\n",
              " (prise en compte dans la détention visée ci-dessus) et lui permettant de rappeler à tout moment les actions visées par le contrat.                                                             1 Sur la base d'un capital composé de \n",
              "<mark class=\"entity\" style=\"background: #ddd; padding: 0.45em 0.6em; margin: 0 0.25em; line-height: 1; border-radius: 0.35em;\">\n",
              "    163 884 278\n",
              "    <span style=\"font-size: 0.8em; font-weight: bold; line-height: 1; border-radius: 0.35em; text-transform: uppercase; vertical-align: middle; margin-left: 0.5rem\">NUMBER</span>\n",
              "</mark>\n",
              " \n",
              "<mark class=\"entity\" style=\"background: #ddd; padding: 0.45em 0.6em; margin: 0 0.25em; line-height: 1; border-radius: 0.35em;\">\n",
              "    actions\n",
              "    <span style=\"font-size: 0.8em; font-weight: bold; line-height: 1; border-radius: 0.35em; text-transform: uppercase; vertical-align: middle; margin-left: 0.5rem\">TYPE</span>\n",
              "</mark>\n",
              " représentant \n",
              "<mark class=\"entity\" style=\"background: #ddd; padding: 0.45em 0.6em; margin: 0 0.25em; line-height: 1; border-radius: 0.35em;\">\n",
              "    164 457 453\n",
              "    <span style=\"font-size: 0.8em; font-weight: bold; line-height: 1; border-radius: 0.35em; text-transform: uppercase; vertical-align: middle; margin-left: 0.5rem\">NUMBER</span>\n",
              "</mark>\n",
              " \n",
              "<mark class=\"entity\" style=\"background: #ddd; padding: 0.45em 0.6em; margin: 0 0.25em; line-height: 1; border-radius: 0.35em;\">\n",
              "    droits de vote\n",
              "    <span style=\"font-size: 0.8em; font-weight: bold; line-height: 1; border-radius: 0.35em; text-transform: uppercase; vertical-align: middle; margin-left: 0.5rem\">TYPE</span>\n",
              "</mark>\n",
              ", en application du 2ème alinéa de l’article 223-11 du règlement général \f2 220C0690-FR0012789949-FS0179  Au titre de l’article L. 233-9, I, 4° bis du code de commerce et de l’article 223-14 V du règlement général :  - la société \n",
              "<mark class=\"entity\" style=\"background: #ddd; padding: 0.45em 0.6em; margin: 0 0.25em; line-height: 1; border-radius: 0.35em;\">\n",
              "    Morgan Stanley Capital Services LLC a précisé détenir 313 050 actions EUROPCAR MOBILITY GROUP2 (prise en\n",
              "    <span style=\"font-size: 0.8em; font-weight: bold; line-height: 1; border-radius: 0.35em; text-transform: uppercase; vertical-align: middle; margin-left: 0.5rem\">FIRM</span>\n",
              "</mark>\n",
              " compte dans la détention visée ci-dessus), résultant de la détention d’un contrat « equity swap » à dénouement en espèces, exerçables à tout moment jusqu’au \n",
              "<mark class=\"entity\" style=\"background: #bfe1d9; padding: 0.45em 0.6em; margin: 0 0.25em; line-height: 1; border-radius: 0.35em;\">\n",
              "    20 novembre 2020\n",
              "    <span style=\"font-size: 0.8em; font-weight: bold; line-height: 1; border-radius: 0.35em; text-transform: uppercase; vertical-align: middle; margin-left: 0.5rem\">DATE</span>\n",
              "</mark>\n",
              " ; et   - la société \n",
              "<mark class=\"entity\" style=\"background: #ddd; padding: 0.45em 0.6em; margin: 0 0.25em; line-height: 1; border-radius: 0.35em;\">\n",
              "    Morgan Stanley &amp; Co.\n",
              "    <span style=\"font-size: 0.8em; font-weight: bold; line-height: 1; border-radius: 0.35em; text-transform: uppercase; vertical-align: middle; margin-left: 0.5rem\">FIRM</span>\n",
              "</mark>\n",
              " International plc a précisé détenir \n",
              "<mark class=\"entity\" style=\"background: #ddd; padding: 0.45em 0.6em; margin: 0 0.25em; line-height: 1; border-radius: 0.35em;\">\n",
              "    447 367\n",
              "    <span style=\"font-size: 0.8em; font-weight: bold; line-height: 1; border-radius: 0.35em; text-transform: uppercase; vertical-align: middle; margin-left: 0.5rem\">NUMBER</span>\n",
              "</mark>\n",
              " \n",
              "<mark class=\"entity\" style=\"background: #ddd; padding: 0.45em 0.6em; margin: 0 0.25em; line-height: 1; border-radius: 0.35em;\">\n",
              "    actions\n",
              "    <span style=\"font-size: 0.8em; font-weight: bold; line-height: 1; border-radius: 0.35em; text-transform: uppercase; vertical-align: middle; margin-left: 0.5rem\">TYPE</span>\n",
              "</mark>\n",
              " \n",
              "<mark class=\"entity\" style=\"background: #ddd; padding: 0.45em 0.6em; margin: 0 0.25em; line-height: 1; border-radius: 0.35em;\">\n",
              "    EUROPCAR MOBILITY GROUP3\n",
              "    <span style=\"font-size: 0.8em; font-weight: bold; line-height: 1; border-radius: 0.35em; text-transform: uppercase; vertical-align: middle; margin-left: 0.5rem\">ISSUER</span>\n",
              "</mark>\n",
              " (prise en compte dans la détention visée ci-dessus), résultant de la détention d’un contrat « equity swap » à dénouement en espèces, exerçable à tout moment jusqu’au \n",
              "<mark class=\"entity\" style=\"background: #bfe1d9; padding: 0.45em 0.6em; margin: 0 0.25em; line-height: 1; border-radius: 0.35em;\">\n",
              "    21 octobre 2020\n",
              "    <span style=\"font-size: 0.8em; font-weight: bold; line-height: 1; border-radius: 0.35em; text-transform: uppercase; vertical-align: middle; margin-left: 0.5rem\">DATE</span>\n",
              "</mark>\n",
              ".  _______                                                            2 Sur la base d’un delta de 1. 3 Sur la base d’un delta de 1. \f</div></span>"
            ],
            "text/plain": [
              "<IPython.core.display.HTML object>"
            ]
          },
          "metadata": {
            "tags": []
          }
        }
      ]
    },
    {
      "cell_type": "code",
      "metadata": {
        "id": "Vk0K908-qd-u",
        "colab_type": "code",
        "outputId": "84f53fb5-5d69-4738-e1cd-2633dbc844bb",
        "colab": {
          "base_uri": "https://localhost:8080/",
          "height": 956
        }
      },
      "source": [
        "for chunk in doc.noun_chunks:\n",
        "    print(chunk.text, chunk.label_, chunk.root.text)\n",
        " "
      ],
      "execution_count": 0,
      "outputs": [
        {
          "output_type": "stream",
          "text": [
            "220C0170-FR0012407096-OP028-AS12-RO02            220C0170 FR0012407096-OP028-AS12-RO02 14 janvier 2020    NP 220C0170-FR0012407096-OP028-AS12-RO02\n",
            "- Mise en œuvre du retrait obligatoire visant les actions de la société.   NP Mise\n",
            "- Maintien de la suspension de la cotation des actions de la société.     NP Maintien\n",
            "Euronext Paris NP Euronext\n",
            "Le 13 janvier 2020 NP janvier\n",
            "l’Autorité des marchés financiers NP Autorité\n",
            "d’achat simplifiée NP achat\n",
            "les actions ITS GROUP NP actions\n",
            "la société ITS Participations NP société\n",
            "actions ITS GROUP NP actions\n",
            "de droits de vote NP droits\n",
            "des droits de vote de cette société2 NP droits\n",
            "cf NP cf\n",
            "D&I 220C0149 en date du 13 janvier 2020).   NP D&I\n",
            "Les actions ITS GROUP non présentées à l’offre par les actionnaires minoritaires NP actions\n",
            "de 366 396 actions NP actions\n",
            "483 droits de vote, NP droits\n",
            "soit 4,65% du capital et 4,92% des droits de vote de cette société2 NP %\n",
            "2- Par courrier NP 2-\n",
            "de la société NP société\n",
            "ITS Participations NP Participations\n",
            "l’Autorité NP Autorité\n",
            "des marchés financiers de la décision d’ITS Participations de procéder NP marchés\n",
            "en œuvre NP œuvre\n",
            "d’un retrait obligatoire portant sur les actions ITS GROUP non apportées à l’offre, au prix de 6,62 € par action ITS GROUP, sur le fondement des articles L. 433-4 II du code monétaire et financier et 237-3 I NP retrait\n",
            ", 2° du règlement général NP °\n",
            "Les conditions NP conditions\n",
            "aux articles L. 433-4 II du code monétaire et financier et 237 NP articles\n",
            "3 du règlement général NP règlement\n",
            "les 366 396 actions ITS GROUP NP actions\n",
            "4,65% du capital et 4,92% des droits de vote de la société2 NP %\n",
            "de la conformité NP conformité\n",
            "du projet NP projet\n",
            "d’achat simplifiée NP achat\n",
            "l'Autorité NP Autorité\n",
            "des marchés financiers NP marchés\n",
            "du rapport d'évaluation de la banque présentatrice et du rapport de l'expert indépendant qui concluait à l'équité du prix offert dans la perspective d'un retrait obligatoire (cf NP rapport\n",
            "D&I 219C2792 NP D&I\n",
            "du 17 décembre 2019) ;   NP décembre\n",
            "le retrait obligatoire NP retrait\n",
            "le règlement en numéraire proposé lors de l’offre publique d’achat simplifiée, NP règlement\n",
            "soit 6,62 € par action ITS GROUP NP €\n",
            "le retrait obligatoire NP retrait\n",
            "par action net NP action\n",
            "de tout frais NP frais\n",
            "de cette société2 NP société2\n",
            "________                                                            1 En ce compris les 181 010 actions ITS GROUP en période de conservation et objets de promesses croisées conclues le 2 décembre 2019 (détention par assimilation NP _\n",
            "au titre NP titre\n",
            "des dispositions de l’article L. 233 NP dispositions\n",
            "-9 I, 4° du code de commerce) et les 431 616 actions ITS GROUP détenues en propre par la société (détention par assimilation au titre des dispositions de l’article L. 233 NP I\n",
            "-9 I, 2° du code de commerce). NP I\n",
            "2 Sur la base d’un capital composé de 7 874 555 actions représentant 7 896 642 droits de vote, en application du 2ème alinéa de l’article 223 NP base\n",
            "-11 du règlement général. \f NP règlement\n"
          ],
          "name": "stdout"
        }
      ]
    },
    {
      "cell_type": "code",
      "metadata": {
        "id": "-Kg1XhM_qvLb",
        "colab_type": "code",
        "colab": {}
      },
      "source": [
        ""
      ],
      "execution_count": 0,
      "outputs": []
    }
  ]
}