{
  "nbformat": 4,
  "nbformat_minor": 0,
  "metadata": {
    "colab": {
      "name": "RD.ipynb",
      "provenance": [],
      "collapsed_sections": [],
      "include_colab_link": true
    },
    "kernelspec": {
      "name": "python3",
      "display_name": "Python 3"
    }
  },
  "cells": [
    {
      "cell_type": "markdown",
      "metadata": {
        "id": "view-in-github",
        "colab_type": "text"
      },
      "source": [
        "<a href=\"https://colab.research.google.com/github/ilucas75/BTflow/blob/dev/RD.ipynb\" target=\"_parent\"><img src=\"https://colab.research.google.com/assets/colab-badge.svg\" alt=\"Open In Colab\"/></a>"
      ]
    },
    {
      "cell_type": "markdown",
      "metadata": {
        "id": "qiFWWecB8meR",
        "colab_type": "text"
      },
      "source": [
        "## Install"
      ]
    },
    {
      "cell_type": "code",
      "metadata": {
        "id": "uEcyr9cyjnct",
        "colab_type": "code",
        "outputId": "41a99db5-15cc-41ed-cba5-8ce4b22536dc",
        "colab": {
          "base_uri": "https://localhost:8080/",
          "height": 1000
        }
      },
      "source": [
        "!pip install pdfminer.six\n",
        "!pip install spacy\n",
        "!pip install tabula-py\n",
        "!python -m spacy download fr_core_news_md"
      ],
      "execution_count": 1,
      "outputs": [
        {
          "output_type": "stream",
          "text": [
            "Collecting pdfminer.six\n",
            "\u001b[?25l  Downloading https://files.pythonhosted.org/packages/0b/04/f62d5834c2bdf90afcaeb23bb5241033c44e27000de64ad8472253daa4a8/pdfminer.six-20200402-py3-none-any.whl (5.6MB)\n",
            "\u001b[K     |████████████████████████████████| 5.6MB 2.7MB/s \n",
            "\u001b[?25hRequirement already satisfied: sortedcontainers in /usr/local/lib/python3.6/dist-packages (from pdfminer.six) (2.1.0)\n",
            "Collecting pycryptodome\n",
            "\u001b[?25l  Downloading https://files.pythonhosted.org/packages/af/16/da16a22d47bac9bf9db39f3b9af74e8eeed8855c0df96be20b580ef92fff/pycryptodome-3.9.7-cp36-cp36m-manylinux1_x86_64.whl (13.7MB)\n",
            "\u001b[K     |████████████████████████████████| 13.7MB 318kB/s \n",
            "\u001b[?25hRequirement already satisfied: chardet; python_version > \"3.0\" in /usr/local/lib/python3.6/dist-packages (from pdfminer.six) (3.0.4)\n",
            "Installing collected packages: pycryptodome, pdfminer.six\n",
            "Successfully installed pdfminer.six-20200402 pycryptodome-3.9.7\n",
            "Requirement already satisfied: spacy in /usr/local/lib/python3.6/dist-packages (2.2.4)\n",
            "Requirement already satisfied: numpy>=1.15.0 in /usr/local/lib/python3.6/dist-packages (from spacy) (1.18.2)\n",
            "Requirement already satisfied: requests<3.0.0,>=2.13.0 in /usr/local/lib/python3.6/dist-packages (from spacy) (2.21.0)\n",
            "Requirement already satisfied: cymem<2.1.0,>=2.0.2 in /usr/local/lib/python3.6/dist-packages (from spacy) (2.0.3)\n",
            "Requirement already satisfied: srsly<1.1.0,>=1.0.2 in /usr/local/lib/python3.6/dist-packages (from spacy) (1.0.2)\n",
            "Requirement already satisfied: catalogue<1.1.0,>=0.0.7 in /usr/local/lib/python3.6/dist-packages (from spacy) (1.0.0)\n",
            "Requirement already satisfied: tqdm<5.0.0,>=4.38.0 in /usr/local/lib/python3.6/dist-packages (from spacy) (4.38.0)\n",
            "Requirement already satisfied: wasabi<1.1.0,>=0.4.0 in /usr/local/lib/python3.6/dist-packages (from spacy) (0.6.0)\n",
            "Requirement already satisfied: thinc==7.4.0 in /usr/local/lib/python3.6/dist-packages (from spacy) (7.4.0)\n",
            "Requirement already satisfied: plac<1.2.0,>=0.9.6 in /usr/local/lib/python3.6/dist-packages (from spacy) (1.1.3)\n",
            "Requirement already satisfied: preshed<3.1.0,>=3.0.2 in /usr/local/lib/python3.6/dist-packages (from spacy) (3.0.2)\n",
            "Requirement already satisfied: blis<0.5.0,>=0.4.0 in /usr/local/lib/python3.6/dist-packages (from spacy) (0.4.1)\n",
            "Requirement already satisfied: murmurhash<1.1.0,>=0.28.0 in /usr/local/lib/python3.6/dist-packages (from spacy) (1.0.2)\n",
            "Requirement already satisfied: setuptools in /usr/local/lib/python3.6/dist-packages (from spacy) (46.1.3)\n",
            "Requirement already satisfied: certifi>=2017.4.17 in /usr/local/lib/python3.6/dist-packages (from requests<3.0.0,>=2.13.0->spacy) (2020.4.5.1)\n",
            "Requirement already satisfied: urllib3<1.25,>=1.21.1 in /usr/local/lib/python3.6/dist-packages (from requests<3.0.0,>=2.13.0->spacy) (1.24.3)\n",
            "Requirement already satisfied: chardet<3.1.0,>=3.0.2 in /usr/local/lib/python3.6/dist-packages (from requests<3.0.0,>=2.13.0->spacy) (3.0.4)\n",
            "Requirement already satisfied: idna<2.9,>=2.5 in /usr/local/lib/python3.6/dist-packages (from requests<3.0.0,>=2.13.0->spacy) (2.8)\n",
            "Requirement already satisfied: importlib-metadata>=0.20; python_version < \"3.8\" in /usr/local/lib/python3.6/dist-packages (from catalogue<1.1.0,>=0.0.7->spacy) (1.6.0)\n",
            "Requirement already satisfied: zipp>=0.5 in /usr/local/lib/python3.6/dist-packages (from importlib-metadata>=0.20; python_version < \"3.8\"->catalogue<1.1.0,>=0.0.7->spacy) (3.1.0)\n",
            "Collecting tabula-py\n",
            "\u001b[?25l  Downloading https://files.pythonhosted.org/packages/53/a4/66add528eca00398af98f181772006750019eb9f2d68c7c6fdd53ba661c5/tabula_py-2.1.0-py3-none-any.whl (10.4MB)\n",
            "\u001b[K     |████████████████████████████████| 10.4MB 2.8MB/s \n",
            "\u001b[?25hRequirement already satisfied: pandas>=0.25.3 in /usr/local/lib/python3.6/dist-packages (from tabula-py) (1.0.3)\n",
            "Collecting distro\n",
            "  Downloading https://files.pythonhosted.org/packages/25/b7/b3c4270a11414cb22c6352ebc7a83aaa3712043be29daa05018fd5a5c956/distro-1.5.0-py2.py3-none-any.whl\n",
            "Requirement already satisfied: numpy in /usr/local/lib/python3.6/dist-packages (from tabula-py) (1.18.2)\n",
            "Requirement already satisfied: pytz>=2017.2 in /usr/local/lib/python3.6/dist-packages (from pandas>=0.25.3->tabula-py) (2018.9)\n",
            "Requirement already satisfied: python-dateutil>=2.6.1 in /usr/local/lib/python3.6/dist-packages (from pandas>=0.25.3->tabula-py) (2.8.1)\n",
            "Requirement already satisfied: six>=1.5 in /usr/local/lib/python3.6/dist-packages (from python-dateutil>=2.6.1->pandas>=0.25.3->tabula-py) (1.12.0)\n",
            "Installing collected packages: distro, tabula-py\n",
            "Successfully installed distro-1.5.0 tabula-py-2.1.0\n",
            "Collecting fr_core_news_md==2.2.5\n",
            "\u001b[?25l  Downloading https://github.com/explosion/spacy-models/releases/download/fr_core_news_md-2.2.5/fr_core_news_md-2.2.5.tar.gz (88.6MB)\n",
            "\u001b[K     |████████████████████████████████| 88.6MB 1.2MB/s \n",
            "\u001b[?25hRequirement already satisfied: spacy>=2.2.2 in /usr/local/lib/python3.6/dist-packages (from fr_core_news_md==2.2.5) (2.2.4)\n",
            "Requirement already satisfied: catalogue<1.1.0,>=0.0.7 in /usr/local/lib/python3.6/dist-packages (from spacy>=2.2.2->fr_core_news_md==2.2.5) (1.0.0)\n",
            "Requirement already satisfied: srsly<1.1.0,>=1.0.2 in /usr/local/lib/python3.6/dist-packages (from spacy>=2.2.2->fr_core_news_md==2.2.5) (1.0.2)\n",
            "Requirement already satisfied: thinc==7.4.0 in /usr/local/lib/python3.6/dist-packages (from spacy>=2.2.2->fr_core_news_md==2.2.5) (7.4.0)\n",
            "Requirement already satisfied: requests<3.0.0,>=2.13.0 in /usr/local/lib/python3.6/dist-packages (from spacy>=2.2.2->fr_core_news_md==2.2.5) (2.21.0)\n",
            "Requirement already satisfied: numpy>=1.15.0 in /usr/local/lib/python3.6/dist-packages (from spacy>=2.2.2->fr_core_news_md==2.2.5) (1.18.2)\n",
            "Requirement already satisfied: cymem<2.1.0,>=2.0.2 in /usr/local/lib/python3.6/dist-packages (from spacy>=2.2.2->fr_core_news_md==2.2.5) (2.0.3)\n",
            "Requirement already satisfied: preshed<3.1.0,>=3.0.2 in /usr/local/lib/python3.6/dist-packages (from spacy>=2.2.2->fr_core_news_md==2.2.5) (3.0.2)\n",
            "Requirement already satisfied: blis<0.5.0,>=0.4.0 in /usr/local/lib/python3.6/dist-packages (from spacy>=2.2.2->fr_core_news_md==2.2.5) (0.4.1)\n",
            "Requirement already satisfied: wasabi<1.1.0,>=0.4.0 in /usr/local/lib/python3.6/dist-packages (from spacy>=2.2.2->fr_core_news_md==2.2.5) (0.6.0)\n",
            "Requirement already satisfied: tqdm<5.0.0,>=4.38.0 in /usr/local/lib/python3.6/dist-packages (from spacy>=2.2.2->fr_core_news_md==2.2.5) (4.38.0)\n",
            "Requirement already satisfied: plac<1.2.0,>=0.9.6 in /usr/local/lib/python3.6/dist-packages (from spacy>=2.2.2->fr_core_news_md==2.2.5) (1.1.3)\n",
            "Requirement already satisfied: murmurhash<1.1.0,>=0.28.0 in /usr/local/lib/python3.6/dist-packages (from spacy>=2.2.2->fr_core_news_md==2.2.5) (1.0.2)\n",
            "Requirement already satisfied: setuptools in /usr/local/lib/python3.6/dist-packages (from spacy>=2.2.2->fr_core_news_md==2.2.5) (46.1.3)\n",
            "Requirement already satisfied: importlib-metadata>=0.20; python_version < \"3.8\" in /usr/local/lib/python3.6/dist-packages (from catalogue<1.1.0,>=0.0.7->spacy>=2.2.2->fr_core_news_md==2.2.5) (1.6.0)\n",
            "Requirement already satisfied: chardet<3.1.0,>=3.0.2 in /usr/local/lib/python3.6/dist-packages (from requests<3.0.0,>=2.13.0->spacy>=2.2.2->fr_core_news_md==2.2.5) (3.0.4)\n",
            "Requirement already satisfied: certifi>=2017.4.17 in /usr/local/lib/python3.6/dist-packages (from requests<3.0.0,>=2.13.0->spacy>=2.2.2->fr_core_news_md==2.2.5) (2020.4.5.1)\n",
            "Requirement already satisfied: idna<2.9,>=2.5 in /usr/local/lib/python3.6/dist-packages (from requests<3.0.0,>=2.13.0->spacy>=2.2.2->fr_core_news_md==2.2.5) (2.8)\n",
            "Requirement already satisfied: urllib3<1.25,>=1.21.1 in /usr/local/lib/python3.6/dist-packages (from requests<3.0.0,>=2.13.0->spacy>=2.2.2->fr_core_news_md==2.2.5) (1.24.3)\n",
            "Requirement already satisfied: zipp>=0.5 in /usr/local/lib/python3.6/dist-packages (from importlib-metadata>=0.20; python_version < \"3.8\"->catalogue<1.1.0,>=0.0.7->spacy>=2.2.2->fr_core_news_md==2.2.5) (3.1.0)\n",
            "Building wheels for collected packages: fr-core-news-md\n",
            "  Building wheel for fr-core-news-md (setup.py) ... \u001b[?25l\u001b[?25hdone\n",
            "  Created wheel for fr-core-news-md: filename=fr_core_news_md-2.2.5-cp36-none-any.whl size=90338488 sha256=8dd3cf29ac01624ee09f1126073a1b45d4abf86fae56cd4e6d82cb1033bf5952\n",
            "  Stored in directory: /tmp/pip-ephem-wheel-cache-2uk1rwpl/wheels/c6/18/b6/f628642acc7872a53cf81269dd1c394d96da69564ccfac5425\n",
            "Successfully built fr-core-news-md\n",
            "Installing collected packages: fr-core-news-md\n",
            "Successfully installed fr-core-news-md-2.2.5\n",
            "\u001b[38;5;2m✔ Download and installation successful\u001b[0m\n",
            "You can now load the model via spacy.load('fr_core_news_md')\n"
          ],
          "name": "stdout"
        }
      ]
    },
    {
      "cell_type": "markdown",
      "metadata": {
        "id": "teO5hnSS8Dj3",
        "colab_type": "text"
      },
      "source": [
        "## Upload PDF and Json"
      ]
    },
    {
      "cell_type": "code",
      "metadata": {
        "id": "aBtUJahtkUKq",
        "colab_type": "code",
        "outputId": "a7c2fb5a-db64-41a2-939a-890698414031",
        "colab": {
          "resources": {
            "http://localhost:8080/nbextensions/google.colab/files.js": {
              "data": "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",
              "ok": true,
              "headers": [
                [
                  "content-type",
                  "application/javascript"
                ]
              ],
              "status": 200,
              "status_text": "OK"
            }
          },
          "base_uri": "https://localhost:8080/",
          "height": 1000
        }
      },
      "source": [
        "from google.colab import files\n",
        "\n",
        "uploaded = files.upload()\n"
      ],
      "execution_count": 2,
      "outputs": [
        {
          "output_type": "display_data",
          "data": {
            "text/html": [
              "\n",
              "     <input type=\"file\" id=\"files-0e1349a2-a674-400c-ab49-08c0a91540c8\" name=\"files[]\" multiple disabled />\n",
              "     <output id=\"result-0e1349a2-a674-400c-ab49-08c0a91540c8\">\n",
              "      Upload widget is only available when the cell has been executed in the\n",
              "      current browser session. Please rerun this cell to enable.\n",
              "      </output>\n",
              "      <script src=\"/nbextensions/google.colab/files.js\"></script> "
            ],
            "text/plain": [
              "<IPython.core.display.HTML object>"
            ]
          },
          "metadata": {
            "tags": []
          }
        },
        {
          "output_type": "stream",
          "text": [
            "Saving 0070C022_220C0700.json to 0070C022_220C0700.json\n",
            "Saving 0340C022_220C0430.json to 0340C022_220C0430.json\n",
            "Saving 0510C022_220C0150.json to 0510C022_220C0150.json\n",
            "Saving 0540C022_220C0450.json to 0540C022_220C0450.json\n",
            "Saving 0620C022_220C0260.json to 0620C022_220C0260.json\n",
            "Saving 0810C022_220C0180.json to 0810C022_220C0180.json\n",
            "Saving 0820C022_220C0280.json to 0820C022_220C0280.json\n",
            "Saving 0900C022_220C0090.json to 0900C022_220C0090.json\n",
            "Saving 0940C022_220C0490.json to 0940C022_220C0490.json\n",
            "Saving 0960C022_220C0690.json to 0960C022_220C0690.json\n",
            "Saving 0980C022_220C0890.json to 0980C022_220C0890.json\n",
            "Saving 1040C022_220C0401.json to 1040C022_220C0401.json\n",
            "Saving 1080C022_220C0801.json to 1080C022_220C0801.json\n",
            "Saving 1090C022_220C0901.json to 1090C022_220C0901.json\n",
            "Saving 1200C022_220C0021.json to 1200C022_220C0021.json\n",
            "Saving 1270C022_220C0721.json to 1270C022_220C0721.json\n",
            "Saving 1360C022_220C0631.json to 1360C022_220C0631.json\n",
            "Saving 1380C022_220C0831.json to 1380C022_220C0831.json\n",
            "Saving 1430C022_220C0341.json to 1430C022_220C0341.json\n",
            "Saving 1500C022_220C0051.json to 1500C022_220C0051.json\n",
            "Saving 1550C022_220C0551.json to 1550C022_220C0551.json\n",
            "Saving 1640C022_220C0461.json to 1640C022_220C0461.json\n",
            "Saving 1960C022_220C0691.json to 1960C022_220C0691.json\n",
            "Saving 1980C022_220C0891.json to 1980C022_220C0891.json\n",
            "Saving 2030C022_220C0302.json to 2030C022_220C0302.json\n",
            "Saving 2080C022_220C0802.json to 2080C022_220C0802.json\n",
            "Saving 2090C022_220C0902.json to 2090C022_220C0902.json\n",
            "Saving 2260C022_220C0622.json to 2260C022_220C0622.json\n",
            "Saving 2410C022_220C0142.json to 2410C022_220C0142.json\n",
            "Saving 2550C022_220C0552.json to 2550C022_220C0552.json\n",
            "Saving 2620C022_220C0262.json to 2620C022_220C0262.json\n",
            "Saving 2640C022_220C0462.json to 2640C022_220C0462.json\n",
            "Saving 2920C022_220C0292.json to 2920C022_220C0292.json\n",
            "Saving 3040C022_220C0403.json to 3040C022_220C0403.json\n",
            "Saving 3060C022_220C0603.json to 3060C022_220C0603.json\n",
            "Saving 3080C022_220C0803.json to 3080C022_220C0803.json\n",
            "Saving 3090C022_220C0903.json to 3090C022_220C0903.json\n",
            "Saving 3100C022_220C0013.json to 3100C022_220C0013.json\n",
            "Saving 3170C022_220C0713.json to 3170C022_220C0713.json\n",
            "Saving 3190C022_220C0913.json to 3190C022_220C0913.json\n",
            "Saving 3200C022_220C0023.json to 3200C022_220C0023.json\n",
            "Saving 3270C022_220C0723.json to 3270C022_220C0723.json\n",
            "Saving 3310C022_220C0133.json to 3310C022_220C0133.json\n",
            "Saving 3350C022_220C0533.json to 3350C022_220C0533.json\n",
            "Saving 3460C022_220C0643.json to 3460C022_220C0643.json\n",
            "Saving 3540C022_220C0453.json to 3540C022_220C0453.json\n",
            "Saving 3570C022_220C0753.json to 3570C022_220C0753.json\n",
            "Saving 3610C022_220C0163.json to 3610C022_220C0163.json\n",
            "Saving 3620C022_220C0263.json to 3620C022_220C0263.json\n",
            "Saving 3710C022_220C0173.json to 3710C022_220C0173.json\n",
            "Saving 3770C022_220C0773.json to 3770C022_220C0773.json\n",
            "Saving 3810C022_220C0183.json to 3810C022_220C0183.json\n",
            "Saving 3830C022_220C0383.json to 3830C022_220C0383.json\n",
            "Saving 3950C022_220C0593.json to 3950C022_220C0593.json\n",
            "Saving 4040C022_220C0404.json to 4040C022_220C0404.json\n",
            "Saving 4060C022_220C0604.json to 4060C022_220C0604.json\n",
            "Saving 4170C022_220C0714.json to 4170C022_220C0714.json\n",
            "Saving 4280C022_220C0824.json to 4280C022_220C0824.json\n",
            "Saving 4480C022_220C0844.json to 4480C022_220C0844.json\n",
            "Saving 4530C022_220C0354.json to 4530C022_220C0354.json\n",
            "Saving 4540C022_220C0454.json to 4540C022_220C0454.json\n",
            "Saving 4620C022_220C0264.json to 4620C022_220C0264.json\n",
            "Saving 4630C022_220C0364.json to 4630C022_220C0364.json\n",
            "Saving 4870C022_220C0784.json to 4870C022_220C0784.json\n",
            "Saving 4960C022_220C0694.json to 4960C022_220C0694.json\n",
            "Saving 5100C022_220C0015.json to 5100C022_220C0015.json\n",
            "Saving 5140C022_220C0415.json to 5140C022_220C0415.json\n",
            "Saving 5300C022_220C0035.json to 5300C022_220C0035.json\n",
            "Saving 5330C022_220C0335.json to 5330C022_220C0335.json\n",
            "Saving 5380C022_220C0835.json to 5380C022_220C0835.json\n",
            "Saving 5440C022_220C0445.json to 5440C022_220C0445.json\n",
            "Saving 5480C022_220C0845.json to 5480C022_220C0845.json\n",
            "Saving 5600C022_220C0065.json to 5600C022_220C0065.json\n",
            "Saving 5650C022_220C0565.json to 5650C022_220C0565.json\n",
            "Saving 5930C022_220C0395.json to 5930C022_220C0395.json\n",
            "Saving 5960C022_220C0695.json to 5960C022_220C0695.json\n",
            "Saving 6060C022_220C0606.json to 6060C022_220C0606.json\n",
            "Saving 6240C022_220C0426.json to 6240C022_220C0426.json\n",
            "Saving 6340C022_220C0436.json to 6340C022_220C0436.json\n",
            "Saving 6350C022_220C0536.json to 6350C022_220C0536.json\n",
            "Saving 6360C022_220C0636.json to 6360C022_220C0636.json\n",
            "Saving 6620C022_220C0266.json to 6620C022_220C0266.json\n",
            "Saving 6650C022_220C0566.json to 6650C022_220C0566.json\n",
            "Saving 6720C022_220C0276.json to 6720C022_220C0276.json\n",
            "Saving 7120C022_220C0217.json to 7120C022_220C0217.json\n",
            "Saving 7230C022_220C0327.json to 7230C022_220C0327.json\n",
            "Saving 7320C022_220C0237.json to 7320C022_220C0237.json\n",
            "Saving 7350C022_220C0537.json to 7350C022_220C0537.json\n",
            "Saving 7480C022_220C0847.json to 7480C022_220C0847.json\n",
            "Saving 7570C022_220C0757.json to 7570C022_220C0757.json\n",
            "Saving 7620C022_220C0267.json to 7620C022_220C0267.json\n",
            "Saving 7780C022_220C0877.json to 7780C022_220C0877.json\n",
            "Saving 7800C022_220C0087.json to 7800C022_220C0087.json\n",
            "Saving 7820C022_220C0287.json to 7820C022_220C0287.json\n",
            "Saving 7910C022_220C0197.json to 7910C022_220C0197.json\n",
            "Saving 8030C022_220C0308.json to 8030C022_220C0308.json\n",
            "Saving 8120C022_220C0218.json to 8120C022_220C0218.json\n",
            "Saving 8140C022_220C0418.json to 8140C022_220C0418.json\n",
            "Saving 8330C022_220C0338.json to 8330C022_220C0338.json\n",
            "Saving 8340C022_220C0438.json to 8340C022_220C0438.json\n",
            "Saving 8350C022_220C0538.json to 8350C022_220C0538.json\n",
            "Saving 8400C022_220C0048.json to 8400C022_220C0048.json\n",
            "Saving 8430C022_220C0348.json to 8430C022_220C0348.json\n",
            "Saving 8470C022_220C0748.json to 8470C022_220C0748.json\n",
            "Saving 8570C022_220C0758.json to 8570C022_220C0758.json\n",
            "Saving 8780C022_220C0878.json to 8780C022_220C0878.json\n",
            "Saving 8840C022_220C0488.json to 8840C022_220C0488.json\n",
            "Saving 8850C022_220C0588.json to 8850C022_220C0588.json\n",
            "Saving 8980C022_220C0898.json to 8980C022_220C0898.json\n",
            "Saving 9140C022_220C0419.json to 9140C022_220C0419.json\n",
            "Saving 9150C022_220C0519.json to 9150C022_220C0519.json\n",
            "Saving 9320C022_220C0239.json to 9320C022_220C0239.json\n",
            "Saving 9330C022_220C0339.json to 9330C022_220C0339.json\n",
            "Saving 9530C022_220C0359.json to 9530C022_220C0359.json\n",
            "Saving 9610C022_220C0169.json to 9610C022_220C0169.json\n",
            "Saving 9670C022_220C0769.json to 9670C022_220C0769.json\n",
            "Saving 9900C022_220C0099.json to 9900C022_220C0099.json\n"
          ],
          "name": "stdout"
        }
      ]
    },
    {
      "cell_type": "code",
      "metadata": {
        "id": "6e8gfeF9kR3E",
        "colab_type": "code",
        "outputId": "3485b324-606c-4c99-9502-7f53a64fad48",
        "colab": {
          "base_uri": "https://localhost:8080/",
          "height": 34
        }
      },
      "source": [
        "ls"
      ],
      "execution_count": 0,
      "outputs": [
        {
          "output_type": "stream",
          "text": [
            "dataset.json  \u001b[0m\u001b[01;34msample_data\u001b[0m/\n"
          ],
          "name": "stdout"
        }
      ]
    },
    {
      "cell_type": "markdown",
      "metadata": {
        "id": "LkxF_Nod7OcP",
        "colab_type": "text"
      },
      "source": [
        "## Table PDF"
      ]
    },
    {
      "cell_type": "code",
      "metadata": {
        "id": "zXNXlRcB4aJK",
        "colab_type": "code",
        "outputId": "2a33522a-9e0a-4794-ebb4-faa418713959",
        "colab": {
          "base_uri": "https://localhost:8080/",
          "height": 134
        }
      },
      "source": [
        "from tabula import read_pdf\n",
        "import pandas as pd\n",
        "\n",
        "def extract_tables(filename):\n",
        "  dfs = read_pdf(list_pdf[0], pages='all')\n",
        "  tables_str = []\n",
        "  for df in dfs:\n",
        "  if not df.empty:\n",
        "    table_str = \"\"\n",
        "    for c in df.columns:\n",
        "      if not \"Unnamed:\" in c:\n",
        "        table_str += c + \" \"\n",
        "    for _, r in df.iterrows():\n",
        "      for c in df.columns:\n",
        "        if pd.notna(r[c]):\n",
        "          table_str += r[c] + \" \"\n",
        "    tables_str.append(table_str)\n",
        "  return dfs, tables_str"
      ],
      "execution_count": 0,
      "outputs": [
        {
          "output_type": "stream",
          "text": [
            "Got stderr: Mar 31, 2020 7:14:33 AM org.apache.pdfbox.pdmodel.font.PDTrueTypeFont <init>\n",
            "WARNING: Using fallback font 'LiberationSerif' for 'TimesNewRomanPSMT'\n",
            "Mar 31, 2020 7:14:33 AM org.apache.pdfbox.pdmodel.font.PDTrueTypeFont <init>\n",
            "WARNING: Using fallback font 'LiberationSerif-Bold' for 'TimesNewRomanPS-BoldMT'\n",
            "Mar 31, 2020 7:14:33 AM org.apache.pdfbox.pdmodel.font.PDTrueTypeFont <init>\n",
            "WARNING: Using fallback font 'LiberationSerif-Italic' for 'TimesNewRomanPS-ItalicMT'\n",
            "\n"
          ],
          "name": "stderr"
        }
      ]
    },
    {
      "cell_type": "markdown",
      "metadata": {
        "id": "J7Xzx42u7wXi",
        "colab_type": "text"
      },
      "source": [
        "## Extract PDF text"
      ]
    },
    {
      "cell_type": "code",
      "metadata": {
        "id": "o0YioujofEk2",
        "colab_type": "code",
        "colab": {}
      },
      "source": [
        "import io\n",
        " \n",
        "from pdfminer.converter import TextConverter\n",
        "from pdfminer.pdfinterp import PDFPageInterpreter\n",
        "from pdfminer.pdfinterp import PDFResourceManager\n",
        "from pdfminer.pdfpage import PDFPage"
      ],
      "execution_count": 0,
      "outputs": []
    },
    {
      "cell_type": "code",
      "metadata": {
        "id": "0hYsJfqyvELy",
        "colab_type": "code",
        "colab": {}
      },
      "source": [
        "def extract_text_from_pdf(pdf_path):\n",
        "    resource_manager = PDFResourceManager()\n",
        "    fake_file_handle = io.StringIO()\n",
        "    converter = TextConverter(resource_manager, fake_file_handle)\n",
        "    page_interpreter = PDFPageInterpreter(resource_manager, converter)\n",
        " \n",
        "    with open(pdf_path, 'rb') as fh:\n",
        "        for page in PDFPage.get_pages(fh, \n",
        "                                      caching=True,\n",
        "                                      check_extractable=True):\n",
        "            page_interpreter.process_page(page)\n",
        " \n",
        "        text = fake_file_handle.getvalue()\n",
        " \n",
        "    # close open handles\n",
        "    converter.close()\n",
        "    fake_file_handle.close()\n",
        " \n",
        "    if text:\n",
        "        return text"
      ],
      "execution_count": 0,
      "outputs": []
    },
    {
      "cell_type": "markdown",
      "metadata": {
        "id": "w_Wnrm2J6GyI",
        "colab_type": "text"
      },
      "source": [
        "## Load PDF and Json"
      ]
    },
    {
      "cell_type": "code",
      "metadata": {
        "id": "Hpm_Cs4vb24P",
        "colab_type": "code",
        "outputId": "aa471464-c6d9-406b-9232-c996ee42b5bb",
        "colab": {
          "base_uri": "https://localhost:8080/",
          "height": 35
        }
      },
      "source": [
        "import json\n",
        "import os \n",
        "\n",
        "data = {}\n",
        "data_label = {}\n",
        "data_no_label = {}\n",
        "\n",
        "for f in uploaded.keys():\n",
        "  try:\n",
        "    name, ext = os.path.splitext(f)\n",
        "    if ext == '.pdf' and name not in pdfs:\n",
        "      text=extract_text_from_pdf(f)\n",
        "      if \"Déclaration de franchissement de seuils\" in text:\n",
        "        x =  {\"file\": f, \"text\": text}\n",
        "        data[name] = x\n",
        "        data_no_label[name] = x\n",
        "    elif ext == '.json':\n",
        "      with open(f) as fd:\n",
        "        x = json.load(fd)\n",
        "        data[name] = x\n",
        "        if 'entities' in x and len(x['entities']) != 0:\n",
        "          data_label[name] = x\n",
        "          if name in data_no_label:\n",
        "            del data_no_label[name]\n",
        "        else:\n",
        "          data_no_label[name] = x\n",
        "  except Exception as e:\n",
        "    print(\"Error : \", f)\n",
        "    print(e)\n",
        "data = [v for k, v in sorted(data.items(), key=lambda t: t[0])]\n",
        "data_label = [v for k, v in sorted(data_label.items(), key=lambda t: t[0])]\n",
        "data_no_label = [v for k, v in sorted(data_no_label.items(), key=lambda t: t[0])]\n",
        "print(len(data), \"texts with\", len(data_label), \"labeled and\", len(data_no_label), 'to label')"
      ],
      "execution_count": 3,
      "outputs": [
        {
          "output_type": "stream",
          "text": [
            "117 texts with 117 labeled and 0 to label\n"
          ],
          "name": "stdout"
        }
      ]
    },
    {
      "cell_type": "markdown",
      "metadata": {
        "id": "Bp1hEiec6inO",
        "colab_type": "text"
      },
      "source": [
        "## Labellisation"
      ]
    },
    {
      "cell_type": "code",
      "metadata": {
        "id": "ddtCboWtjHe1",
        "colab_type": "code",
        "colab": {}
      },
      "source": [
        "import IPython\n",
        "from google.colab import output\n",
        "import os\n",
        "\n",
        "class AnnotWidget():\n",
        "  def __init__(self, to_annot, start=0, model=None):\n",
        "    self.to_annot = to_annot\n",
        "    self.cur = start\n",
        "    self.model = model\n",
        "    self.colors_labels = [\n",
        "        (\"rgb(255, 0, 0)\", \"ISSUER\", 'A'),\n",
        "        (\"rgb(255, 0, 255)\", \"FIRM\", 'Z'),\n",
        "        (\"rgb(0, 255, 255)\", \"NUMBER\", 'E'),\n",
        "        (\"rgb(160, 160, 255)\", \"PERCENT\", 'R'),\n",
        "        (\"rgb(192, 192, 192)\", \"TYPE\", 'T'),\n",
        "        (\"rgb(255, 255, 0)\", \"DIRECTION\", 'S'),\n",
        "        (\"rgb(0, 255, 0)\", \"DATE\", 'D'),\n",
        "        (\"rgb(255, 180, 180)\", \"FILIALE\", 'F'),\n",
        "        (\"rgb(230, 171, 0)\", 'INSTRUMENT', 'G')\n",
        "      ]\n",
        "    self.controls = \"\"\n",
        "    for c, l, k in self.colors_labels:\n",
        "      self.controls += '''<button id=\"key_'''+k+'''\" style=\"background-color: '''+\\\n",
        "        c+''';\" onclick='document.execCommand(\"backColor\", false, \"'''+c+'''\")'>'''+l+\" (\"+k+\")</button>\"\n",
        "\n",
        "  def text_entities_to_html(self):\n",
        "    if 'entities' not in self.to_annot[self.cur] or len(self.to_annot[self.cur]['entities']) == 0:\n",
        "      return self.to_annot[self.cur][\"text\"]\n",
        "    res = \"\"\n",
        "    offset = 0\n",
        "    text = self.to_annot[self.cur][\"text\"]\n",
        "    for ent_s, ent_e, label in self.to_annot[self.cur]['entities']:\n",
        "      res += text[offset:ent_s]\n",
        "      res += '''<span style=\"background-color: '''+ self.get_color(label) + '''\">'''\n",
        "      res += text[ent_s:ent_e]\n",
        "      res += \"</span>\"\n",
        "      offset = ent_e\n",
        "    res += text[offset:]\n",
        "    return res\n",
        "\n",
        "  def run(self):\n",
        "    display(IPython.display.HTML('''\n",
        "    <p>'''+str(self.cur) + \"/\" + str(len(self.to_annot)) + '''</p>\n",
        "    <fieldset>\n",
        "    '''+ self.controls +'''\n",
        "      <button id=\"key_Q\" onclick=\"document.execCommand('removeFormat', false, null)\">remove (Q)</button>\n",
        "      <button id=\"key_P\" onclick=\"google.colab.kernel.invokeFunction('notebook.Prediction');\">pred (P)</button>\n",
        "      <button id='prev'>prev</button>\n",
        "      <button id='next'>next</button>\n",
        "    </fieldset>\n",
        "    <div id=\"ed\" contenteditable=\"true\">'''+self.text_entities_to_html()+'''</div>\n",
        "    <script>\n",
        "      function change(dir) {\n",
        "        children = document.querySelector(\"#ed\").childNodes;\n",
        "        res = [];\n",
        "        offset = 0;\n",
        "        for (var i = 0; i < children.length; i++) {\n",
        "          next_offset = offset + children[i].textContent.length;\n",
        "          if (children[i].nodeType != Node.TEXT_NODE) {\n",
        "            rgb = children[i].style.backgroundColor\n",
        "            res.push([offset, next_offset, rgb])\n",
        "          }\n",
        "          offset = next_offset;\n",
        "        }\n",
        "        google.colab.kernel.invokeFunction('notebook.SaveEntities', [res, dir]);\n",
        "        document.querySelector('#ed').innerHTML = next_text;\n",
        "      };\n",
        "      document.querySelector('#prev').onclick = () => {\n",
        "        change(-1);\n",
        "      };\n",
        "      document.querySelector('#next').onclick = () => {\n",
        "        change(1);\n",
        "      };\n",
        "      document.querySelector('#ed').onkeydown = (ev) => {\n",
        "        ev.preventDefault();\n",
        "      };\n",
        "      document.querySelector('#ed').onkeypress = (ev) => {\n",
        "        ev.preventDefault();\n",
        "      };\n",
        "      document.querySelector('#ed').onkeyup = (ev) => {\n",
        "        ev.preventDefault();\n",
        "        button_id = \"#key_\" + String.fromCharCode(ev.keyCode);\n",
        "        button = document.querySelector(button_id)\n",
        "        if (button) {\n",
        "          button.click();\n",
        "        }\n",
        "      };\n",
        "    </script>\n",
        "    '''))\n",
        "    output.register_callback('notebook.SaveEntities', self.save_entities)\n",
        "    output.register_callback('notebook.Console', self.console)\n",
        "    output.register_callback('notebook.Prediction', self.prediction)\n",
        "\n",
        "  def get_color(self, label):\n",
        "    for c, l, _ in self.colors_labels:\n",
        "        if l == label:\n",
        "          return c\n",
        "\n",
        "  def get_label(self, color):\n",
        "    for c, l, _ in self.colors_labels:\n",
        "        if c == color:\n",
        "          return l\n",
        "\n",
        "  def save_entities(self, res, inc=1):\n",
        "    self.to_annot[self.cur]['entities'] = []\n",
        "    for ent_s, ent_e, color in res:\n",
        "      self.to_annot[self.cur]['entities'].append((ent_s, ent_e, self.get_label(color)))\n",
        "    if len(self.to_annot[self.cur]['entities']) != 0:\n",
        "      name, _ = os.path.splitext(self.to_annot[self.cur]['file'])\n",
        "      with open(name+'.json', 'w+') as f:\n",
        "        json.dump(self.to_annot[self.cur], f)\n",
        "    print(\"hello\")\n",
        "    output.clear()\n",
        "    if (self.cur < len(self.to_annot) and inc == 1) or (self.cur > 0 and inc == -1):\n",
        "      self.cur += inc\n",
        "    self.run()\n",
        "\n",
        "  def console(self, s):\n",
        "    print(s)\n",
        "\n",
        "  def prediction(self):\n",
        "    if (self.model is not None) and (('entities' not in self.to_annot[self.cur]) or (len(self.to_annot[self.cur]['entities']) == 0)):\n",
        "      doc = self.model(self.to_annot[self.cur][\"text\"])\n",
        "      self.to_annot[self.cur]['entities'] = []\n",
        "      for ent in doc.ents:\n",
        "        self.to_annot[self.cur]['entities'].append([ent.start_char, ent.end_char, ent.label_])\n",
        "      output.clear()\n",
        "      self.run()\n"
      ],
      "execution_count": 0,
      "outputs": []
    },
    {
      "cell_type": "code",
      "metadata": {
        "id": "Kj65OVbhWrac",
        "colab_type": "code",
        "colab": {}
      },
      "source": [
        "w = AnnotWidget(data, start=0, model=None)"
      ],
      "execution_count": 0,
      "outputs": []
    },
    {
      "cell_type": "code",
      "metadata": {
        "id": "mQLXIHWSnAUG",
        "colab_type": "code",
        "outputId": "8d56fbfb-2e82-417d-f5e6-01f64ad2ccd4",
        "colab": {
          "base_uri": "https://localhost:8080/",
          "height": 186
        }
      },
      "source": [
        "w.run()"
      ],
      "execution_count": 23,
      "outputs": [
        {
          "output_type": "display_data",
          "data": {
            "text/html": [
              "\n",
              "    <p>54/117</p>\n",
              "    <fieldset>\n",
              "    <button id=\"key_A\" style=\"background-color: rgb(255, 0, 0);\" onclick='document.execCommand(\"backColor\", false, \"rgb(255, 0, 0)\")'>ISSUER (A)</button><button id=\"key_Z\" style=\"background-color: rgb(255, 0, 255);\" onclick='document.execCommand(\"backColor\", false, \"rgb(255, 0, 255)\")'>FIRM (Z)</button><button id=\"key_E\" style=\"background-color: rgb(0, 255, 255);\" onclick='document.execCommand(\"backColor\", false, \"rgb(0, 255, 255)\")'>NUMBER (E)</button><button id=\"key_R\" style=\"background-color: rgb(160, 160, 255);\" onclick='document.execCommand(\"backColor\", false, \"rgb(160, 160, 255)\")'>PERCENT (R)</button><button id=\"key_T\" style=\"background-color: rgb(192, 192, 192);\" onclick='document.execCommand(\"backColor\", false, \"rgb(192, 192, 192)\")'>TYPE (T)</button><button id=\"key_S\" style=\"background-color: rgb(255, 255, 0);\" onclick='document.execCommand(\"backColor\", false, \"rgb(255, 255, 0)\")'>DIRECTION (S)</button><button id=\"key_D\" style=\"background-color: rgb(0, 255, 0);\" onclick='document.execCommand(\"backColor\", false, \"rgb(0, 255, 0)\")'>DATE (D)</button><button id=\"key_F\" style=\"background-color: rgb(255, 180, 180);\" onclick='document.execCommand(\"backColor\", false, \"rgb(255, 180, 180)\")'>FILIALE (F)</button><button id=\"key_G\" style=\"background-color: rgb(230, 171, 0);\" onclick='document.execCommand(\"backColor\", false, \"rgb(230, 171, 0)\")'>INSTRUMENT (G)</button>\n",
              "      <button id=\"key_Q\" onclick=\"document.execCommand('removeFormat', false, null)\">remove (Q)</button>\n",
              "      <button id=\"key_P\" onclick=\"google.colab.kernel.invokeFunction('notebook.Prediction');\">pred (P)</button>\n",
              "      <button id='prev'>prev</button>\n",
              "      <button id='next'>next</button>\n",
              "    </fieldset>\n",
              "    <div id=\"ed\" contenteditable=\"true\"> 220C0404-FR0012452746-FS0109             220C0404 FR0012452746-FS0109 <span style=\"background-color: rgb(0, 255, 0)\">30 janvier 2020</span>   Déclaration de franchissement de seuils (article L. 233-7 du code de commerce)    <span style=\"background-color: rgb(255, 0, 0)\">SAFE ORTHOPAEDICS</span>  (Euronext Paris)    Par courrier reçu le <span style=\"background-color: rgb(0, 255, 0)\">29 janvier 2020</span>, la société anonyme <span style=\"background-color: rgb(255, 0, 255)\">Kurma Partners</span>1 (24 rue Royale, 75008 Paris), agissant pour le compte du FCPI Kurma Biofund dont elle assure la gestion, a déclaré avoir franchi <span style=\"background-color: rgb(255, 255, 0)\">en baisse</span>, le <span style=\"background-color: rgb(0, 255, 0)\">29 janvier 2020</span>, les seuils de <span style=\"background-color: rgb(160, 160, 255)\">15%</span> des <span style=\"background-color: rgb(192, 192, 192)\">droits de vote</span> et <span style=\"background-color: rgb(160, 160, 255)\">10%</span> et <span style=\"background-color: rgb(160, 160, 255)\">5%</span> du <span style=\"background-color: rgb(192, 192, 192)\">capital</span> et des <span style=\"background-color: rgb(192, 192, 192)\">droits de vote</span> de la société <span style=\"background-color: rgb(255, 0, 0)\">SAFE ORTHOPAEDICS</span> et détenir, pour le compte dudit fonds, <span style=\"background-color: rgb(0, 255, 255)\">35 434</span> <span style=\"background-color: rgb(192, 192, 192)\">actions</span> <span style=\"background-color: rgb(255, 0, 0)\">SAFE ORTHOPAEDICS</span> représentant <span style=\"background-color: rgb(0, 255, 255)\">70 868</span> <span style=\"background-color: rgb(192, 192, 192)\">droits de vote</span>, soit <span style=\"background-color: rgb(160, 160, 255)\">2,30%</span> du <span style=\"background-color: rgb(192, 192, 192)\">capital</span> et <span style=\"background-color: rgb(160, 160, 255)\">4,47%</span> des <span style=\"background-color: rgb(192, 192, 192)\">droits de vote</span> de cette société2.  Ce franchissement de seuils résulte d’une augmentation de capital de la société <span style=\"background-color: rgb(255, 0, 0)\">SAFE ORTHOPAEDICS</span> suite à la conversion d’océanes.  _______                                                            1 Contrôlée à hauteur de <span style=\"background-color: rgb(160, 160, 255)\">60%</span> par la société <span style=\"background-color: rgb(255, 180, 180)\">Kurma Holding</span> (détenue à <span style=\"background-color: rgb(160, 160, 255)\">100%</span> par le management de la société de gestion). La société <span style=\"background-color: rgb(255, 0, 255)\">Kurma Partners</span> a déclaré agir indépendamment de la personne qui la contrôle, dans les conditions posées aux articles L.233-9 II du code de commerce et 223-12 et 223-12-1 du règlement général. 2 Sur la base d'un capital composé de <span style=\"background-color: rgb(0, 255, 255)\">1 539 116</span> <span style=\"background-color: rgb(192, 192, 192)\">actions</span> représentant <span style=\"background-color: rgb(0, 255, 255)\">1 585 911</span> <span style=\"background-color: rgb(192, 192, 192)\">droits de vote</span>. \f</div>\n",
              "    <script>\n",
              "      function change(dir) {\n",
              "        children = document.querySelector(\"#ed\").childNodes;\n",
              "        res = [];\n",
              "        offset = 0;\n",
              "        for (var i = 0; i < children.length; i++) {\n",
              "          next_offset = offset + children[i].textContent.length;\n",
              "          if (children[i].nodeType != Node.TEXT_NODE) {\n",
              "            rgb = children[i].style.backgroundColor\n",
              "            res.push([offset, next_offset, rgb])\n",
              "          }\n",
              "          offset = next_offset;\n",
              "        }\n",
              "        google.colab.kernel.invokeFunction('notebook.SaveEntities', [res, dir]);\n",
              "        document.querySelector('#ed').innerHTML = next_text;\n",
              "      };\n",
              "      document.querySelector('#prev').onclick = () => {\n",
              "        change(-1);\n",
              "      };\n",
              "      document.querySelector('#next').onclick = () => {\n",
              "        change(1);\n",
              "      };\n",
              "      document.querySelector('#ed').onkeydown = (ev) => {\n",
              "        ev.preventDefault();\n",
              "      };\n",
              "      document.querySelector('#ed').onkeypress = (ev) => {\n",
              "        ev.preventDefault();\n",
              "      };\n",
              "      document.querySelector('#ed').onkeyup = (ev) => {\n",
              "        ev.preventDefault();\n",
              "        button_id = \"#key_\" + String.fromCharCode(ev.keyCode);\n",
              "        button = document.querySelector(button_id)\n",
              "        if (button) {\n",
              "          button.click();\n",
              "        }\n",
              "      };\n",
              "    </script>\n",
              "    "
            ],
            "text/plain": [
              "<IPython.core.display.HTML object>"
            ]
          },
          "metadata": {
            "tags": []
          }
        }
      ]
    },
    {
      "cell_type": "code",
      "metadata": {
        "id": "rPy2Dzh8Mz3N",
        "colab_type": "code",
        "colab": {
          "base_uri": "https://localhost:8080/",
          "height": 55
        },
        "outputId": "4c7181f7-41e6-4680-b085-bedbeafd2b65"
      },
      "source": [
        "print(data[0])"
      ],
      "execution_count": 42,
      "outputs": [
        {
          "output_type": "stream",
          "text": [
            "{'file': '0070C022_220C0700.pdf', 'text': \"220C0700-FR0000034639-FS0185            220C0700 FR0000034639-FS0185 21 février 2020   Déclaration de franchissement de seuils (article L. 233-7 du code de commerce)   ALTRAN TECHNOLOGIES  (Euronext Paris)   Par courrier reçu le 20 février 2020, complété par un courrier reçu le 21 février, la société Bank of America Corporation (Corporation Trust Center, Orange Street, Wilmington, DE 19801, Etats-Unis) a déclaré avoir franchi en hausse, indirectement par l’intermédiaire des sociétés qu’elle contrôle, le 17 février 2020, les seuils de 5% du capital et des droits de vote de la société ALTRAN TECHNOLOGIES et détenir 14 377 895 actions ALTRAN TECHNOLOGIES représentant autant de droits de vote, soit 5,59% du capital et 5,58% des droits de vote de cette société1, répartis comme suit :   Actions % capital Droits de vote % droits de vote Merrill Lynch International 14 101 661 5,49 14 101 661 5,47 BofA Securities Europe SA 276 021 0,11 276 021 0,11 BofA Securities, Inc. 213 ns 213 ns Total Bank of America Corporation 14 377 895 5,59 14 377 895 5,58  Ce franchissement de seuils résulte d’une acquisition d’actions ALTRAN TECHNOLOGIES sur le marché et d’une augmentation du nombre d’actions ALTRAN TECHNOLOGIES détenues à titre d’emprunts et de swaps.  À cette occasion, la société Merrill Lynch International a déclaré avoir franchi individuellement en hausse les mêmes seuils.  Au titre de l’article L. 233-9 I, 4° du code de commerce et de l’article 223-14 IV du règlement général :  - la société Merrill Lynch International a précisé détenir 13 784 025 actions ALTRAN TECHNOLOGIES (prises en compte dans la détention par assimilation visée ci-dessus) résultant de la conclusion d’un contrat avec un tiers (propriétaire desdites actions) conférant le droit à la société Merrill Lynch International d’utiliser lesdites actions à tout moment ; et  - la société BofA Securities Europe SA a précisé détenir 274 482 actions ALTRAN TECHNOLOGIES (prises en compte dans la détention par assimilation visée ci-dessus) résultant de la conclusion d’un contrat avec un tiers (propriétaire desdites actions) conférant le droit à la société BofA Securities Europe SA d’utiliser lesdites actions à tout moment.  En outre, au titre de l’article L. 233-9 I, 4° bis du code de commerce et de l’article 223-14 V du règlement général, la société Merrill Lynch International a précisé détenir 17 749 actions ALTRAN TECHNOLOGIES (prises en compte au premier alinéa)2 au titre de contrats « cash-settled equity swap » à dénouement en espèces, exerçables à tout moment et d’échéances entre le 26 octobre 2020 et le 30 octobre 2020. _______                                                            1 Sur la base d'un capital composé de 257 021 105 actions représentant 257 652 732 droits de vote, en application du 2ème alinéa de l’article 223-11 du règlement général. 2 Sur la base d’un delta de 1. \\x0c\", 'entities': [(69, 84, 'DATE'), (168, 187, 'ISSUER'), (229, 244, 'DATE'), (279, 289, 'DATE'), (302, 329, 'FIRM'), (430, 439, 'DIRECTION'), (509, 524, 'DATE'), (540, 542, 'PERCENT'), (546, 553, 'TYPE'), (561, 575, 'TYPE'), (590, 591, 'ISSUER'), (591, 609, 'ISSUER'), (621, 631, 'NUMBER'), (632, 639, 'TYPE'), (640, 659, 'ISSUER'), (704, 709, 'PERCENT'), (713, 720, 'TYPE'), (724, 729, 'PERCENT'), (734, 748, 'TYPE'), (1121, 1140, 'ISSUER'), (1197, 1216, 'ISSUER'), (1288, 1315, 'FILIALE'), (1357, 1366, 'DIRECTION'), (1506, 1533, 'FILIALE'), (1552, 1562, 'NUMBER'), (1563, 1570, 'TYPE'), (1571, 1590, 'ISSUER'), (1779, 1806, 'FILIALE'), (1868, 1893, 'FILIALE'), (1912, 1919, 'NUMBER'), (1920, 1927, 'TYPE'), (1928, 1947, 'ISSUER'), (2136, 2161, 'FILIALE'), (2335, 2362, 'FILIALE'), (2381, 2387, 'NUMBER'), (2388, 2395, 'TYPE'), (2396, 2415, 'ISSUER'), (2477, 2501, 'INSTRUMENT'), (2578, 2593, 'DATE'), (2600, 2615, 'DATE'), (2722, 2733, 'NUMBER'), (2734, 2741, 'TYPE'), (2755, 2766, 'NUMBER'), (2767, 2781, 'TYPE')]}\n"
          ],
          "name": "stdout"
        }
      ]
    },
    {
      "cell_type": "code",
      "metadata": {
        "id": "WKBDmobv-iHg",
        "colab_type": "code",
        "colab": {
          "base_uri": "https://localhost:8080/",
          "height": 35
        },
        "outputId": "dfacf8f6-b5ed-4866-ac52-3cf3a0f9d171"
      },
      "source": [
        "data = {x['file'] : x for x in data}\n",
        "data_label = {x['file'] : x for x in data_label}\n",
        "data_no_label = {x['file'] : x for x in data_no_label}\n",
        "for x in w.to_annot:\n",
        "  if 'entities' in x and len(x['entities']) != 0:\n",
        "    data[x['file']] = x\n",
        "    data_label[x['file']] = x\n",
        "    if x['file'] in data_no_label:\n",
        "      del data_no_label[x['file']]\n",
        "data = [v for k, v in sorted(data.items(), key=lambda t: t[0])]\n",
        "data_label = [v for k, v in sorted(data_label.items(), key=lambda t: t[0])]\n",
        "data_no_label = [v for k, v in sorted(data_no_label.items(), key=lambda t: t[0])]\n",
        "print(len(data), \"texts with\", len(data_label), \"labeled and\", len(data_no_label), 'to label')"
      ],
      "execution_count": 34,
      "outputs": [
        {
          "output_type": "stream",
          "text": [
            "117 texts with 117 labeled and 0 to label\n"
          ],
          "name": "stdout"
        }
      ]
    },
    {
      "cell_type": "markdown",
      "metadata": {
        "id": "rKyD0r0i6ylv",
        "colab_type": "text"
      },
      "source": [
        "## Download Json"
      ]
    },
    {
      "cell_type": "code",
      "metadata": {
        "id": "CnehMhWlHT0Q",
        "colab_type": "code",
        "outputId": "63fc7280-98e0-4a4b-f639-a6689e1cabb4",
        "colab": {
          "base_uri": "https://localhost:8080/",
          "height": 1000
        }
      },
      "source": [
        "!zip dataset.zip *.json"
      ],
      "execution_count": 24,
      "outputs": [
        {
          "output_type": "stream",
          "text": [
            "  adding: 0070C022_220C0700.json (deflated 66%)\n",
            "  adding: 0340C022_220C0430.json (deflated 59%)\n",
            "  adding: 0510C022_220C0150.json (deflated 51%)\n",
            "  adding: 0540C022_220C0450.json (deflated 62%)\n",
            "  adding: 0620C022_220C0260.json (deflated 50%)\n",
            "  adding: 0810C022_220C0180.json (deflated 69%)\n",
            "  adding: 0820C022_220C0280.json (deflated 60%)\n",
            "  adding: 0900C022_220C0090.json (deflated 74%)\n",
            "  adding: 0940C022_220C0490.json (deflated 56%)\n",
            "  adding: 0960C022_220C0690.json (deflated 69%)\n",
            "  adding: 0980C022_220C0890.json (deflated 54%)\n",
            "  adding: 1040C022_220C0401.json (deflated 61%)\n",
            "  adding: 1080C022_220C0801.json (deflated 51%)\n",
            "  adding: 1090C022_220C0901.json (deflated 66%)\n",
            "  adding: 1200C022_220C0021.json (deflated 58%)\n",
            "  adding: 1270C022_220C0721.json (deflated 64%)\n",
            "  adding: 1360C022_220C0631.json (deflated 65%)\n",
            "  adding: 1380C022_220C0831.json (deflated 55%)\n",
            "  adding: 1430C022_220C0341.json (deflated 67%)\n",
            "  adding: 1500C022_220C0051.json (deflated 59%)\n",
            "  adding: 1550C022_220C0551.json (deflated 66%)\n",
            "  adding: 1640C022_220C0461.json (deflated 60%)\n",
            "  adding: 1960C022_220C0691.json (deflated 57%)\n",
            "  adding: 1980C022_220C0891.json (deflated 58%)\n",
            "  adding: 2030C022_220C0302.json (deflated 60%)\n",
            "  adding: 2080C022_220C0802.json (deflated 50%)\n",
            "  adding: 2090C022_220C0902.json (deflated 58%)\n",
            "  adding: 2260C022_220C0622.json (deflated 58%)\n",
            "  adding: 2410C022_220C0142.json (deflated 59%)\n",
            "  adding: 2550C022_220C0552.json (deflated 59%)\n",
            "  adding: 2620C022_220C0262.json (deflated 55%)\n",
            "  adding: 2640C022_220C0462.json (deflated 56%)\n",
            "  adding: 2920C022_220C0292.json (deflated 57%)\n",
            "  adding: 3040C022_220C0403.json (deflated 70%)\n",
            "  adding: 3060C022_220C0603.json (deflated 60%)\n",
            "  adding: 3080C022_220C0803.json (deflated 58%)\n",
            "  adding: 3090C022_220C0903.json (deflated 60%)\n",
            "  adding: 3100C022_220C0013.json (deflated 50%)\n",
            "  adding: 3170C022_220C0713.json (deflated 65%)\n",
            "  adding: 3190C022_220C0913.json (deflated 61%)\n",
            "  adding: 3200C022_220C0023.json (deflated 60%)\n",
            "  adding: 3270C022_220C0723.json (deflated 57%)\n",
            "  adding: 3310C022_220C0133.json (deflated 62%)\n",
            "  adding: 3350C022_220C0533.json (deflated 53%)\n",
            "  adding: 3460C022_220C0643.json (deflated 55%)\n",
            "  adding: 3540C022_220C0453.json (deflated 56%)\n",
            "  adding: 3570C022_220C0753.json (deflated 55%)\n",
            "  adding: 3610C022_220C0163.json (deflated 60%)\n",
            "  adding: 3620C022_220C0263.json (deflated 61%)\n",
            "  adding: 3710C022_220C0173.json (deflated 54%)\n",
            "  adding: 3770C022_220C0773.json (deflated 60%)\n",
            "  adding: 3810C022_220C0183.json (deflated 60%)\n",
            "  adding: 3830C022_220C0383.json (deflated 59%)\n",
            "  adding: 3950C022_220C0593.json (deflated 55%)\n",
            "  adding: 4040C022_220C0404.json (deflated 58%)\n",
            "  adding: 4060C022_220C0604.json (deflated 66%)\n",
            "  adding: 4170C022_220C0714.json (deflated 55%)\n",
            "  adding: 4280C022_220C0824.json (deflated 58%)\n",
            "  adding: 4480C022_220C0844.json (deflated 64%)\n",
            "  adding: 4530C022_220C0354.json (deflated 65%)\n",
            "  adding: 4540C022_220C0454.json (deflated 64%)\n",
            "  adding: 4620C022_220C0264.json (deflated 62%)\n",
            "  adding: 4630C022_220C0364.json (deflated 60%)\n",
            "  adding: 4870C022_220C0784.json (deflated 56%)\n",
            "  adding: 4960C022_220C0694.json (deflated 57%)\n",
            "  adding: 5100C022_220C0015.json (deflated 62%)\n",
            "  adding: 5140C022_220C0415.json (deflated 54%)\n",
            "  adding: 5300C022_220C0035.json (deflated 51%)\n",
            "  adding: 5330C022_220C0335.json (deflated 60%)\n",
            "  adding: 5380C022_220C0835.json (deflated 54%)\n",
            "  adding: 5440C022_220C0445.json (deflated 60%)\n",
            "  adding: 5480C022_220C0845.json (deflated 58%)\n",
            "  adding: 5600C022_220C0065.json (deflated 58%)\n",
            "  adding: 5650C022_220C0565.json (deflated 57%)\n",
            "  adding: 5930C022_220C0395.json (deflated 55%)\n",
            "  adding: 5960C022_220C0695.json (deflated 65%)\n",
            "  adding: 6060C022_220C0606.json (deflated 64%)\n",
            "  adding: 6240C022_220C0426.json (deflated 55%)\n",
            "  adding: 6340C022_220C0436.json (deflated 64%)\n",
            "  adding: 6350C022_220C0536.json (deflated 61%)\n",
            "  adding: 6360C022_220C0636.json (deflated 63%)\n",
            "  adding: 6620C022_220C0266.json (deflated 69%)\n",
            "  adding: 6650C022_220C0566.json (deflated 56%)\n",
            "  adding: 6720C022_220C0276.json (deflated 62%)\n",
            "  adding: 7120C022_220C0217.json (deflated 69%)\n",
            "  adding: 7230C022_220C0327.json (deflated 60%)\n",
            "  adding: 7320C022_220C0237.json (deflated 63%)\n",
            "  adding: 7350C022_220C0537.json (deflated 60%)\n",
            "  adding: 7480C022_220C0847.json (deflated 63%)\n",
            "  adding: 7570C022_220C0757.json (deflated 62%)\n",
            "  adding: 7620C022_220C0267.json (deflated 60%)\n",
            "  adding: 7780C022_220C0877.json (deflated 60%)\n",
            "  adding: 7800C022_220C0087.json (deflated 58%)\n",
            "  adding: 7820C022_220C0287.json (deflated 57%)\n",
            "  adding: 7910C022_220C0197.json (deflated 63%)\n",
            "  adding: 8030C022_220C0308.json (deflated 53%)\n",
            "  adding: 8120C022_220C0218.json (deflated 71%)\n",
            "  adding: 8140C022_220C0418.json (deflated 53%)\n",
            "  adding: 8330C022_220C0338.json (deflated 64%)\n",
            "  adding: 8340C022_220C0438.json (deflated 60%)\n",
            "  adding: 8350C022_220C0538.json (deflated 69%)\n",
            "  adding: 8400C022_220C0048.json (deflated 64%)\n",
            "  adding: 8430C022_220C0348.json (deflated 59%)\n",
            "  adding: 8470C022_220C0748.json (deflated 58%)\n",
            "  adding: 8570C022_220C0758.json (deflated 67%)\n",
            "  adding: 8780C022_220C0878.json (deflated 57%)\n",
            "  adding: 8840C022_220C0488.json (deflated 61%)\n",
            "  adding: 8850C022_220C0588.json (deflated 60%)\n",
            "  adding: 8980C022_220C0898.json (deflated 69%)\n",
            "  adding: 9140C022_220C0419.json (deflated 66%)\n",
            "  adding: 9150C022_220C0519.json (deflated 58%)\n",
            "  adding: 9320C022_220C0239.json (deflated 60%)\n",
            "  adding: 9330C022_220C0339.json (deflated 59%)\n",
            "  adding: 9530C022_220C0359.json (deflated 64%)\n",
            "  adding: 9610C022_220C0169.json (deflated 59%)\n",
            "  adding: 9670C022_220C0769.json (deflated 56%)\n",
            "  adding: 9900C022_220C0099.json (deflated 65%)\n"
          ],
          "name": "stdout"
        }
      ]
    },
    {
      "cell_type": "code",
      "metadata": {
        "id": "Zd8U4Hu3JyAj",
        "colab_type": "code",
        "colab": {}
      },
      "source": [
        "from google.colab import files\n",
        "files.download('dataset.zip') "
      ],
      "execution_count": 0,
      "outputs": []
    },
    {
      "cell_type": "markdown",
      "metadata": {
        "id": "2yqUSLTV7Cat",
        "colab_type": "text"
      },
      "source": [
        "## Train NER"
      ]
    },
    {
      "cell_type": "code",
      "metadata": {
        "id": "vxZGXdRdj1eu",
        "colab_type": "code",
        "colab": {}
      },
      "source": [
        "split = 0.33\n",
        "train_data = []\n",
        "for x in data_label[60:]:\n",
        "  entities = [tuple(ent) for ent in  x[\"entities\"]]\n",
        "  train_data.append((x['text'], {'entities' : entities}))\n",
        "labels = ['ISSUER', 'FIRM', 'NUMBER', 'PERCENT', 'TYPE', 'DIRECTION', 'DATE', 'FILIALE', 'INSTRUMENT']\n",
        "split = int(split * len(train_data))\n",
        "test_data = train_data[:split]\n",
        "train_data = train_data[split:]"
      ],
      "execution_count": 0,
      "outputs": []
    },
    {
      "cell_type": "code",
      "metadata": {
        "id": "huoXcIdQmGgR",
        "colab_type": "code",
        "outputId": "d67d5593-d3ff-48be-931e-94e307ce4fcd",
        "colab": {
          "base_uri": "https://localhost:8080/",
          "height": 728
        }
      },
      "source": [
        "import random\n",
        "import spacy\n",
        "from spacy.util import minibatch, compounding\n",
        "import fr_core_news_md\n",
        "\n",
        "n_iter=40\n",
        "nlp = fr_core_news_md.load()\n",
        "ner = nlp.get_pipe(\"ner\")\n",
        "for label in labels:\n",
        "  ner.add_label(label)\n",
        "optimizer = nlp.resume_training()\n",
        "pipe_exceptions = [\"ner\"]\n",
        "other_pipes = [pipe for pipe in nlp.pipe_names if pipe not in pipe_exceptions]\n",
        "with nlp.disable_pipes(*other_pipes):  # only train NER\n",
        "  sizes = compounding(1.0, 4.0, 1.001)\n",
        "  # batch up the examples using spaCy's minibatch\n",
        "  for itn in range(n_iter):\n",
        "    random.shuffle(train_data)\n",
        "    batches = minibatch(train_data, size=sizes)\n",
        "    losses = {}\n",
        "    for batch in batches:\n",
        "      texts, annotations = zip(*batch)\n",
        "      nlp.update(texts, annotations, sgd=optimizer, drop=0.35, losses=losses)\n",
        "    print(\"Losses\", losses)\n",
        "  score = nlp.evaluate(test_data)"
      ],
      "execution_count": 53,
      "outputs": [
        {
          "output_type": "stream",
          "text": [
            "Losses {'ner': 12210.88046302232}\n",
            "Losses {'ner': 10573.537438096013}\n",
            "Losses {'ner': 10325.180532160157}\n",
            "Losses {'ner': 10060.628476228565}\n",
            "Losses {'ner': 10116.657871125266}\n",
            "Losses {'ner': 9991.68563818396}\n",
            "Losses {'ner': 9959.95862824656}\n",
            "Losses {'ner': 9899.910916503286}\n",
            "Losses {'ner': 9743.59601828456}\n",
            "Losses {'ner': 9638.742194737773}\n",
            "Losses {'ner': 9751.428695180657}\n",
            "Losses {'ner': 9543.645669241901}\n",
            "Losses {'ner': 9529.453459980665}\n",
            "Losses {'ner': 9604.611788332462}\n",
            "Losses {'ner': 9606.115038912743}\n",
            "Losses {'ner': 9532.554368076664}\n",
            "Losses {'ner': 9430.232868592022}\n",
            "Losses {'ner': 9408.961200505495}\n",
            "Losses {'ner': 9478.482758879662}\n",
            "Losses {'ner': 9458.230852723122}\n",
            "Losses {'ner': 9486.760836362839}\n",
            "Losses {'ner': 9275.353082407266}\n",
            "Losses {'ner': 9268.861812472343}\n",
            "Losses {'ner': 9319.258214831352}\n",
            "Losses {'ner': 9414.756793320179}\n",
            "Losses {'ner': 9398.01302075386}\n",
            "Losses {'ner': 9262.86860525608}\n",
            "Losses {'ner': 9522.527609050274}\n",
            "Losses {'ner': 9486.514445185661}\n",
            "Losses {'ner': 9288.147875368595}\n",
            "Losses {'ner': 9603.004124417901}\n",
            "Losses {'ner': 9202.616825163364}\n",
            "Losses {'ner': 9307.039935648441}\n",
            "Losses {'ner': 9418.150226175785}\n",
            "Losses {'ner': 9450.533889174461}\n",
            "Losses {'ner': 9624.855980932713}\n",
            "Losses {'ner': 9341.59057533741}\n",
            "Losses {'ner': 9497.36938381195}\n",
            "Losses {'ner': 9306.1893389225}\n",
            "Losses {'ner': 9454.524767398834}\n"
          ],
          "name": "stdout"
        }
      ]
    },
    {
      "cell_type": "code",
      "metadata": {
        "id": "VFcObvF2aK7q",
        "colab_type": "code",
        "outputId": "c089e661-d0ac-47f4-873c-a81f3d263e0f",
        "colab": {
          "base_uri": "https://localhost:8080/",
          "height": 55
        }
      },
      "source": [
        "print(score.scores)"
      ],
      "execution_count": 54,
      "outputs": [
        {
          "output_type": "stream",
          "text": [
            "{'uas': 0.0, 'las': 0.0, 'las_per_type': {'': {'p': 0.0, 'r': 0.0, 'f': 0.0}}, 'ents_p': 95.45454545454545, 'ents_r': 96.55172413793103, 'ents_f': 96.0, 'ents_per_type': {'FIRM': {'p': 75.0, 'r': 50.0, 'f': 60.0}, 'ISSUER': {'p': 94.73684210526315, 'r': 100.0, 'f': 97.2972972972973}, 'PERCENT': {'p': 100.0, 'r': 100.0, 'f': 100.0}, 'DATE': {'p': 100.0, 'r': 100.0, 'f': 100.0}, 'TYPE': {'p': 100.0, 'r': 100.0, 'f': 100.0}, 'DIRECTION': {'p': 100.0, 'r': 100.0, 'f': 100.0}, 'NUMBER': {'p': 83.33333333333334, 'r': 100.0, 'f': 90.9090909090909}}, 'tags_acc': 0.0, 'token_acc': 100.0, 'textcat_score': 0.0, 'textcats_per_cat': {}}\n"
          ],
          "name": "stdout"
        }
      ]
    },
    {
      "cell_type": "code",
      "metadata": {
        "id": "EjbCTab3wApL",
        "colab_type": "code",
        "outputId": "281071b8-8e38-4946-f3c8-9569d8e5a471",
        "colab": {
          "base_uri": "https://localhost:8080/",
          "height": 522
        }
      },
      "source": [
        "from spacy import displacy\n",
        "doc = nlp(data[0]['text'])\n",
        "displacy.render(doc, style='ent', jupyter=True)"
      ],
      "execution_count": 55,
      "outputs": [
        {
          "output_type": "display_data",
          "data": {
            "text/html": [
              "<span class=\"tex2jax_ignore\"><div class=\"entities\" style=\"line-height: 2.5; direction: ltr\">220C0700-FR0000034639-FS0185            220C0700 FR0000034639-FS0185 \n",
              "<mark class=\"entity\" style=\"background: #bfe1d9; padding: 0.45em 0.6em; margin: 0 0.25em; line-height: 1; border-radius: 0.35em;\">\n",
              "    21 février 2020\n",
              "    <span style=\"font-size: 0.8em; font-weight: bold; line-height: 1; border-radius: 0.35em; text-transform: uppercase; vertical-align: middle; margin-left: 0.5rem\">DATE</span>\n",
              "</mark>\n",
              "   Déclaration de franchissement de seuils (article L. 233-7 du code de commerce)   \n",
              "<mark class=\"entity\" style=\"background: #ddd; padding: 0.45em 0.6em; margin: 0 0.25em; line-height: 1; border-radius: 0.35em;\">\n",
              "    ALTRAN TECHNOLOGIES\n",
              "    <span style=\"font-size: 0.8em; font-weight: bold; line-height: 1; border-radius: 0.35em; text-transform: uppercase; vertical-align: middle; margin-left: 0.5rem\">ISSUER</span>\n",
              "</mark>\n",
              "  (Euronext Paris)   Par courrier reçu le \n",
              "<mark class=\"entity\" style=\"background: #bfe1d9; padding: 0.45em 0.6em; margin: 0 0.25em; line-height: 1; border-radius: 0.35em;\">\n",
              "    20 février 2020\n",
              "    <span style=\"font-size: 0.8em; font-weight: bold; line-height: 1; border-radius: 0.35em; text-transform: uppercase; vertical-align: middle; margin-left: 0.5rem\">DATE</span>\n",
              "</mark>\n",
              ", complété par un courrier reçu le \n",
              "<mark class=\"entity\" style=\"background: #bfe1d9; padding: 0.45em 0.6em; margin: 0 0.25em; line-height: 1; border-radius: 0.35em;\">\n",
              "    21 février,\n",
              "    <span style=\"font-size: 0.8em; font-weight: bold; line-height: 1; border-radius: 0.35em; text-transform: uppercase; vertical-align: middle; margin-left: 0.5rem\">DATE</span>\n",
              "</mark>\n",
              " la société \n",
              "<mark class=\"entity\" style=\"background: #ddd; padding: 0.45em 0.6em; margin: 0 0.25em; line-height: 1; border-radius: 0.35em;\">\n",
              "    Bank of America Corporation\n",
              "    <span style=\"font-size: 0.8em; font-weight: bold; line-height: 1; border-radius: 0.35em; text-transform: uppercase; vertical-align: middle; margin-left: 0.5rem\">FIRM</span>\n",
              "</mark>\n",
              " (Corporation Trust Center, Orange Street, Wilmington, DE 19801, Etats-Unis) a déclaré avoir franchi \n",
              "<mark class=\"entity\" style=\"background: #ddd; padding: 0.45em 0.6em; margin: 0 0.25em; line-height: 1; border-radius: 0.35em;\">\n",
              "    en hausse\n",
              "    <span style=\"font-size: 0.8em; font-weight: bold; line-height: 1; border-radius: 0.35em; text-transform: uppercase; vertical-align: middle; margin-left: 0.5rem\">DIRECTION</span>\n",
              "</mark>\n",
              ", indirectement par l’intermédiaire des sociétés qu’elle contrôle, le \n",
              "<mark class=\"entity\" style=\"background: #bfe1d9; padding: 0.45em 0.6em; margin: 0 0.25em; line-height: 1; border-radius: 0.35em;\">\n",
              "    17 février 2020\n",
              "    <span style=\"font-size: 0.8em; font-weight: bold; line-height: 1; border-radius: 0.35em; text-transform: uppercase; vertical-align: middle; margin-left: 0.5rem\">DATE</span>\n",
              "</mark>\n",
              ", les seuils de \n",
              "<mark class=\"entity\" style=\"background: #e4e7d2; padding: 0.45em 0.6em; margin: 0 0.25em; line-height: 1; border-radius: 0.35em;\">\n",
              "    5%\n",
              "    <span style=\"font-size: 0.8em; font-weight: bold; line-height: 1; border-radius: 0.35em; text-transform: uppercase; vertical-align: middle; margin-left: 0.5rem\">PERCENT</span>\n",
              "</mark>\n",
              " du \n",
              "<mark class=\"entity\" style=\"background: #ddd; padding: 0.45em 0.6em; margin: 0 0.25em; line-height: 1; border-radius: 0.35em;\">\n",
              "    capital\n",
              "    <span style=\"font-size: 0.8em; font-weight: bold; line-height: 1; border-radius: 0.35em; text-transform: uppercase; vertical-align: middle; margin-left: 0.5rem\">TYPE</span>\n",
              "</mark>\n",
              " et des \n",
              "<mark class=\"entity\" style=\"background: #ddd; padding: 0.45em 0.6em; margin: 0 0.25em; line-height: 1; border-radius: 0.35em;\">\n",
              "    droits de vote\n",
              "    <span style=\"font-size: 0.8em; font-weight: bold; line-height: 1; border-radius: 0.35em; text-transform: uppercase; vertical-align: middle; margin-left: 0.5rem\">TYPE</span>\n",
              "</mark>\n",
              " de la société \n",
              "<mark class=\"entity\" style=\"background: #ddd; padding: 0.45em 0.6em; margin: 0 0.25em; line-height: 1; border-radius: 0.35em;\">\n",
              "    ALTRAN TECHNOLOGIES\n",
              "    <span style=\"font-size: 0.8em; font-weight: bold; line-height: 1; border-radius: 0.35em; text-transform: uppercase; vertical-align: middle; margin-left: 0.5rem\">ISSUER</span>\n",
              "</mark>\n",
              " et détenir \n",
              "<mark class=\"entity\" style=\"background: #ddd; padding: 0.45em 0.6em; margin: 0 0.25em; line-height: 1; border-radius: 0.35em;\">\n",
              "    14 377 895\n",
              "    <span style=\"font-size: 0.8em; font-weight: bold; line-height: 1; border-radius: 0.35em; text-transform: uppercase; vertical-align: middle; margin-left: 0.5rem\">NUMBER</span>\n",
              "</mark>\n",
              " \n",
              "<mark class=\"entity\" style=\"background: #ddd; padding: 0.45em 0.6em; margin: 0 0.25em; line-height: 1; border-radius: 0.35em;\">\n",
              "    actions\n",
              "    <span style=\"font-size: 0.8em; font-weight: bold; line-height: 1; border-radius: 0.35em; text-transform: uppercase; vertical-align: middle; margin-left: 0.5rem\">TYPE</span>\n",
              "</mark>\n",
              " \n",
              "<mark class=\"entity\" style=\"background: #ddd; padding: 0.45em 0.6em; margin: 0 0.25em; line-height: 1; border-radius: 0.35em;\">\n",
              "    ALTRAN TECHNOLOGIES\n",
              "    <span style=\"font-size: 0.8em; font-weight: bold; line-height: 1; border-radius: 0.35em; text-transform: uppercase; vertical-align: middle; margin-left: 0.5rem\">ISSUER</span>\n",
              "</mark>\n",
              " représentant autant de droits de vote, soit \n",
              "<mark class=\"entity\" style=\"background: #e4e7d2; padding: 0.45em 0.6em; margin: 0 0.25em; line-height: 1; border-radius: 0.35em;\">\n",
              "    5,59%\n",
              "    <span style=\"font-size: 0.8em; font-weight: bold; line-height: 1; border-radius: 0.35em; text-transform: uppercase; vertical-align: middle; margin-left: 0.5rem\">PERCENT</span>\n",
              "</mark>\n",
              " du \n",
              "<mark class=\"entity\" style=\"background: #ddd; padding: 0.45em 0.6em; margin: 0 0.25em; line-height: 1; border-radius: 0.35em;\">\n",
              "    capital\n",
              "    <span style=\"font-size: 0.8em; font-weight: bold; line-height: 1; border-radius: 0.35em; text-transform: uppercase; vertical-align: middle; margin-left: 0.5rem\">TYPE</span>\n",
              "</mark>\n",
              " et \n",
              "<mark class=\"entity\" style=\"background: #e4e7d2; padding: 0.45em 0.6em; margin: 0 0.25em; line-height: 1; border-radius: 0.35em;\">\n",
              "    5,58%\n",
              "    <span style=\"font-size: 0.8em; font-weight: bold; line-height: 1; border-radius: 0.35em; text-transform: uppercase; vertical-align: middle; margin-left: 0.5rem\">PERCENT</span>\n",
              "</mark>\n",
              " des \n",
              "<mark class=\"entity\" style=\"background: #ddd; padding: 0.45em 0.6em; margin: 0 0.25em; line-height: 1; border-radius: 0.35em;\">\n",
              "    droits de vote\n",
              "    <span style=\"font-size: 0.8em; font-weight: bold; line-height: 1; border-radius: 0.35em; text-transform: uppercase; vertical-align: middle; margin-left: 0.5rem\">TYPE</span>\n",
              "</mark>\n",
              " de cette société1, répartis comme suit :   Actions % capital Droits de vote % droits de vote \n",
              "<mark class=\"entity\" style=\"background: #ddd; padding: 0.45em 0.6em; margin: 0 0.25em; line-height: 1; border-radius: 0.35em;\">\n",
              "    Merrill Lynch\n",
              "    <span style=\"font-size: 0.8em; font-weight: bold; line-height: 1; border-radius: 0.35em; text-transform: uppercase; vertical-align: middle; margin-left: 0.5rem\">ISSUER</span>\n",
              "</mark>\n",
              " International 14 101 661 5,49 14 101 661 5,47 BofA Securities Europe SA 276 021 0,11 276 021 0,11 BofA Securities, Inc. 213 ns 213 ns Total Bank of America Corporation 14 377 895 5,59 14 377 895 5,58  Ce franchissement de seuils résulte d’une acquisition d’actions ALTRAN TECHNOLOGIES sur le marché et d’une augmentation du nombre d’actions \n",
              "<mark class=\"entity\" style=\"background: #ddd; padding: 0.45em 0.6em; margin: 0 0.25em; line-height: 1; border-radius: 0.35em;\">\n",
              "    ALTRAN TECHNOLOGIES\n",
              "    <span style=\"font-size: 0.8em; font-weight: bold; line-height: 1; border-radius: 0.35em; text-transform: uppercase; vertical-align: middle; margin-left: 0.5rem\">ISSUER</span>\n",
              "</mark>\n",
              " détenues à titre d’emprunts et de swaps.  À cette occasion, la société \n",
              "<mark class=\"entity\" style=\"background: #ddd; padding: 0.45em 0.6em; margin: 0 0.25em; line-height: 1; border-radius: 0.35em;\">\n",
              "    Merrill Lynch International a\n",
              "    <span style=\"font-size: 0.8em; font-weight: bold; line-height: 1; border-radius: 0.35em; text-transform: uppercase; vertical-align: middle; margin-left: 0.5rem\">FIRM</span>\n",
              "</mark>\n",
              " déclaré avoir franchi individuellement \n",
              "<mark class=\"entity\" style=\"background: #ddd; padding: 0.45em 0.6em; margin: 0 0.25em; line-height: 1; border-radius: 0.35em;\">\n",
              "    en hausse\n",
              "    <span style=\"font-size: 0.8em; font-weight: bold; line-height: 1; border-radius: 0.35em; text-transform: uppercase; vertical-align: middle; margin-left: 0.5rem\">DIRECTION</span>\n",
              "</mark>\n",
              " les mêmes seuils.  Au titre de l’article L. 233-9 I, 4° du code de commerce et de l’article 223-14 IV du règlement général :  - la société \n",
              "<mark class=\"entity\" style=\"background: #ddd; padding: 0.45em 0.6em; margin: 0 0.25em; line-height: 1; border-radius: 0.35em;\">\n",
              "    Merrill Lynch International\n",
              "    <span style=\"font-size: 0.8em; font-weight: bold; line-height: 1; border-radius: 0.35em; text-transform: uppercase; vertical-align: middle; margin-left: 0.5rem\">ISSUER</span>\n",
              "</mark>\n",
              " a précisé détenir \n",
              "<mark class=\"entity\" style=\"background: #ddd; padding: 0.45em 0.6em; margin: 0 0.25em; line-height: 1; border-radius: 0.35em;\">\n",
              "    13 784 025\n",
              "    <span style=\"font-size: 0.8em; font-weight: bold; line-height: 1; border-radius: 0.35em; text-transform: uppercase; vertical-align: middle; margin-left: 0.5rem\">NUMBER</span>\n",
              "</mark>\n",
              " \n",
              "<mark class=\"entity\" style=\"background: #ddd; padding: 0.45em 0.6em; margin: 0 0.25em; line-height: 1; border-radius: 0.35em;\">\n",
              "    actions\n",
              "    <span style=\"font-size: 0.8em; font-weight: bold; line-height: 1; border-radius: 0.35em; text-transform: uppercase; vertical-align: middle; margin-left: 0.5rem\">TYPE</span>\n",
              "</mark>\n",
              " \n",
              "<mark class=\"entity\" style=\"background: #ddd; padding: 0.45em 0.6em; margin: 0 0.25em; line-height: 1; border-radius: 0.35em;\">\n",
              "    ALTRAN TECHNOLOGIES\n",
              "    <span style=\"font-size: 0.8em; font-weight: bold; line-height: 1; border-radius: 0.35em; text-transform: uppercase; vertical-align: middle; margin-left: 0.5rem\">ISSUER</span>\n",
              "</mark>\n",
              " (prises en compte dans la détention par assimilation visée ci-dessus) résultant de la conclusion d’un contrat avec un tiers (propriétaire desdites actions) conférant le droit à la société \n",
              "<mark class=\"entity\" style=\"background: #ddd; padding: 0.45em 0.6em; margin: 0 0.25em; line-height: 1; border-radius: 0.35em;\">\n",
              "    Merrill Lynch International d’\n",
              "    <span style=\"font-size: 0.8em; font-weight: bold; line-height: 1; border-radius: 0.35em; text-transform: uppercase; vertical-align: middle; margin-left: 0.5rem\">FIRM</span>\n",
              "</mark>\n",
              "utiliser lesdites actions à tout moment ; et  - la société \n",
              "<mark class=\"entity\" style=\"background: #ddd; padding: 0.45em 0.6em; margin: 0 0.25em; line-height: 1; border-radius: 0.35em;\">\n",
              "    BofA Securities Europe SA\n",
              "    <span style=\"font-size: 0.8em; font-weight: bold; line-height: 1; border-radius: 0.35em; text-transform: uppercase; vertical-align: middle; margin-left: 0.5rem\">FIRM</span>\n",
              "</mark>\n",
              " a précisé détenir \n",
              "<mark class=\"entity\" style=\"background: #ddd; padding: 0.45em 0.6em; margin: 0 0.25em; line-height: 1; border-radius: 0.35em;\">\n",
              "    274 482\n",
              "    <span style=\"font-size: 0.8em; font-weight: bold; line-height: 1; border-radius: 0.35em; text-transform: uppercase; vertical-align: middle; margin-left: 0.5rem\">NUMBER</span>\n",
              "</mark>\n",
              " \n",
              "<mark class=\"entity\" style=\"background: #ddd; padding: 0.45em 0.6em; margin: 0 0.25em; line-height: 1; border-radius: 0.35em;\">\n",
              "    actions\n",
              "    <span style=\"font-size: 0.8em; font-weight: bold; line-height: 1; border-radius: 0.35em; text-transform: uppercase; vertical-align: middle; margin-left: 0.5rem\">TYPE</span>\n",
              "</mark>\n",
              " ALTRAN TECHNOLOGIES (prises en compte dans la détention par assimilation visée ci-dessus) résultant de la conclusion d’un contrat avec un tiers (propriétaire desdites actions) conférant le droit à la société \n",
              "<mark class=\"entity\" style=\"background: #ddd; padding: 0.45em 0.6em; margin: 0 0.25em; line-height: 1; border-radius: 0.35em;\">\n",
              "    BofA Securities Europe SA\n",
              "    <span style=\"font-size: 0.8em; font-weight: bold; line-height: 1; border-radius: 0.35em; text-transform: uppercase; vertical-align: middle; margin-left: 0.5rem\">FIRM</span>\n",
              "</mark>\n",
              " d’utiliser lesdites actions à tout moment.  En outre, au titre de l’article L. 233-9 I, 4° bis du code de commerce et de l’article 223-14 V du règlement général, la société \n",
              "<mark class=\"entity\" style=\"background: #ddd; padding: 0.45em 0.6em; margin: 0 0.25em; line-height: 1; border-radius: 0.35em;\">\n",
              "    Merrill Lynch International a\n",
              "    <span style=\"font-size: 0.8em; font-weight: bold; line-height: 1; border-radius: 0.35em; text-transform: uppercase; vertical-align: middle; margin-left: 0.5rem\">FIRM</span>\n",
              "</mark>\n",
              " précisé détenir \n",
              "<mark class=\"entity\" style=\"background: #ddd; padding: 0.45em 0.6em; margin: 0 0.25em; line-height: 1; border-radius: 0.35em;\">\n",
              "    17 749\n",
              "    <span style=\"font-size: 0.8em; font-weight: bold; line-height: 1; border-radius: 0.35em; text-transform: uppercase; vertical-align: middle; margin-left: 0.5rem\">NUMBER</span>\n",
              "</mark>\n",
              " \n",
              "<mark class=\"entity\" style=\"background: #ddd; padding: 0.45em 0.6em; margin: 0 0.25em; line-height: 1; border-radius: 0.35em;\">\n",
              "    actions\n",
              "    <span style=\"font-size: 0.8em; font-weight: bold; line-height: 1; border-radius: 0.35em; text-transform: uppercase; vertical-align: middle; margin-left: 0.5rem\">TYPE</span>\n",
              "</mark>\n",
              " \n",
              "<mark class=\"entity\" style=\"background: #ddd; padding: 0.45em 0.6em; margin: 0 0.25em; line-height: 1; border-radius: 0.35em;\">\n",
              "    ALTRAN TECHNOLOGIES\n",
              "    <span style=\"font-size: 0.8em; font-weight: bold; line-height: 1; border-radius: 0.35em; text-transform: uppercase; vertical-align: middle; margin-left: 0.5rem\">ISSUER</span>\n",
              "</mark>\n",
              " (prises en compte au premier alinéa)2 au titre de contrats « cash-settled equity swap » à dénouement en espèces, exerçables à tout moment et d’échéances entre le \n",
              "<mark class=\"entity\" style=\"background: #bfe1d9; padding: 0.45em 0.6em; margin: 0 0.25em; line-height: 1; border-radius: 0.35em;\">\n",
              "    26 octobre 2020\n",
              "    <span style=\"font-size: 0.8em; font-weight: bold; line-height: 1; border-radius: 0.35em; text-transform: uppercase; vertical-align: middle; margin-left: 0.5rem\">DATE</span>\n",
              "</mark>\n",
              " et le \n",
              "<mark class=\"entity\" style=\"background: #bfe1d9; padding: 0.45em 0.6em; margin: 0 0.25em; line-height: 1; border-radius: 0.35em;\">\n",
              "    30 octobre 2020\n",
              "    <span style=\"font-size: 0.8em; font-weight: bold; line-height: 1; border-radius: 0.35em; text-transform: uppercase; vertical-align: middle; margin-left: 0.5rem\">DATE</span>\n",
              "</mark>\n",
              ". _______                                                            1 Sur la base d'un capital composé de \n",
              "<mark class=\"entity\" style=\"background: #ddd; padding: 0.45em 0.6em; margin: 0 0.25em; line-height: 1; border-radius: 0.35em;\">\n",
              "    257 021 105\n",
              "    <span style=\"font-size: 0.8em; font-weight: bold; line-height: 1; border-radius: 0.35em; text-transform: uppercase; vertical-align: middle; margin-left: 0.5rem\">NUMBER</span>\n",
              "</mark>\n",
              " \n",
              "<mark class=\"entity\" style=\"background: #ddd; padding: 0.45em 0.6em; margin: 0 0.25em; line-height: 1; border-radius: 0.35em;\">\n",
              "    actions\n",
              "    <span style=\"font-size: 0.8em; font-weight: bold; line-height: 1; border-radius: 0.35em; text-transform: uppercase; vertical-align: middle; margin-left: 0.5rem\">TYPE</span>\n",
              "</mark>\n",
              " représentant \n",
              "<mark class=\"entity\" style=\"background: #ddd; padding: 0.45em 0.6em; margin: 0 0.25em; line-height: 1; border-radius: 0.35em;\">\n",
              "    257 652 732\n",
              "    <span style=\"font-size: 0.8em; font-weight: bold; line-height: 1; border-radius: 0.35em; text-transform: uppercase; vertical-align: middle; margin-left: 0.5rem\">NUMBER</span>\n",
              "</mark>\n",
              " \n",
              "<mark class=\"entity\" style=\"background: #ddd; padding: 0.45em 0.6em; margin: 0 0.25em; line-height: 1; border-radius: 0.35em;\">\n",
              "    droits de vote\n",
              "    <span style=\"font-size: 0.8em; font-weight: bold; line-height: 1; border-radius: 0.35em; text-transform: uppercase; vertical-align: middle; margin-left: 0.5rem\">TYPE</span>\n",
              "</mark>\n",
              ", en application du 2ème alinéa de l’article 223-11 du règlement général. 2 Sur la base d’un delta de 1. \f</div></span>"
            ],
            "text/plain": [
              "<IPython.core.display.HTML object>"
            ]
          },
          "metadata": {
            "tags": []
          }
        }
      ]
    },
    {
      "cell_type": "code",
      "metadata": {
        "id": "rfgXppRI7ZIQ",
        "colab_type": "code",
        "outputId": "8871581e-5d48-42de-fc03-c9a98c8d650f",
        "colab": {
          "base_uri": "https://localhost:8080/",
          "height": 801
        }
      },
      "source": [
        "for chunk in doc.noun_chunks:\n",
        "    print(chunk.text, chunk.label_, chunk.root.text)"
      ],
      "execution_count": 51,
      "outputs": [
        {
          "output_type": "stream",
          "text": [
            "220C0700-FR0000034639-FS0185            220C0700 NP 220C0700-FR0000034639-FS0185\n",
            "FR0000034639-FS0185 21 février 2020    NP FR0000034639-FS0185\n",
            "Déclaration de franchissement de seuils (article L. 233 NP Déclaration\n",
            "7 du code de commerce)   ALTRAN TECHNOLOGIES  (Euronext Paris)   Par courrier NP code\n",
            "le 21 février NP février\n",
            "la société Bank of America Corporation (Corporation Trust Center, Orange Street, Wilmington, DE 19801, Etats-Unis) a déclaré avoir franchi en hausse, indirectement par l’intermédiaire des sociétés qu’elle contrôle NP déclaré\n",
            "les seuils de 5% du capital et des droits de vote de la société ALTRAN TECHNOLOGIES et détenir 14 377 895 actions ALTRAN TECHNOLOGIES NP seuils\n",
            "de droits de vote NP droits\n",
            "et 5,58% des droits de vote de cette société1, répartis NP %\n",
            "Actions NP Actions\n",
            "% NP %\n",
            "de vote NP vote\n",
            "droits de vote Merrill NP droits\n",
            "Lynch NP Lynch\n",
            "Europe NP Europe\n",
            "0,11 BofA Securities NP BofA\n",
            "213 ns 213 ns Total Bank of America NP America\n",
            "Ce franchissement de seuils résulte d’une acquisition d’actions ALTRAN NP franchissement\n",
            "TECHNOLOGIES sur le marché et d’une augmentation du nombre d’actions ALTRAN TECHNOLOGIES détenues à titre d’emprunts et de swaps.   NP TECHNOLOGIES\n",
            "la société Merrill Lynch International NP société\n",
            "les mêmes seuils NP seuils\n",
            "Au titre de l’article L. 233 NP titre\n",
            "-9 I, 4° du code de commerce et de l’article 223 NP I\n",
            "-14 IV du règlement général :   NP IV\n",
            "la société Merrill Lynch International NP société\n",
            "13 784 025 actions ALTRAN TECHNOLOGIES (prises en compte dans la détention par assimilation visée ci-dessus) résultant de la conclusion d’un contrat avec un tiers (propriétaire desdites actions) conférant le droit à la société Merrill Lynch International d’utiliser lesdites actions à tout moment NP actions\n",
            "la société BofA Securities Europe SA NP société\n",
            "482 actions ALTRAN NP actions\n",
            "TECHNOLOGIES (prises en compte dans la détention par assimilation visée ci-dessus) résultant de la conclusion d’un contrat avec un tiers (propriétaire desdites actions) conférant le droit à la société BofA Securities Europe SA d’utiliser lesdites actions à tout moment.   NP TECHNOLOGIES\n",
            "de l’article L. 233 NP article\n",
            "-9 I, 4° bis du code de commerce et de l’article 223 NP I\n",
            "14 V NP V\n",
            "la société Merrill Lynch International NP société\n",
            "17 749 actions ALTRAN TECHNOLOGIES (prises en compte au premier alinéa)2 au titre de contrats « cash NP actions\n",
            "à dénouement en espèces NP espèces\n",
            ", exerçables à tout moment et d’échéances entre le 26 octobre 2020 NP exerçables\n",
            "et le 30 octobre 2020 NP octobre\n",
            "_______                                                            1 Sur la base d'un capital composé NP _\n",
            "de 257 021 105 actions NP actions\n",
            "732 droits de vote NP droits\n",
            "du 2ème alinéa de l’article 223 NP alinéa\n",
            "-11 du règlement général. NP règlement\n",
            "2 Sur la base d’un delta de 1. \f NP base\n"
          ],
          "name": "stdout"
        }
      ]
    },
    {
      "cell_type": "code",
      "metadata": {
        "id": "lFX6SCGYik4n",
        "colab_type": "code",
        "colab": {}
      },
      "source": [
        ""
      ],
      "execution_count": 0,
      "outputs": []
    }
  ]
}