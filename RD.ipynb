{
  "nbformat": 4,
  "nbformat_minor": 0,
  "metadata": {
    "colab": {
      "name": "RD.ipynb",
      "provenance": [],
      "collapsed_sections": [],
      "include_colab_link": true
    },
    "kernelspec": {
      "name": "python3",
      "display_name": "Python 3"
    }
  },
  "cells": [
    {
      "cell_type": "markdown",
      "metadata": {
        "id": "view-in-github",
        "colab_type": "text"
      },
      "source": [
        "<a href=\"https://colab.research.google.com/github/ilucas75/BTflow/blob/dev/RD.ipynb\" target=\"_parent\"><img src=\"https://colab.research.google.com/assets/colab-badge.svg\" alt=\"Open In Colab\"/></a>"
      ]
    },
    {
      "cell_type": "markdown",
      "metadata": {
        "id": "qiFWWecB8meR",
        "colab_type": "text"
      },
      "source": [
        "## Install"
      ]
    },
    {
      "cell_type": "code",
      "metadata": {
        "id": "uEcyr9cyjnct",
        "colab_type": "code",
        "outputId": "2b38f9b9-d6eb-4bdc-e1ba-9ba9b6a0bbe0",
        "colab": {
          "base_uri": "https://localhost:8080/",
          "height": 541
        }
      },
      "source": [
        "!pip install pdfminer.six\n",
        "!pip install spacy\n",
        "!pip install tabula-py\n",
        "!python -m spacy download fr_core_news_md"
      ],
      "execution_count": 1,
      "outputs": [
        {
          "output_type": "stream",
          "text": [
            "Collecting pdfminer.six\n",
            "\u001b[?25l  Downloading https://files.pythonhosted.org/packages/0b/04/f62d5834c2bdf90afcaeb23bb5241033c44e27000de64ad8472253daa4a8/pdfminer.six-20200402-py3-none-any.whl (5.6MB)\n",
            "\u001b[K     |████████████████████████████████| 5.6MB 4.9MB/s \n",
            "\u001b[?25hRequirement already satisfied: chardet; python_version > \"3.0\" in /usr/local/lib/python3.6/dist-packages (from pdfminer.six) (3.0.4)\n",
            "Collecting pycryptodome\n",
            "\u001b[?25l  Downloading https://files.pythonhosted.org/packages/af/16/da16a22d47bac9bf9db39f3b9af74e8eeed8855c0df96be20b580ef92fff/pycryptodome-3.9.7-cp36-cp36m-manylinux1_x86_64.whl (13.7MB)\n",
            "\u001b[K     |████████████████████████████████| 13.7MB 285kB/s \n",
            "\u001b[?25hRequirement already satisfied: sortedcontainers in /usr/local/lib/python3.6/dist-packages (from pdfminer.six) (2.1.0)\n",
            "Installing collected packages: pycryptodome, pdfminer.six\n",
            "Successfully installed pdfminer.six-20200402 pycryptodome-3.9.7\n",
            "Requirement already satisfied: spacy in /usr/local/lib/python3.6/dist-packages (2.2.4)\n",
            "Requirement already satisfied: setuptools in /usr/local/lib/python3.6/dist-packages (from spacy) (46.0.0)\n",
            "Requirement already satisfied: tqdm<5.0.0,>=4.38.0 in /usr/local/lib/python3.6/dist-packages (from spacy) (4.38.0)\n",
            "Requirement already satisfied: preshed<3.1.0,>=3.0.2 in /usr/local/lib/python3.6/dist-packages (from spacy) (3.0.2)\n",
            "Requirement already satisfied: thinc==7.4.0 in /usr/local/lib/python3.6/dist-packages (from spacy) (7.4.0)\n",
            "Requirement already satisfied: requests<3.0.0,>=2.13.0 in /usr/local/lib/python3.6/dist-packages (from spacy) (2.21.0)\n",
            "Requirement already satisfied: murmurhash<1.1.0,>=0.28.0 in /usr/local/lib/python3.6/dist-packages (from spacy) (1.0.2)\n",
            "Requirement already satisfied: plac<1.2.0,>=0.9.6 in /usr/local/lib/python3.6/dist-packages (from spacy) (1.1.3)\n",
            "Requirement already satisfied: wasabi<1.1.0,>=0.4.0 in /usr/local/lib/python3.6/dist-packages (from spacy) (0.6.0)\n",
            "Requirement already satisfied: blis<0.5.0,>=0.4.0 in /usr/local/lib/python3.6/dist-packages (from spacy) (0.4.1)\n",
            "Requirement already satisfied: srsly<1.1.0,>=1.0.2 in /usr/local/lib/python3.6/dist-packages (from spacy) (1.0.2)\n",
            "Requirement already satisfied: catalogue<1.1.0,>=0.0.7 in /usr/local/lib/python3.6/dist-packages (from spacy) (1.0.0)\n",
            "Requirement already satisfied: numpy>=1.15.0 in /usr/local/lib/python3.6/dist-packages (from spacy) (1.18.2)\n",
            "Requirement already satisfied: cymem<2.1.0,>=2.0.2 in /usr/local/lib/python3.6/dist-packages (from spacy) (2.0.3)\n",
            "Requirement already satisfied: urllib3<1.25,>=1.21.1 in /usr/local/lib/python3.6/dist-packages (from requests<3.0.0,>=2.13.0->spacy) (1.24.3)\n",
            "Requirement already satisfied: idna<2.9,>=2.5 in /usr/local/lib/python3.6/dist-packages (from requests<3.0.0,>=2.13.0->spacy) (2.8)\n",
            "Requirement already satisfied: certifi>=2017.4.17 in /usr/local/lib/python3.6/dist-packages (from requests<3.0.0,>=2.13.0->spacy) (2019.11.28)\n",
            "Requirement already satisfied: chardet<3.1.0,>=3.0.2 in /usr/local/lib/python3.6/dist-packages (from requests<3.0.0,>=2.13.0->spacy) (3.0.4)\n",
            "Requirement already satisfied: importlib-metadata>=0.20; python_version < \"3.8\" in /usr/local/lib/python3.6/dist-packages (from catalogue<1.1.0,>=0.0.7->spacy) (1.6.0)\n",
            "Requirement already satisfied: zipp>=0.5 in /usr/local/lib/python3.6/dist-packages (from importlib-metadata>=0.20; python_version < \"3.8\"->catalogue<1.1.0,>=0.0.7->spacy) (3.1.0)\n"
          ],
          "name": "stdout"
        }
      ]
    },
    {
      "cell_type": "markdown",
      "metadata": {
        "id": "teO5hnSS8Dj3",
        "colab_type": "text"
      },
      "source": [
        "## Upload PDF and Json"
      ]
    },
    {
      "cell_type": "code",
      "metadata": {
        "id": "aBtUJahtkUKq",
        "colab_type": "code",
        "outputId": "36382d19-23ec-4967-92ef-2f2a4774ca6c",
        "colab": {
          "resources": {
            "http://localhost:8080/nbextensions/google.colab/files.js": {
              "data": "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",
              "ok": true,
              "headers": [
                [
                  "content-type",
                  "application/javascript"
                ]
              ],
              "status": 200,
              "status_text": "OK"
            }
          },
          "base_uri": "https://localhost:8080/",
          "height": 1000
        }
      },
      "source": [
        "from google.colab import files\n",
        "\n",
        "uploaded = files.upload()\n"
      ],
      "execution_count": 6,
      "outputs": [
        {
          "output_type": "display_data",
          "data": {
            "text/html": [
              "\n",
              "     <input type=\"file\" id=\"files-76a8da24-6839-4365-985b-3b59f2d2c4a0\" name=\"files[]\" multiple disabled />\n",
              "     <output id=\"result-76a8da24-6839-4365-985b-3b59f2d2c4a0\">\n",
              "      Upload widget is only available when the cell has been executed in the\n",
              "      current browser session. Please rerun this cell to enable.\n",
              "      </output>\n",
              "      <script src=\"/nbextensions/google.colab/files.js\"></script> "
            ],
            "text/plain": [
              "<IPython.core.display.HTML object>"
            ]
          },
          "metadata": {
            "tags": []
          }
        },
        {
          "output_type": "stream",
          "text": [
            "Saving 0070C022_220C0700.json to 0070C022_220C0700.json\n",
            "Saving 0340C022_220C0430.json to 0340C022_220C0430.json\n",
            "Saving 0510C022_220C0150.json to 0510C022_220C0150.json\n",
            "Saving 0540C022_220C0450.json to 0540C022_220C0450.json\n",
            "Saving 0620C022_220C0260.json to 0620C022_220C0260.json\n",
            "Saving 0810C022_220C0180.json to 0810C022_220C0180.json\n",
            "Saving 0820C022_220C0280.json to 0820C022_220C0280.json\n",
            "Saving 0900C022_220C0090.json to 0900C022_220C0090.json\n",
            "Saving 0940C022_220C0490.json to 0940C022_220C0490.json\n",
            "Saving 0960C022_220C0690.json to 0960C022_220C0690.json\n",
            "Saving 0980C022_220C0890.json to 0980C022_220C0890.json\n",
            "Saving 1040C022_220C0401.json to 1040C022_220C0401.json\n",
            "Saving 1080C022_220C0801.json to 1080C022_220C0801.json\n",
            "Saving 1090C022_220C0901.json to 1090C022_220C0901.json\n",
            "Saving 1200C022_220C0021.json to 1200C022_220C0021.json\n",
            "Saving 1270C022_220C0721.json to 1270C022_220C0721.json\n",
            "Saving 1360C022_220C0631.json to 1360C022_220C0631.json\n",
            "Saving 1380C022_220C0831.json to 1380C022_220C0831.json\n",
            "Saving 1430C022_220C0341.json to 1430C022_220C0341.json\n",
            "Saving 1500C022_220C0051.json to 1500C022_220C0051.json\n",
            "Saving 1550C022_220C0551.json to 1550C022_220C0551.json\n",
            "Saving 1640C022_220C0461.json to 1640C022_220C0461.json\n",
            "Saving 1960C022_220C0691.json to 1960C022_220C0691.json\n",
            "Saving 1980C022_220C0891.json to 1980C022_220C0891.json\n",
            "Saving 2030C022_220C0302.json to 2030C022_220C0302.json\n",
            "Saving 2080C022_220C0802.json to 2080C022_220C0802.json\n",
            "Saving 2090C022_220C0902.json to 2090C022_220C0902.json\n",
            "Saving 2260C022_220C0622.json to 2260C022_220C0622.json\n",
            "Saving 2410C022_220C0142.json to 2410C022_220C0142.json\n",
            "Saving 2550C022_220C0552.json to 2550C022_220C0552.json\n",
            "Saving 2620C022_220C0262.json to 2620C022_220C0262.json\n",
            "Saving 2640C022_220C0462.json to 2640C022_220C0462.json\n",
            "Saving 2920C022_220C0292.json to 2920C022_220C0292.json\n",
            "Saving 3040C022_220C0403.json to 3040C022_220C0403.json\n",
            "Saving 3060C022_220C0603.json to 3060C022_220C0603.json\n",
            "Saving 3080C022_220C0803.json to 3080C022_220C0803.json\n",
            "Saving 3090C022_220C0903.json to 3090C022_220C0903.json\n",
            "Saving 3100C022_220C0013.json to 3100C022_220C0013.json\n",
            "Saving 3170C022_220C0713.json to 3170C022_220C0713.json\n",
            "Saving 3190C022_220C0913.json to 3190C022_220C0913.json\n",
            "Saving 3200C022_220C0023.json to 3200C022_220C0023.json\n",
            "Saving 3270C022_220C0723.json to 3270C022_220C0723.json\n",
            "Saving 3310C022_220C0133.json to 3310C022_220C0133.json\n",
            "Saving 3350C022_220C0533.json to 3350C022_220C0533.json\n",
            "Saving 3460C022_220C0643.json to 3460C022_220C0643.json\n",
            "Saving 3540C022_220C0453.json to 3540C022_220C0453.json\n",
            "Saving 3570C022_220C0753.json to 3570C022_220C0753.json\n",
            "Saving 3610C022_220C0163.json to 3610C022_220C0163.json\n",
            "Saving 3620C022_220C0263.json to 3620C022_220C0263.json\n",
            "Saving 3710C022_220C0173.json to 3710C022_220C0173.json\n",
            "Saving 3770C022_220C0773.json to 3770C022_220C0773.json\n",
            "Saving 3810C022_220C0183.json to 3810C022_220C0183.json\n",
            "Saving 3830C022_220C0383.json to 3830C022_220C0383.json\n",
            "Saving 3950C022_220C0593.json to 3950C022_220C0593.json\n",
            "Saving 4040C022_220C0404.json to 4040C022_220C0404.json\n",
            "Saving 4060C022_220C0604.json to 4060C022_220C0604.json\n",
            "Saving 4170C022_220C0714.json to 4170C022_220C0714.json\n",
            "Saving 4280C022_220C0824.json to 4280C022_220C0824.json\n",
            "Saving 4480C022_220C0844.json to 4480C022_220C0844.json\n",
            "Saving 4530C022_220C0354.json to 4530C022_220C0354.json\n",
            "Saving 4540C022_220C0454.json to 4540C022_220C0454.json\n",
            "Saving 4620C022_220C0264.json to 4620C022_220C0264.json\n",
            "Saving 4630C022_220C0364.json to 4630C022_220C0364.json\n",
            "Saving 4870C022_220C0784.json to 4870C022_220C0784.json\n",
            "Saving 4960C022_220C0694.json to 4960C022_220C0694.json\n",
            "Saving 5100C022_220C0015.json to 5100C022_220C0015.json\n",
            "Saving 5140C022_220C0415.json to 5140C022_220C0415.json\n",
            "Saving 5300C022_220C0035.json to 5300C022_220C0035.json\n",
            "Saving 5330C022_220C0335.json to 5330C022_220C0335.json\n",
            "Saving 5380C022_220C0835.json to 5380C022_220C0835.json\n",
            "Saving 5440C022_220C0445.json to 5440C022_220C0445.json\n",
            "Saving 5480C022_220C0845.json to 5480C022_220C0845.json\n",
            "Saving 5600C022_220C0065.json to 5600C022_220C0065.json\n",
            "Saving 5650C022_220C0565.json to 5650C022_220C0565.json\n",
            "Saving 5930C022_220C0395.json to 5930C022_220C0395.json\n",
            "Saving 5960C022_220C0695.json to 5960C022_220C0695.json\n",
            "Saving 6060C022_220C0606.json to 6060C022_220C0606.json\n",
            "Saving 6240C022_220C0426.json to 6240C022_220C0426.json\n",
            "Saving 6340C022_220C0436.json to 6340C022_220C0436.json\n",
            "Saving 6350C022_220C0536.json to 6350C022_220C0536.json\n",
            "Saving 6360C022_220C0636.json to 6360C022_220C0636.json\n",
            "Saving 6620C022_220C0266.json to 6620C022_220C0266.json\n",
            "Saving 6650C022_220C0566.json to 6650C022_220C0566.json\n",
            "Saving 6720C022_220C0276.json to 6720C022_220C0276.json\n",
            "Saving 7120C022_220C0217.json to 7120C022_220C0217.json\n",
            "Saving 7230C022_220C0327.json to 7230C022_220C0327.json\n",
            "Saving 7320C022_220C0237.json to 7320C022_220C0237.json\n",
            "Saving 7350C022_220C0537.json to 7350C022_220C0537.json\n",
            "Saving 7480C022_220C0847.json to 7480C022_220C0847.json\n",
            "Saving 7570C022_220C0757.json to 7570C022_220C0757.json\n",
            "Saving 7620C022_220C0267.json to 7620C022_220C0267.json\n",
            "Saving 7780C022_220C0877.json to 7780C022_220C0877.json\n",
            "Saving 7800C022_220C0087.json to 7800C022_220C0087.json\n",
            "Saving 7820C022_220C0287.json to 7820C022_220C0287.json\n",
            "Saving 7910C022_220C0197.json to 7910C022_220C0197.json\n",
            "Saving 8030C022_220C0308.json to 8030C022_220C0308.json\n",
            "Saving 8120C022_220C0218.json to 8120C022_220C0218.json\n",
            "Saving 8140C022_220C0418.json to 8140C022_220C0418.json\n",
            "Saving 8330C022_220C0338.json to 8330C022_220C0338.json\n",
            "Saving 8340C022_220C0438.json to 8340C022_220C0438.json\n",
            "Saving 8350C022_220C0538.json to 8350C022_220C0538.json\n",
            "Saving 8400C022_220C0048.json to 8400C022_220C0048.json\n",
            "Saving 8430C022_220C0348.json to 8430C022_220C0348.json\n",
            "Saving 8470C022_220C0748.json to 8470C022_220C0748.json\n",
            "Saving 8570C022_220C0758.json to 8570C022_220C0758.json\n",
            "Saving 8780C022_220C0878.json to 8780C022_220C0878.json\n",
            "Saving 8840C022_220C0488.json to 8840C022_220C0488.json\n",
            "Saving 8850C022_220C0588.json to 8850C022_220C0588.json\n",
            "Saving 8980C022_220C0898.json to 8980C022_220C0898.json\n",
            "Saving 9140C022_220C0419.json to 9140C022_220C0419.json\n",
            "Saving 9150C022_220C0519.json to 9150C022_220C0519.json\n",
            "Saving 9320C022_220C0239.json to 9320C022_220C0239.json\n",
            "Saving 9330C022_220C0339.json to 9330C022_220C0339.json\n",
            "Saving 9530C022_220C0359.json to 9530C022_220C0359.json\n",
            "Saving 9610C022_220C0169.json to 9610C022_220C0169.json\n",
            "Saving 9670C022_220C0769.json to 9670C022_220C0769.json\n",
            "Saving 9900C022_220C0099.json to 9900C022_220C0099.json\n"
          ],
          "name": "stdout"
        }
      ]
    },
    {
      "cell_type": "code",
      "metadata": {
        "id": "6e8gfeF9kR3E",
        "colab_type": "code",
        "outputId": "3485b324-606c-4c99-9502-7f53a64fad48",
        "colab": {
          "base_uri": "https://localhost:8080/",
          "height": 34
        }
      },
      "source": [
        "ls"
      ],
      "execution_count": 0,
      "outputs": [
        {
          "output_type": "stream",
          "text": [
            "dataset.json  \u001b[0m\u001b[01;34msample_data\u001b[0m/\n"
          ],
          "name": "stdout"
        }
      ]
    },
    {
      "cell_type": "markdown",
      "metadata": {
        "id": "LkxF_Nod7OcP",
        "colab_type": "text"
      },
      "source": [
        "## Table PDF"
      ]
    },
    {
      "cell_type": "code",
      "metadata": {
        "id": "zXNXlRcB4aJK",
        "colab_type": "code",
        "outputId": "2a33522a-9e0a-4794-ebb4-faa418713959",
        "colab": {
          "base_uri": "https://localhost:8080/",
          "height": 134
        }
      },
      "source": [
        "from tabula import read_pdf\n",
        "import pandas as pd\n",
        "\n",
        "def extract_tables(filename):\n",
        "  dfs = read_pdf(list_pdf[0], pages='all')\n",
        "  tables_str = []\n",
        "  for df in dfs:\n",
        "  if not df.empty:\n",
        "    table_str = \"\"\n",
        "    for c in df.columns:\n",
        "      if not \"Unnamed:\" in c:\n",
        "        table_str += c + \" \"\n",
        "    for _, r in df.iterrows():\n",
        "      for c in df.columns:\n",
        "        if pd.notna(r[c]):\n",
        "          table_str += r[c] + \" \"\n",
        "    tables_str.append(table_str)\n",
        "  return dfs, tables_str"
      ],
      "execution_count": 0,
      "outputs": [
        {
          "output_type": "stream",
          "text": [
            "Got stderr: Mar 31, 2020 7:14:33 AM org.apache.pdfbox.pdmodel.font.PDTrueTypeFont <init>\n",
            "WARNING: Using fallback font 'LiberationSerif' for 'TimesNewRomanPSMT'\n",
            "Mar 31, 2020 7:14:33 AM org.apache.pdfbox.pdmodel.font.PDTrueTypeFont <init>\n",
            "WARNING: Using fallback font 'LiberationSerif-Bold' for 'TimesNewRomanPS-BoldMT'\n",
            "Mar 31, 2020 7:14:33 AM org.apache.pdfbox.pdmodel.font.PDTrueTypeFont <init>\n",
            "WARNING: Using fallback font 'LiberationSerif-Italic' for 'TimesNewRomanPS-ItalicMT'\n",
            "\n"
          ],
          "name": "stderr"
        }
      ]
    },
    {
      "cell_type": "markdown",
      "metadata": {
        "id": "J7Xzx42u7wXi",
        "colab_type": "text"
      },
      "source": [
        "## Extract PDF text"
      ]
    },
    {
      "cell_type": "code",
      "metadata": {
        "id": "o0YioujofEk2",
        "colab_type": "code",
        "colab": {}
      },
      "source": [
        "import io\n",
        " \n",
        "from pdfminer.converter import TextConverter\n",
        "from pdfminer.pdfinterp import PDFPageInterpreter\n",
        "from pdfminer.pdfinterp import PDFResourceManager\n",
        "from pdfminer.pdfpage import PDFPage"
      ],
      "execution_count": 0,
      "outputs": []
    },
    {
      "cell_type": "code",
      "metadata": {
        "id": "0hYsJfqyvELy",
        "colab_type": "code",
        "colab": {}
      },
      "source": [
        "def extract_text_from_pdf(pdf_path):\n",
        "    resource_manager = PDFResourceManager()\n",
        "    fake_file_handle = io.StringIO()\n",
        "    converter = TextConverter(resource_manager, fake_file_handle)\n",
        "    page_interpreter = PDFPageInterpreter(resource_manager, converter)\n",
        " \n",
        "    with open(pdf_path, 'rb') as fh:\n",
        "        for page in PDFPage.get_pages(fh, \n",
        "                                      caching=True,\n",
        "                                      check_extractable=True):\n",
        "            page_interpreter.process_page(page)\n",
        " \n",
        "        text = fake_file_handle.getvalue()\n",
        " \n",
        "    # close open handles\n",
        "    converter.close()\n",
        "    fake_file_handle.close()\n",
        " \n",
        "    if text:\n",
        "        return text"
      ],
      "execution_count": 0,
      "outputs": []
    },
    {
      "cell_type": "markdown",
      "metadata": {
        "id": "w_Wnrm2J6GyI",
        "colab_type": "text"
      },
      "source": [
        "## Load PDF and Json"
      ]
    },
    {
      "cell_type": "code",
      "metadata": {
        "id": "Hpm_Cs4vb24P",
        "colab_type": "code",
        "outputId": "7b79d8a1-7a64-48ef-e059-726c70ec25df",
        "colab": {
          "base_uri": "https://localhost:8080/",
          "height": 34
        }
      },
      "source": [
        "import json\n",
        "import os \n",
        "\n",
        "data = {}\n",
        "data_label = {}\n",
        "data_no_label = {}\n",
        "\n",
        "for f in uploaded.keys():\n",
        "  try:\n",
        "    name, ext = os.path.splitext(f)\n",
        "    if ext == '.pdf' and name not in pdfs:\n",
        "      text=extract_text_from_pdf(f)\n",
        "      if \"Déclaration de franchissement de seuils\" in text:\n",
        "        x =  {\"file\": f, \"text\": text}\n",
        "        data[name] = x\n",
        "        data_no_label[name] = x\n",
        "    elif ext == '.json':\n",
        "      with open(f) as fd:\n",
        "        x = json.load(fd)\n",
        "        data[name] = x\n",
        "        if 'entities' in x and len(x['entities']) != 0:\n",
        "          data_label[name] = x\n",
        "          if name in data_no_label:\n",
        "            del data_no_label[name]\n",
        "        else:\n",
        "          data_no_label[name] = x\n",
        "  except Exception as e:\n",
        "    print(\"Error : \", f)\n",
        "    print(e)\n",
        "data = [v for k, v in sorted(data.items(), key=lambda t: t[0])]\n",
        "data_label = [v for k, v in sorted(data_label.items(), key=lambda t: t[0])]\n",
        "data_no_label = [v for k, v in sorted(data_no_label.items(), key=lambda t: t[0])]\n",
        "print(len(data), \"texts with\", len(data_label), \"labeled and\", len(data_no_label), 'to label')"
      ],
      "execution_count": 33,
      "outputs": [
        {
          "output_type": "stream",
          "text": [
            "117 texts with 117 labeled and 0 to label\n"
          ],
          "name": "stdout"
        }
      ]
    },
    {
      "cell_type": "markdown",
      "metadata": {
        "id": "Bp1hEiec6inO",
        "colab_type": "text"
      },
      "source": [
        "## Labellisation"
      ]
    },
    {
      "cell_type": "code",
      "metadata": {
        "id": "ddtCboWtjHe1",
        "colab_type": "code",
        "colab": {}
      },
      "source": [
        "import IPython\n",
        "from google.colab import output\n",
        "import os\n",
        "\n",
        "class AnnotWidget():\n",
        "  def __init__(self, to_annot, start=0, model=None):\n",
        "    self.to_annot = to_annot\n",
        "    self.cur = start\n",
        "    self.model = model\n",
        "    self.colors_labels = [\n",
        "        (\"rgb(255, 0, 0)\", \"ISSUER\", 'A'),\n",
        "        (\"rgb(255, 0, 255)\", \"FIRM\", 'Z'),\n",
        "        (\"rgb(0, 255, 255)\", \"NUMBER\", 'E'),\n",
        "        (\"rgb(160, 160, 255)\", \"PERCENT\", 'R'),\n",
        "        (\"rgb(192, 192, 192)\", \"TYPE\", 'T'),\n",
        "        (\"rgb(255, 255, 0)\", \"DIRECTION\", 'S'),\n",
        "        (\"rgb(0, 255, 0)\", \"DATE\", 'D')\n",
        "      ]\n",
        "    self.controls = \"\"\n",
        "    for c, l, k in self.colors_labels:\n",
        "      self.controls += '''<button id=\"key_'''+k+'''\" style=\"background-color: '''+\\\n",
        "        c+''';\" onclick='document.execCommand(\"backColor\", false, \"'''+c+'''\")'>'''+l+\" (\"+k+\")</button>\"\n",
        "\n",
        "  def text_entities_to_html(self):\n",
        "    if 'entities' not in self.to_annot[self.cur] or len(self.to_annot[self.cur]['entities']) == 0:\n",
        "      return self.to_annot[self.cur][\"text\"]\n",
        "    res = \"\"\n",
        "    offset = 0\n",
        "    text = self.to_annot[self.cur][\"text\"]\n",
        "    for ent_s, ent_e, label in self.to_annot[self.cur]['entities']:\n",
        "      res += text[offset:ent_s]\n",
        "      res += '''<span style=\"background-color: '''+ self.get_color(label) + '''\">'''\n",
        "      res += text[ent_s:ent_e]\n",
        "      res += \"</span>\"\n",
        "      offset = ent_e\n",
        "    res += text[offset:]\n",
        "    return res\n",
        "\n",
        "  def run(self):\n",
        "    display(IPython.display.HTML('''\n",
        "    <p>'''+str(self.cur) + \"/\" + str(len(self.to_annot)) + '''</p>\n",
        "    <div id=\"ed\" contenteditable=\"true\">'''+self.text_entities_to_html()+'''</div>\n",
        "    <fieldset>\n",
        "    '''+ self.controls +'''\n",
        "      <button id=\"\"key_Q\" onclick=\"document.execCommand('removeFormat', false, null)\">remove (Q)</button>\n",
        "      <button onclick=\"google.colab.kernel.invokeFunction('notebook.Prediction');\">pred</button>\n",
        "      <button id='prev'>prev</button>\n",
        "      <button id='next'>next</button>\n",
        "    </fieldset>\n",
        "    <script>\n",
        "      function change(dir) {\n",
        "        children = document.querySelector(\"#ed\").childNodes;\n",
        "        res = [];\n",
        "        offset = 0;\n",
        "        for (var i = 0; i < children.length; i++) {\n",
        "          next_offset = offset + children[i].textContent.length;\n",
        "          if (children[i].nodeType != Node.TEXT_NODE) {\n",
        "            rgb = children[i].style.backgroundColor\n",
        "            res.push([offset, next_offset, rgb])\n",
        "          }\n",
        "          offset = next_offset;\n",
        "        }\n",
        "        google.colab.kernel.invokeFunction('notebook.SaveEntities', [res, dir]);\n",
        "        document.querySelector('#ed').innerHTML = next_text;\n",
        "      };\n",
        "      document.querySelector('#prev').onclick = () => {\n",
        "        change(-1);\n",
        "      };\n",
        "      document.querySelector('#next').onclick = () => {\n",
        "        change(1);\n",
        "      };\n",
        "      document.querySelector('#ed').onkeydown = (ev) => {\n",
        "        ev.preventDefault();\n",
        "      };\n",
        "      document.querySelector('#ed').onkeypress = (ev) => {\n",
        "        ev.preventDefault();\n",
        "      };\n",
        "      document.querySelector('#ed').onkeyup = (ev) => {\n",
        "        ev.preventDefault();\n",
        "        button_id = \"#key_\" + String.fromCharCode(ev.keyCode);\n",
        "        button = document.querySelector(button_id)\n",
        "        if (button) {\n",
        "          button.click();\n",
        "        }\n",
        "      };\n",
        "    </script>\n",
        "    '''))\n",
        "    output.register_callback('notebook.SaveEntities', self.save_entities)\n",
        "    output.register_callback('notebook.Console', self.console)\n",
        "    output.register_callback('notebook.Prediction', self.prediction)\n",
        "\n",
        "  def get_color(self, label):\n",
        "    for c, l, _ in self.colors_labels:\n",
        "        if l == label:\n",
        "          return c\n",
        "\n",
        "  def get_label(self, color):\n",
        "    for c, l, _ in self.colors_labels:\n",
        "        if c == color:\n",
        "          return l\n",
        "\n",
        "  def save_entities(self, res, inc=1):\n",
        "    self.to_annot[self.cur]['entities'] = []\n",
        "    for ent_s, ent_e, color in res:\n",
        "      self.to_annot[self.cur]['entities'].append((ent_s, ent_e, self.get_label(color)))\n",
        "    if len(self.to_annot[self.cur]['entities']) != 0:\n",
        "      name, _ = os.path.splitext(self.to_annot[self.cur]['file'])\n",
        "      with open(name+'.json', 'w+') as f:\n",
        "        json.dump(self.to_annot[self.cur], f)\n",
        "    print(\"hello\")\n",
        "    output.clear()\n",
        "    if (self.cur < len(self.to_annot) and inc == 1) or (self.cur > 0 and inc == -1):\n",
        "      self.cur += inc\n",
        "    self.run()\n",
        "\n",
        "  def console(self, s):\n",
        "    print(s)\n",
        "\n",
        "  def prediction(self):\n",
        "    if (self.model is not None) and (('entities' not in self.to_annot[self.cur]) or (len(self.to_annot[self.cur]['entities']) == 0)):\n",
        "      doc = self.model(self.to_annot[self.cur][\"text\"])\n",
        "      self.to_annot[self.cur]['entities'] = []\n",
        "      for ent in doc.ents:\n",
        "        self.to_annot[self.cur]['entities'].append([ent.start_char, ent.end_char, ent.label_])\n",
        "      output.clear()\n",
        "      self.run()\n"
      ],
      "execution_count": 0,
      "outputs": []
    },
    {
      "cell_type": "code",
      "metadata": {
        "id": "Kj65OVbhWrac",
        "colab_type": "code",
        "colab": {}
      },
      "source": [
        "w = AnnotWidget(data_no_label, start=0, model=None)"
      ],
      "execution_count": 0,
      "outputs": []
    },
    {
      "cell_type": "code",
      "metadata": {
        "id": "mQLXIHWSnAUG",
        "colab_type": "code",
        "colab": {
          "base_uri": "https://localhost:8080/",
          "height": 237
        },
        "outputId": "ff0229b3-972c-4ee6-e98d-143da26bde9d"
      },
      "source": [
        "w.run()"
      ],
      "execution_count": 14,
      "outputs": [
        {
          "output_type": "display_data",
          "data": {
            "text/html": [
              "\n",
              "    <p>6/117</p>\n",
              "    <div id=\"ed\" contenteditable=\"true\"> 220C0280-FR0010451203-FS0071             220C0280 FR0010451203-FS0071 <span style=\"background-color: rgb(0, 255, 0)\">21 janvier 2020</span>   Déclaration de franchissement de seuils (article L. 233-7 du code de commerce)    <span style=\"background-color: rgb(255, 0, 0)\">REXEL</span>  (Euronext Paris)    Par courrier reçu le <span style=\"background-color: rgb(0, 255, 0)\">21 janvier 2020</span>, la société <span style=\"background-color: rgb(255, 0, 255)\">BlackRock Inc.</span> (55 East 52nd Street, New York, 10055, Etats-Unis), agissant pour le compte de clients et de fonds dont elle assure la gestion1, a déclaré avoir franchi <span style=\"background-color: rgb(255, 255, 0)\">en hausse</span>, le <span style=\"background-color: rgb(0, 255, 0)\">20 janvier 2020</span>, les seuils de <span style=\"background-color: rgb(160, 160, 255)\">5%</span> du <span style=\"background-color: rgb(192, 192, 192)\">capital</span> et des <span style=\"background-color: rgb(192, 192, 192)\">droits de vote</span> de la société <span style=\"background-color: rgb(255, 0, 255)\">REXEL</span> et détenir, pour le compte desdits clients et fonds, <span style=\"background-color: rgb(0, 255, 255)\">15 875 831</span> <span style=\"background-color: rgb(192, 192, 192)\">actions</span> <span style=\"background-color: rgb(255, 0, 0)\">REXEL</span>2 représentant autant de droits de vote, soit <span style=\"background-color: rgb(160, 160, 255)\">5,22%</span> du <span style=\"background-color: rgb(192, 192, 192)\">capital</span> et des <span style=\"background-color: rgb(192, 192, 192)\">droits de vote</span> de cette société3.  Ce franchissement de seuils résulte d’une acquisition d’actions <span style=\"background-color: rgb(255, 0, 0)\">REXEL</span> hors marché et d’une augmentation du nombre d’actions <span style=\"background-color: rgb(255, 0, 0)\">REXEL</span> détenues à titre de collatéral.  _______                                                            1 Le gestionnaire d’investissement dispose du pouvoir discrétionnaire d’exercer les droits de vote attachés aux titres détenus, sauf demande expresse de clients de garder le contrôle sur les droits de vote. 2 Dont (i) <span style=\"background-color: rgb(0, 255, 255)\">1 895 637</span> <span style=\"background-color: rgb(192, 192, 192)\">actions</span> <span style=\"background-color: rgb(255, 0, 0)\">REXEL</span> assimilées au titre des dispositions de l’article L. 233-9 I, 4° bis du code de commerce provenant de « contracts for differences » (« CFD ») sans échéance prévue, portant sur autant d’actions <span style=\"background-color: rgb(255, 0, 0)\">REXEL</span>, réglés exclusivement en espèce, (ii) <span style=\"background-color: rgb(0, 255, 255)\">243 048</span> <span style=\"background-color: rgb(192, 192, 192)\">actions</span> <span style=\"background-color: rgb(255, 0, 0)\">REXEL</span> assimilées au titre des dispositions de l’article L. 233-9 I, 6° du code de commerce du fait de la conclusion d’un contrat de prêt-emprunt de titres et (iii) <span style=\"background-color: rgb(0, 255, 255)\">1 794 289</span> <span style=\"background-color: rgb(192, 192, 192)\">actions</span> <span style=\"background-color: rgb(255, 0, 0)\">REXEL</span> détenues à titre de collatéral. Le déclarant a précisé détenir par ailleurs <span style=\"background-color: rgb(0, 255, 255)\">2 541 218</span> <span style=\"background-color: rgb(192, 192, 192)\">actions</span> <span style=\"background-color: rgb(255, 0, 0)\">REXEL</span> pour le compte de clients (non prises en compte dans la détention visée au 1er alinéa) pour lesquelles ceux-ci ont conservé l’exercice des droits de vote. 3 Sur la base d'un capital composé de <span style=\"background-color: rgb(0, 255, 255)\">304 102 013</span> <span style=\"background-color: rgb(192, 192, 192)\">actions</span> représentant autant de droits de vote, en application du 2ème alinéa de l’article 223-11 du règlement général. \f</div>\n",
              "    <fieldset>\n",
              "    <button id=\"key_A\" style=\"background-color: rgb(255, 0, 0);\" onclick='document.execCommand(\"backColor\", false, \"rgb(255, 0, 0)\")'>ISSUER (A)</button><button id=\"key_Z\" style=\"background-color: rgb(255, 0, 255);\" onclick='document.execCommand(\"backColor\", false, \"rgb(255, 0, 255)\")'>FIRM (Z)</button><button id=\"key_E\" style=\"background-color: rgb(0, 255, 255);\" onclick='document.execCommand(\"backColor\", false, \"rgb(0, 255, 255)\")'>NUMBER (E)</button><button id=\"key_R\" style=\"background-color: rgb(160, 160, 255);\" onclick='document.execCommand(\"backColor\", false, \"rgb(160, 160, 255)\")'>PERCENT (R)</button><button id=\"key_T\" style=\"background-color: rgb(192, 192, 192);\" onclick='document.execCommand(\"backColor\", false, \"rgb(192, 192, 192)\")'>TYPE (T)</button><button id=\"key_S\" style=\"background-color: rgb(255, 255, 0);\" onclick='document.execCommand(\"backColor\", false, \"rgb(255, 255, 0)\")'>DIRECTION (S)</button><button id=\"key_D\" style=\"background-color: rgb(0, 255, 0);\" onclick='document.execCommand(\"backColor\", false, \"rgb(0, 255, 0)\")'>DATE (D)</button>\n",
              "      <button id=\"\"key_Q\" onclick=\"document.execCommand('removeFormat', false, null)\">remove (Q)</button>\n",
              "      <button onclick=\"google.colab.kernel.invokeFunction('notebook.Prediction');\">pred</button>\n",
              "      <button id='prev'>prev</button>\n",
              "      <button id='next'>next</button>\n",
              "    </fieldset>\n",
              "    <script>\n",
              "      function change(dir) {\n",
              "        children = document.querySelector(\"#ed\").childNodes;\n",
              "        res = [];\n",
              "        offset = 0;\n",
              "        for (var i = 0; i < children.length; i++) {\n",
              "          next_offset = offset + children[i].textContent.length;\n",
              "          if (children[i].nodeType != Node.TEXT_NODE) {\n",
              "            rgb = children[i].style.backgroundColor\n",
              "            res.push([offset, next_offset, rgb])\n",
              "          }\n",
              "          offset = next_offset;\n",
              "        }\n",
              "        google.colab.kernel.invokeFunction('notebook.SaveEntities', [res, dir]);\n",
              "        document.querySelector('#ed').innerHTML = next_text;\n",
              "      };\n",
              "      document.querySelector('#prev').onclick = () => {\n",
              "        change(-1);\n",
              "      };\n",
              "      document.querySelector('#next').onclick = () => {\n",
              "        change(1);\n",
              "      };\n",
              "      document.querySelector('#ed').onkeydown = (ev) => {\n",
              "        ev.preventDefault();\n",
              "      };\n",
              "      document.querySelector('#ed').onkeypress = (ev) => {\n",
              "        ev.preventDefault();\n",
              "      };\n",
              "      document.querySelector('#ed').onkeyup = (ev) => {\n",
              "        ev.preventDefault();\n",
              "        button_id = \"#key_\" + String.fromCharCode(ev.keyCode);\n",
              "        button = document.querySelector(button_id)\n",
              "        if (button) {\n",
              "          button.click();\n",
              "        }\n",
              "      };\n",
              "    </script>\n",
              "    "
            ],
            "text/plain": [
              "<IPython.core.display.HTML object>"
            ]
          },
          "metadata": {
            "tags": []
          }
        }
      ]
    },
    {
      "cell_type": "code",
      "metadata": {
        "id": "WKBDmobv-iHg",
        "colab_type": "code",
        "colab": {}
      },
      "source": [
        "data = {x['file'] : x for x in data}\n",
        "data_label = {x['file'] : x for x in data_label}\n",
        "data_no_label = {x['file'] : x for x in data_no_label}\n",
        "for x in w.to_annot:\n",
        "  if 'entities' in x and len(x['entities']) != 0:\n",
        "    data[x['file']] = x\n",
        "    data_label[x['file']] = x\n",
        "    del data_no_label[x['file']]\n",
        "data = [v for k, v in sorted(data.items(), key=lambda t: t[0])]\n",
        "data_label = [v for k, v in sorted(data_label.items(), key=lambda t: t[0])]\n",
        "data_no_label = [v for k, v in sorted(data_no_label.items(), key=lambda t: t[0])]\n",
        "print(len(data), \"texts with\", len(data_label), \"labeled and\", len(data_no_label), 'to label')"
      ],
      "execution_count": 0,
      "outputs": []
    },
    {
      "cell_type": "markdown",
      "metadata": {
        "id": "rKyD0r0i6ylv",
        "colab_type": "text"
      },
      "source": [
        "## Download Json"
      ]
    },
    {
      "cell_type": "code",
      "metadata": {
        "id": "CnehMhWlHT0Q",
        "colab_type": "code",
        "outputId": "ebd707fd-972f-46f7-b454-a2a20ac527ab",
        "colab": {
          "base_uri": "https://localhost:8080/",
          "height": 1000
        }
      },
      "source": [
        "!zip dataset.zip *.json"
      ],
      "execution_count": 0,
      "outputs": [
        {
          "output_type": "stream",
          "text": [
            "updating: 0070C022_220C0700.json (deflated 66%)\n",
            "updating: 0340C022_220C0430.json (deflated 60%)\n",
            "updating: 0510C022_220C0150.json (deflated 51%)\n",
            "updating: 0540C022_220C0450.json (deflated 62%)\n",
            "updating: 0620C022_220C0260.json (deflated 50%)\n",
            "updating: 0810C022_220C0180.json (deflated 69%)\n",
            "updating: 0820C022_220C0280.json (deflated 60%)\n",
            "updating: 0900C022_220C0090.json (deflated 74%)\n",
            "updating: 0940C022_220C0490.json (deflated 57%)\n",
            "updating: 0960C022_220C0690.json (deflated 69%)\n",
            "updating: 0980C022_220C0890.json (deflated 54%)\n",
            "updating: 1040C022_220C0401.json (deflated 61%)\n",
            "updating: 1080C022_220C0801.json (deflated 51%)\n",
            "updating: 1090C022_220C0901.json (deflated 67%)\n",
            "updating: 1200C022_220C0021.json (deflated 57%)\n",
            "updating: 1270C022_220C0721.json (deflated 64%)\n",
            "updating: 1360C022_220C0631.json (deflated 65%)\n",
            "updating: 1380C022_220C0831.json (deflated 55%)\n",
            "updating: 1430C022_220C0341.json (deflated 67%)\n",
            "updating: 1500C022_220C0051.json (deflated 59%)\n",
            "updating: 1550C022_220C0551.json (deflated 66%)\n",
            "updating: 1640C022_220C0461.json (deflated 60%)\n",
            "updating: dataset.json (deflated 83%)\n",
            "updating: 1960C022_220C0691.json (deflated 57%)\n",
            "updating: 1980C022_220C0891.json (deflated 59%)\n",
            "updating: 2030C022_220C0302.json (deflated 60%)\n",
            "updating: 2080C022_220C0802.json (deflated 49%)\n",
            "updating: 2090C022_220C0902.json (deflated 58%)\n",
            "updating: 2260C022_220C0622.json (deflated 58%)\n",
            "updating: 2410C022_220C0142.json (deflated 60%)\n",
            "updating: 2550C022_220C0552.json (deflated 59%)\n",
            "updating: 2620C022_220C0262.json (deflated 55%)\n",
            "updating: 2640C022_220C0462.json (deflated 56%)\n",
            "updating: 2920C022_220C0292.json (deflated 58%)\n",
            "updating: 3040C022_220C0403.json (deflated 70%)\n",
            "updating: 3060C022_220C0603.json (deflated 60%)\n",
            "updating: 3080C022_220C0803.json (deflated 58%)\n",
            "updating: 3090C022_220C0903.json (deflated 60%)\n",
            "updating: 3100C022_220C0013.json (deflated 50%)\n",
            "updating: 3170C022_220C0713.json (deflated 65%)\n",
            "updating: 3190C022_220C0913.json (deflated 61%)\n",
            "updating: 3200C022_220C0023.json (deflated 60%)\n",
            "updating: 3270C022_220C0723.json (deflated 57%)\n",
            "updating: 3310C022_220C0133.json (deflated 62%)\n",
            "updating: 3350C022_220C0533.json (deflated 53%)\n",
            "updating: 3460C022_220C0643.json (deflated 55%)\n",
            "updating: 3540C022_220C0453.json (deflated 56%)\n",
            "updating: 3570C022_220C0753.json (deflated 55%)\n",
            "updating: 3610C022_220C0163.json (deflated 60%)\n",
            "updating: 3620C022_220C0263.json (deflated 61%)\n",
            "updating: 3710C022_220C0173.json (deflated 54%)\n",
            "updating: 3770C022_220C0773.json (deflated 60%)\n",
            "updating: 3810C022_220C0183.json (deflated 60%)\n",
            "updating: 3830C022_220C0383.json (deflated 59%)\n",
            "updating: 3950C022_220C0593.json (deflated 55%)\n",
            "updating: 4040C022_220C0404.json (deflated 58%)\n",
            "updating: 4060C022_220C0604.json (deflated 66%)\n",
            "updating: 4170C022_220C0714.json (deflated 55%)\n",
            "updating: 4280C022_220C0824.json (deflated 58%)\n",
            "updating: 4480C022_220C0844.json (deflated 64%)\n",
            "updating: 4530C022_220C0354.json (deflated 65%)\n",
            "  adding: 4540C022_220C0454.json (deflated 64%)\n",
            "  adding: 4620C022_220C0264.json (deflated 62%)\n",
            "  adding: 4630C022_220C0364.json (deflated 60%)\n",
            "  adding: 4870C022_220C0784.json (deflated 56%)\n",
            "  adding: 4960C022_220C0694.json (deflated 57%)\n",
            "  adding: 5100C022_220C0015.json (deflated 62%)\n",
            "  adding: 5140C022_220C0415.json (deflated 54%)\n",
            "  adding: 5300C022_220C0035.json (deflated 51%)\n",
            "  adding: 5330C022_220C0335.json (deflated 60%)\n",
            "  adding: 5380C022_220C0835.json (deflated 54%)\n",
            "  adding: 5440C022_220C0445.json (deflated 60%)\n",
            "  adding: 5480C022_220C0845.json (deflated 58%)\n",
            "  adding: 5600C022_220C0065.json (deflated 58%)\n",
            "  adding: 5650C022_220C0565.json (deflated 57%)\n",
            "  adding: 5930C022_220C0395.json (deflated 55%)\n",
            "  adding: 5960C022_220C0695.json (deflated 65%)\n",
            "  adding: 6060C022_220C0606.json (deflated 64%)\n",
            "  adding: 6240C022_220C0426.json (deflated 55%)\n",
            "  adding: 6340C022_220C0436.json (deflated 64%)\n",
            "  adding: 6350C022_220C0536.json (deflated 61%)\n",
            "  adding: 6360C022_220C0636.json (deflated 63%)\n",
            "  adding: 6620C022_220C0266.json (deflated 69%)\n",
            "  adding: 6650C022_220C0566.json (deflated 56%)\n",
            "  adding: 6720C022_220C0276.json (deflated 62%)\n",
            "  adding: 7120C022_220C0217.json (deflated 69%)\n",
            "  adding: 7230C022_220C0327.json (deflated 60%)\n",
            "  adding: 7320C022_220C0237.json (deflated 63%)\n",
            "  adding: 7350C022_220C0537.json (deflated 60%)\n",
            "  adding: 7480C022_220C0847.json (deflated 63%)\n",
            "  adding: 7570C022_220C0757.json (deflated 62%)\n",
            "  adding: 7620C022_220C0267.json (deflated 60%)\n",
            "  adding: 7780C022_220C0877.json (deflated 60%)\n",
            "  adding: 7800C022_220C0087.json (deflated 58%)\n",
            "  adding: 7820C022_220C0287.json (deflated 57%)\n",
            "  adding: 7910C022_220C0197.json (deflated 63%)\n",
            "  adding: 8030C022_220C0308.json (deflated 53%)\n",
            "  adding: 8120C022_220C0218.json (deflated 71%)\n",
            "  adding: 8140C022_220C0418.json (deflated 53%)\n",
            "  adding: 8330C022_220C0338.json (deflated 64%)\n",
            "  adding: 8340C022_220C0438.json (deflated 60%)\n",
            "  adding: 8350C022_220C0538.json (deflated 69%)\n",
            "  adding: 8400C022_220C0048.json (deflated 64%)\n",
            "  adding: 8430C022_220C0348.json (deflated 59%)\n",
            "  adding: 8470C022_220C0748.json (deflated 58%)\n",
            "  adding: 8570C022_220C0758.json (deflated 67%)\n",
            "  adding: 8780C022_220C0878.json (deflated 57%)\n",
            "  adding: 8840C022_220C0488.json (deflated 61%)\n",
            "  adding: 8850C022_220C0588.json (deflated 60%)\n",
            "  adding: 8980C022_220C0898.json (deflated 69%)\n",
            "  adding: 9140C022_220C0419.json (deflated 66%)\n",
            "  adding: 9150C022_220C0519.json (deflated 58%)\n",
            "  adding: 9320C022_220C0239.json (deflated 60%)\n",
            "  adding: 9330C022_220C0339.json (deflated 59%)\n",
            "  adding: 9530C022_220C0359.json (deflated 64%)\n",
            "  adding: 9610C022_220C0169.json (deflated 59%)\n",
            "  adding: 9670C022_220C0769.json (deflated 56%)\n",
            "  adding: 9900C022_220C0099.json (deflated 65%)\n"
          ],
          "name": "stdout"
        }
      ]
    },
    {
      "cell_type": "code",
      "metadata": {
        "id": "Zd8U4Hu3JyAj",
        "colab_type": "code",
        "colab": {}
      },
      "source": [
        "from google.colab import files\n",
        "files.download('dataset.zip') "
      ],
      "execution_count": 0,
      "outputs": []
    },
    {
      "cell_type": "markdown",
      "metadata": {
        "id": "2yqUSLTV7Cat",
        "colab_type": "text"
      },
      "source": [
        "## Train NER"
      ]
    },
    {
      "cell_type": "code",
      "metadata": {
        "id": "vxZGXdRdj1eu",
        "colab_type": "code",
        "colab": {}
      },
      "source": [
        "train_data = []\n",
        "for x in data_label:\n",
        "  entities = [tuple(ent) for ent in  x[\"entities\"]]\n",
        "  train_data.append((x['text'], {'entities' : entities}))\n",
        "labels = ['ISSUER', 'FIRM', 'NUMBER', 'PERCENT', 'TYPE', 'DIRECTION', 'DATE']\n",
        "test_data = train_data[:20]\n",
        "train_data = train_data[20:]"
      ],
      "execution_count": 0,
      "outputs": []
    },
    {
      "cell_type": "code",
      "metadata": {
        "id": "huoXcIdQmGgR",
        "colab_type": "code",
        "outputId": "e11b3f60-f432-40de-b873-d9a3fe5027f4",
        "colab": {
          "base_uri": "https://localhost:8080/",
          "height": 689
        }
      },
      "source": [
        "import random\n",
        "import spacy\n",
        "from spacy.util import minibatch, compounding\n",
        "import fr_core_news_md\n",
        "\n",
        "n_iter=40\n",
        "nlp = fr_core_news_md.load()\n",
        "ner = nlp.get_pipe(\"ner\")\n",
        "for label in labels:\n",
        "  ner.add_label(label)\n",
        "optimizer = nlp.resume_training()\n",
        "pipe_exceptions = [\"ner\"]\n",
        "other_pipes = [pipe for pipe in nlp.pipe_names if pipe not in pipe_exceptions]\n",
        "with nlp.disable_pipes(*other_pipes):  # only train NER\n",
        "  sizes = compounding(1.0, 4.0, 1.001)\n",
        "  # batch up the examples using spaCy's minibatch\n",
        "  for itn in range(n_iter):\n",
        "    random.shuffle(train_data)\n",
        "    batches = minibatch(train_data, size=sizes)\n",
        "    losses = {}\n",
        "    for batch in batches:\n",
        "      texts, annotations = zip(*batch)\n",
        "      nlp.update(texts, annotations, sgd=optimizer, drop=0.35, losses=losses)\n",
        "    print(\"Losses\", losses)\n",
        "  score = nlp.evaluate(test_data)"
      ],
      "execution_count": 36,
      "outputs": [
        {
          "output_type": "stream",
          "text": [
            "Losses {'ner': 23964.736129675963}\n",
            "Losses {'ner': 21973.9982841108}\n",
            "Losses {'ner': 21204.750617760612}\n",
            "Losses {'ner': 20787.01534249168}\n",
            "Losses {'ner': 20451.064186168485}\n",
            "Losses {'ner': 20219.935827415058}\n",
            "Losses {'ner': 20128.03605991768}\n",
            "Losses {'ner': 19915.52559884684}\n",
            "Losses {'ner': 20032.747798833996}\n",
            "Losses {'ner': 19953.6941755265}\n",
            "Losses {'ner': 19843.57615134865}\n",
            "Losses {'ner': 19724.049177646637}\n",
            "Losses {'ner': 19941.698392510414}\n",
            "Losses {'ner': 19831.664188325405}\n",
            "Losses {'ner': 19661.403124719858}\n",
            "Losses {'ner': 19561.296861588955}\n",
            "Losses {'ner': 19658.20818388462}\n",
            "Losses {'ner': 19976.871670246124}\n",
            "Losses {'ner': 19725.043011188507}\n",
            "Losses {'ner': 20156.993488043547}\n",
            "Losses {'ner': 19920.45144336205}\n",
            "Losses {'ner': 20021.656602740288}\n",
            "Losses {'ner': 20174.712134584785}\n",
            "Losses {'ner': 20607.4815261364}\n",
            "Losses {'ner': 19799.648339748383}\n",
            "Losses {'ner': 20812.619098186493}\n",
            "Losses {'ner': 19801.717925186153}\n",
            "Losses {'ner': 20950.092694044113}\n",
            "Losses {'ner': 20289.965897917747}\n",
            "Losses {'ner': 20717.050666213036}\n",
            "Losses {'ner': 20061.18871661485}\n",
            "Losses {'ner': 19713.78723192215}\n",
            "Losses {'ner': 21069.793532704003}\n",
            "Losses {'ner': 19859.75251030922}\n",
            "Losses {'ner': 20417.347548127174}\n",
            "Losses {'ner': 20517.717125177383}\n",
            "Losses {'ner': 20297.300560951233}\n",
            "Losses {'ner': 20207.07909721136}\n",
            "Losses {'ner': 19718.664871811867}\n",
            "Losses {'ner': 20439.353432178497}\n"
          ],
          "name": "stdout"
        }
      ]
    },
    {
      "cell_type": "code",
      "metadata": {
        "id": "VFcObvF2aK7q",
        "colab_type": "code",
        "outputId": "5b98a478-0e49-478e-e9fa-7e836dcfec98",
        "colab": {
          "base_uri": "https://localhost:8080/",
          "height": 54
        }
      },
      "source": [
        "print(score.scores)"
      ],
      "execution_count": 37,
      "outputs": [
        {
          "output_type": "stream",
          "text": [
            "{'uas': 0.0, 'las': 0.0, 'las_per_type': {'': {'p': 0.0, 'r': 0.0, 'f': 0.0}}, 'ents_p': 92.62295081967213, 'ents_r': 94.9579831932773, 'ents_f': 93.7759336099585, 'ents_per_type': {'ISSUER': {'p': 88.0, 'r': 100.0, 'f': 93.61702127659575}, 'DIRECTION': {'p': 100.0, 'r': 100.0, 'f': 100.0}, 'DATE': {'p': 90.47619047619048, 'r': 95.0, 'f': 92.68292682926828}, 'TYPE': {'p': 93.10344827586206, 'r': 100.0, 'f': 96.42857142857143}, 'FIRM': {'p': 100.0, 'r': 68.75, 'f': 81.48148148148148}, 'PERCENT': {'p': 100.0, 'r': 100.0, 'f': 100.0}, 'NUMBER': {'p': 86.66666666666667, 'r': 100.0, 'f': 92.85714285714286}}, 'tags_acc': 0.0, 'token_acc': 100.0, 'textcat_score': 0.0, 'textcats_per_cat': {}}\n"
          ],
          "name": "stdout"
        }
      ]
    },
    {
      "cell_type": "code",
      "metadata": {
        "id": "EjbCTab3wApL",
        "colab_type": "code",
        "outputId": "e58920d1-1e38-475f-ccbd-f33407437f73",
        "colab": {
          "base_uri": "https://localhost:8080/",
          "height": 533
        }
      },
      "source": [
        "from spacy import displacy\n",
        "doc = nlp(data[0]['text'])\n",
        "displacy.render(doc, style='ent', jupyter=True)"
      ],
      "execution_count": 38,
      "outputs": [
        {
          "output_type": "display_data",
          "data": {
            "text/html": [
              "<span class=\"tex2jax_ignore\"><div class=\"entities\" style=\"line-height: 2.5; direction: ltr\">220C0700-FR0000034639-FS0185            220C0700 FR0000034639-FS0185 \n",
              "<mark class=\"entity\" style=\"background: #bfe1d9; padding: 0.45em 0.6em; margin: 0 0.25em; line-height: 1; border-radius: 0.35em;\">\n",
              "    21 février 2020\n",
              "    <span style=\"font-size: 0.8em; font-weight: bold; line-height: 1; border-radius: 0.35em; text-transform: uppercase; vertical-align: middle; margin-left: 0.5rem\">DATE</span>\n",
              "</mark>\n",
              "   Déclaration de franchissement de seuils (article L. 233-7 du code de commerce)   \n",
              "<mark class=\"entity\" style=\"background: #ddd; padding: 0.45em 0.6em; margin: 0 0.25em; line-height: 1; border-radius: 0.35em;\">\n",
              "    ALTRAN TECHNOLOGIES\n",
              "    <span style=\"font-size: 0.8em; font-weight: bold; line-height: 1; border-radius: 0.35em; text-transform: uppercase; vertical-align: middle; margin-left: 0.5rem\">ISSUER</span>\n",
              "</mark>\n",
              "  (Euronext Paris)   Par courrier reçu le \n",
              "<mark class=\"entity\" style=\"background: #bfe1d9; padding: 0.45em 0.6em; margin: 0 0.25em; line-height: 1; border-radius: 0.35em;\">\n",
              "    20 février 2020\n",
              "    <span style=\"font-size: 0.8em; font-weight: bold; line-height: 1; border-radius: 0.35em; text-transform: uppercase; vertical-align: middle; margin-left: 0.5rem\">DATE</span>\n",
              "</mark>\n",
              ", complété par un courrier reçu le \n",
              "<mark class=\"entity\" style=\"background: #bfe1d9; padding: 0.45em 0.6em; margin: 0 0.25em; line-height: 1; border-radius: 0.35em;\">\n",
              "    21 février,\n",
              "    <span style=\"font-size: 0.8em; font-weight: bold; line-height: 1; border-radius: 0.35em; text-transform: uppercase; vertical-align: middle; margin-left: 0.5rem\">DATE</span>\n",
              "</mark>\n",
              " la société \n",
              "<mark class=\"entity\" style=\"background: #ddd; padding: 0.45em 0.6em; margin: 0 0.25em; line-height: 1; border-radius: 0.35em;\">\n",
              "    Bank of America Corporation\n",
              "    <span style=\"font-size: 0.8em; font-weight: bold; line-height: 1; border-radius: 0.35em; text-transform: uppercase; vertical-align: middle; margin-left: 0.5rem\">FIRM</span>\n",
              "</mark>\n",
              " (Corporation Trust Center, Orange Street, Wilmington, DE 19801, Etats-Unis) a déclaré avoir franchi \n",
              "<mark class=\"entity\" style=\"background: #ddd; padding: 0.45em 0.6em; margin: 0 0.25em; line-height: 1; border-radius: 0.35em;\">\n",
              "    en hausse\n",
              "    <span style=\"font-size: 0.8em; font-weight: bold; line-height: 1; border-radius: 0.35em; text-transform: uppercase; vertical-align: middle; margin-left: 0.5rem\">DIRECTION</span>\n",
              "</mark>\n",
              ", indirectement par l’intermédiaire des sociétés qu’elle contrôle, le \n",
              "<mark class=\"entity\" style=\"background: #bfe1d9; padding: 0.45em 0.6em; margin: 0 0.25em; line-height: 1; border-radius: 0.35em;\">\n",
              "    17 février 2020\n",
              "    <span style=\"font-size: 0.8em; font-weight: bold; line-height: 1; border-radius: 0.35em; text-transform: uppercase; vertical-align: middle; margin-left: 0.5rem\">DATE</span>\n",
              "</mark>\n",
              ", les seuils de \n",
              "<mark class=\"entity\" style=\"background: #e4e7d2; padding: 0.45em 0.6em; margin: 0 0.25em; line-height: 1; border-radius: 0.35em;\">\n",
              "    5%\n",
              "    <span style=\"font-size: 0.8em; font-weight: bold; line-height: 1; border-radius: 0.35em; text-transform: uppercase; vertical-align: middle; margin-left: 0.5rem\">PERCENT</span>\n",
              "</mark>\n",
              " du \n",
              "<mark class=\"entity\" style=\"background: #ddd; padding: 0.45em 0.6em; margin: 0 0.25em; line-height: 1; border-radius: 0.35em;\">\n",
              "    capital\n",
              "    <span style=\"font-size: 0.8em; font-weight: bold; line-height: 1; border-radius: 0.35em; text-transform: uppercase; vertical-align: middle; margin-left: 0.5rem\">TYPE</span>\n",
              "</mark>\n",
              " et des \n",
              "<mark class=\"entity\" style=\"background: #ddd; padding: 0.45em 0.6em; margin: 0 0.25em; line-height: 1; border-radius: 0.35em;\">\n",
              "    droits de vote\n",
              "    <span style=\"font-size: 0.8em; font-weight: bold; line-height: 1; border-radius: 0.35em; text-transform: uppercase; vertical-align: middle; margin-left: 0.5rem\">TYPE</span>\n",
              "</mark>\n",
              " de la société \n",
              "<mark class=\"entity\" style=\"background: #ddd; padding: 0.45em 0.6em; margin: 0 0.25em; line-height: 1; border-radius: 0.35em;\">\n",
              "    ALTRAN TECHNOLOGIES\n",
              "    <span style=\"font-size: 0.8em; font-weight: bold; line-height: 1; border-radius: 0.35em; text-transform: uppercase; vertical-align: middle; margin-left: 0.5rem\">ISSUER</span>\n",
              "</mark>\n",
              " et détenir \n",
              "<mark class=\"entity\" style=\"background: #ddd; padding: 0.45em 0.6em; margin: 0 0.25em; line-height: 1; border-radius: 0.35em;\">\n",
              "    14 377 895\n",
              "    <span style=\"font-size: 0.8em; font-weight: bold; line-height: 1; border-radius: 0.35em; text-transform: uppercase; vertical-align: middle; margin-left: 0.5rem\">NUMBER</span>\n",
              "</mark>\n",
              " \n",
              "<mark class=\"entity\" style=\"background: #ddd; padding: 0.45em 0.6em; margin: 0 0.25em; line-height: 1; border-radius: 0.35em;\">\n",
              "    actions\n",
              "    <span style=\"font-size: 0.8em; font-weight: bold; line-height: 1; border-radius: 0.35em; text-transform: uppercase; vertical-align: middle; margin-left: 0.5rem\">TYPE</span>\n",
              "</mark>\n",
              " \n",
              "<mark class=\"entity\" style=\"background: #ddd; padding: 0.45em 0.6em; margin: 0 0.25em; line-height: 1; border-radius: 0.35em;\">\n",
              "    ALTRAN TECHNOLOGIES\n",
              "    <span style=\"font-size: 0.8em; font-weight: bold; line-height: 1; border-radius: 0.35em; text-transform: uppercase; vertical-align: middle; margin-left: 0.5rem\">ISSUER</span>\n",
              "</mark>\n",
              " représentant autant de droits de vote, soit \n",
              "<mark class=\"entity\" style=\"background: #e4e7d2; padding: 0.45em 0.6em; margin: 0 0.25em; line-height: 1; border-radius: 0.35em;\">\n",
              "    5,59%\n",
              "    <span style=\"font-size: 0.8em; font-weight: bold; line-height: 1; border-radius: 0.35em; text-transform: uppercase; vertical-align: middle; margin-left: 0.5rem\">PERCENT</span>\n",
              "</mark>\n",
              " du \n",
              "<mark class=\"entity\" style=\"background: #ddd; padding: 0.45em 0.6em; margin: 0 0.25em; line-height: 1; border-radius: 0.35em;\">\n",
              "    capital\n",
              "    <span style=\"font-size: 0.8em; font-weight: bold; line-height: 1; border-radius: 0.35em; text-transform: uppercase; vertical-align: middle; margin-left: 0.5rem\">TYPE</span>\n",
              "</mark>\n",
              " et \n",
              "<mark class=\"entity\" style=\"background: #e4e7d2; padding: 0.45em 0.6em; margin: 0 0.25em; line-height: 1; border-radius: 0.35em;\">\n",
              "    5,58%\n",
              "    <span style=\"font-size: 0.8em; font-weight: bold; line-height: 1; border-radius: 0.35em; text-transform: uppercase; vertical-align: middle; margin-left: 0.5rem\">PERCENT</span>\n",
              "</mark>\n",
              " des \n",
              "<mark class=\"entity\" style=\"background: #ddd; padding: 0.45em 0.6em; margin: 0 0.25em; line-height: 1; border-radius: 0.35em;\">\n",
              "    droits de vote\n",
              "    <span style=\"font-size: 0.8em; font-weight: bold; line-height: 1; border-radius: 0.35em; text-transform: uppercase; vertical-align: middle; margin-left: 0.5rem\">TYPE</span>\n",
              "</mark>\n",
              " de cette société1, répartis comme suit :   Actions % capital Droits de vote % droits de vote Merrill Lynch International 14 101 661 5,49 14 101 661 5,47 BofA Securities Europe SA 276 021 0,11 276 021 0,11 BofA Securities, Inc. 213 ns 213 ns Total Bank of America Corporation 14 377 895 5,59 14 377 895 5,58  Ce franchissement de seuils résulte d’une acquisition d’actions ALTRAN TECHNOLOGIES sur le marché et d’une augmentation du nombre d’actions \n",
              "<mark class=\"entity\" style=\"background: #ddd; padding: 0.45em 0.6em; margin: 0 0.25em; line-height: 1; border-radius: 0.35em;\">\n",
              "    ALTRAN TECHNOLOGIES\n",
              "    <span style=\"font-size: 0.8em; font-weight: bold; line-height: 1; border-radius: 0.35em; text-transform: uppercase; vertical-align: middle; margin-left: 0.5rem\">ISSUER</span>\n",
              "</mark>\n",
              " détenues à titre d’emprunts et de swaps.  À cette occasion, la société \n",
              "<mark class=\"entity\" style=\"background: #ddd; padding: 0.45em 0.6em; margin: 0 0.25em; line-height: 1; border-radius: 0.35em;\">\n",
              "    Merrill Lynch International\n",
              "    <span style=\"font-size: 0.8em; font-weight: bold; line-height: 1; border-radius: 0.35em; text-transform: uppercase; vertical-align: middle; margin-left: 0.5rem\">FIRM</span>\n",
              "</mark>\n",
              " a déclaré avoir franchi individuellement \n",
              "<mark class=\"entity\" style=\"background: #ddd; padding: 0.45em 0.6em; margin: 0 0.25em; line-height: 1; border-radius: 0.35em;\">\n",
              "    en hausse\n",
              "    <span style=\"font-size: 0.8em; font-weight: bold; line-height: 1; border-radius: 0.35em; text-transform: uppercase; vertical-align: middle; margin-left: 0.5rem\">DIRECTION</span>\n",
              "</mark>\n",
              " les mêmes seuils.  Au titre de l’article L. 233-9 I, 4° du code de commerce et de l’article 223-14 IV du règlement général :  - la société \n",
              "<mark class=\"entity\" style=\"background: #ddd; padding: 0.45em 0.6em; margin: 0 0.25em; line-height: 1; border-radius: 0.35em;\">\n",
              "    Merrill Lynch International\n",
              "    <span style=\"font-size: 0.8em; font-weight: bold; line-height: 1; border-radius: 0.35em; text-transform: uppercase; vertical-align: middle; margin-left: 0.5rem\">FIRM</span>\n",
              "</mark>\n",
              " a précisé détenir \n",
              "<mark class=\"entity\" style=\"background: #ddd; padding: 0.45em 0.6em; margin: 0 0.25em; line-height: 1; border-radius: 0.35em;\">\n",
              "    13 784 025\n",
              "    <span style=\"font-size: 0.8em; font-weight: bold; line-height: 1; border-radius: 0.35em; text-transform: uppercase; vertical-align: middle; margin-left: 0.5rem\">NUMBER</span>\n",
              "</mark>\n",
              " \n",
              "<mark class=\"entity\" style=\"background: #ddd; padding: 0.45em 0.6em; margin: 0 0.25em; line-height: 1; border-radius: 0.35em;\">\n",
              "    actions\n",
              "    <span style=\"font-size: 0.8em; font-weight: bold; line-height: 1; border-radius: 0.35em; text-transform: uppercase; vertical-align: middle; margin-left: 0.5rem\">TYPE</span>\n",
              "</mark>\n",
              " \n",
              "<mark class=\"entity\" style=\"background: #ddd; padding: 0.45em 0.6em; margin: 0 0.25em; line-height: 1; border-radius: 0.35em;\">\n",
              "    ALTRAN TECHNOLOGIES\n",
              "    <span style=\"font-size: 0.8em; font-weight: bold; line-height: 1; border-radius: 0.35em; text-transform: uppercase; vertical-align: middle; margin-left: 0.5rem\">ISSUER</span>\n",
              "</mark>\n",
              " (prises en compte dans la détention par assimilation visée ci-dessus) résultant de la conclusion d’un contrat avec un tiers (propriétaire desdites actions) conférant le droit à la société \n",
              "<mark class=\"entity\" style=\"background: #ddd; padding: 0.45em 0.6em; margin: 0 0.25em; line-height: 1; border-radius: 0.35em;\">\n",
              "    Merrill Lynch International\n",
              "    <span style=\"font-size: 0.8em; font-weight: bold; line-height: 1; border-radius: 0.35em; text-transform: uppercase; vertical-align: middle; margin-left: 0.5rem\">FIRM</span>\n",
              "</mark>\n",
              " d’utiliser lesdites actions à tout moment ; et  - la société \n",
              "<mark class=\"entity\" style=\"background: #ddd; padding: 0.45em 0.6em; margin: 0 0.25em; line-height: 1; border-radius: 0.35em;\">\n",
              "    BofA Securities Europe SA\n",
              "    <span style=\"font-size: 0.8em; font-weight: bold; line-height: 1; border-radius: 0.35em; text-transform: uppercase; vertical-align: middle; margin-left: 0.5rem\">FIRM</span>\n",
              "</mark>\n",
              " a précisé détenir \n",
              "<mark class=\"entity\" style=\"background: #ddd; padding: 0.45em 0.6em; margin: 0 0.25em; line-height: 1; border-radius: 0.35em;\">\n",
              "    274 482\n",
              "    <span style=\"font-size: 0.8em; font-weight: bold; line-height: 1; border-radius: 0.35em; text-transform: uppercase; vertical-align: middle; margin-left: 0.5rem\">NUMBER</span>\n",
              "</mark>\n",
              " \n",
              "<mark class=\"entity\" style=\"background: #ddd; padding: 0.45em 0.6em; margin: 0 0.25em; line-height: 1; border-radius: 0.35em;\">\n",
              "    actions\n",
              "    <span style=\"font-size: 0.8em; font-weight: bold; line-height: 1; border-radius: 0.35em; text-transform: uppercase; vertical-align: middle; margin-left: 0.5rem\">TYPE</span>\n",
              "</mark>\n",
              " ALTRAN TECHNOLOGIES (prises en compte dans la détention par assimilation visée ci-dessus) résultant de la conclusion d’un contrat avec un tiers (propriétaire desdites actions) conférant le droit à la société \n",
              "<mark class=\"entity\" style=\"background: #ddd; padding: 0.45em 0.6em; margin: 0 0.25em; line-height: 1; border-radius: 0.35em;\">\n",
              "    BofA Securities Europe SA\n",
              "    <span style=\"font-size: 0.8em; font-weight: bold; line-height: 1; border-radius: 0.35em; text-transform: uppercase; vertical-align: middle; margin-left: 0.5rem\">FIRM</span>\n",
              "</mark>\n",
              " d’utiliser lesdites actions à tout moment.  En outre, au titre de l’article L. 233-9 I, 4° bis du code de commerce et de l’article 223-14 V du règlement général, la société \n",
              "<mark class=\"entity\" style=\"background: #ddd; padding: 0.45em 0.6em; margin: 0 0.25em; line-height: 1; border-radius: 0.35em;\">\n",
              "    Merrill Lynch International\n",
              "    <span style=\"font-size: 0.8em; font-weight: bold; line-height: 1; border-radius: 0.35em; text-transform: uppercase; vertical-align: middle; margin-left: 0.5rem\">FIRM</span>\n",
              "</mark>\n",
              " a précisé détenir \n",
              "<mark class=\"entity\" style=\"background: #ddd; padding: 0.45em 0.6em; margin: 0 0.25em; line-height: 1; border-radius: 0.35em;\">\n",
              "    17 749\n",
              "    <span style=\"font-size: 0.8em; font-weight: bold; line-height: 1; border-radius: 0.35em; text-transform: uppercase; vertical-align: middle; margin-left: 0.5rem\">NUMBER</span>\n",
              "</mark>\n",
              " \n",
              "<mark class=\"entity\" style=\"background: #ddd; padding: 0.45em 0.6em; margin: 0 0.25em; line-height: 1; border-radius: 0.35em;\">\n",
              "    actions\n",
              "    <span style=\"font-size: 0.8em; font-weight: bold; line-height: 1; border-radius: 0.35em; text-transform: uppercase; vertical-align: middle; margin-left: 0.5rem\">TYPE</span>\n",
              "</mark>\n",
              " \n",
              "<mark class=\"entity\" style=\"background: #ddd; padding: 0.45em 0.6em; margin: 0 0.25em; line-height: 1; border-radius: 0.35em;\">\n",
              "    ALTRAN TECHNOLOGIES\n",
              "    <span style=\"font-size: 0.8em; font-weight: bold; line-height: 1; border-radius: 0.35em; text-transform: uppercase; vertical-align: middle; margin-left: 0.5rem\">ISSUER</span>\n",
              "</mark>\n",
              " (prises en compte au premier alinéa)2 au titre de contrats « cash-settled equity swap » à dénouement en espèces, exerçables à tout moment et d’échéances entre le \n",
              "<mark class=\"entity\" style=\"background: #bfe1d9; padding: 0.45em 0.6em; margin: 0 0.25em; line-height: 1; border-radius: 0.35em;\">\n",
              "    26 octobre 2020\n",
              "    <span style=\"font-size: 0.8em; font-weight: bold; line-height: 1; border-radius: 0.35em; text-transform: uppercase; vertical-align: middle; margin-left: 0.5rem\">DATE</span>\n",
              "</mark>\n",
              " et le \n",
              "<mark class=\"entity\" style=\"background: #bfe1d9; padding: 0.45em 0.6em; margin: 0 0.25em; line-height: 1; border-radius: 0.35em;\">\n",
              "    30 octobre 2020\n",
              "    <span style=\"font-size: 0.8em; font-weight: bold; line-height: 1; border-radius: 0.35em; text-transform: uppercase; vertical-align: middle; margin-left: 0.5rem\">DATE</span>\n",
              "</mark>\n",
              ". _______                                                            1 Sur la base d'un capital composé de \n",
              "<mark class=\"entity\" style=\"background: #ddd; padding: 0.45em 0.6em; margin: 0 0.25em; line-height: 1; border-radius: 0.35em;\">\n",
              "    257 021 105\n",
              "    <span style=\"font-size: 0.8em; font-weight: bold; line-height: 1; border-radius: 0.35em; text-transform: uppercase; vertical-align: middle; margin-left: 0.5rem\">NUMBER</span>\n",
              "</mark>\n",
              " \n",
              "<mark class=\"entity\" style=\"background: #ddd; padding: 0.45em 0.6em; margin: 0 0.25em; line-height: 1; border-radius: 0.35em;\">\n",
              "    actions\n",
              "    <span style=\"font-size: 0.8em; font-weight: bold; line-height: 1; border-radius: 0.35em; text-transform: uppercase; vertical-align: middle; margin-left: 0.5rem\">TYPE</span>\n",
              "</mark>\n",
              " représentant \n",
              "<mark class=\"entity\" style=\"background: #ddd; padding: 0.45em 0.6em; margin: 0 0.25em; line-height: 1; border-radius: 0.35em;\">\n",
              "    257 652 732\n",
              "    <span style=\"font-size: 0.8em; font-weight: bold; line-height: 1; border-radius: 0.35em; text-transform: uppercase; vertical-align: middle; margin-left: 0.5rem\">NUMBER</span>\n",
              "</mark>\n",
              " \n",
              "<mark class=\"entity\" style=\"background: #ddd; padding: 0.45em 0.6em; margin: 0 0.25em; line-height: 1; border-radius: 0.35em;\">\n",
              "    droits de vote\n",
              "    <span style=\"font-size: 0.8em; font-weight: bold; line-height: 1; border-radius: 0.35em; text-transform: uppercase; vertical-align: middle; margin-left: 0.5rem\">TYPE</span>\n",
              "</mark>\n",
              ", en application du 2ème alinéa de l’article 223-11 du règlement général. 2 Sur la base d’un delta de 1. \f</div></span>"
            ],
            "text/plain": [
              "<IPython.core.display.HTML object>"
            ]
          },
          "metadata": {
            "tags": []
          }
        }
      ]
    },
    {
      "cell_type": "code",
      "metadata": {
        "id": "rfgXppRI7ZIQ",
        "colab_type": "code",
        "colab": {
          "base_uri": "https://localhost:8080/",
          "height": 759
        },
        "outputId": "6bd775fe-22db-4054-af18-46066a4bc735"
      },
      "source": [
        "for chunk in doc.noun_chunks:\n",
        "    print(chunk.text, chunk.label_, chunk.root.text)"
      ],
      "execution_count": 39,
      "outputs": [
        {
          "output_type": "stream",
          "text": [
            "220C0700-FR0000034639-FS0185            220C0700 NP 220C0700-FR0000034639-FS0185\n",
            "FR0000034639-FS0185 21 février 2020    NP FR0000034639-FS0185\n",
            "Déclaration de franchissement de seuils (article L. 233 NP Déclaration\n",
            "7 du code de commerce)   ALTRAN TECHNOLOGIES  (Euronext Paris)   Par courrier NP code\n",
            "le 21 février NP février\n",
            "la société Bank of America Corporation (Corporation Trust Center, Orange Street, Wilmington, DE 19801, Etats-Unis) a déclaré avoir franchi en hausse, indirectement par l’intermédiaire des sociétés qu’elle contrôle NP déclaré\n",
            "les seuils de 5% du capital et des droits de vote de la société ALTRAN TECHNOLOGIES et détenir 14 377 895 actions ALTRAN TECHNOLOGIES NP seuils\n",
            "de droits de vote NP droits\n",
            "et 5,58% des droits de vote de cette société1, répartis NP %\n",
            "Actions NP Actions\n",
            "% NP %\n",
            "de vote NP vote\n",
            "droits de vote Merrill NP droits\n",
            "Lynch NP Lynch\n",
            "Europe NP Europe\n",
            "0,11 BofA Securities NP BofA\n",
            "213 ns 213 ns Total Bank of America NP America\n",
            "Ce franchissement de seuils résulte d’une acquisition d’actions ALTRAN NP franchissement\n",
            "TECHNOLOGIES sur le marché et d’une augmentation du nombre d’actions ALTRAN TECHNOLOGIES détenues à titre d’emprunts et de swaps.   NP TECHNOLOGIES\n",
            "la société Merrill Lynch International NP société\n",
            "les mêmes seuils NP seuils\n",
            "Au titre de l’article L. 233 NP titre\n",
            "-9 I, 4° du code de commerce et de l’article 223 NP I\n",
            "-14 IV du règlement général :   NP IV\n",
            "la société Merrill Lynch International NP société\n",
            "13 784 025 actions ALTRAN TECHNOLOGIES (prises en compte dans la détention par assimilation visée ci-dessus) résultant de la conclusion d’un contrat avec un tiers (propriétaire desdites actions) conférant le droit à la société Merrill Lynch International d’utiliser lesdites actions à tout moment NP actions\n",
            "la société BofA Securities Europe SA NP société\n",
            "482 actions ALTRAN NP actions\n",
            "TECHNOLOGIES (prises en compte dans la détention par assimilation visée ci-dessus) résultant de la conclusion d’un contrat avec un tiers (propriétaire desdites actions) conférant le droit à la société BofA Securities Europe SA d’utiliser lesdites actions à tout moment.   NP TECHNOLOGIES\n",
            "de l’article L. 233 NP article\n",
            "-9 I, 4° bis du code de commerce et de l’article 223 NP I\n",
            "14 V NP V\n",
            "la société Merrill Lynch International NP société\n",
            "17 749 actions ALTRAN TECHNOLOGIES (prises en compte au premier alinéa)2 au titre de contrats « cash NP actions\n",
            "à dénouement en espèces NP espèces\n",
            ", exerçables à tout moment et d’échéances entre le 26 octobre 2020 NP exerçables\n",
            "et le 30 octobre 2020 NP octobre\n",
            "_______                                                            1 Sur la base d'un capital composé NP _\n",
            "de 257 021 105 actions NP actions\n",
            "732 droits de vote NP droits\n",
            "du 2ème alinéa de l’article 223 NP alinéa\n",
            "-11 du règlement général. NP règlement\n",
            "2 Sur la base d’un delta de 1. \f NP base\n"
          ],
          "name": "stdout"
        }
      ]
    }
  ]
}