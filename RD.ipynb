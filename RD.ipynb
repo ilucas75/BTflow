{
  "nbformat": 4,
  "nbformat_minor": 0,
  "metadata": {
    "colab": {
      "name": "RD.ipynb",
      "provenance": [],
      "collapsed_sections": [],
      "toc_visible": true,
      "include_colab_link": true
    },
    "kernelspec": {
      "name": "python3",
      "display_name": "Python 3"
    }
  },
  "cells": [
    {
      "cell_type": "markdown",
      "metadata": {
        "id": "view-in-github",
        "colab_type": "text"
      },
      "source": [
        "<a href=\"https://colab.research.google.com/github/ilucas75/BTflow/blob/dev/RD.ipynb\" target=\"_parent\"><img src=\"https://colab.research.google.com/assets/colab-badge.svg\" alt=\"Open In Colab\"/></a>"
      ]
    },
    {
      "cell_type": "code",
      "metadata": {
        "id": "uEcyr9cyjnct",
        "colab_type": "code",
        "outputId": "d757384c-b946-4ba2-8381-b397f7dd1680",
        "colab": {
          "base_uri": "https://localhost:8080/",
          "height": 541
        }
      },
      "source": [
        "#install\n",
        "!pip install pdfminer.six\n",
        "!pip install spacy"
      ],
      "execution_count": 2,
      "outputs": [
        {
          "output_type": "stream",
          "text": [
            "Collecting pdfminer.six\n",
            "\u001b[?25l  Downloading https://files.pythonhosted.org/packages/0b/04/f62d5834c2bdf90afcaeb23bb5241033c44e27000de64ad8472253daa4a8/pdfminer.six-20200402-py3-none-any.whl (5.6MB)\n",
            "\u001b[K     |████████████████████████████████| 5.6MB 2.9MB/s \n",
            "\u001b[?25hRequirement already satisfied: sortedcontainers in /usr/local/lib/python3.6/dist-packages (from pdfminer.six) (2.1.0)\n",
            "Requirement already satisfied: chardet; python_version > \"3.0\" in /usr/local/lib/python3.6/dist-packages (from pdfminer.six) (3.0.4)\n",
            "Collecting pycryptodome\n",
            "\u001b[?25l  Downloading https://files.pythonhosted.org/packages/af/16/da16a22d47bac9bf9db39f3b9af74e8eeed8855c0df96be20b580ef92fff/pycryptodome-3.9.7-cp36-cp36m-manylinux1_x86_64.whl (13.7MB)\n",
            "\u001b[K     |████████████████████████████████| 13.7MB 44.4MB/s \n",
            "\u001b[?25hInstalling collected packages: pycryptodome, pdfminer.six\n",
            "Successfully installed pdfminer.six-20200402 pycryptodome-3.9.7\n",
            "Requirement already satisfied: spacy in /usr/local/lib/python3.6/dist-packages (2.2.4)\n",
            "Requirement already satisfied: plac<1.2.0,>=0.9.6 in /usr/local/lib/python3.6/dist-packages (from spacy) (1.1.3)\n",
            "Requirement already satisfied: preshed<3.1.0,>=3.0.2 in /usr/local/lib/python3.6/dist-packages (from spacy) (3.0.2)\n",
            "Requirement already satisfied: catalogue<1.1.0,>=0.0.7 in /usr/local/lib/python3.6/dist-packages (from spacy) (1.0.0)\n",
            "Requirement already satisfied: setuptools in /usr/local/lib/python3.6/dist-packages (from spacy) (46.0.0)\n",
            "Requirement already satisfied: requests<3.0.0,>=2.13.0 in /usr/local/lib/python3.6/dist-packages (from spacy) (2.21.0)\n",
            "Requirement already satisfied: blis<0.5.0,>=0.4.0 in /usr/local/lib/python3.6/dist-packages (from spacy) (0.4.1)\n",
            "Requirement already satisfied: cymem<2.1.0,>=2.0.2 in /usr/local/lib/python3.6/dist-packages (from spacy) (2.0.3)\n",
            "Requirement already satisfied: numpy>=1.15.0 in /usr/local/lib/python3.6/dist-packages (from spacy) (1.18.2)\n",
            "Requirement already satisfied: thinc==7.4.0 in /usr/local/lib/python3.6/dist-packages (from spacy) (7.4.0)\n",
            "Requirement already satisfied: tqdm<5.0.0,>=4.38.0 in /usr/local/lib/python3.6/dist-packages (from spacy) (4.38.0)\n",
            "Requirement already satisfied: srsly<1.1.0,>=1.0.2 in /usr/local/lib/python3.6/dist-packages (from spacy) (1.0.2)\n",
            "Requirement already satisfied: wasabi<1.1.0,>=0.4.0 in /usr/local/lib/python3.6/dist-packages (from spacy) (0.6.0)\n",
            "Requirement already satisfied: murmurhash<1.1.0,>=0.28.0 in /usr/local/lib/python3.6/dist-packages (from spacy) (1.0.2)\n",
            "Requirement already satisfied: importlib-metadata>=0.20; python_version < \"3.8\" in /usr/local/lib/python3.6/dist-packages (from catalogue<1.1.0,>=0.0.7->spacy) (1.6.0)\n",
            "Requirement already satisfied: idna<2.9,>=2.5 in /usr/local/lib/python3.6/dist-packages (from requests<3.0.0,>=2.13.0->spacy) (2.8)\n",
            "Requirement already satisfied: urllib3<1.25,>=1.21.1 in /usr/local/lib/python3.6/dist-packages (from requests<3.0.0,>=2.13.0->spacy) (1.24.3)\n",
            "Requirement already satisfied: chardet<3.1.0,>=3.0.2 in /usr/local/lib/python3.6/dist-packages (from requests<3.0.0,>=2.13.0->spacy) (3.0.4)\n",
            "Requirement already satisfied: certifi>=2017.4.17 in /usr/local/lib/python3.6/dist-packages (from requests<3.0.0,>=2.13.0->spacy) (2019.11.28)\n",
            "Requirement already satisfied: zipp>=0.5 in /usr/local/lib/python3.6/dist-packages (from importlib-metadata>=0.20; python_version < \"3.8\"->catalogue<1.1.0,>=0.0.7->spacy) (3.1.0)\n"
          ],
          "name": "stdout"
        }
      ]
    },
    {
      "cell_type": "code",
      "metadata": {
        "id": "XcK_diDZmwc_",
        "colab_type": "code",
        "outputId": "f933402b-e19a-4400-97b2-fc3e4068e4b1",
        "colab": {
          "base_uri": "https://localhost:8080/",
          "height": 1000
        }
      },
      "source": [
        "!python -m spacy download fr_core_news_sm\n",
        "!python -m spacy download fr_core_news_md"
      ],
      "execution_count": 3,
      "outputs": [
        {
          "output_type": "stream",
          "text": [
            "Collecting fr_core_news_sm==2.2.5\n",
            "\u001b[?25l  Downloading https://github.com/explosion/spacy-models/releases/download/fr_core_news_sm-2.2.5/fr_core_news_sm-2.2.5.tar.gz (14.7MB)\n",
            "\u001b[K     |████████████████████████████████| 14.7MB 4.0MB/s \n",
            "\u001b[?25hRequirement already satisfied: spacy>=2.2.2 in /usr/local/lib/python3.6/dist-packages (from fr_core_news_sm==2.2.5) (2.2.4)\n",
            "Requirement already satisfied: catalogue<1.1.0,>=0.0.7 in /usr/local/lib/python3.6/dist-packages (from spacy>=2.2.2->fr_core_news_sm==2.2.5) (1.0.0)\n",
            "Requirement already satisfied: blis<0.5.0,>=0.4.0 in /usr/local/lib/python3.6/dist-packages (from spacy>=2.2.2->fr_core_news_sm==2.2.5) (0.4.1)\n",
            "Requirement already satisfied: thinc==7.4.0 in /usr/local/lib/python3.6/dist-packages (from spacy>=2.2.2->fr_core_news_sm==2.2.5) (7.4.0)\n",
            "Requirement already satisfied: murmurhash<1.1.0,>=0.28.0 in /usr/local/lib/python3.6/dist-packages (from spacy>=2.2.2->fr_core_news_sm==2.2.5) (1.0.2)\n",
            "Requirement already satisfied: setuptools in /usr/local/lib/python3.6/dist-packages (from spacy>=2.2.2->fr_core_news_sm==2.2.5) (46.0.0)\n",
            "Requirement already satisfied: plac<1.2.0,>=0.9.6 in /usr/local/lib/python3.6/dist-packages (from spacy>=2.2.2->fr_core_news_sm==2.2.5) (1.1.3)\n",
            "Requirement already satisfied: numpy>=1.15.0 in /usr/local/lib/python3.6/dist-packages (from spacy>=2.2.2->fr_core_news_sm==2.2.5) (1.18.2)\n",
            "Requirement already satisfied: wasabi<1.1.0,>=0.4.0 in /usr/local/lib/python3.6/dist-packages (from spacy>=2.2.2->fr_core_news_sm==2.2.5) (0.6.0)\n",
            "Requirement already satisfied: cymem<2.1.0,>=2.0.2 in /usr/local/lib/python3.6/dist-packages (from spacy>=2.2.2->fr_core_news_sm==2.2.5) (2.0.3)\n",
            "Requirement already satisfied: tqdm<5.0.0,>=4.38.0 in /usr/local/lib/python3.6/dist-packages (from spacy>=2.2.2->fr_core_news_sm==2.2.5) (4.38.0)\n",
            "Requirement already satisfied: requests<3.0.0,>=2.13.0 in /usr/local/lib/python3.6/dist-packages (from spacy>=2.2.2->fr_core_news_sm==2.2.5) (2.21.0)\n",
            "Requirement already satisfied: preshed<3.1.0,>=3.0.2 in /usr/local/lib/python3.6/dist-packages (from spacy>=2.2.2->fr_core_news_sm==2.2.5) (3.0.2)\n",
            "Requirement already satisfied: srsly<1.1.0,>=1.0.2 in /usr/local/lib/python3.6/dist-packages (from spacy>=2.2.2->fr_core_news_sm==2.2.5) (1.0.2)\n",
            "Requirement already satisfied: importlib-metadata>=0.20; python_version < \"3.8\" in /usr/local/lib/python3.6/dist-packages (from catalogue<1.1.0,>=0.0.7->spacy>=2.2.2->fr_core_news_sm==2.2.5) (1.6.0)\n",
            "Requirement already satisfied: certifi>=2017.4.17 in /usr/local/lib/python3.6/dist-packages (from requests<3.0.0,>=2.13.0->spacy>=2.2.2->fr_core_news_sm==2.2.5) (2019.11.28)\n",
            "Requirement already satisfied: urllib3<1.25,>=1.21.1 in /usr/local/lib/python3.6/dist-packages (from requests<3.0.0,>=2.13.0->spacy>=2.2.2->fr_core_news_sm==2.2.5) (1.24.3)\n",
            "Requirement already satisfied: chardet<3.1.0,>=3.0.2 in /usr/local/lib/python3.6/dist-packages (from requests<3.0.0,>=2.13.0->spacy>=2.2.2->fr_core_news_sm==2.2.5) (3.0.4)\n",
            "Requirement already satisfied: idna<2.9,>=2.5 in /usr/local/lib/python3.6/dist-packages (from requests<3.0.0,>=2.13.0->spacy>=2.2.2->fr_core_news_sm==2.2.5) (2.8)\n",
            "Requirement already satisfied: zipp>=0.5 in /usr/local/lib/python3.6/dist-packages (from importlib-metadata>=0.20; python_version < \"3.8\"->catalogue<1.1.0,>=0.0.7->spacy>=2.2.2->fr_core_news_sm==2.2.5) (3.1.0)\n",
            "Building wheels for collected packages: fr-core-news-sm\n",
            "  Building wheel for fr-core-news-sm (setup.py) ... \u001b[?25l\u001b[?25hdone\n",
            "  Created wheel for fr-core-news-sm: filename=fr_core_news_sm-2.2.5-cp36-none-any.whl size=14727027 sha256=8eff767296727f3d64050bb422a4ae12f2988072f33a199db5493fe831cbd894\n",
            "  Stored in directory: /tmp/pip-ephem-wheel-cache-77g3zph9/wheels/46/1b/e6/29b020e3f9420a24c3f463343afe5136aaaf955dbc9e46dfc5\n",
            "Successfully built fr-core-news-sm\n",
            "Installing collected packages: fr-core-news-sm\n",
            "Successfully installed fr-core-news-sm-2.2.5\n",
            "\u001b[38;5;2m✔ Download and installation successful\u001b[0m\n",
            "You can now load the model via spacy.load('fr_core_news_sm')\n",
            "Collecting fr_core_news_md==2.2.5\n",
            "\u001b[?25l  Downloading https://github.com/explosion/spacy-models/releases/download/fr_core_news_md-2.2.5/fr_core_news_md-2.2.5.tar.gz (88.6MB)\n",
            "\u001b[K     |████████████████████████████████| 88.6MB 68.1MB/s \n",
            "\u001b[?25hRequirement already satisfied: spacy>=2.2.2 in /usr/local/lib/python3.6/dist-packages (from fr_core_news_md==2.2.5) (2.2.4)\n",
            "Requirement already satisfied: plac<1.2.0,>=0.9.6 in /usr/local/lib/python3.6/dist-packages (from spacy>=2.2.2->fr_core_news_md==2.2.5) (1.1.3)\n",
            "Requirement already satisfied: setuptools in /usr/local/lib/python3.6/dist-packages (from spacy>=2.2.2->fr_core_news_md==2.2.5) (46.0.0)\n",
            "Requirement already satisfied: cymem<2.1.0,>=2.0.2 in /usr/local/lib/python3.6/dist-packages (from spacy>=2.2.2->fr_core_news_md==2.2.5) (2.0.3)\n",
            "Requirement already satisfied: numpy>=1.15.0 in /usr/local/lib/python3.6/dist-packages (from spacy>=2.2.2->fr_core_news_md==2.2.5) (1.18.2)\n",
            "Requirement already satisfied: tqdm<5.0.0,>=4.38.0 in /usr/local/lib/python3.6/dist-packages (from spacy>=2.2.2->fr_core_news_md==2.2.5) (4.38.0)\n",
            "Requirement already satisfied: blis<0.5.0,>=0.4.0 in /usr/local/lib/python3.6/dist-packages (from spacy>=2.2.2->fr_core_news_md==2.2.5) (0.4.1)\n",
            "Requirement already satisfied: murmurhash<1.1.0,>=0.28.0 in /usr/local/lib/python3.6/dist-packages (from spacy>=2.2.2->fr_core_news_md==2.2.5) (1.0.2)\n",
            "Requirement already satisfied: preshed<3.1.0,>=3.0.2 in /usr/local/lib/python3.6/dist-packages (from spacy>=2.2.2->fr_core_news_md==2.2.5) (3.0.2)\n",
            "Requirement already satisfied: catalogue<1.1.0,>=0.0.7 in /usr/local/lib/python3.6/dist-packages (from spacy>=2.2.2->fr_core_news_md==2.2.5) (1.0.0)\n",
            "Requirement already satisfied: thinc==7.4.0 in /usr/local/lib/python3.6/dist-packages (from spacy>=2.2.2->fr_core_news_md==2.2.5) (7.4.0)\n",
            "Requirement already satisfied: requests<3.0.0,>=2.13.0 in /usr/local/lib/python3.6/dist-packages (from spacy>=2.2.2->fr_core_news_md==2.2.5) (2.21.0)\n",
            "Requirement already satisfied: srsly<1.1.0,>=1.0.2 in /usr/local/lib/python3.6/dist-packages (from spacy>=2.2.2->fr_core_news_md==2.2.5) (1.0.2)\n",
            "Requirement already satisfied: wasabi<1.1.0,>=0.4.0 in /usr/local/lib/python3.6/dist-packages (from spacy>=2.2.2->fr_core_news_md==2.2.5) (0.6.0)\n",
            "Requirement already satisfied: importlib-metadata>=0.20; python_version < \"3.8\" in /usr/local/lib/python3.6/dist-packages (from catalogue<1.1.0,>=0.0.7->spacy>=2.2.2->fr_core_news_md==2.2.5) (1.6.0)\n",
            "Requirement already satisfied: chardet<3.1.0,>=3.0.2 in /usr/local/lib/python3.6/dist-packages (from requests<3.0.0,>=2.13.0->spacy>=2.2.2->fr_core_news_md==2.2.5) (3.0.4)\n",
            "Requirement already satisfied: certifi>=2017.4.17 in /usr/local/lib/python3.6/dist-packages (from requests<3.0.0,>=2.13.0->spacy>=2.2.2->fr_core_news_md==2.2.5) (2019.11.28)\n",
            "Requirement already satisfied: urllib3<1.25,>=1.21.1 in /usr/local/lib/python3.6/dist-packages (from requests<3.0.0,>=2.13.0->spacy>=2.2.2->fr_core_news_md==2.2.5) (1.24.3)\n",
            "Requirement already satisfied: idna<2.9,>=2.5 in /usr/local/lib/python3.6/dist-packages (from requests<3.0.0,>=2.13.0->spacy>=2.2.2->fr_core_news_md==2.2.5) (2.8)\n",
            "Requirement already satisfied: zipp>=0.5 in /usr/local/lib/python3.6/dist-packages (from importlib-metadata>=0.20; python_version < \"3.8\"->catalogue<1.1.0,>=0.0.7->spacy>=2.2.2->fr_core_news_md==2.2.5) (3.1.0)\n",
            "Building wheels for collected packages: fr-core-news-md\n",
            "  Building wheel for fr-core-news-md (setup.py) ... \u001b[?25l\u001b[?25hdone\n",
            "  Created wheel for fr-core-news-md: filename=fr_core_news_md-2.2.5-cp36-none-any.whl size=90338488 sha256=bfa23a5cb6fef03f2a7bccfd76cc8654ef840d37d55e61b365c666ddbcd4c854\n",
            "  Stored in directory: /tmp/pip-ephem-wheel-cache-5e7yf7up/wheels/c6/18/b6/f628642acc7872a53cf81269dd1c394d96da69564ccfac5425\n",
            "Successfully built fr-core-news-md\n",
            "Installing collected packages: fr-core-news-md\n",
            "Successfully installed fr-core-news-md-2.2.5\n",
            "\u001b[38;5;2m✔ Download and installation successful\u001b[0m\n",
            "You can now load the model via spacy.load('fr_core_news_md')\n"
          ],
          "name": "stdout"
        }
      ]
    },
    {
      "cell_type": "code",
      "metadata": {
        "id": "aBtUJahtkUKq",
        "colab_type": "code",
        "outputId": "4fe09ee7-65f0-497a-a04f-20adcc2ce607",
        "colab": {
          "resources": {
            "http://localhost:8080/nbextensions/google.colab/files.js": {
              "data": "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",
              "ok": true,
              "headers": [
                [
                  "content-type",
                  "application/javascript"
                ]
              ],
              "status": 200,
              "status_text": "OK"
            }
          },
          "base_uri": "https://localhost:8080/",
          "height": 74
        }
      },
      "source": [
        "from google.colab import files\n",
        "\n",
        "uploaded = files.upload()\n"
      ],
      "execution_count": 5,
      "outputs": [
        {
          "output_type": "display_data",
          "data": {
            "text/html": [
              "\n",
              "     <input type=\"file\" id=\"files-ab9b01b2-53cb-4b32-9fb3-b15988a3f410\" name=\"files[]\" multiple disabled />\n",
              "     <output id=\"result-ab9b01b2-53cb-4b32-9fb3-b15988a3f410\">\n",
              "      Upload widget is only available when the cell has been executed in the\n",
              "      current browser session. Please rerun this cell to enable.\n",
              "      </output>\n",
              "      <script src=\"/nbextensions/google.colab/files.js\"></script> "
            ],
            "text/plain": [
              "<IPython.core.display.HTML object>"
            ]
          },
          "metadata": {
            "tags": []
          }
        },
        {
          "output_type": "stream",
          "text": [
            "Saving dataset.json to dataset.json\n"
          ],
          "name": "stdout"
        }
      ]
    },
    {
      "cell_type": "code",
      "metadata": {
        "id": "6e8gfeF9kR3E",
        "colab_type": "code",
        "outputId": "3485b324-606c-4c99-9502-7f53a64fad48",
        "colab": {
          "base_uri": "https://localhost:8080/",
          "height": 34
        }
      },
      "source": [
        "ls"
      ],
      "execution_count": 31,
      "outputs": [
        {
          "output_type": "stream",
          "text": [
            "dataset.json  \u001b[0m\u001b[01;34msample_data\u001b[0m/\n"
          ],
          "name": "stdout"
        }
      ]
    },
    {
      "cell_type": "code",
      "metadata": {
        "id": "o0YioujofEk2",
        "colab_type": "code",
        "colab": {}
      },
      "source": [
        "import io\n",
        " \n",
        "from pdfminer.converter import TextConverter\n",
        "from pdfminer.pdfinterp import PDFPageInterpreter\n",
        "from pdfminer.pdfinterp import PDFResourceManager\n",
        "from pdfminer.pdfpage import PDFPage"
      ],
      "execution_count": 0,
      "outputs": []
    },
    {
      "cell_type": "code",
      "metadata": {
        "id": "0hYsJfqyvELy",
        "colab_type": "code",
        "colab": {}
      },
      "source": [
        "def extract_text_from_pdf(pdf_path):\n",
        "    resource_manager = PDFResourceManager()\n",
        "    fake_file_handle = io.StringIO()\n",
        "    converter = TextConverter(resource_manager, fake_file_handle)\n",
        "    page_interpreter = PDFPageInterpreter(resource_manager, converter)\n",
        " \n",
        "    with open(pdf_path, 'rb') as fh:\n",
        "        for page in PDFPage.get_pages(fh, \n",
        "                                      caching=True,\n",
        "                                      check_extractable=True):\n",
        "            page_interpreter.process_page(page)\n",
        " \n",
        "        text = fake_file_handle.getvalue()\n",
        " \n",
        "    # close open handles\n",
        "    converter.close()\n",
        "    fake_file_handle.close()\n",
        " \n",
        "    if text:\n",
        "        return text"
      ],
      "execution_count": 0,
      "outputs": []
    },
    {
      "cell_type": "code",
      "metadata": {
        "id": "Hpm_Cs4vb24P",
        "colab_type": "code",
        "outputId": "20b4a4d9-8c28-4b80-bf04-e078e725ae3b",
        "colab": {
          "base_uri": "https://localhost:8080/",
          "height": 34
        }
      },
      "source": [
        "pdfs = []\n",
        "for f in uploaded.keys():\n",
        "  try:\n",
        "    text=extract_text_from_pdf(f)\n",
        "    if \"Déclaration de franchissement de seuils\" in text:\n",
        "      pdfs.append({\n",
        "          \"file\": f,\n",
        "          \"text\": text,\n",
        "      })\n",
        "  except:\n",
        "    pass"
      ],
      "execution_count": 0,
      "outputs": [
        {
          "output_type": "stream",
          "text": [
            "ERROR! Session/line number was not unique in database. History logging moved to new session 60\n"
          ],
          "name": "stdout"
        }
      ]
    },
    {
      "cell_type": "code",
      "metadata": {
        "id": "t2TyEPHEJ08L",
        "colab_type": "code",
        "colab": {}
      },
      "source": [
        "import json\n",
        "with open('dataset.json') as f:\n",
        "  pdfs = json.load(f)"
      ],
      "execution_count": 0,
      "outputs": []
    },
    {
      "cell_type": "code",
      "metadata": {
        "id": "CKFb-qmm0NYH",
        "colab_type": "code",
        "colab": {}
      },
      "source": [
        "ANNOTATION_START = 60"
      ],
      "execution_count": 0,
      "outputs": []
    },
    {
      "cell_type": "code",
      "metadata": {
        "id": "ddtCboWtjHe1",
        "colab_type": "code",
        "colab": {}
      },
      "source": [
        "import IPython\n",
        "from google.colab import output\n",
        "import os\n",
        "\n",
        "class AnnotWidget():\n",
        "  def __init__(self, to_annot, start=0, model=None):\n",
        "    self.to_annot = to_annot\n",
        "    self.cur = start\n",
        "    self.model = model\n",
        "    self.colors_labels = [\n",
        "        (\"rgb(255, 0, 0)\", \"ISSUER\", 'A'),\n",
        "        (\"rgb(255, 0, 255)\", \"FIRM\", 'Z'),\n",
        "        (\"rgb(0, 255, 255)\", \"NUMBER\", 'E'),\n",
        "        (\"rgb(160, 160, 255)\", \"PERCENT\", 'R'),\n",
        "        (\"rgb(192, 192, 192)\", \"TYPE\", 'T'),\n",
        "        (\"rgb(255, 255, 0)\", \"DIRECTION\", 'S'),\n",
        "        (\"rgb(0, 255, 0)\", \"DATE\", 'D')\n",
        "      ]\n",
        "    self.controls = \"\"\n",
        "    for c, l, k in self.colors_labels:\n",
        "      self.controls += '''<button id=\"key_'''+k+'''\" style=\"background-color: '''+\\\n",
        "        c+''';\" onclick='document.execCommand(\"backColor\", false, \"'''+c+'''\")'>'''+l+\" (\"+k+\")</button>\"\n",
        "\n",
        "  def text_entities_to_html(self):\n",
        "    if 'entities' not in self.to_annot[self.cur] or len(self.to_annot[self.cur]['entities']) == 0:\n",
        "      return self.to_annot[self.cur][\"text\"]\n",
        "    res = \"\"\n",
        "    offset = 0\n",
        "    text = self.to_annot[self.cur][\"text\"]\n",
        "    for ent_s, ent_e, label in self.to_annot[self.cur]['entities']:\n",
        "      res += text[offset:ent_s]\n",
        "      res += '''<span style=\"background-color: '''+ self.get_color(label) + '''\">'''\n",
        "      res += text[ent_s:ent_e]\n",
        "      res += \"</span>\"\n",
        "      offset = ent_e\n",
        "    res += text[offset:]\n",
        "    return res\n",
        "\n",
        "  def run(self):\n",
        "    display(IPython.display.HTML('''\n",
        "    <p>'''+str(self.cur) + \"/\" + str(len(self.to_annot)) + '''</p>\n",
        "    <div id=\"ed\" contenteditable=\"true\">'''+self.text_entities_to_html()+'''</div>\n",
        "    <fieldset>\n",
        "    '''+ self.controls +'''\n",
        "      <button id=\"\"key_Q\" onclick=\"document.execCommand('removeFormat', false, null)\">remove (Q)</button>\n",
        "      <button onclick=\"google.colab.kernel.invokeFunction('notebook.Prediction');\">pred</button>\n",
        "      <button id='prev'>prev</button>\n",
        "      <button id='next'>next</button>\n",
        "    </fieldset>\n",
        "    <script>\n",
        "      function change(dir) {\n",
        "        children = document.querySelector(\"#ed\").childNodes;\n",
        "        res = [];\n",
        "        offset = 0;\n",
        "        for (var i = 0; i < children.length; i++) {\n",
        "          next_offset = offset + children[i].textContent.length;\n",
        "          if (children[i].nodeType != Node.TEXT_NODE) {\n",
        "            rgb = children[i].style.backgroundColor\n",
        "            res.push([offset, next_offset, rgb])\n",
        "          }\n",
        "          offset = next_offset;\n",
        "        }\n",
        "        google.colab.kernel.invokeFunction('notebook.SaveEntities', [res, dir]);\n",
        "        document.querySelector('#ed').innerHTML = next_text;\n",
        "      };\n",
        "      document.querySelector('#prev').onclick = () => {\n",
        "        change(-1);\n",
        "      };\n",
        "      document.querySelector('#next').onclick = () => {\n",
        "        change(1);\n",
        "      };\n",
        "      document.querySelector('#ed').onkeydown = (ev) => {\n",
        "        ev.preventDefault();\n",
        "      };\n",
        "      document.querySelector('#ed').onkeypress = (ev) => {\n",
        "        ev.preventDefault();\n",
        "      };\n",
        "      document.querySelector('#ed').onkeyup = (ev) => {\n",
        "        ev.preventDefault();\n",
        "        button_id = \"#key_\" + String.fromCharCode(ev.keyCode);\n",
        "        button = document.querySelector(button_id)\n",
        "        if (button) {\n",
        "          button.click();\n",
        "        }\n",
        "      };\n",
        "    </script>\n",
        "    '''))\n",
        "    output.register_callback('notebook.SaveEntities', self.save_entities)\n",
        "    output.register_callback('notebook.Console', self.console)\n",
        "    output.register_callback('notebook.Prediction', self.prediction)\n",
        "\n",
        "  def get_color(self, label):\n",
        "    for c, l, _ in self.colors_labels:\n",
        "        if l == label:\n",
        "          return c\n",
        "\n",
        "  def get_label(self, color):\n",
        "    for c, l, _ in self.colors_labels:\n",
        "        if c == color:\n",
        "          return l\n",
        "\n",
        "  def save_entities(self, res, inc=1):\n",
        "    self.to_annot[self.cur]['entities'] = []\n",
        "    for ent_s, ent_e, color in res:\n",
        "      self.to_annot[self.cur]['entities'].append((ent_s, ent_e, self.get_label(color)))\n",
        "    if len(self.to_annot[self.cur]['entities']) != 0:\n",
        "      name, _ = os.path.splitext(self.to_annot[self.cur]['file'])\n",
        "      with open(name+'.json', 'w+') as f:\n",
        "        json.dump(self.to_annot[self.cur], f)\n",
        "    print(\"hello\")\n",
        "    output.clear()\n",
        "    if (self.cur < len(self.to_annot) and inc == 1) or (self.cur > 0 and inc == -1):\n",
        "      self.cur += inc\n",
        "    self.run()\n",
        "\n",
        "  def console(self, s):\n",
        "    print(s)\n",
        "\n",
        "  def prediction(self):\n",
        "    if (self.model is not None) and (('entities' not in self.to_annot[self.cur]) or (len(self.to_annot[self.cur]['entities']) == 0)):\n",
        "      doc = self.model(self.to_annot[self.cur][\"text\"])\n",
        "      self.to_annot[self.cur]['entities'] = []\n",
        "      for ent in doc.ents:\n",
        "        self.to_annot[self.cur]['entities'].append([ent.start_char, ent.end_char, ent.label_])\n",
        "      output.clear()\n",
        "      self.run()\n",
        "\n",
        "\n",
        "w = AnnotWidget(pdfs, ANNOTATION_START, nlp) "
      ],
      "execution_count": 0,
      "outputs": []
    },
    {
      "cell_type": "code",
      "metadata": {
        "id": "mQLXIHWSnAUG",
        "colab_type": "code",
        "colab": {}
      },
      "source": [
        "w.run()"
      ],
      "execution_count": 0,
      "outputs": []
    },
    {
      "cell_type": "code",
      "metadata": {
        "id": "pX6sQWIOi4fA",
        "colab_type": "code",
        "colab": {}
      },
      "source": [
        "import json\n",
        "with open(\"dataset.json\", 'w+') as f:\n",
        "  json.dump(w.to_annot, f)"
      ],
      "execution_count": 0,
      "outputs": []
    },
    {
      "cell_type": "code",
      "metadata": {
        "id": "CnehMhWlHT0Q",
        "colab_type": "code",
        "colab": {
          "base_uri": "https://localhost:8080/",
          "height": 1000
        },
        "outputId": "ebd707fd-972f-46f7-b454-a2a20ac527ab"
      },
      "source": [
        "!zip dataset.zip *.json"
      ],
      "execution_count": 115,
      "outputs": [
        {
          "output_type": "stream",
          "text": [
            "updating: 0070C022_220C0700.json (deflated 66%)\n",
            "updating: 0340C022_220C0430.json (deflated 60%)\n",
            "updating: 0510C022_220C0150.json (deflated 51%)\n",
            "updating: 0540C022_220C0450.json (deflated 62%)\n",
            "updating: 0620C022_220C0260.json (deflated 50%)\n",
            "updating: 0810C022_220C0180.json (deflated 69%)\n",
            "updating: 0820C022_220C0280.json (deflated 60%)\n",
            "updating: 0900C022_220C0090.json (deflated 74%)\n",
            "updating: 0940C022_220C0490.json (deflated 57%)\n",
            "updating: 0960C022_220C0690.json (deflated 69%)\n",
            "updating: 0980C022_220C0890.json (deflated 54%)\n",
            "updating: 1040C022_220C0401.json (deflated 61%)\n",
            "updating: 1080C022_220C0801.json (deflated 51%)\n",
            "updating: 1090C022_220C0901.json (deflated 67%)\n",
            "updating: 1200C022_220C0021.json (deflated 57%)\n",
            "updating: 1270C022_220C0721.json (deflated 64%)\n",
            "updating: 1360C022_220C0631.json (deflated 65%)\n",
            "updating: 1380C022_220C0831.json (deflated 55%)\n",
            "updating: 1430C022_220C0341.json (deflated 67%)\n",
            "updating: 1500C022_220C0051.json (deflated 59%)\n",
            "updating: 1550C022_220C0551.json (deflated 66%)\n",
            "updating: 1640C022_220C0461.json (deflated 60%)\n",
            "updating: dataset.json (deflated 83%)\n",
            "updating: 1960C022_220C0691.json (deflated 57%)\n",
            "updating: 1980C022_220C0891.json (deflated 59%)\n",
            "updating: 2030C022_220C0302.json (deflated 60%)\n",
            "updating: 2080C022_220C0802.json (deflated 49%)\n",
            "updating: 2090C022_220C0902.json (deflated 58%)\n",
            "updating: 2260C022_220C0622.json (deflated 58%)\n",
            "updating: 2410C022_220C0142.json (deflated 60%)\n",
            "updating: 2550C022_220C0552.json (deflated 59%)\n",
            "updating: 2620C022_220C0262.json (deflated 55%)\n",
            "updating: 2640C022_220C0462.json (deflated 56%)\n",
            "updating: 2920C022_220C0292.json (deflated 58%)\n",
            "updating: 3040C022_220C0403.json (deflated 70%)\n",
            "updating: 3060C022_220C0603.json (deflated 60%)\n",
            "updating: 3080C022_220C0803.json (deflated 58%)\n",
            "updating: 3090C022_220C0903.json (deflated 60%)\n",
            "updating: 3100C022_220C0013.json (deflated 50%)\n",
            "updating: 3170C022_220C0713.json (deflated 65%)\n",
            "updating: 3190C022_220C0913.json (deflated 61%)\n",
            "updating: 3200C022_220C0023.json (deflated 60%)\n",
            "updating: 3270C022_220C0723.json (deflated 57%)\n",
            "updating: 3310C022_220C0133.json (deflated 62%)\n",
            "updating: 3350C022_220C0533.json (deflated 53%)\n",
            "updating: 3460C022_220C0643.json (deflated 55%)\n",
            "updating: 3540C022_220C0453.json (deflated 56%)\n",
            "updating: 3570C022_220C0753.json (deflated 55%)\n",
            "updating: 3610C022_220C0163.json (deflated 60%)\n",
            "updating: 3620C022_220C0263.json (deflated 61%)\n",
            "updating: 3710C022_220C0173.json (deflated 54%)\n",
            "updating: 3770C022_220C0773.json (deflated 60%)\n",
            "updating: 3810C022_220C0183.json (deflated 60%)\n",
            "updating: 3830C022_220C0383.json (deflated 59%)\n",
            "updating: 3950C022_220C0593.json (deflated 55%)\n",
            "updating: 4040C022_220C0404.json (deflated 58%)\n",
            "updating: 4060C022_220C0604.json (deflated 66%)\n",
            "updating: 4170C022_220C0714.json (deflated 55%)\n",
            "updating: 4280C022_220C0824.json (deflated 58%)\n",
            "updating: 4480C022_220C0844.json (deflated 64%)\n",
            "updating: 4530C022_220C0354.json (deflated 65%)\n",
            "  adding: 4540C022_220C0454.json (deflated 64%)\n",
            "  adding: 4620C022_220C0264.json (deflated 62%)\n",
            "  adding: 4630C022_220C0364.json (deflated 60%)\n",
            "  adding: 4870C022_220C0784.json (deflated 56%)\n",
            "  adding: 4960C022_220C0694.json (deflated 57%)\n",
            "  adding: 5100C022_220C0015.json (deflated 62%)\n",
            "  adding: 5140C022_220C0415.json (deflated 54%)\n",
            "  adding: 5300C022_220C0035.json (deflated 51%)\n",
            "  adding: 5330C022_220C0335.json (deflated 60%)\n",
            "  adding: 5380C022_220C0835.json (deflated 54%)\n",
            "  adding: 5440C022_220C0445.json (deflated 60%)\n",
            "  adding: 5480C022_220C0845.json (deflated 58%)\n",
            "  adding: 5600C022_220C0065.json (deflated 58%)\n",
            "  adding: 5650C022_220C0565.json (deflated 57%)\n",
            "  adding: 5930C022_220C0395.json (deflated 55%)\n",
            "  adding: 5960C022_220C0695.json (deflated 65%)\n",
            "  adding: 6060C022_220C0606.json (deflated 64%)\n",
            "  adding: 6240C022_220C0426.json (deflated 55%)\n",
            "  adding: 6340C022_220C0436.json (deflated 64%)\n",
            "  adding: 6350C022_220C0536.json (deflated 61%)\n",
            "  adding: 6360C022_220C0636.json (deflated 63%)\n",
            "  adding: 6620C022_220C0266.json (deflated 69%)\n",
            "  adding: 6650C022_220C0566.json (deflated 56%)\n",
            "  adding: 6720C022_220C0276.json (deflated 62%)\n",
            "  adding: 7120C022_220C0217.json (deflated 69%)\n",
            "  adding: 7230C022_220C0327.json (deflated 60%)\n",
            "  adding: 7320C022_220C0237.json (deflated 63%)\n",
            "  adding: 7350C022_220C0537.json (deflated 60%)\n",
            "  adding: 7480C022_220C0847.json (deflated 63%)\n",
            "  adding: 7570C022_220C0757.json (deflated 62%)\n",
            "  adding: 7620C022_220C0267.json (deflated 60%)\n",
            "  adding: 7780C022_220C0877.json (deflated 60%)\n",
            "  adding: 7800C022_220C0087.json (deflated 58%)\n",
            "  adding: 7820C022_220C0287.json (deflated 57%)\n",
            "  adding: 7910C022_220C0197.json (deflated 63%)\n",
            "  adding: 8030C022_220C0308.json (deflated 53%)\n",
            "  adding: 8120C022_220C0218.json (deflated 71%)\n",
            "  adding: 8140C022_220C0418.json (deflated 53%)\n",
            "  adding: 8330C022_220C0338.json (deflated 64%)\n",
            "  adding: 8340C022_220C0438.json (deflated 60%)\n",
            "  adding: 8350C022_220C0538.json (deflated 69%)\n",
            "  adding: 8400C022_220C0048.json (deflated 64%)\n",
            "  adding: 8430C022_220C0348.json (deflated 59%)\n",
            "  adding: 8470C022_220C0748.json (deflated 58%)\n",
            "  adding: 8570C022_220C0758.json (deflated 67%)\n",
            "  adding: 8780C022_220C0878.json (deflated 57%)\n",
            "  adding: 8840C022_220C0488.json (deflated 61%)\n",
            "  adding: 8850C022_220C0588.json (deflated 60%)\n",
            "  adding: 8980C022_220C0898.json (deflated 69%)\n",
            "  adding: 9140C022_220C0419.json (deflated 66%)\n",
            "  adding: 9150C022_220C0519.json (deflated 58%)\n",
            "  adding: 9320C022_220C0239.json (deflated 60%)\n",
            "  adding: 9330C022_220C0339.json (deflated 59%)\n",
            "  adding: 9530C022_220C0359.json (deflated 64%)\n",
            "  adding: 9610C022_220C0169.json (deflated 59%)\n",
            "  adding: 9670C022_220C0769.json (deflated 56%)\n",
            "  adding: 9900C022_220C0099.json (deflated 65%)\n"
          ],
          "name": "stdout"
        }
      ]
    },
    {
      "cell_type": "code",
      "metadata": {
        "id": "Zd8U4Hu3JyAj",
        "colab_type": "code",
        "colab": {}
      },
      "source": [
        "from google.colab import files\n",
        "files.download('dataset.zip') "
      ],
      "execution_count": 0,
      "outputs": []
    },
    {
      "cell_type": "code",
      "metadata": {
        "id": "vxZGXdRdj1eu",
        "colab_type": "code",
        "colab": {}
      },
      "source": [
        "train_data = []\n",
        "for x in w.to_annot:\n",
        "  entities = [tuple(ent) for ent in  x[\"entities\"]]\n",
        "  train_data.append((x['text'], {'entities' : entities}))\n",
        "labels = ['ISSUER', 'FIRM', 'NUMBER', 'PERCENT', 'TYPE', 'DIRECTION', 'DATE']\n",
        "test_data = train_data[:20]\n",
        "train_data = train_data[20:]"
      ],
      "execution_count": 0,
      "outputs": []
    },
    {
      "cell_type": "code",
      "metadata": {
        "id": "huoXcIdQmGgR",
        "colab_type": "code",
        "outputId": "bada17a2-4474-47d5-8782-b962699e0777",
        "colab": {
          "base_uri": "https://localhost:8080/",
          "height": 689
        }
      },
      "source": [
        "import random\n",
        "import spacy\n",
        "from spacy.util import minibatch, compounding\n",
        "import fr_core_news_md\n",
        "\n",
        "n_iter=40\n",
        "nlp = fr_core_news_md.load()\n",
        "ner = nlp.get_pipe(\"ner\")\n",
        "for label in labels:\n",
        "  ner.add_label(label)\n",
        "optimizer = nlp.resume_training()\n",
        "pipe_exceptions = [\"ner\"]\n",
        "other_pipes = [pipe for pipe in nlp.pipe_names if pipe not in pipe_exceptions]\n",
        "with nlp.disable_pipes(*other_pipes):  # only train NER\n",
        "  sizes = compounding(1.0, 4.0, 1.001)\n",
        "  # batch up the examples using spaCy's minibatch\n",
        "  for itn in range(n_iter):\n",
        "    random.shuffle(train_data)\n",
        "    batches = minibatch(train_data, size=sizes)\n",
        "    losses = {}\n",
        "    for batch in batches:\n",
        "      texts, annotations = zip(*batch)\n",
        "      nlp.update(texts, annotations, sgd=optimizer, drop=0.35, losses=losses)\n",
        "    print(\"Losses\", losses)\n",
        "  score = nlp.evaluate(test_data)"
      ],
      "execution_count": 126,
      "outputs": [
        {
          "output_type": "stream",
          "text": [
            "Losses {'ner': 24153.311322573623}\n",
            "Losses {'ner': 21956.77616430167}\n",
            "Losses {'ner': 21095.319226328982}\n",
            "Losses {'ner': 20915.89358788007}\n",
            "Losses {'ner': 20341.8768022554}\n",
            "Losses {'ner': 20376.460788355136}\n",
            "Losses {'ner': 20473.29834162764}\n",
            "Losses {'ner': 19986.079776601866}\n",
            "Losses {'ner': 20032.236200794578}\n",
            "Losses {'ner': 19993.376051470637}\n",
            "Losses {'ner': 19884.37486579269}\n",
            "Losses {'ner': 19876.99413263239}\n",
            "Losses {'ner': 19670.586275116773}\n",
            "Losses {'ner': 19888.504910320044}\n",
            "Losses {'ner': 20032.260424580425}\n",
            "Losses {'ner': 19838.610898643732}\n",
            "Losses {'ner': 19535.02372944355}\n",
            "Losses {'ner': 19414.968142852187}\n",
            "Losses {'ner': 19859.80466152313}\n",
            "Losses {'ner': 19817.922621201724}\n",
            "Losses {'ner': 19697.961311161518}\n",
            "Losses {'ner': 19763.562167316675}\n",
            "Losses {'ner': 19933.950015082955}\n",
            "Losses {'ner': 20020.320873498917}\n",
            "Losses {'ner': 19875.48264312744}\n",
            "Losses {'ner': 19750.648679971695}\n",
            "Losses {'ner': 20029.822446227074}\n",
            "Losses {'ner': 20609.802905127406}\n",
            "Losses {'ner': 19863.536083094776}\n",
            "Losses {'ner': 21008.9805842638}\n",
            "Losses {'ner': 19645.23442530632}\n",
            "Losses {'ner': 20915.349229097366}\n",
            "Losses {'ner': 20098.708127260208}\n",
            "Losses {'ner': 20003.124249577522}\n",
            "Losses {'ner': 20676.88711810112}\n",
            "Losses {'ner': 19646.39208423358}\n",
            "Losses {'ner': 21271.794964313507}\n",
            "Losses {'ner': 20138.37919485569}\n",
            "Losses {'ner': 20236.31075692177}\n",
            "Losses {'ner': 20238.986664533615}\n"
          ],
          "name": "stdout"
        }
      ]
    },
    {
      "cell_type": "code",
      "metadata": {
        "id": "VFcObvF2aK7q",
        "colab_type": "code",
        "colab": {
          "base_uri": "https://localhost:8080/",
          "height": 54
        },
        "outputId": "50c0f3cf-1e57-4547-9226-43a17d097763"
      },
      "source": [
        "print(score.scores)"
      ],
      "execution_count": 128,
      "outputs": [
        {
          "output_type": "stream",
          "text": [
            "{'uas': 0.0, 'las': 0.0, 'las_per_type': {'': {'p': 0.0, 'r': 0.0, 'f': 0.0}}, 'ents_p': 92.62295081967213, 'ents_r': 94.9579831932773, 'ents_f': 93.7759336099585, 'ents_per_type': {'ISSUER': {'p': 84.61538461538461, 'r': 100.0, 'f': 91.66666666666666}, 'NUMBER': {'p': 92.85714285714286, 'r': 100.0, 'f': 96.2962962962963}, 'FIRM': {'p': 100.0, 'r': 68.75, 'f': 81.48148148148148}, 'DIRECTION': {'p': 100.0, 'r': 100.0, 'f': 100.0}, 'PERCENT': {'p': 100.0, 'r': 100.0, 'f': 100.0}, 'TYPE': {'p': 93.10344827586206, 'r': 100.0, 'f': 96.42857142857143}, 'DATE': {'p': 90.47619047619048, 'r': 95.0, 'f': 92.68292682926828}}, 'tags_acc': 0.0, 'token_acc': 100.0, 'textcat_score': 0.0, 'textcats_per_cat': {}}\n"
          ],
          "name": "stdout"
        }
      ]
    },
    {
      "cell_type": "code",
      "metadata": {
        "id": "EjbCTab3wApL",
        "colab_type": "code",
        "outputId": "37818aa3-cf0d-4eea-c585-0e8779ace500",
        "colab": {
          "base_uri": "https://localhost:8080/",
          "height": 670
        }
      },
      "source": [
        "from spacy import displacy\n",
        "doc = nlp(pdfs[0]['text'])\n",
        "displacy.render(doc, style='ent', jupyter=True)"
      ],
      "execution_count": 119,
      "outputs": [
        {
          "output_type": "display_data",
          "data": {
            "text/html": [
              "<span class=\"tex2jax_ignore\"><div class=\"entities\" style=\"line-height: 2.5; direction: ltr\">220C0700-FR0000034639-FS0185            220C0700 FR0000034639-FS0185 \n",
              "<mark class=\"entity\" style=\"background: #bfe1d9; padding: 0.45em 0.6em; margin: 0 0.25em; line-height: 1; border-radius: 0.35em;\">\n",
              "    21 février 2020\n",
              "    <span style=\"font-size: 0.8em; font-weight: bold; line-height: 1; border-radius: 0.35em; text-transform: uppercase; vertical-align: middle; margin-left: 0.5rem\">DATE</span>\n",
              "</mark>\n",
              "   Déclaration de franchissement de seuils (article L. 233-7 du code de commerce)   \n",
              "<mark class=\"entity\" style=\"background: #ddd; padding: 0.45em 0.6em; margin: 0 0.25em; line-height: 1; border-radius: 0.35em;\">\n",
              "    ALTRAN TECHNOLOGIES\n",
              "    <span style=\"font-size: 0.8em; font-weight: bold; line-height: 1; border-radius: 0.35em; text-transform: uppercase; vertical-align: middle; margin-left: 0.5rem\">ISSUER</span>\n",
              "</mark>\n",
              "  (Euronext Paris)   Par courrier reçu le \n",
              "<mark class=\"entity\" style=\"background: #bfe1d9; padding: 0.45em 0.6em; margin: 0 0.25em; line-height: 1; border-radius: 0.35em;\">\n",
              "    20 février 2020\n",
              "    <span style=\"font-size: 0.8em; font-weight: bold; line-height: 1; border-radius: 0.35em; text-transform: uppercase; vertical-align: middle; margin-left: 0.5rem\">DATE</span>\n",
              "</mark>\n",
              ", complété par un courrier reçu le \n",
              "<mark class=\"entity\" style=\"background: #bfe1d9; padding: 0.45em 0.6em; margin: 0 0.25em; line-height: 1; border-radius: 0.35em;\">\n",
              "    21 février,\n",
              "    <span style=\"font-size: 0.8em; font-weight: bold; line-height: 1; border-radius: 0.35em; text-transform: uppercase; vertical-align: middle; margin-left: 0.5rem\">DATE</span>\n",
              "</mark>\n",
              " la société \n",
              "<mark class=\"entity\" style=\"background: #ddd; padding: 0.45em 0.6em; margin: 0 0.25em; line-height: 1; border-radius: 0.35em;\">\n",
              "    Bank of America Corporation (Corporation Trust Center\n",
              "    <span style=\"font-size: 0.8em; font-weight: bold; line-height: 1; border-radius: 0.35em; text-transform: uppercase; vertical-align: middle; margin-left: 0.5rem\">FIRM</span>\n",
              "</mark>\n",
              ", Orange Street, Wilmington, DE 19801, Etats-Unis) a déclaré avoir franchi \n",
              "<mark class=\"entity\" style=\"background: #ddd; padding: 0.45em 0.6em; margin: 0 0.25em; line-height: 1; border-radius: 0.35em;\">\n",
              "    en hausse\n",
              "    <span style=\"font-size: 0.8em; font-weight: bold; line-height: 1; border-radius: 0.35em; text-transform: uppercase; vertical-align: middle; margin-left: 0.5rem\">DIRECTION</span>\n",
              "</mark>\n",
              ", indirectement par l’intermédiaire des sociétés qu’elle contrôle, le \n",
              "<mark class=\"entity\" style=\"background: #bfe1d9; padding: 0.45em 0.6em; margin: 0 0.25em; line-height: 1; border-radius: 0.35em;\">\n",
              "    17 février 2020\n",
              "    <span style=\"font-size: 0.8em; font-weight: bold; line-height: 1; border-radius: 0.35em; text-transform: uppercase; vertical-align: middle; margin-left: 0.5rem\">DATE</span>\n",
              "</mark>\n",
              ", les seuils de \n",
              "<mark class=\"entity\" style=\"background: #e4e7d2; padding: 0.45em 0.6em; margin: 0 0.25em; line-height: 1; border-radius: 0.35em;\">\n",
              "    5%\n",
              "    <span style=\"font-size: 0.8em; font-weight: bold; line-height: 1; border-radius: 0.35em; text-transform: uppercase; vertical-align: middle; margin-left: 0.5rem\">PERCENT</span>\n",
              "</mark>\n",
              " du \n",
              "<mark class=\"entity\" style=\"background: #ddd; padding: 0.45em 0.6em; margin: 0 0.25em; line-height: 1; border-radius: 0.35em;\">\n",
              "    capital\n",
              "    <span style=\"font-size: 0.8em; font-weight: bold; line-height: 1; border-radius: 0.35em; text-transform: uppercase; vertical-align: middle; margin-left: 0.5rem\">TYPE</span>\n",
              "</mark>\n",
              " et des \n",
              "<mark class=\"entity\" style=\"background: #ddd; padding: 0.45em 0.6em; margin: 0 0.25em; line-height: 1; border-radius: 0.35em;\">\n",
              "    droits de vote\n",
              "    <span style=\"font-size: 0.8em; font-weight: bold; line-height: 1; border-radius: 0.35em; text-transform: uppercase; vertical-align: middle; margin-left: 0.5rem\">TYPE</span>\n",
              "</mark>\n",
              " de la société \n",
              "<mark class=\"entity\" style=\"background: #ddd; padding: 0.45em 0.6em; margin: 0 0.25em; line-height: 1; border-radius: 0.35em;\">\n",
              "    ALTRAN TECHNOLOGIES\n",
              "    <span style=\"font-size: 0.8em; font-weight: bold; line-height: 1; border-radius: 0.35em; text-transform: uppercase; vertical-align: middle; margin-left: 0.5rem\">ISSUER</span>\n",
              "</mark>\n",
              " et détenir \n",
              "<mark class=\"entity\" style=\"background: #ddd; padding: 0.45em 0.6em; margin: 0 0.25em; line-height: 1; border-radius: 0.35em;\">\n",
              "    14 377 895\n",
              "    <span style=\"font-size: 0.8em; font-weight: bold; line-height: 1; border-radius: 0.35em; text-transform: uppercase; vertical-align: middle; margin-left: 0.5rem\">NUMBER</span>\n",
              "</mark>\n",
              " \n",
              "<mark class=\"entity\" style=\"background: #ddd; padding: 0.45em 0.6em; margin: 0 0.25em; line-height: 1; border-radius: 0.35em;\">\n",
              "    actions\n",
              "    <span style=\"font-size: 0.8em; font-weight: bold; line-height: 1; border-radius: 0.35em; text-transform: uppercase; vertical-align: middle; margin-left: 0.5rem\">TYPE</span>\n",
              "</mark>\n",
              " \n",
              "<mark class=\"entity\" style=\"background: #ddd; padding: 0.45em 0.6em; margin: 0 0.25em; line-height: 1; border-radius: 0.35em;\">\n",
              "    ALTRAN TECHNOLOGIES\n",
              "    <span style=\"font-size: 0.8em; font-weight: bold; line-height: 1; border-radius: 0.35em; text-transform: uppercase; vertical-align: middle; margin-left: 0.5rem\">ISSUER</span>\n",
              "</mark>\n",
              " représentant autant de droits de vote, soit \n",
              "<mark class=\"entity\" style=\"background: #e4e7d2; padding: 0.45em 0.6em; margin: 0 0.25em; line-height: 1; border-radius: 0.35em;\">\n",
              "    5,59%\n",
              "    <span style=\"font-size: 0.8em; font-weight: bold; line-height: 1; border-radius: 0.35em; text-transform: uppercase; vertical-align: middle; margin-left: 0.5rem\">PERCENT</span>\n",
              "</mark>\n",
              " du \n",
              "<mark class=\"entity\" style=\"background: #ddd; padding: 0.45em 0.6em; margin: 0 0.25em; line-height: 1; border-radius: 0.35em;\">\n",
              "    capital\n",
              "    <span style=\"font-size: 0.8em; font-weight: bold; line-height: 1; border-radius: 0.35em; text-transform: uppercase; vertical-align: middle; margin-left: 0.5rem\">TYPE</span>\n",
              "</mark>\n",
              " et \n",
              "<mark class=\"entity\" style=\"background: #e4e7d2; padding: 0.45em 0.6em; margin: 0 0.25em; line-height: 1; border-radius: 0.35em;\">\n",
              "    5,58%\n",
              "    <span style=\"font-size: 0.8em; font-weight: bold; line-height: 1; border-radius: 0.35em; text-transform: uppercase; vertical-align: middle; margin-left: 0.5rem\">PERCENT</span>\n",
              "</mark>\n",
              " des \n",
              "<mark class=\"entity\" style=\"background: #ddd; padding: 0.45em 0.6em; margin: 0 0.25em; line-height: 1; border-radius: 0.35em;\">\n",
              "    droits de vote\n",
              "    <span style=\"font-size: 0.8em; font-weight: bold; line-height: 1; border-radius: 0.35em; text-transform: uppercase; vertical-align: middle; margin-left: 0.5rem\">TYPE</span>\n",
              "</mark>\n",
              " de cette société1, répartis comme suit :   Actions % capital Droits de vote % droits de vote Merrill Lynch International 14 101 661 5,49 14 101 661 5,47 BofA Securities Europe SA 276 021 0,11 276 021 0,11 BofA Securities, Inc. 213 ns 213 ns Total Bank of America Corporation 14 377 895 5,59 14 377 895 5,58  Ce franchissement de seuils résulte d’une acquisition d’actions ALTRAN TECHNOLOGIES sur le marché et d’une augmentation du nombre d’actions \n",
              "<mark class=\"entity\" style=\"background: #ddd; padding: 0.45em 0.6em; margin: 0 0.25em; line-height: 1; border-radius: 0.35em;\">\n",
              "    ALTRAN TECHNOLOGIES\n",
              "    <span style=\"font-size: 0.8em; font-weight: bold; line-height: 1; border-radius: 0.35em; text-transform: uppercase; vertical-align: middle; margin-left: 0.5rem\">ISSUER</span>\n",
              "</mark>\n",
              " détenues à titre d’emprunts et de swaps.  À cette occasion, la société \n",
              "<mark class=\"entity\" style=\"background: #ddd; padding: 0.45em 0.6em; margin: 0 0.25em; line-height: 1; border-radius: 0.35em;\">\n",
              "    Merrill Lynch International\n",
              "    <span style=\"font-size: 0.8em; font-weight: bold; line-height: 1; border-radius: 0.35em; text-transform: uppercase; vertical-align: middle; margin-left: 0.5rem\">FIRM</span>\n",
              "</mark>\n",
              " a déclaré avoir franchi individuellement \n",
              "<mark class=\"entity\" style=\"background: #ddd; padding: 0.45em 0.6em; margin: 0 0.25em; line-height: 1; border-radius: 0.35em;\">\n",
              "    en hausse\n",
              "    <span style=\"font-size: 0.8em; font-weight: bold; line-height: 1; border-radius: 0.35em; text-transform: uppercase; vertical-align: middle; margin-left: 0.5rem\">DIRECTION</span>\n",
              "</mark>\n",
              " les mêmes seuils.  Au titre de l’article L. 233-9 I, 4° du code de commerce et de l’article 223-14 IV du règlement général :  - la société \n",
              "<mark class=\"entity\" style=\"background: #ddd; padding: 0.45em 0.6em; margin: 0 0.25em; line-height: 1; border-radius: 0.35em;\">\n",
              "    Merrill Lynch International\n",
              "    <span style=\"font-size: 0.8em; font-weight: bold; line-height: 1; border-radius: 0.35em; text-transform: uppercase; vertical-align: middle; margin-left: 0.5rem\">FIRM</span>\n",
              "</mark>\n",
              " a précisé détenir \n",
              "<mark class=\"entity\" style=\"background: #ddd; padding: 0.45em 0.6em; margin: 0 0.25em; line-height: 1; border-radius: 0.35em;\">\n",
              "    13 784 025\n",
              "    <span style=\"font-size: 0.8em; font-weight: bold; line-height: 1; border-radius: 0.35em; text-transform: uppercase; vertical-align: middle; margin-left: 0.5rem\">NUMBER</span>\n",
              "</mark>\n",
              " \n",
              "<mark class=\"entity\" style=\"background: #ddd; padding: 0.45em 0.6em; margin: 0 0.25em; line-height: 1; border-radius: 0.35em;\">\n",
              "    actions\n",
              "    <span style=\"font-size: 0.8em; font-weight: bold; line-height: 1; border-radius: 0.35em; text-transform: uppercase; vertical-align: middle; margin-left: 0.5rem\">TYPE</span>\n",
              "</mark>\n",
              " \n",
              "<mark class=\"entity\" style=\"background: #ddd; padding: 0.45em 0.6em; margin: 0 0.25em; line-height: 1; border-radius: 0.35em;\">\n",
              "    ALTRAN TECHNOLOGIES\n",
              "    <span style=\"font-size: 0.8em; font-weight: bold; line-height: 1; border-radius: 0.35em; text-transform: uppercase; vertical-align: middle; margin-left: 0.5rem\">ISSUER</span>\n",
              "</mark>\n",
              " (prises en compte dans la détention par assimilation visée ci-dessus) résultant de la conclusion d’un contrat avec un tiers (propriétaire desdites actions) conférant le droit à la société \n",
              "<mark class=\"entity\" style=\"background: #ddd; padding: 0.45em 0.6em; margin: 0 0.25em; line-height: 1; border-radius: 0.35em;\">\n",
              "    Merrill Lynch International\n",
              "    <span style=\"font-size: 0.8em; font-weight: bold; line-height: 1; border-radius: 0.35em; text-transform: uppercase; vertical-align: middle; margin-left: 0.5rem\">FIRM</span>\n",
              "</mark>\n",
              " d’utiliser lesdites actions à tout moment ; et  - la société \n",
              "<mark class=\"entity\" style=\"background: #ddd; padding: 0.45em 0.6em; margin: 0 0.25em; line-height: 1; border-radius: 0.35em;\">\n",
              "    BofA Securities Europe SA\n",
              "    <span style=\"font-size: 0.8em; font-weight: bold; line-height: 1; border-radius: 0.35em; text-transform: uppercase; vertical-align: middle; margin-left: 0.5rem\">FIRM</span>\n",
              "</mark>\n",
              " a précisé détenir \n",
              "<mark class=\"entity\" style=\"background: #ddd; padding: 0.45em 0.6em; margin: 0 0.25em; line-height: 1; border-radius: 0.35em;\">\n",
              "    274 482\n",
              "    <span style=\"font-size: 0.8em; font-weight: bold; line-height: 1; border-radius: 0.35em; text-transform: uppercase; vertical-align: middle; margin-left: 0.5rem\">NUMBER</span>\n",
              "</mark>\n",
              " \n",
              "<mark class=\"entity\" style=\"background: #ddd; padding: 0.45em 0.6em; margin: 0 0.25em; line-height: 1; border-radius: 0.35em;\">\n",
              "    actions\n",
              "    <span style=\"font-size: 0.8em; font-weight: bold; line-height: 1; border-radius: 0.35em; text-transform: uppercase; vertical-align: middle; margin-left: 0.5rem\">TYPE</span>\n",
              "</mark>\n",
              " ALTRAN TECHNOLOGIES (prises en compte dans la détention par assimilation visée ci-dessus) résultant de la conclusion d’un contrat avec un tiers (propriétaire desdites actions) conférant le droit à la société \n",
              "<mark class=\"entity\" style=\"background: #ddd; padding: 0.45em 0.6em; margin: 0 0.25em; line-height: 1; border-radius: 0.35em;\">\n",
              "    BofA Securities Europe SA\n",
              "    <span style=\"font-size: 0.8em; font-weight: bold; line-height: 1; border-radius: 0.35em; text-transform: uppercase; vertical-align: middle; margin-left: 0.5rem\">FIRM</span>\n",
              "</mark>\n",
              " d’utiliser lesdites actions à tout moment.  En outre, au titre de l’article L. 233-9 I, 4° bis du code de commerce et de l’article 223-14 V du règlement général, la société \n",
              "<mark class=\"entity\" style=\"background: #ddd; padding: 0.45em 0.6em; margin: 0 0.25em; line-height: 1; border-radius: 0.35em;\">\n",
              "    Merrill Lynch International\n",
              "    <span style=\"font-size: 0.8em; font-weight: bold; line-height: 1; border-radius: 0.35em; text-transform: uppercase; vertical-align: middle; margin-left: 0.5rem\">FIRM</span>\n",
              "</mark>\n",
              " a précisé détenir \n",
              "<mark class=\"entity\" style=\"background: #ddd; padding: 0.45em 0.6em; margin: 0 0.25em; line-height: 1; border-radius: 0.35em;\">\n",
              "    17 749\n",
              "    <span style=\"font-size: 0.8em; font-weight: bold; line-height: 1; border-radius: 0.35em; text-transform: uppercase; vertical-align: middle; margin-left: 0.5rem\">NUMBER</span>\n",
              "</mark>\n",
              " \n",
              "<mark class=\"entity\" style=\"background: #ddd; padding: 0.45em 0.6em; margin: 0 0.25em; line-height: 1; border-radius: 0.35em;\">\n",
              "    actions\n",
              "    <span style=\"font-size: 0.8em; font-weight: bold; line-height: 1; border-radius: 0.35em; text-transform: uppercase; vertical-align: middle; margin-left: 0.5rem\">TYPE</span>\n",
              "</mark>\n",
              " \n",
              "<mark class=\"entity\" style=\"background: #ddd; padding: 0.45em 0.6em; margin: 0 0.25em; line-height: 1; border-radius: 0.35em;\">\n",
              "    ALTRAN TECHNOLOGIES\n",
              "    <span style=\"font-size: 0.8em; font-weight: bold; line-height: 1; border-radius: 0.35em; text-transform: uppercase; vertical-align: middle; margin-left: 0.5rem\">ISSUER</span>\n",
              "</mark>\n",
              " (prises en compte au premier alinéa)2 au titre de contrats « cash-settled equity swap » à dénouement en espèces, exerçables à tout moment et d’échéances entre le \n",
              "<mark class=\"entity\" style=\"background: #bfe1d9; padding: 0.45em 0.6em; margin: 0 0.25em; line-height: 1; border-radius: 0.35em;\">\n",
              "    26 octobre 2020\n",
              "    <span style=\"font-size: 0.8em; font-weight: bold; line-height: 1; border-radius: 0.35em; text-transform: uppercase; vertical-align: middle; margin-left: 0.5rem\">DATE</span>\n",
              "</mark>\n",
              " et le \n",
              "<mark class=\"entity\" style=\"background: #bfe1d9; padding: 0.45em 0.6em; margin: 0 0.25em; line-height: 1; border-radius: 0.35em;\">\n",
              "    30 octobre 2020\n",
              "    <span style=\"font-size: 0.8em; font-weight: bold; line-height: 1; border-radius: 0.35em; text-transform: uppercase; vertical-align: middle; margin-left: 0.5rem\">DATE</span>\n",
              "</mark>\n",
              ". _______                                                            1 Sur la base d'un capital composé de \n",
              "<mark class=\"entity\" style=\"background: #ddd; padding: 0.45em 0.6em; margin: 0 0.25em; line-height: 1; border-radius: 0.35em;\">\n",
              "    257 021 105\n",
              "    <span style=\"font-size: 0.8em; font-weight: bold; line-height: 1; border-radius: 0.35em; text-transform: uppercase; vertical-align: middle; margin-left: 0.5rem\">NUMBER</span>\n",
              "</mark>\n",
              " \n",
              "<mark class=\"entity\" style=\"background: #ddd; padding: 0.45em 0.6em; margin: 0 0.25em; line-height: 1; border-radius: 0.35em;\">\n",
              "    actions\n",
              "    <span style=\"font-size: 0.8em; font-weight: bold; line-height: 1; border-radius: 0.35em; text-transform: uppercase; vertical-align: middle; margin-left: 0.5rem\">TYPE</span>\n",
              "</mark>\n",
              " représentant \n",
              "<mark class=\"entity\" style=\"background: #ddd; padding: 0.45em 0.6em; margin: 0 0.25em; line-height: 1; border-radius: 0.35em;\">\n",
              "    257 652 732\n",
              "    <span style=\"font-size: 0.8em; font-weight: bold; line-height: 1; border-radius: 0.35em; text-transform: uppercase; vertical-align: middle; margin-left: 0.5rem\">NUMBER</span>\n",
              "</mark>\n",
              " \n",
              "<mark class=\"entity\" style=\"background: #ddd; padding: 0.45em 0.6em; margin: 0 0.25em; line-height: 1; border-radius: 0.35em;\">\n",
              "    droits de vote\n",
              "    <span style=\"font-size: 0.8em; font-weight: bold; line-height: 1; border-radius: 0.35em; text-transform: uppercase; vertical-align: middle; margin-left: 0.5rem\">TYPE</span>\n",
              "</mark>\n",
              ", en application du 2ème alinéa de l’article 223-11 du règlement général. 2 Sur la base d’un delta de 1. \f</div></span>"
            ],
            "text/plain": [
              "<IPython.core.display.HTML object>"
            ]
          },
          "metadata": {
            "tags": []
          }
        }
      ]
    },
    {
      "cell_type": "code",
      "metadata": {
        "id": "o37phzn34Y4z",
        "colab_type": "code",
        "outputId": "f08b2140-48ab-40ba-f6f8-4da0509431d9",
        "colab": {
          "base_uri": "https://localhost:8080/",
          "height": 218
        }
      },
      "source": [
        "!pip install tabula-py"
      ],
      "execution_count": 0,
      "outputs": [
        {
          "output_type": "stream",
          "text": [
            "Collecting tabula-py\n",
            "\u001b[?25l  Downloading https://files.pythonhosted.org/packages/53/a4/66add528eca00398af98f181772006750019eb9f2d68c7c6fdd53ba661c5/tabula_py-2.1.0-py3-none-any.whl (10.4MB)\n",
            "\u001b[K     |████████████████████████████████| 10.4MB 3.3MB/s \n",
            "\u001b[?25hCollecting distro\n",
            "  Downloading https://files.pythonhosted.org/packages/25/b7/b3c4270a11414cb22c6352ebc7a83aaa3712043be29daa05018fd5a5c956/distro-1.5.0-py2.py3-none-any.whl\n",
            "Requirement already satisfied: numpy in /usr/local/lib/python3.6/dist-packages (from tabula-py) (1.18.2)\n",
            "Requirement already satisfied: pandas>=0.25.3 in /usr/local/lib/python3.6/dist-packages (from tabula-py) (0.25.3)\n",
            "Requirement already satisfied: pytz>=2017.2 in /usr/local/lib/python3.6/dist-packages (from pandas>=0.25.3->tabula-py) (2018.9)\n",
            "Requirement already satisfied: python-dateutil>=2.6.1 in /usr/local/lib/python3.6/dist-packages (from pandas>=0.25.3->tabula-py) (2.8.1)\n",
            "Requirement already satisfied: six>=1.5 in /usr/local/lib/python3.6/dist-packages (from python-dateutil>=2.6.1->pandas>=0.25.3->tabula-py) (1.12.0)\n",
            "Installing collected packages: distro, tabula-py\n",
            "Successfully installed distro-1.5.0 tabula-py-2.1.0\n"
          ],
          "name": "stdout"
        }
      ]
    },
    {
      "cell_type": "code",
      "metadata": {
        "id": "zXNXlRcB4aJK",
        "colab_type": "code",
        "outputId": "2a33522a-9e0a-4794-ebb4-faa418713959",
        "colab": {
          "base_uri": "https://localhost:8080/",
          "height": 134
        }
      },
      "source": [
        "from tabula import read_pdf\n",
        "\n",
        "list_pdf = list(pdfs.keys())\n",
        "df = read_pdf(list_pdf[0], pages='all')"
      ],
      "execution_count": 0,
      "outputs": [
        {
          "output_type": "stream",
          "text": [
            "Got stderr: Mar 31, 2020 7:14:33 AM org.apache.pdfbox.pdmodel.font.PDTrueTypeFont <init>\n",
            "WARNING: Using fallback font 'LiberationSerif' for 'TimesNewRomanPSMT'\n",
            "Mar 31, 2020 7:14:33 AM org.apache.pdfbox.pdmodel.font.PDTrueTypeFont <init>\n",
            "WARNING: Using fallback font 'LiberationSerif-Bold' for 'TimesNewRomanPS-BoldMT'\n",
            "Mar 31, 2020 7:14:33 AM org.apache.pdfbox.pdmodel.font.PDTrueTypeFont <init>\n",
            "WARNING: Using fallback font 'LiberationSerif-Italic' for 'TimesNewRomanPS-ItalicMT'\n",
            "\n"
          ],
          "name": "stderr"
        }
      ]
    },
    {
      "cell_type": "code",
      "metadata": {
        "id": "-Q6N-eY44oXZ",
        "colab_type": "code",
        "outputId": "97df4064-bd12-4775-c895-852308a1294e",
        "colab": {
          "base_uri": "https://localhost:8080/",
          "height": 171
        }
      },
      "source": [
        "import pandas as pd\n",
        "for d in df:\n",
        "  if not d.empty:\n",
        "    print(d)\n",
        "    table_str = \"\"\n",
        "    for c in d.columns:\n",
        "      if not \"Unnamed:\" in c:\n",
        "        table_str += c + \" \"\n",
        "    for _, r in d.iterrows():\n",
        "      for c in d.columns:\n",
        "        if pd.notna(r[c]):\n",
        "          table_str += r[c] + \" \"\n",
        "    print(table_str)"
      ],
      "execution_count": 0,
      "outputs": [
        {
          "output_type": "stream",
          "text": [
            "                          Unnamed: 0  Unnamed: 1  ... % droits de vot Unnamed: 10\n",
            "0        Merrill Lynch International  14 101 661  ...             NaN         NaN\n",
            "1          BofA Securities Europe SA     276 021  ...             NaN         NaN\n",
            "2              BofA Securities, Inc.         213  ...             NaN         NaN\n",
            "3  Total Bank of America Corporation  14 377 895  ...             NaN         NaN\n",
            "\n",
            "[4 rows x 15 columns]\n",
            "Actions % capita Droits de vote % droits de vot Merrill Lynch International 14 101 661 5,49 14 101 661 5,47 BofA Securities Europe SA 276 021 0,11 276 021 0,11 BofA Securities, Inc. 213 ns 213 ns Total Bank of America Corporation 14 377 895 5,59 14 377 895 5,58 \n"
          ],
          "name": "stdout"
        }
      ]
    },
    {
      "cell_type": "code",
      "metadata": {
        "id": "xRUb3PW4kogs",
        "colab_type": "code",
        "colab": {}
      },
      "source": [
        "import json\n",
        "with open(\"texts.json\", \"w+\") as f:\n",
        "  json.dump(pdfs, f)\n"
      ],
      "execution_count": 0,
      "outputs": []
    },
    {
      "cell_type": "code",
      "metadata": {
        "id": "GuSgyIg1e4FK",
        "colab_type": "code",
        "colab": {}
      },
      "source": [
        "with open(\"texts.txt\", \"w+\") as f:\n",
        "  f.write(pdfs[list_pdf[0]]['text'])"
      ],
      "execution_count": 0,
      "outputs": []
    },
    {
      "cell_type": "code",
      "metadata": {
        "id": "w8RnwkbZjJID",
        "colab_type": "code",
        "outputId": "0cd41e97-7694-44ec-9574-a88416e7f16e",
        "colab": {
          "base_uri": "https://localhost:8080/",
          "height": 272
        }
      },
      "source": [
        "import spacy\n",
        "import fr_core_news_sm\n",
        "import fr_core_news_md\n",
        "\n",
        "#nlp = fr_core_news_sm.load()\n",
        "#nlp = fr_core_news_md.load()\n",
        "\n",
        "doc = nlp(train_data[0][0])\n",
        "for sent in doc.sents:\n",
        "    print(sent)\n",
        "\n"
      ],
      "execution_count": 24,
      "outputs": [
        {
          "output_type": "stream",
          "text": [
            " 220C0490-CH0308403085-FS0132             220C0490 CH0308403085-FS0132 6 février 2020   \n",
            "Déclaration de franchissement de seuils (article L. 233\n",
            "-7 du code de commerce)    GENEURO\n",
            "SA  (Euronext Paris)    Par courrier reçu le 5 février 2020, complété par un courrier reçu le 6 février, la société Invesco Ltd.\n",
            "(Invesco Head Quarters, Two Peachtree Pointe 1555 Peachtree St, Suite 1800 Atlanta, Georgie, Etats\n",
            "-Unis), agissant pour le compte du fonds Invesco Advisers, Inc.\n",
            "dont elle assure la gestion, a déclaré avoir franchi en hausse, le 4 février 2020, les seuils 5% du capital et des droits de vote de la société GENEURO SA et détenir, pour le compte dudit fonds, 1 661 017 actions GENEURO SA représentant autant de droits de vote, soit 8,07% du capital et des droits de vote de cette société1.  \n",
            "Ce franchissement de seuils résulte de la souscription à l’augmentation de capital de la société GENEURO SA2.  \n",
            "________                                                            1 Sur la base d’un capital composé de 20 590 319 actions représentant autant de droits de vote, en application du 2ème alinéa de l’article 223\n",
            "-11 du règlement général.\n",
            "2 Cf.\n",
            "notamment prospectus n° 20\n",
            "-024 visé par l’AMF le 31 janvier 2020 et communiqué de la société GENEURO SA\n",
            "du 31 janvier 2020. \f\n"
          ],
          "name": "stdout"
        }
      ]
    },
    {
      "cell_type": "code",
      "metadata": {
        "id": "0iqmE_92qKZs",
        "colab_type": "code",
        "outputId": "1433645c-6156-4649-9631-35877c8c20e3",
        "colab": {
          "base_uri": "https://localhost:8080/",
          "height": 622
        }
      },
      "source": [
        "for i in range(len(train_data[0][1]['entities'])):\n",
        "  s, e, _ = train_data[0][1]['entities'][i]\n",
        "  print(train_data[0][0][s:e])\n"
      ],
      "execution_count": 0,
      "outputs": [
        {
          "output_type": "stream",
          "text": [
            "21 février 2020\n",
            "ALTRAN TECHNOLOGIES\n",
            "20 février 2020\n",
            "21 février\n",
            "Bank of America Corporation\n",
            "en hausse\n",
            "17 février 2020\n",
            "5%\n",
            "capital\n",
            "droits de vote\n",
            "ALTRAN TECHNOLOGIES\n",
            "14 377 895\n",
            "actions\n",
            "ALTRAN TECHNOLOGIES\n",
            "5,59%\n",
            "capital\n",
            "5,58%\n",
            "droits de vote\n",
            "ALTRAN TECHNOLOGIES\n",
            "ALTRAN TECHNOLOGIES\n",
            "Merrill Lynch International\n",
            "en hausse\n",
            "Merrill Lynch International\n",
            "13 784 025\n",
            "actions\n",
            "ALTRAN TECHNOLOGIES\n",
            "Merrill Lynch International\n",
            "BofA Securities Europe SA\n",
            "274 482\n",
            "actions\n",
            "ALTRAN TECHNOLOGIES\n",
            "BofA Securities Europe SA\n",
            "Merrill Lynch International\n",
            "17 749\n",
            "actions\n",
            "ALTRAN TECHNOLOGIES\n"
          ],
          "name": "stdout"
        }
      ]
    },
    {
      "cell_type": "code",
      "metadata": {
        "id": "Ax9rMBtFmL36",
        "colab_type": "code",
        "outputId": "3c754412-adfd-44f0-f358-b758fa9bbca2",
        "colab": {
          "base_uri": "https://localhost:8080/",
          "height": 670
        }
      },
      "source": [
        "from spacy import displacy\n",
        "displacy.render(doc, style='ent', jupyter=True)"
      ],
      "execution_count": 60,
      "outputs": [
        {
          "output_type": "display_data",
          "data": {
            "text/html": [
              "<span class=\"tex2jax_ignore\"><div class=\"entities\" style=\"line-height: 2.5; direction: ltr\"> 220C0901-FR0013181864-FS0254              220C0901 FR0013181864-FS0254 \n",
              "<mark class=\"entity\" style=\"background: #bfe1d9; padding: 0.45em 0.6em; margin: 0 0.25em; line-height: 1; border-radius: 0.35em;\">\n",
              "    10 mars 2020\n",
              "    <span style=\"font-size: 0.8em; font-weight: bold; line-height: 1; border-radius: 0.35em; text-transform: uppercase; vertical-align: middle; margin-left: 0.5rem\">DATE</span>\n",
              "</mark>\n",
              "   Déclaration de franchissement de seuils (article L. 233-7 du code de commerce)    \n",
              "<mark class=\"entity\" style=\"background: #ddd; padding: 0.45em 0.6em; margin: 0 0.25em; line-height: 1; border-radius: 0.35em;\">\n",
              "    CGG\n",
              "    <span style=\"font-size: 0.8em; font-weight: bold; line-height: 1; border-radius: 0.35em; text-transform: uppercase; vertical-align: middle; margin-left: 0.5rem\">ISSUER</span>\n",
              "</mark>\n",
              "  (Euronext Paris)   Par courrier reçu le \n",
              "<mark class=\"entity\" style=\"background: #bfe1d9; padding: 0.45em 0.6em; margin: 0 0.25em; line-height: 1; border-radius: 0.35em;\">\n",
              "    9 mars 2020\n",
              "    <span style=\"font-size: 0.8em; font-weight: bold; line-height: 1; border-radius: 0.35em; text-transform: uppercase; vertical-align: middle; margin-left: 0.5rem\">DATE</span>\n",
              "</mark>\n",
              ", la société \n",
              "<mark class=\"entity\" style=\"background: #ddd; padding: 0.45em 0.6em; margin: 0 0.25em; line-height: 1; border-radius: 0.35em;\">\n",
              "    Morgan Stanley Corp.\n",
              "    <span style=\"font-size: 0.8em; font-weight: bold; line-height: 1; border-radius: 0.35em; text-transform: uppercase; vertical-align: middle; margin-left: 0.5rem\">FIRM</span>\n",
              "</mark>\n",
              " (c/o The Corporation Trust Company (DE), \n",
              "<mark class=\"entity\" style=\"background: #ddd; padding: 0.45em 0.6em; margin: 0 0.25em; line-height: 1; border-radius: 0.35em;\">\n",
              "    Corporation Trust Center\n",
              "    <span style=\"font-size: 0.8em; font-weight: bold; line-height: 1; border-radius: 0.35em; text-transform: uppercase; vertical-align: middle; margin-left: 0.5rem\">FIRM</span>\n",
              "</mark>\n",
              ", 1209 Orange Street, Wilmington, Delaware DE 19801, Etats-Unis), a déclaré avoir franchi, \n",
              "<mark class=\"entity\" style=\"background: #ddd; padding: 0.45em 0.6em; margin: 0 0.25em; line-height: 1; border-radius: 0.35em;\">\n",
              "    en hausse\n",
              "    <span style=\"font-size: 0.8em; font-weight: bold; line-height: 1; border-radius: 0.35em; text-transform: uppercase; vertical-align: middle; margin-left: 0.5rem\">DIRECTION</span>\n",
              "</mark>\n",
              ", le \n",
              "<mark class=\"entity\" style=\"background: #bfe1d9; padding: 0.45em 0.6em; margin: 0 0.25em; line-height: 1; border-radius: 0.35em;\">\n",
              "    20 février 2020\n",
              "    <span style=\"font-size: 0.8em; font-weight: bold; line-height: 1; border-radius: 0.35em; text-transform: uppercase; vertical-align: middle; margin-left: 0.5rem\">DATE</span>\n",
              "</mark>\n",
              ", indirectement par l’intermédiaire de ses filiales, les seuils de \n",
              "<mark class=\"entity\" style=\"background: #e4e7d2; padding: 0.45em 0.6em; margin: 0 0.25em; line-height: 1; border-radius: 0.35em;\">\n",
              "    5%\n",
              "    <span style=\"font-size: 0.8em; font-weight: bold; line-height: 1; border-radius: 0.35em; text-transform: uppercase; vertical-align: middle; margin-left: 0.5rem\">PERCENT</span>\n",
              "</mark>\n",
              " du \n",
              "<mark class=\"entity\" style=\"background: #ddd; padding: 0.45em 0.6em; margin: 0 0.25em; line-height: 1; border-radius: 0.35em;\">\n",
              "    capital\n",
              "    <span style=\"font-size: 0.8em; font-weight: bold; line-height: 1; border-radius: 0.35em; text-transform: uppercase; vertical-align: middle; margin-left: 0.5rem\">TYPE</span>\n",
              "</mark>\n",
              " et des \n",
              "<mark class=\"entity\" style=\"background: #ddd; padding: 0.45em 0.6em; margin: 0 0.25em; line-height: 1; border-radius: 0.35em;\">\n",
              "    droits de vote\n",
              "    <span style=\"font-size: 0.8em; font-weight: bold; line-height: 1; border-radius: 0.35em; text-transform: uppercase; vertical-align: middle; margin-left: 0.5rem\">TYPE</span>\n",
              "</mark>\n",
              " de la société \n",
              "<mark class=\"entity\" style=\"background: #ddd; padding: 0.45em 0.6em; margin: 0 0.25em; line-height: 1; border-radius: 0.35em;\">\n",
              "    CGG\n",
              "    <span style=\"font-size: 0.8em; font-weight: bold; line-height: 1; border-radius: 0.35em; text-transform: uppercase; vertical-align: middle; margin-left: 0.5rem\">ISSUER</span>\n",
              "</mark>\n",
              " et détenir indirectement \n",
              "<mark class=\"entity\" style=\"background: #ddd; padding: 0.45em 0.6em; margin: 0 0.25em; line-height: 1; border-radius: 0.35em;\">\n",
              "    35 588 487\n",
              "    <span style=\"font-size: 0.8em; font-weight: bold; line-height: 1; border-radius: 0.35em; text-transform: uppercase; vertical-align: middle; margin-left: 0.5rem\">NUMBER</span>\n",
              "</mark>\n",
              " \n",
              "<mark class=\"entity\" style=\"background: #ddd; padding: 0.45em 0.6em; margin: 0 0.25em; line-height: 1; border-radius: 0.35em;\">\n",
              "    actions\n",
              "    <span style=\"font-size: 0.8em; font-weight: bold; line-height: 1; border-radius: 0.35em; text-transform: uppercase; vertical-align: middle; margin-left: 0.5rem\">TYPE</span>\n",
              "</mark>\n",
              " \n",
              "<mark class=\"entity\" style=\"background: #ddd; padding: 0.45em 0.6em; margin: 0 0.25em; line-height: 1; border-radius: 0.35em;\">\n",
              "    CGG\n",
              "    <span style=\"font-size: 0.8em; font-weight: bold; line-height: 1; border-radius: 0.35em; text-transform: uppercase; vertical-align: middle; margin-left: 0.5rem\">ISSUER</span>\n",
              "</mark>\n",
              " représentant autant de droits de vote, soit \n",
              "<mark class=\"entity\" style=\"background: #e4e7d2; padding: 0.45em 0.6em; margin: 0 0.25em; line-height: 1; border-radius: 0.35em;\">\n",
              "    5,01%\n",
              "    <span style=\"font-size: 0.8em; font-weight: bold; line-height: 1; border-radius: 0.35em; text-transform: uppercase; vertical-align: middle; margin-left: 0.5rem\">PERCENT</span>\n",
              "</mark>\n",
              " du \n",
              "<mark class=\"entity\" style=\"background: #ddd; padding: 0.45em 0.6em; margin: 0 0.25em; line-height: 1; border-radius: 0.35em;\">\n",
              "    capital\n",
              "    <span style=\"font-size: 0.8em; font-weight: bold; line-height: 1; border-radius: 0.35em; text-transform: uppercase; vertical-align: middle; margin-left: 0.5rem\">TYPE</span>\n",
              "</mark>\n",
              " et des \n",
              "<mark class=\"entity\" style=\"background: #ddd; padding: 0.45em 0.6em; margin: 0 0.25em; line-height: 1; border-radius: 0.35em;\">\n",
              "    droits de vote\n",
              "    <span style=\"font-size: 0.8em; font-weight: bold; line-height: 1; border-radius: 0.35em; text-transform: uppercase; vertical-align: middle; margin-left: 0.5rem\">TYPE</span>\n",
              "</mark>\n",
              " de cette société1, répartis comme suit :   Actions % capital Droits de vote % droits de vote Morgan Stanley &amp; Co. International plc. 34 833 077 4,91 34 833 077 4,91 Morgan Stanley France S.A 575 615 0,08 575 615 0,08 Morgan Stanley Europe SE 170 093 0,02 170 093 0,02 Morgan Stanley &amp; Co. LLC 9 702 ns 9 702 ns Total Morgan Stanley Corp. 35 588 487 5,01 35 588 487 5,01  Ce franchissement de seuils résulte d’une acquisition d’actions \n",
              "<mark class=\"entity\" style=\"background: #ddd; padding: 0.45em 0.6em; margin: 0 0.25em; line-height: 1; border-radius: 0.35em;\">\n",
              "    CGG\n",
              "    <span style=\"font-size: 0.8em; font-weight: bold; line-height: 1; border-radius: 0.35em; text-transform: uppercase; vertical-align: middle; margin-left: 0.5rem\">ISSUER</span>\n",
              "</mark>\n",
              " sur le marché et hors marché, au résultat de laquelle l’exemption de trading ne s’applique plus pour le déclarant (cf. article 223-13 I, 2° du règlement général).  Au titre de l’article L. 233-9 I, 6° du code de commerce :  - la société \n",
              "<mark class=\"entity\" style=\"background: #ddd; padding: 0.45em 0.6em; margin: 0 0.25em; line-height: 1; border-radius: 0.35em;\">\n",
              "    Morgan Stanley &amp; Co.\n",
              "    <span style=\"font-size: 0.8em; font-weight: bold; line-height: 1; border-radius: 0.35em; text-transform: uppercase; vertical-align: middle; margin-left: 0.5rem\">FIRM</span>\n",
              "</mark>\n",
              " LLC a précisé détenir \n",
              "<mark class=\"entity\" style=\"background: #ddd; padding: 0.45em 0.6em; margin: 0 0.25em; line-height: 1; border-radius: 0.35em;\">\n",
              "    9 702\n",
              "    <span style=\"font-size: 0.8em; font-weight: bold; line-height: 1; border-radius: 0.35em; text-transform: uppercase; vertical-align: middle; margin-left: 0.5rem\">NUMBER</span>\n",
              "</mark>\n",
              " \n",
              "<mark class=\"entity\" style=\"background: #ddd; padding: 0.45em 0.6em; margin: 0 0.25em; line-height: 1; border-radius: 0.35em;\">\n",
              "    actions\n",
              "    <span style=\"font-size: 0.8em; font-weight: bold; line-height: 1; border-radius: 0.35em; text-transform: uppercase; vertical-align: middle; margin-left: 0.5rem\">TYPE</span>\n",
              "</mark>\n",
              " \n",
              "<mark class=\"entity\" style=\"background: #ddd; padding: 0.45em 0.6em; margin: 0 0.25em; line-height: 1; border-radius: 0.35em;\">\n",
              "    CGG\n",
              "    <span style=\"font-size: 0.8em; font-weight: bold; line-height: 1; border-radius: 0.35em; text-transform: uppercase; vertical-align: middle; margin-left: 0.5rem\">ISSUER</span>\n",
              "</mark>\n",
              " au titre d’un contrat de « right to recall » portant sur autant d’actions \n",
              "<mark class=\"entity\" style=\"background: #ddd; padding: 0.45em 0.6em; margin: 0 0.25em; line-height: 1; border-radius: 0.35em;\">\n",
              "    CGG\n",
              "    <span style=\"font-size: 0.8em; font-weight: bold; line-height: 1; border-radius: 0.35em; text-transform: uppercase; vertical-align: middle; margin-left: 0.5rem\">ISSUER</span>\n",
              "</mark>\n",
              " (prise en compte dans la détention visée ci-dessus) et lui permettant de rappeler à tout moment les actions visées par le contrat ;  - la société \n",
              "<mark class=\"entity\" style=\"background: #ddd; padding: 0.45em 0.6em; margin: 0 0.25em; line-height: 1; border-radius: 0.35em;\">\n",
              "    Morgan Stanley Europe SE\n",
              "    <span style=\"font-size: 0.8em; font-weight: bold; line-height: 1; border-radius: 0.35em; text-transform: uppercase; vertical-align: middle; margin-left: 0.5rem\">FIRM</span>\n",
              "</mark>\n",
              " a précisé détenir \n",
              "<mark class=\"entity\" style=\"background: #ddd; padding: 0.45em 0.6em; margin: 0 0.25em; line-height: 1; border-radius: 0.35em;\">\n",
              "    170 093\n",
              "    <span style=\"font-size: 0.8em; font-weight: bold; line-height: 1; border-radius: 0.35em; text-transform: uppercase; vertical-align: middle; margin-left: 0.5rem\">NUMBER</span>\n",
              "</mark>\n",
              " \n",
              "<mark class=\"entity\" style=\"background: #ddd; padding: 0.45em 0.6em; margin: 0 0.25em; line-height: 1; border-radius: 0.35em;\">\n",
              "    actions\n",
              "    <span style=\"font-size: 0.8em; font-weight: bold; line-height: 1; border-radius: 0.35em; text-transform: uppercase; vertical-align: middle; margin-left: 0.5rem\">TYPE</span>\n",
              "</mark>\n",
              " \n",
              "<mark class=\"entity\" style=\"background: #ddd; padding: 0.45em 0.6em; margin: 0 0.25em; line-height: 1; border-radius: 0.35em;\">\n",
              "    CGG\n",
              "    <span style=\"font-size: 0.8em; font-weight: bold; line-height: 1; border-radius: 0.35em; text-transform: uppercase; vertical-align: middle; margin-left: 0.5rem\">ISSUER</span>\n",
              "</mark>\n",
              " au titre d’un contrat de « right to recall » portant sur autant d’actions \n",
              "<mark class=\"entity\" style=\"background: #ddd; padding: 0.45em 0.6em; margin: 0 0.25em; line-height: 1; border-radius: 0.35em;\">\n",
              "    CGG\n",
              "    <span style=\"font-size: 0.8em; font-weight: bold; line-height: 1; border-radius: 0.35em; text-transform: uppercase; vertical-align: middle; margin-left: 0.5rem\">ISSUER</span>\n",
              "</mark>\n",
              " (prise en compte dans la détention visée ci-dessus) et lui permettant de rappeler à tout moment les actions visées par le contrat ; et  - la société \n",
              "<mark class=\"entity\" style=\"background: #ddd; padding: 0.45em 0.6em; margin: 0 0.25em; line-height: 1; border-radius: 0.35em;\">\n",
              "    Morgan Stanley &amp; Co.\n",
              "    <span style=\"font-size: 0.8em; font-weight: bold; line-height: 1; border-radius: 0.35em; text-transform: uppercase; vertical-align: middle; margin-left: 0.5rem\">FIRM</span>\n",
              "</mark>\n",
              " International plc a précisé détenir \n",
              "<mark class=\"entity\" style=\"background: #ddd; padding: 0.45em 0.6em; margin: 0 0.25em; line-height: 1; border-radius: 0.35em;\">\n",
              "    31 223\n",
              "    <span style=\"font-size: 0.8em; font-weight: bold; line-height: 1; border-radius: 0.35em; text-transform: uppercase; vertical-align: middle; margin-left: 0.5rem\">NUMBER</span>\n",
              "</mark>\n",
              " \n",
              "<mark class=\"entity\" style=\"background: #ddd; padding: 0.45em 0.6em; margin: 0 0.25em; line-height: 1; border-radius: 0.35em;\">\n",
              "    actions\n",
              "    <span style=\"font-size: 0.8em; font-weight: bold; line-height: 1; border-radius: 0.35em; text-transform: uppercase; vertical-align: middle; margin-left: 0.5rem\">TYPE</span>\n",
              "</mark>\n",
              " \n",
              "<mark class=\"entity\" style=\"background: #ddd; padding: 0.45em 0.6em; margin: 0 0.25em; line-height: 1; border-radius: 0.35em;\">\n",
              "    CGG\n",
              "    <span style=\"font-size: 0.8em; font-weight: bold; line-height: 1; border-radius: 0.35em; text-transform: uppercase; vertical-align: middle; margin-left: 0.5rem\">ISSUER</span>\n",
              "</mark>\n",
              " au titre d’un contrat de « right to recall » portant sur autant d’actions \n",
              "<mark class=\"entity\" style=\"background: #ddd; padding: 0.45em 0.6em; margin: 0 0.25em; line-height: 1; border-radius: 0.35em;\">\n",
              "    CGG\n",
              "    <span style=\"font-size: 0.8em; font-weight: bold; line-height: 1; border-radius: 0.35em; text-transform: uppercase; vertical-align: middle; margin-left: 0.5rem\">ISSUER</span>\n",
              "</mark>\n",
              " (prise en compte dans la détention visée ci-dessus) et lui permettant de rappeler à tout moment les actions visées par le contrat.  Au titre de l’article L. 233-9, I, 4° bis du code de commerce et de l’article 223-14 V du règlement général, la société \n",
              "<mark class=\"entity\" style=\"background: #ddd; padding: 0.45em 0.6em; margin: 0 0.25em; line-height: 1; border-radius: 0.35em;\">\n",
              "    Morgan Stanley &amp; Co.\n",
              "    <span style=\"font-size: 0.8em; font-weight: bold; line-height: 1; border-radius: 0.35em; text-transform: uppercase; vertical-align: middle; margin-left: 0.5rem\">FIRM</span>\n",
              "</mark>\n",
              " International plc a précisé détenir par assimilation \n",
              "<mark class=\"entity\" style=\"background: #ddd; padding: 0.45em 0.6em; margin: 0 0.25em; line-height: 1; border-radius: 0.35em;\">\n",
              "    171 500\n",
              "    <span style=\"font-size: 0.8em; font-weight: bold; line-height: 1; border-radius: 0.35em; text-transform: uppercase; vertical-align: middle; margin-left: 0.5rem\">NUMBER</span>\n",
              "</mark>\n",
              " \n",
              "<mark class=\"entity\" style=\"background: #ddd; padding: 0.45em 0.6em; margin: 0 0.25em; line-height: 1; border-radius: 0.35em;\">\n",
              "    actions\n",
              "    <span style=\"font-size: 0.8em; font-weight: bold; line-height: 1; border-radius: 0.35em; text-transform: uppercase; vertical-align: middle; margin-left: 0.5rem\">TYPE</span>\n",
              "</mark>\n",
              " \n",
              "<mark class=\"entity\" style=\"background: #ddd; padding: 0.45em 0.6em; margin: 0 0.25em; line-height: 1; border-radius: 0.35em;\">\n",
              "    CGG2\n",
              "    <span style=\"font-size: 0.8em; font-weight: bold; line-height: 1; border-radius: 0.35em; text-transform: uppercase; vertical-align: middle; margin-left: 0.5rem\">ISSUER</span>\n",
              "</mark>\n",
              " (comprises dans la détention visée au 1er paragraphe), résultant de la détention d’un contrat « equity swap » à dénouement en espèces, exerçables à tout moment jusqu’au \n",
              "<mark class=\"entity\" style=\"background: #bfe1d9; padding: 0.45em 0.6em; margin: 0 0.25em; line-height: 1; border-radius: 0.35em;\">\n",
              "    16 mars 2020\n",
              "    <span style=\"font-size: 0.8em; font-weight: bold; line-height: 1; border-radius: 0.35em; text-transform: uppercase; vertical-align: middle; margin-left: 0.5rem\">DATE</span>\n",
              "</mark>\n",
              ". _______                                                            1 Sur la base d'un capital composé de \n",
              "<mark class=\"entity\" style=\"background: #ddd; padding: 0.45em 0.6em; margin: 0 0.25em; line-height: 1; border-radius: 0.35em;\">\n",
              "    709 960 012\n",
              "    <span style=\"font-size: 0.8em; font-weight: bold; line-height: 1; border-radius: 0.35em; text-transform: uppercase; vertical-align: middle; margin-left: 0.5rem\">NUMBER</span>\n",
              "</mark>\n",
              " \n",
              "<mark class=\"entity\" style=\"background: #ddd; padding: 0.45em 0.6em; margin: 0 0.25em; line-height: 1; border-radius: 0.35em;\">\n",
              "    actions\n",
              "    <span style=\"font-size: 0.8em; font-weight: bold; line-height: 1; border-radius: 0.35em; text-transform: uppercase; vertical-align: middle; margin-left: 0.5rem\">TYPE</span>\n",
              "</mark>\n",
              " représentant \n",
              "<mark class=\"entity\" style=\"background: #ddd; padding: 0.45em 0.6em; margin: 0 0.25em; line-height: 1; border-radius: 0.35em;\">\n",
              "    710 098 578\n",
              "    <span style=\"font-size: 0.8em; font-weight: bold; line-height: 1; border-radius: 0.35em; text-transform: uppercase; vertical-align: middle; margin-left: 0.5rem\">NUMBER</span>\n",
              "</mark>\n",
              " \n",
              "<mark class=\"entity\" style=\"background: #ddd; padding: 0.45em 0.6em; margin: 0 0.25em; line-height: 1; border-radius: 0.35em;\">\n",
              "    droits de vote\n",
              "    <span style=\"font-size: 0.8em; font-weight: bold; line-height: 1; border-radius: 0.35em; text-transform: uppercase; vertical-align: middle; margin-left: 0.5rem\">TYPE</span>\n",
              "</mark>\n",
              ", en application du 2ème alinéa de l’article 223-11 I du règlement général. 2 Sur la base d’un delta de 1. \f</div></span>"
            ],
            "text/plain": [
              "<IPython.core.display.HTML object>"
            ]
          },
          "metadata": {
            "tags": []
          }
        }
      ]
    },
    {
      "cell_type": "code",
      "metadata": {
        "id": "Vk0K908-qd-u",
        "colab_type": "code",
        "outputId": "84f53fb5-5d69-4738-e1cd-2633dbc844bb",
        "colab": {
          "base_uri": "https://localhost:8080/",
          "height": 956
        }
      },
      "source": [
        "for chunk in doc.noun_chunks:\n",
        "    print(chunk.text, chunk.label_, chunk.root.text)\n",
        " "
      ],
      "execution_count": 0,
      "outputs": [
        {
          "output_type": "stream",
          "text": [
            "220C0170-FR0012407096-OP028-AS12-RO02            220C0170 FR0012407096-OP028-AS12-RO02 14 janvier 2020    NP 220C0170-FR0012407096-OP028-AS12-RO02\n",
            "- Mise en œuvre du retrait obligatoire visant les actions de la société.   NP Mise\n",
            "- Maintien de la suspension de la cotation des actions de la société.     NP Maintien\n",
            "Euronext Paris NP Euronext\n",
            "Le 13 janvier 2020 NP janvier\n",
            "l’Autorité des marchés financiers NP Autorité\n",
            "d’achat simplifiée NP achat\n",
            "les actions ITS GROUP NP actions\n",
            "la société ITS Participations NP société\n",
            "actions ITS GROUP NP actions\n",
            "de droits de vote NP droits\n",
            "des droits de vote de cette société2 NP droits\n",
            "cf NP cf\n",
            "D&I 220C0149 en date du 13 janvier 2020).   NP D&I\n",
            "Les actions ITS GROUP non présentées à l’offre par les actionnaires minoritaires NP actions\n",
            "de 366 396 actions NP actions\n",
            "483 droits de vote, NP droits\n",
            "soit 4,65% du capital et 4,92% des droits de vote de cette société2 NP %\n",
            "2- Par courrier NP 2-\n",
            "de la société NP société\n",
            "ITS Participations NP Participations\n",
            "l’Autorité NP Autorité\n",
            "des marchés financiers de la décision d’ITS Participations de procéder NP marchés\n",
            "en œuvre NP œuvre\n",
            "d’un retrait obligatoire portant sur les actions ITS GROUP non apportées à l’offre, au prix de 6,62 € par action ITS GROUP, sur le fondement des articles L. 433-4 II du code monétaire et financier et 237-3 I NP retrait\n",
            ", 2° du règlement général NP °\n",
            "Les conditions NP conditions\n",
            "aux articles L. 433-4 II du code monétaire et financier et 237 NP articles\n",
            "3 du règlement général NP règlement\n",
            "les 366 396 actions ITS GROUP NP actions\n",
            "4,65% du capital et 4,92% des droits de vote de la société2 NP %\n",
            "de la conformité NP conformité\n",
            "du projet NP projet\n",
            "d’achat simplifiée NP achat\n",
            "l'Autorité NP Autorité\n",
            "des marchés financiers NP marchés\n",
            "du rapport d'évaluation de la banque présentatrice et du rapport de l'expert indépendant qui concluait à l'équité du prix offert dans la perspective d'un retrait obligatoire (cf NP rapport\n",
            "D&I 219C2792 NP D&I\n",
            "du 17 décembre 2019) ;   NP décembre\n",
            "le retrait obligatoire NP retrait\n",
            "le règlement en numéraire proposé lors de l’offre publique d’achat simplifiée, NP règlement\n",
            "soit 6,62 € par action ITS GROUP NP €\n",
            "le retrait obligatoire NP retrait\n",
            "par action net NP action\n",
            "de tout frais NP frais\n",
            "de cette société2 NP société2\n",
            "________                                                            1 En ce compris les 181 010 actions ITS GROUP en période de conservation et objets de promesses croisées conclues le 2 décembre 2019 (détention par assimilation NP _\n",
            "au titre NP titre\n",
            "des dispositions de l’article L. 233 NP dispositions\n",
            "-9 I, 4° du code de commerce) et les 431 616 actions ITS GROUP détenues en propre par la société (détention par assimilation au titre des dispositions de l’article L. 233 NP I\n",
            "-9 I, 2° du code de commerce). NP I\n",
            "2 Sur la base d’un capital composé de 7 874 555 actions représentant 7 896 642 droits de vote, en application du 2ème alinéa de l’article 223 NP base\n",
            "-11 du règlement général. \f NP règlement\n"
          ],
          "name": "stdout"
        }
      ]
    },
    {
      "cell_type": "code",
      "metadata": {
        "id": "-Kg1XhM_qvLb",
        "colab_type": "code",
        "colab": {
          "base_uri": "https://localhost:8080/",
          "height": 890
        },
        "outputId": "017354d9-da2b-4b5b-87b2-5eab0adf1121"
      },
      "source": [
        "for entity in doc.ents:\n",
        "    print(entity.start_char, entity.end_char, entity.label_)"
      ],
      "execution_count": 65,
      "outputs": [
        {
          "output_type": "stream",
          "text": [
            "72 86 DATE\n",
            "198 223 ISSUER\n",
            "267 281 DATE\n",
            "382 391 DIRECTION\n",
            "396 410 DATE\n",
            "460 516 FIRM\n",
            "520 523 PERCENT\n",
            "527 534 TYPE\n",
            "542 556 TYPE\n",
            "571 594 ISSUER\n",
            "637 647 NUMBER\n",
            "648 655 TYPE\n",
            "656 679 ISSUER\n",
            "724 730 PERCENT\n",
            "734 741 TYPE\n",
            "749 763 TYPE\n",
            "846 860 TYPE\n",
            "861 864 ISSUER\n",
            "882 895 NUMBER\n",
            "943 961 NUMBER\n",
            "1095 1099 ISSUER\n",
            "1115 1129 DATE\n",
            "1196 1210 ISSUER\n",
            "1216 1239 ISSUER\n",
            "1258 1261 ISSUER\n",
            "1480 1483 ISSUER\n",
            "1602 1605 ISSUER\n",
            "1618 1621 PERCENT\n",
            "1625 1632 TYPE\n",
            "1640 1654 TYPE\n",
            "1669 1721 ISSUER\n",
            "1751 1765 ISSUER\n",
            "1771 1794 ISSUER\n",
            "1813 1816 ISSUER\n",
            "1913 1916 ISSUER\n",
            "1920 1934 ISSUER\n",
            "1939 1953 DATE\n",
            "2096 2131 FIRM\n",
            "2159 2162 PERCENT\n",
            "2170 2210 FIRM\n",
            "2211 2214 PERCENT\n",
            "2221 2236 FIRM\n",
            "2330 2341 NUMBER\n",
            "2342 2349 TYPE\n",
            "2620 2634 DATE\n",
            "2674 2677 ISSUER\n",
            "2839 2862 ISSUER\n",
            "2970 2993 ISSUER\n",
            "3046 3069 ISSUER\n",
            "3465 3488 ISSUER\n",
            "3587 3614 FIRM\n",
            "3672 3695 ISSUER\n"
          ],
          "name": "stdout"
        }
      ]
    },
    {
      "cell_type": "code",
      "metadata": {
        "id": "m7ATVXb4S1bF",
        "colab_type": "code",
        "colab": {}
      },
      "source": [
        ""
      ],
      "execution_count": 0,
      "outputs": []
    }
  ]
}