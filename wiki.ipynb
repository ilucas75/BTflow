{
  "nbformat": 4,
  "nbformat_minor": 0,
  "metadata": {
    "colab": {
      "name": "wiki.ipynb",
      "provenance": [],
      "authorship_tag": "ABX9TyOu4EBmZGIBnpt3M82yW/C8",
      "include_colab_link": true
    },
    "kernelspec": {
      "name": "python3",
      "display_name": "Python 3"
    }
  },
  "cells": [
    {
      "cell_type": "markdown",
      "metadata": {
        "id": "view-in-github",
        "colab_type": "text"
      },
      "source": [
        "<a href=\"https://colab.research.google.com/github/ilucas75/BTflow/blob/dev/wiki.ipynb\" target=\"_parent\"><img src=\"https://colab.research.google.com/assets/colab-badge.svg\" alt=\"Open In Colab\"/></a>"
      ]
    },
    {
      "cell_type": "code",
      "metadata": {
        "id": "sVUtQ_v2R8CU",
        "colab_type": "code",
        "colab": {}
      },
      "source": [
        "import urllib.parse\n",
        "import requests\n",
        "from google.colab import files\n",
        "import time\n",
        "import pandas as pd"
      ],
      "execution_count": 0,
      "outputs": []
    },
    {
      "cell_type": "code",
      "metadata": {
        "id": "yVrffaYRSSZo",
        "colab_type": "code",
        "colab": {
          "resources": {
            "http://localhost:8080/nbextensions/google.colab/files.js": {
              "data": "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",
              "ok": true,
              "headers": [
                [
                  "content-type",
                  "application/javascript"
                ]
              ],
              "status": 200,
              "status_text": "OK"
            }
          },
          "base_uri": "https://localhost:8080/",
          "height": 236
        },
        "outputId": "c55d6def-ab4a-4bde-82ad-8c25aeb994b9"
      },
      "source": [
        "uploaded = files.upload()"
      ],
      "execution_count": 3,
      "outputs": [
        {
          "output_type": "display_data",
          "data": {
            "text/html": [
              "\n",
              "     <input type=\"file\" id=\"files-9f0a1eaf-1483-4a3f-9a10-53b1aa0334bd\" name=\"files[]\" multiple disabled />\n",
              "     <output id=\"result-9f0a1eaf-1483-4a3f-9a10-53b1aa0334bd\">\n",
              "      Upload widget is only available when the cell has been executed in the\n",
              "      current browser session. Please rerun this cell to enable.\n",
              "      </output>\n",
              "      <script src=\"/nbextensions/google.colab/files.js\"></script> "
            ],
            "text/plain": [
              "<IPython.core.display.HTML object>"
            ]
          },
          "metadata": {
            "tags": []
          }
        },
        {
          "output_type": "stream",
          "text": [
            "Saving lei_cac40.csv to lei_cac40.csv\n"
          ],
          "name": "stdout"
        },
        {
          "output_type": "error",
          "ename": "KeyError",
          "evalue": "ignored",
          "traceback": [
            "\u001b[0;31m---------------------------------------------------------------------------\u001b[0m",
            "\u001b[0;31mKeyError\u001b[0m                                  Traceback (most recent call last)",
            "\u001b[0;32m<ipython-input-3-7a5ef605e04c>\u001b[0m in \u001b[0;36m<module>\u001b[0;34m()\u001b[0m\n\u001b[1;32m      1\u001b[0m \u001b[0muploaded\u001b[0m \u001b[0;34m=\u001b[0m \u001b[0mfiles\u001b[0m\u001b[0;34m.\u001b[0m\u001b[0mupload\u001b[0m\u001b[0;34m(\u001b[0m\u001b[0;34m)\u001b[0m\u001b[0;34m\u001b[0m\u001b[0;34m\u001b[0m\u001b[0m\n\u001b[0;32m----> 2\u001b[0;31m \u001b[0mdf\u001b[0m \u001b[0;34m=\u001b[0m \u001b[0mpd\u001b[0m\u001b[0;34m.\u001b[0m\u001b[0mread_csv\u001b[0m\u001b[0;34m(\u001b[0m\u001b[0muploaded\u001b[0m\u001b[0;34m[\u001b[0m\u001b[0;36m0\u001b[0m\u001b[0;34m]\u001b[0m\u001b[0;34m)\u001b[0m\u001b[0;34m\u001b[0m\u001b[0;34m\u001b[0m\u001b[0m\n\u001b[0m",
            "\u001b[0;31mKeyError\u001b[0m: 0"
          ]
        }
      ]
    },
    {
      "cell_type": "code",
      "metadata": {
        "id": "dKKCYtqAUcT7",
        "colab_type": "code",
        "colab": {}
      },
      "source": [
        "df = pd.read_csv(list(uploaded.keys())[0], sep=';')"
      ],
      "execution_count": 0,
      "outputs": []
    },
    {
      "cell_type": "code",
      "metadata": {
        "id": "BPt5RoymUdrg",
        "colab_type": "code",
        "colab": {
          "base_uri": "https://localhost:8080/",
          "height": 402
        },
        "outputId": "8c9f9e61-1152-4ac1-83b7-b1fd7cde929a"
      },
      "source": [
        "df"
      ],
      "execution_count": 10,
      "outputs": [
        {
          "output_type": "execute_result",
          "data": {
            "text/html": [
              "<div>\n",
              "<style scoped>\n",
              "    .dataframe tbody tr th:only-of-type {\n",
              "        vertical-align: middle;\n",
              "    }\n",
              "\n",
              "    .dataframe tbody tr th {\n",
              "        vertical-align: top;\n",
              "    }\n",
              "\n",
              "    .dataframe thead th {\n",
              "        text-align: right;\n",
              "    }\n",
              "</style>\n",
              "<table border=\"1\" class=\"dataframe\">\n",
              "  <thead>\n",
              "    <tr style=\"text-align: right;\">\n",
              "      <th></th>\n",
              "      <th>label</th>\n",
              "      <th>country</th>\n",
              "    </tr>\n",
              "  </thead>\n",
              "  <tbody>\n",
              "    <tr>\n",
              "      <th>0</th>\n",
              "      <td>BANQUE CENTRALE DE COMPENSATION</td>\n",
              "      <td>FR</td>\n",
              "    </tr>\n",
              "    <tr>\n",
              "      <th>1</th>\n",
              "      <td>European Central Counterparty N.V.</td>\n",
              "      <td>NL</td>\n",
              "    </tr>\n",
              "    <tr>\n",
              "      <th>2</th>\n",
              "      <td>MORGAN STANLEY &amp; CO. INTERNATIONAL PLC</td>\n",
              "      <td>GB</td>\n",
              "    </tr>\n",
              "    <tr>\n",
              "      <th>3</th>\n",
              "      <td>GOLDMAN SACHS INTERNATIONAL</td>\n",
              "      <td>GB</td>\n",
              "    </tr>\n",
              "    <tr>\n",
              "      <th>4</th>\n",
              "      <td>XTX MARKETS LIMITED</td>\n",
              "      <td>GB</td>\n",
              "    </tr>\n",
              "    <tr>\n",
              "      <th>...</th>\n",
              "      <td>...</td>\n",
              "      <td>...</td>\n",
              "    </tr>\n",
              "    <tr>\n",
              "      <th>92</th>\n",
              "      <td>CAPITAL RESEARCH COMPANY</td>\n",
              "      <td>US-CA</td>\n",
              "    </tr>\n",
              "    <tr>\n",
              "      <th>93</th>\n",
              "      <td>LCH.CLEARNET LLC</td>\n",
              "      <td>US-DE</td>\n",
              "    </tr>\n",
              "    <tr>\n",
              "      <th>94</th>\n",
              "      <td>BANCA IMI S.P.A. IN FORMA ABBREVIATA ANCHE SOL...</td>\n",
              "      <td>IT</td>\n",
              "    </tr>\n",
              "    <tr>\n",
              "      <th>95</th>\n",
              "      <td>OLIVETREE FINANCIAL LIMITED</td>\n",
              "      <td>GB</td>\n",
              "    </tr>\n",
              "    <tr>\n",
              "      <th>96</th>\n",
              "      <td>Nomura International PLC</td>\n",
              "      <td>GB</td>\n",
              "    </tr>\n",
              "  </tbody>\n",
              "</table>\n",
              "<p>97 rows × 2 columns</p>\n",
              "</div>"
            ],
            "text/plain": [
              "                                                label country\n",
              "0                     BANQUE CENTRALE DE COMPENSATION      FR\n",
              "1                  European Central Counterparty N.V.      NL\n",
              "2              MORGAN STANLEY & CO. INTERNATIONAL PLC      GB\n",
              "3                         GOLDMAN SACHS INTERNATIONAL      GB\n",
              "4                                 XTX MARKETS LIMITED      GB\n",
              "..                                                ...     ...\n",
              "92                           CAPITAL RESEARCH COMPANY   US-CA\n",
              "93                                   LCH.CLEARNET LLC   US-DE\n",
              "94  BANCA IMI S.P.A. IN FORMA ABBREVIATA ANCHE SOL...      IT\n",
              "95                        OLIVETREE FINANCIAL LIMITED      GB\n",
              "96                           Nomura International PLC      GB\n",
              "\n",
              "[97 rows x 2 columns]"
            ]
          },
          "metadata": {
            "tags": []
          },
          "execution_count": 10
        }
      ]
    },
    {
      "cell_type": "code",
      "metadata": {
        "id": "I4L2FrOtVTGf",
        "colab_type": "code",
        "colab": {
          "base_uri": "https://localhost:8080/",
          "height": 67
        },
        "outputId": "8fa8f8aa-1f93-4616-dd30-6943ae6f492c"
      },
      "source": [
        "r = df.iloc[3]\n",
        "label = urllib.parse.quote(r['label'])\n",
        "lang = r['country'].lower()\n",
        "if lang == 'gb' or lang.startswith('us-'):\n",
        "  lang = 'en'\n",
        "print(f\"https://{lang}.wikipedia.org/w/api.php?action=opensearch&search={label}\")\n",
        "resp = requests.get(f'https://{lang}.wikipedia.org/w/api.php?action=opensearch&search={label}')\n",
        "print(resp)\n",
        "print(resp.json()[1])"
      ],
      "execution_count": 28,
      "outputs": [
        {
          "output_type": "stream",
          "text": [
            "https://en.wikipedia.org/w/api.php?action=opensearch&search=GOLDMAN%20SACHS%20INTERNATIONAL\n",
            "<Response [200]>\n",
            "['Goldman Sachs International']\n"
          ],
          "name": "stdout"
        }
      ]
    },
    {
      "cell_type": "code",
      "metadata": {
        "id": "wuMrAhDpXmX9",
        "colab_type": "code",
        "colab": {
          "base_uri": "https://localhost:8080/",
          "height": 34
        },
        "outputId": "a31ce580-c6ef-4af5-c792-717907c11c4a"
      },
      "source": [
        "import urllib.parse\n",
        "label = urllib.parse.quote('MORGAN STANLEY & CO. INTERNATIONAL PLC')\n",
        "label"
      ],
      "execution_count": 22,
      "outputs": [
        {
          "output_type": "execute_result",
          "data": {
            "text/plain": [
              "'MORGAN%20STANLEY%20%26%20CO.%20INTERNATIONAL%20PLC'"
            ]
          },
          "metadata": {
            "tags": []
          },
          "execution_count": 22
        }
      ]
    },
    {
      "cell_type": "code",
      "metadata": {
        "id": "zFM_G_EpUwwm",
        "colab_type": "code",
        "colab": {
          "base_uri": "https://localhost:8080/",
          "height": 1000
        },
        "outputId": "e3e697cd-ecd5-4f4f-deb0-97dea3437148"
      },
      "source": [
        "s_lang = {}\n",
        "s_wiki_lang = {}\n",
        "s_en = {}\n",
        "s_wiki_en = {}\n",
        "error = {}\n",
        "for _, r in df.iterrows():\n",
        "  try:\n",
        "    label = urllib.parse.quote(r['label'])\n",
        "    lang = r['country'].lower()\n",
        "    if lang is in ['gb', 'vg'] or lang.startswith('us-'):\n",
        "      lang = 'en'\n",
        "    # search en\n",
        "    if lang != 'en':\n",
        "      print(f\"https://en.wikipedia.org/w/api.php?action=opensearch&search={label}\")\n",
        "      resp = requests.get(f'https://en.wikipedia.org/w/api.php?action=opensearch&search={label}')\n",
        "      print(resp)\n",
        "      resp_json = resp.json()\n",
        "      if len(resp_json[1]) != 0:\n",
        "        s_en[r['label']] = resp_json[1][0]\n",
        "        s_wiki_en[r['label']] = resp_json[3][0]\n",
        "    # search lang\n",
        "    print(f\"https://{lang}.wikipedia.org/w/api.php?action=opensearch&search={label}\")\n",
        "    resp = requests.get(f'https://{lang}.wikipedia.org/w/api.php?action=opensearch&search={label}')\n",
        "    print(resp)\n",
        "    resp_json = resp.json()\n",
        "    if len(resp_json[1]) != 0:\n",
        "      s_lang[r['label']] = resp_json[1][0]\n",
        "      s_wiki_lang[r['label']] = resp_json[3][0]\n",
        "  except Exception as e:\n",
        "    error[r['label']] = e\n",
        "  time.sleep(0.5)"
      ],
      "execution_count": 38,
      "outputs": [
        {
          "output_type": "stream",
          "text": [
            "https://en.wikipedia.org/w/api.php?action=opensearch&search=BANQUE%20CENTRALE%20DE%20COMPENSATION\n",
            "<Response [200]>\n",
            "https://fr.wikipedia.org/w/api.php?action=opensearch&search=BANQUE%20CENTRALE%20DE%20COMPENSATION\n",
            "<Response [200]>\n",
            "https://en.wikipedia.org/w/api.php?action=opensearch&search=European%20Central%20Counterparty%20N.V.\n",
            "<Response [200]>\n",
            "https://nl.wikipedia.org/w/api.php?action=opensearch&search=European%20Central%20Counterparty%20N.V.\n",
            "<Response [200]>\n",
            "https://en.wikipedia.org/w/api.php?action=opensearch&search=MORGAN%20STANLEY%20%26%20CO.%20INTERNATIONAL%20PLC\n",
            "<Response [200]>\n",
            "https://en.wikipedia.org/w/api.php?action=opensearch&search=GOLDMAN%20SACHS%20INTERNATIONAL\n",
            "<Response [200]>\n",
            "https://en.wikipedia.org/w/api.php?action=opensearch&search=XTX%20MARKETS%20LIMITED\n",
            "<Response [200]>\n",
            "https://en.wikipedia.org/w/api.php?action=opensearch&search=LCH%20LIMITED\n",
            "<Response [200]>\n",
            "https://en.wikipedia.org/w/api.php?action=opensearch&search=HRTEU%20LIMITED\n",
            "<Response [200]>\n",
            "https://ie.wikipedia.org/w/api.php?action=opensearch&search=HRTEU%20LIMITED\n",
            "<Response [200]>\n",
            "https://en.wikipedia.org/w/api.php?action=opensearch&search=CREDIT%20SUISSE%20SECURITIES%20%28EUROPE%29%20LIMITED\n",
            "<Response [200]>\n",
            "https://en.wikipedia.org/w/api.php?action=opensearch&search=J.P.%20MORGAN%20SECURITIES%20PLC\n",
            "<Response [200]>\n",
            "https://en.wikipedia.org/w/api.php?action=opensearch&search=SOCIETE%20GENERALE\n",
            "<Response [200]>\n",
            "https://fr.wikipedia.org/w/api.php?action=opensearch&search=SOCIETE%20GENERALE\n",
            "<Response [200]>\n",
            "https://en.wikipedia.org/w/api.php?action=opensearch&search=TOWER%20RESEARCH%20CAPITAL%20EUROPE%20B.V.\n",
            "<Response [200]>\n",
            "https://nl.wikipedia.org/w/api.php?action=opensearch&search=TOWER%20RESEARCH%20CAPITAL%20EUROPE%20B.V.\n",
            "<Response [200]>\n",
            "https://en.wikipedia.org/w/api.php?action=opensearch&search=Jump%20Trading%20Europe%20B.V.\n",
            "<Response [200]>\n",
            "https://nl.wikipedia.org/w/api.php?action=opensearch&search=Jump%20Trading%20Europe%20B.V.\n",
            "<Response [200]>\n",
            "https://en.wikipedia.org/w/api.php?action=opensearch&search=MORGAN%20STANLEY%20FRANCE\n",
            "<Response [200]>\n",
            "https://fr.wikipedia.org/w/api.php?action=opensearch&search=MORGAN%20STANLEY%20FRANCE\n",
            "<Response [200]>\n",
            "https://en.wikipedia.org/w/api.php?action=opensearch&search=CREDIT%20SUISSE%20SECURITIES%20SOCIEDAD%20DE%20VALORES%20SOCIEDAD%20ANONIMA\n",
            "<Response [200]>\n",
            "https://es.wikipedia.org/w/api.php?action=opensearch&search=CREDIT%20SUISSE%20SECURITIES%20SOCIEDAD%20DE%20VALORES%20SOCIEDAD%20ANONIMA\n",
            "<Response [200]>\n",
            "https://en.wikipedia.org/w/api.php?action=opensearch&search=CITADEL%20SECURITIES%20GCS%20%28IRELAND%29%20LIMITED\n",
            "<Response [200]>\n",
            "https://ie.wikipedia.org/w/api.php?action=opensearch&search=CITADEL%20SECURITIES%20GCS%20%28IRELAND%29%20LIMITED\n",
            "<Response [200]>\n",
            "https://en.wikipedia.org/w/api.php?action=opensearch&search=MERRILL%20LYNCH%20INTERNATIONAL\n",
            "<Response [200]>\n",
            "https://en.wikipedia.org/w/api.php?action=opensearch&search=Morgan%20Stanley%20Europe%20SE\n",
            "<Response [200]>\n",
            "https://de.wikipedia.org/w/api.php?action=opensearch&search=Morgan%20Stanley%20Europe%20SE\n",
            "<Response [200]>\n",
            "https://en.wikipedia.org/w/api.php?action=opensearch&search=CITIGROUP%20GLOBAL%20MARKETS%20LIMITED\n",
            "<Response [200]>\n",
            "https://en.wikipedia.org/w/api.php?action=opensearch&search=J.P.%20Morgan%20AG\n",
            "<Response [200]>\n",
            "https://de.wikipedia.org/w/api.php?action=opensearch&search=J.P.%20Morgan%20AG\n",
            "<Response [200]>\n",
            "https://en.wikipedia.org/w/api.php?action=opensearch&search=SIX%20x-clear%20AG\n",
            "<Response [200]>\n",
            "https://ch.wikipedia.org/w/api.php?action=opensearch&search=SIX%20x-clear%20AG\n",
            "<Response [200]>\n",
            "https://en.wikipedia.org/w/api.php?action=opensearch&search=UBS%20AG\n",
            "<Response [200]>\n",
            "https://ch.wikipedia.org/w/api.php?action=opensearch&search=UBS%20AG\n",
            "<Response [200]>\n",
            "https://en.wikipedia.org/w/api.php?action=opensearch&search=UBS%20Europe%20SE\n",
            "<Response [200]>\n",
            "https://de.wikipedia.org/w/api.php?action=opensearch&search=UBS%20Europe%20SE\n",
            "<Response [200]>\n",
            "https://en.wikipedia.org/w/api.php?action=opensearch&search=AVIVA%20INVESTORS%20GLOBAL%20SERVICES%20LIMITED\n",
            "<Response [200]>\n",
            "https://en.wikipedia.org/w/api.php?action=opensearch&search=JEFFERIES%20INTERNATIONAL%20LIMITED\n",
            "<Response [200]>\n",
            "https://en.wikipedia.org/w/api.php?action=opensearch&search=BARCLAYS%20CAPITAL%20SECURITIES%20LIMITED\n",
            "<Response [200]>\n",
            "https://en.wikipedia.org/w/api.php?action=opensearch&search=Citigroup%20Global%20Markets%20Europe%20AG\n",
            "<Response [200]>\n",
            "https://de.wikipedia.org/w/api.php?action=opensearch&search=Citigroup%20Global%20Markets%20Europe%20AG\n",
            "<Response [200]>\n",
            "https://en.wikipedia.org/w/api.php?action=opensearch&search=BOFA%20SECURITIES%20EUROPE%20SA\n",
            "<Response [200]>\n",
            "https://fr.wikipedia.org/w/api.php?action=opensearch&search=BOFA%20SECURITIES%20EUROPE%20SA\n",
            "<Response [200]>\n",
            "https://en.wikipedia.org/w/api.php?action=opensearch&search=INSTINET%20EUROPE%20LIMITED\n",
            "<Response [200]>\n",
            "https://en.wikipedia.org/w/api.php?action=opensearch&search=Optiver%20V.O.F.\n",
            "<Response [200]>\n",
            "https://nl.wikipedia.org/w/api.php?action=opensearch&search=Optiver%20V.O.F.\n",
            "<Response [200]>\n",
            "https://en.wikipedia.org/w/api.php?action=opensearch&search=BNP%20PARIBAS%20ARBITRAGE\n",
            "<Response [200]>\n",
            "https://fr.wikipedia.org/w/api.php?action=opensearch&search=BNP%20PARIBAS%20ARBITRAGE\n",
            "<Response [200]>\n",
            "https://en.wikipedia.org/w/api.php?action=opensearch&search=AVIVA%20INVESTORS%20FRANCE\n",
            "<Response [200]>\n",
            "https://fr.wikipedia.org/w/api.php?action=opensearch&search=AVIVA%20INVESTORS%20FRANCE\n",
            "<Response [200]>\n",
            "https://en.wikipedia.org/w/api.php?action=opensearch&search=EXANE\n",
            "<Response [200]>\n",
            "https://fr.wikipedia.org/w/api.php?action=opensearch&search=EXANE\n",
            "<Response [200]>\n",
            "https://en.wikipedia.org/w/api.php?action=opensearch&search=ETORO%20%28EUROPE%29%20LIMITED\n",
            "<Response [200]>\n",
            "https://cy.wikipedia.org/w/api.php?action=opensearch&search=ETORO%20%28EUROPE%29%20LIMITED\n",
            "<Response [200]>\n",
            "https://en.wikipedia.org/w/api.php?action=opensearch&search=DEUTSCHE%20BANK%20AKTIENGESELLSCHAFT\n",
            "<Response [200]>\n",
            "https://de.wikipedia.org/w/api.php?action=opensearch&search=DEUTSCHE%20BANK%20AKTIENGESELLSCHAFT\n",
            "<Response [200]>\n",
            "https://en.wikipedia.org/w/api.php?action=opensearch&search=KEPLER%20CHEUVREUX\n",
            "<Response [200]>\n",
            "https://fr.wikipedia.org/w/api.php?action=opensearch&search=KEPLER%20CHEUVREUX\n",
            "<Response [200]>\n",
            "https://en.wikipedia.org/w/api.php?action=opensearch&search=HSBC%20BANK%20PLC\n",
            "<Response [200]>\n",
            "https://en.wikipedia.org/w/api.php?action=opensearch&search=BNP%20PARIBAS\n",
            "<Response [200]>\n",
            "https://fr.wikipedia.org/w/api.php?action=opensearch&search=BNP%20PARIBAS\n",
            "<Response [200]>\n",
            "https://en.wikipedia.org/w/api.php?action=opensearch&search=TOWER%20RESEARCH%20CAPITAL%20EUROPE%20LIMITED\n",
            "<Response [200]>\n",
            "https://en.wikipedia.org/w/api.php?action=opensearch&search=J.P.%20MORGAN%20SECURITIES%20LLC\n",
            "<Response [200]>\n",
            "https://en.wikipedia.org/w/api.php?action=opensearch&search=VIRTU%20FINANCIAL%20IRELAND%20LIMITED\n",
            "<Response [200]>\n",
            "https://ie.wikipedia.org/w/api.php?action=opensearch&search=VIRTU%20FINANCIAL%20IRELAND%20LIMITED\n",
            "<Response [200]>\n",
            "https://en.wikipedia.org/w/api.php?action=opensearch&search=REDBURN%20%28EUROPE%29%20LIMITED\n",
            "<Response [200]>\n",
            "https://en.wikipedia.org/w/api.php?action=opensearch&search=RBC%20EUROPE%20LIMITED\n",
            "<Response [200]>\n",
            "https://en.wikipedia.org/w/api.php?action=opensearch&search=GLOBAL%20PRIME%20PARTNERS%20LTD\n",
            "<Response [200]>\n",
            "https://en.wikipedia.org/w/api.php?action=opensearch&search=CREDIT%20AGRICOLE%20TITRES\n",
            "<Response [200]>\n",
            "https://fr.wikipedia.org/w/api.php?action=opensearch&search=CREDIT%20AGRICOLE%20TITRES\n",
            "<Response [200]>\n",
            "https://en.wikipedia.org/w/api.php?action=opensearch&search=CITADEL%20SECURITIES%20%28EUROPE%29%20LIMITED\n",
            "<Response [200]>\n",
            "https://en.wikipedia.org/w/api.php?action=opensearch&search=Quantlab%20Europe%20B.V.\n",
            "<Response [200]>\n",
            "https://nl.wikipedia.org/w/api.php?action=opensearch&search=Quantlab%20Europe%20B.V.\n",
            "<Response [200]>\n",
            "https://en.wikipedia.org/w/api.php?action=opensearch&search=SANFORD%20C.%20BERNSTEIN%20LIMITED\n",
            "<Response [200]>\n",
            "https://en.wikipedia.org/w/api.php?action=opensearch&search=EUREX%20Clearing%20Aktiengesellschaft\n",
            "<Response [200]>\n",
            "https://de.wikipedia.org/w/api.php?action=opensearch&search=EUREX%20Clearing%20Aktiengesellschaft\n",
            "<Response [200]>\n",
            "https://en.wikipedia.org/w/api.php?action=opensearch&search=MORGAN%20STANLEY%20%26%20CO.%20LLC\n",
            "<Response [200]>\n",
            "https://en.wikipedia.org/w/api.php?action=opensearch&search=COWEN%20EXECUTION%20SERVICES%20LLC\n",
            "<Response [200]>\n",
            "https://en.wikipedia.org/w/api.php?action=opensearch&search=Susquehanna%20International%20Securities%20Limited\n",
            "<Response [200]>\n",
            "https://ie.wikipedia.org/w/api.php?action=opensearch&search=Susquehanna%20International%20Securities%20Limited\n",
            "<Response [200]>\n",
            "https://en.wikipedia.org/w/api.php?action=opensearch&search=ODDO%20BHF%20SCA\n",
            "<Response [200]>\n",
            "https://fr.wikipedia.org/w/api.php?action=opensearch&search=ODDO%20BHF%20SCA\n",
            "<Response [200]>\n",
            "https://en.wikipedia.org/w/api.php?action=opensearch&search=AMUNDI%20ASSET%20MANAGEMENT\n",
            "<Response [200]>\n",
            "https://fr.wikipedia.org/w/api.php?action=opensearch&search=AMUNDI%20ASSET%20MANAGEMENT\n",
            "<Response [200]>\n",
            "https://en.wikipedia.org/w/api.php?action=opensearch&search=Joh.%20Berenberg%2C%20Gossler%20%26%20Co.%20KG\n",
            "<Response [200]>\n",
            "https://de.wikipedia.org/w/api.php?action=opensearch&search=Joh.%20Berenberg%2C%20Gossler%20%26%20Co.%20KG\n",
            "<Response [200]>\n",
            "https://en.wikipedia.org/w/api.php?action=opensearch&search=NATIXIS\n",
            "<Response [200]>\n",
            "https://fr.wikipedia.org/w/api.php?action=opensearch&search=NATIXIS\n",
            "<Response [200]>\n",
            "https://en.wikipedia.org/w/api.php?action=opensearch&search=JANE%20STREET%20FINANCIAL%20LIMITED\n",
            "<Response [200]>\n",
            "https://en.wikipedia.org/w/api.php?action=opensearch&search=NATIXIS%20ASSET%20MANAGEMENT%20FINANCE\n",
            "<Response [200]>\n",
            "https://fr.wikipedia.org/w/api.php?action=opensearch&search=NATIXIS%20ASSET%20MANAGEMENT%20FINANCE\n",
            "<Response [200]>\n",
            "https://en.wikipedia.org/w/api.php?action=opensearch&search=BARCLAYS%20BANK%20PLC\n",
            "<Response [200]>\n",
            "https://en.wikipedia.org/w/api.php?action=opensearch&search=VIRTU%20ITG%20EUROPE%20LIMITED\n",
            "<Response [200]>\n",
            "https://ie.wikipedia.org/w/api.php?action=opensearch&search=VIRTU%20ITG%20EUROPE%20LIMITED\n",
            "<Response [200]>\n",
            "https://en.wikipedia.org/w/api.php?action=opensearch&search=PROCAPITAL\n",
            "<Response [200]>\n",
            "https://fr.wikipedia.org/w/api.php?action=opensearch&search=PROCAPITAL\n",
            "<Response [200]>\n",
            "https://en.wikipedia.org/w/api.php?action=opensearch&search=CREDIT%20INDUSTRIEL%20ET%20COMMERCIAL\n",
            "<Response [200]>\n",
            "https://fr.wikipedia.org/w/api.php?action=opensearch&search=CREDIT%20INDUSTRIEL%20ET%20COMMERCIAL\n",
            "<Response [200]>\n",
            "https://en.wikipedia.org/w/api.php?action=opensearch&search=SANFORD%20C.%20BERNSTEIN%20%26%20CO.%2C%20LLC\n",
            "<Response [200]>\n",
            "https://en.wikipedia.org/w/api.php?action=opensearch&search=Tradegate%20AG%20Wertpapierhandelsbank\n",
            "<Response [200]>\n",
            "https://de.wikipedia.org/w/api.php?action=opensearch&search=Tradegate%20AG%20Wertpapierhandelsbank\n",
            "<Response [200]>\n",
            "https://en.wikipedia.org/w/api.php?action=opensearch&search=BOURSORAMA\n",
            "<Response [200]>\n",
            "https://fr.wikipedia.org/w/api.php?action=opensearch&search=BOURSORAMA\n",
            "<Response [200]>\n",
            "https://en.wikipedia.org/w/api.php?action=opensearch&search=MORGAN%20STANLEY%20INVESTMENT%20MANAGEMENT%20LIMITED\n",
            "<Response [200]>\n",
            "https://en.wikipedia.org/w/api.php?action=opensearch&search=CAPITAL%20RESEARCH%20AND%20MANAGEMENT%20COMPANY\n",
            "<Response [200]>\n",
            "https://en.wikipedia.org/w/api.php?action=opensearch&search=BANQUE%20FEDERATIVE%20DU%20CREDIT%20MUTUEL\n",
            "<Response [200]>\n",
            "https://fr.wikipedia.org/w/api.php?action=opensearch&search=BANQUE%20FEDERATIVE%20DU%20CREDIT%20MUTUEL\n",
            "<Response [200]>\n",
            "https://en.wikipedia.org/w/api.php?action=opensearch&search=EXANE%20DERIVATIVES\n",
            "<Response [200]>\n",
            "https://fr.wikipedia.org/w/api.php?action=opensearch&search=EXANE%20DERIVATIVES\n",
            "<Response [200]>\n",
            "https://en.wikipedia.org/w/api.php?action=opensearch&search=Bank%20Julius%20B%C3%A4r%20%26%20Co.%20AG\n",
            "<Response [200]>\n",
            "https://ch.wikipedia.org/w/api.php?action=opensearch&search=Bank%20Julius%20B%C3%A4r%20%26%20Co.%20AG\n",
            "<Response [200]>\n",
            "https://en.wikipedia.org/w/api.php?action=opensearch&search=EXANE%2C%20INC.\n",
            "<Response [200]>\n",
            "https://en.wikipedia.org/w/api.php?action=opensearch&search=MACQUARIE%20CAPITAL%20%28EUROPE%29%20LIMITED\n",
            "<Response [200]>\n",
            "https://en.wikipedia.org/w/api.php?action=opensearch&search=TFS%20DERIVATIVES%20LIMITED\n",
            "<Response [200]>\n",
            "https://en.wikipedia.org/w/api.php?action=opensearch&search=AMUNDI%20IRELAND%20LIMITED\n",
            "<Response [200]>\n",
            "https://ie.wikipedia.org/w/api.php?action=opensearch&search=AMUNDI%20IRELAND%20LIMITED\n",
            "<Response [200]>\n",
            "https://en.wikipedia.org/w/api.php?action=opensearch&search=UBS%20Switzerland%20AG\n",
            "<Response [200]>\n",
            "https://ch.wikipedia.org/w/api.php?action=opensearch&search=UBS%20Switzerland%20AG\n",
            "<Response [200]>\n",
            "https://en.wikipedia.org/w/api.php?action=opensearch&search=ARKEA%20DIRECT%20BANK\n",
            "<Response [200]>\n",
            "https://fr.wikipedia.org/w/api.php?action=opensearch&search=ARKEA%20DIRECT%20BANK\n",
            "<Response [200]>\n",
            "https://en.wikipedia.org/w/api.php?action=opensearch&search=Issar%20Limited\n",
            "<Response [200]>\n",
            "https://vg.wikipedia.org/w/api.php?action=opensearch&search=Issar%20Limited\n",
            "https://en.wikipedia.org/w/api.php?action=opensearch&search=COMMERZBANK%20Aktiengesellschaft\n",
            "<Response [200]>\n",
            "https://de.wikipedia.org/w/api.php?action=opensearch&search=COMMERZBANK%20Aktiengesellschaft\n",
            "<Response [200]>\n",
            "https://en.wikipedia.org/w/api.php?action=opensearch&search=Baader%20Bank%20Aktiengesellschaft\n",
            "<Response [200]>\n",
            "https://de.wikipedia.org/w/api.php?action=opensearch&search=Baader%20Bank%20Aktiengesellschaft\n",
            "<Response [200]>\n",
            "https://en.wikipedia.org/w/api.php?action=opensearch&search=CREDIT%20SUISSE%20INTERNATIONAL\n",
            "<Response [200]>\n",
            "https://en.wikipedia.org/w/api.php?action=opensearch&search=LIQUIDNET%20EUROPE%20LIMITED\n",
            "<Response [200]>\n",
            "https://en.wikipedia.org/w/api.php?action=opensearch&search=LAZARD%20FRERES%20GESTION\n",
            "<Response [200]>\n",
            "https://fr.wikipedia.org/w/api.php?action=opensearch&search=LAZARD%20FRERES%20GESTION\n",
            "<Response [200]>\n",
            "https://en.wikipedia.org/w/api.php?action=opensearch&search=JPMORGAN%20ASSET%20MANAGEMENT%20%28UK%29%20LIMITED\n",
            "<Response [200]>\n",
            "https://en.wikipedia.org/w/api.php?action=opensearch&search=SOCIETE%20DE%20BOURSE%20GILBERT%20DUPONT\n",
            "<Response [200]>\n",
            "https://fr.wikipedia.org/w/api.php?action=opensearch&search=SOCIETE%20DE%20BOURSE%20GILBERT%20DUPONT\n",
            "<Response [200]>\n",
            "https://en.wikipedia.org/w/api.php?action=opensearch&search=BARCLAYS%20BANK%20IRELAND%20PUBLIC%20LIMITED%20COMPANY\n",
            "<Response [200]>\n",
            "https://ie.wikipedia.org/w/api.php?action=opensearch&search=BARCLAYS%20BANK%20IRELAND%20PUBLIC%20LIMITED%20COMPANY\n",
            "<Response [200]>\n",
            "https://en.wikipedia.org/w/api.php?action=opensearch&search=BANCA%20D%27ITALIA\n",
            "<Response [200]>\n",
            "https://it.wikipedia.org/w/api.php?action=opensearch&search=BANCA%20D%27ITALIA\n",
            "<Response [200]>\n",
            "https://en.wikipedia.org/w/api.php?action=opensearch&search=Credit%20Suisse%20AG\n",
            "<Response [200]>\n",
            "https://ch.wikipedia.org/w/api.php?action=opensearch&search=Credit%20Suisse%20AG\n",
            "<Response [200]>\n",
            "https://en.wikipedia.org/w/api.php?action=opensearch&search=H2O%20AM%20LLP\n",
            "<Response [200]>\n",
            "https://en.wikipedia.org/w/api.php?action=opensearch&search=GAIR%20LOCH%20ENTERPRISES%20LTD\n",
            "<Response [200]>\n",
            "https://en.wikipedia.org/w/api.php?action=opensearch&search=SG%20OPTION%20EUROPE\n",
            "<Response [200]>\n",
            "https://fr.wikipedia.org/w/api.php?action=opensearch&search=SG%20OPTION%20EUROPE\n",
            "<Response [200]>\n",
            "https://en.wikipedia.org/w/api.php?action=opensearch&search=Goldman%20Sachs%20Bank%20Europe%20SE\n",
            "<Response [200]>\n",
            "https://de.wikipedia.org/w/api.php?action=opensearch&search=Goldman%20Sachs%20Bank%20Europe%20SE\n",
            "<Response [200]>\n",
            "https://en.wikipedia.org/w/api.php?action=opensearch&search=Banque%20Pictet%20%26%20Cie%20S.A.\n",
            "<Response [200]>\n",
            "https://ch.wikipedia.org/w/api.php?action=opensearch&search=Banque%20Pictet%20%26%20Cie%20S.A.\n",
            "<Response [200]>\n",
            "https://en.wikipedia.org/w/api.php?action=opensearch&search=Lime%20Brokerage%20LLC\n",
            "<Response [200]>\n",
            "https://en.wikipedia.org/w/api.php?action=opensearch&search=CAPITAL%20RESEARCH%20COMPANY\n",
            "<Response [200]>\n",
            "https://en.wikipedia.org/w/api.php?action=opensearch&search=LCH.CLEARNET%20LLC\n",
            "<Response [200]>\n",
            "https://en.wikipedia.org/w/api.php?action=opensearch&search=BANCA%20IMI%20S.P.A.%20IN%20FORMA%20ABBREVIATA%20ANCHE%20SOLO%20IMI%20S.P.A.\n",
            "<Response [200]>\n",
            "https://it.wikipedia.org/w/api.php?action=opensearch&search=BANCA%20IMI%20S.P.A.%20IN%20FORMA%20ABBREVIATA%20ANCHE%20SOLO%20IMI%20S.P.A.\n",
            "<Response [200]>\n",
            "https://en.wikipedia.org/w/api.php?action=opensearch&search=OLIVETREE%20FINANCIAL%20LIMITED\n",
            "<Response [200]>\n",
            "https://en.wikipedia.org/w/api.php?action=opensearch&search=Nomura%20International%20PLC\n",
            "<Response [200]>\n"
          ],
          "name": "stdout"
        }
      ]
    },
    {
      "cell_type": "code",
      "metadata": {
        "id": "15qt4M4ubkee",
        "colab_type": "code",
        "colab": {
          "base_uri": "https://localhost:8080/",
          "height": 54
        },
        "outputId": "3b3e8b82-b06e-4664-ab63-e226551d5d2f"
      },
      "source": [
        "error"
      ],
      "execution_count": 39,
      "outputs": [
        {
          "output_type": "execute_result",
          "data": {
            "text/plain": [
              "{'Issar Limited': requests.exceptions.ConnectionError(urllib3.exceptions.MaxRetryError(\"HTTPSConnectionPool(host='vg.wikipedia.org', port=443): Max retries exceeded with url: /w/api.php?action=opensearch&search=Issar%20Limited (Caused by NewConnectionError('<urllib3.connection.VerifiedHTTPSConnection object at 0x7ff44b14c2b0>: Failed to establish a new connection: [Errno -2] Name or service not known',))\"))}"
            ]
          },
          "metadata": {
            "tags": []
          },
          "execution_count": 39
        }
      ]
    },
    {
      "cell_type": "code",
      "metadata": {
        "id": "e0ihbW1ob0Vi",
        "colab_type": "code",
        "colab": {
          "base_uri": "https://localhost:8080/",
          "height": 1000
        },
        "outputId": "6f1af843-60d7-444d-8538-851d605f7cdc"
      },
      "source": [
        "s_wiki_lang"
      ],
      "execution_count": 43,
      "outputs": [
        {
          "output_type": "execute_result",
          "data": {
            "text/plain": [
              "{'AMUNDI ASSET MANAGEMENT': '',\n",
              " 'AMUNDI IRELAND LIMITED': None,\n",
              " 'ARKEA DIRECT BANK': '',\n",
              " 'AVIVA INVESTORS FRANCE': None,\n",
              " \"BANCA D'ITALIA\": '',\n",
              " 'BANCA IMI S.P.A. IN FORMA ABBREVIATA ANCHE SOLO IMI S.P.A.': None,\n",
              " 'BANQUE CENTRALE DE COMPENSATION': None,\n",
              " 'BANQUE FEDERATIVE DU CREDIT MUTUEL': None,\n",
              " 'BARCLAYS BANK IRELAND PUBLIC LIMITED COMPANY': None,\n",
              " 'BARCLAYS BANK PLC': '',\n",
              " 'BNP PARIBAS': '',\n",
              " 'BNP PARIBAS ARBITRAGE': '',\n",
              " 'BOFA SECURITIES EUROPE SA': None,\n",
              " 'BOURSORAMA': '',\n",
              " 'Baader Bank Aktiengesellschaft': None,\n",
              " 'Bank Julius Bär & Co. AG': None,\n",
              " 'Banque Pictet & Cie S.A.': None,\n",
              " 'CITADEL SECURITIES GCS (IRELAND) LIMITED': None,\n",
              " 'COMMERZBANK Aktiengesellschaft': '',\n",
              " 'CREDIT AGRICOLE TITRES': None,\n",
              " 'CREDIT INDUSTRIEL ET COMMERCIAL': '',\n",
              " 'CREDIT SUISSE INTERNATIONAL': '',\n",
              " 'CREDIT SUISSE SECURITIES SOCIEDAD DE VALORES SOCIEDAD ANONIMA': None,\n",
              " 'Citigroup Global Markets Europe AG': None,\n",
              " 'Credit Suisse AG': None,\n",
              " 'DEUTSCHE BANK AKTIENGESELLSCHAFT': '',\n",
              " 'ETORO (EUROPE) LIMITED': None,\n",
              " 'EUREX Clearing Aktiengesellschaft': None,\n",
              " 'EXANE': '',\n",
              " 'EXANE DERIVATIVES': None,\n",
              " 'European Central Counterparty N.V.': None,\n",
              " 'GOLDMAN SACHS INTERNATIONAL': '',\n",
              " 'Goldman Sachs Bank Europe SE': None,\n",
              " 'HRTEU LIMITED': None,\n",
              " 'HSBC BANK PLC': '',\n",
              " 'Issar Limited': None,\n",
              " 'J.P. Morgan AG': None,\n",
              " 'Joh. Berenberg, Gossler & Co. KG': '',\n",
              " 'Jump Trading Europe B.V.': None,\n",
              " 'KEPLER CHEUVREUX': '',\n",
              " 'LAZARD FRERES GESTION': None,\n",
              " 'MERRILL LYNCH INTERNATIONAL': '',\n",
              " 'MORGAN STANLEY FRANCE': None,\n",
              " 'Morgan Stanley Europe SE': None,\n",
              " 'NATIXIS': '',\n",
              " 'NATIXIS ASSET MANAGEMENT FINANCE': None,\n",
              " 'Nomura International PLC': '',\n",
              " 'ODDO BHF SCA': None,\n",
              " 'Optiver V.O.F.': None,\n",
              " 'PROCAPITAL': '',\n",
              " 'Quantlab Europe B.V.': None,\n",
              " 'SANFORD C. BERNSTEIN & CO., LLC': '',\n",
              " 'SG OPTION EUROPE': None,\n",
              " 'SIX x-clear AG': None,\n",
              " 'SOCIETE DE BOURSE GILBERT DUPONT': None,\n",
              " 'SOCIETE GENERALE': '',\n",
              " 'Susquehanna International Securities Limited': None,\n",
              " 'TOWER RESEARCH CAPITAL EUROPE B.V.': None,\n",
              " 'Tradegate AG Wertpapierhandelsbank': None,\n",
              " 'UBS AG': None,\n",
              " 'UBS Europe SE': None,\n",
              " 'UBS Switzerland AG': None,\n",
              " 'VIRTU FINANCIAL IRELAND LIMITED': None,\n",
              " 'VIRTU ITG EUROPE LIMITED': None}"
            ]
          },
          "metadata": {
            "tags": []
          },
          "execution_count": 43
        }
      ]
    },
    {
      "cell_type": "code",
      "metadata": {
        "id": "XOZVP9tVcxOh",
        "colab_type": "code",
        "colab": {
          "base_uri": "https://localhost:8080/",
          "height": 54
        },
        "outputId": "0fba3e84-2304-4239-f4ac-f1ddfa566215"
      },
      "source": [
        "l_en = []\n",
        "l_lang = []\n",
        "\n",
        "for _, r in df.iterrows():\n",
        "  l_en.append(s_en.get(r['label'], None))\n",
        "  l_lang.append(s_lang.get(r['label'], None))\n",
        "df['search_lang'] = l_lang\n",
        "df['search_en'] = l_en\n",
        "df"
      ],
      "execution_count": 44,
      "outputs": [
        {
          "output_type": "stream",
          "text": [
            "[None, None, None, None, None, None, None, None, None, 'Societe Generale Ghana', None, None, None, None, None, None, None, None, 'J.P. Morgan Asset Management', None, 'UBS AG', None, None, None, None, None, None, None, None, None, None, 'Exanet', None, None, 'Kepler Cheuvreux', None, 'BNP Paribas', None, None, None, None, None, None, None, None, None, None, None, None, None, None, None, None, None, 'Natixis', None, None, None, None, 'Procapitalist', 'Credit Industriel et Commercial', None, None, None, None, None, None, None, None, None, None, None, None, None, None, None, 'Commerzbank Aktiengesellschaft', None, None, None, None, None, None, None, 'Banca d’Italia', 'Credit Suisse AG', None, None, None, None, None, None, None, None, None, None, None]\n"
          ],
          "name": "stdout"
        }
      ]
    },
    {
      "cell_type": "code",
      "metadata": {
        "id": "2sEuYbBgjaXy",
        "colab_type": "code",
        "colab": {}
      },
      "source": [
        "df['search'] = df.search_lang.combine_first(df.search_en)"
      ],
      "execution_count": 0,
      "outputs": []
    },
    {
      "cell_type": "code",
      "metadata": {
        "id": "1tZcyeXweB3J",
        "colab_type": "code",
        "colab": {
          "base_uri": "https://localhost:8080/",
          "height": 118
        },
        "outputId": "14dfb921-20f2-47e4-a0d6-57ff7c007bd1"
      },
      "source": [
        "df.count()"
      ],
      "execution_count": 49,
      "outputs": [
        {
          "output_type": "execute_result",
          "data": {
            "text/plain": [
              "label          97\n",
              "country        97\n",
              "search_lang    22\n",
              "search_en      12\n",
              "search         25\n",
              "dtype: int64"
            ]
          },
          "metadata": {
            "tags": []
          },
          "execution_count": 49
        }
      ]
    },
    {
      "cell_type": "code",
      "metadata": {
        "id": "qAXbitLseSy4",
        "colab_type": "code",
        "colab": {}
      },
      "source": [
        "df.to_csv('lei_search.csv', sep=';')"
      ],
      "execution_count": 0,
      "outputs": []
    },
    {
      "cell_type": "code",
      "metadata": {
        "id": "-26xMRhVed1H",
        "colab_type": "code",
        "colab": {}
      },
      "source": [
        "for _, r in df.iterrows():\n",
        "  try:\n",
        "    label = urllib.parse.quote(r['label'])\n",
        "    lang = r['country'].lower()\n",
        "    if lang == 'gb' or lang.startswith('us-'):\n",
        "      lang = 'en'"
      ],
      "execution_count": 0,
      "outputs": []
    },
    {
      "cell_type": "code",
      "metadata": {
        "id": "JX7qhUSoTsjz",
        "colab_type": "code",
        "colab": {
          "base_uri": "https://localhost:8080/",
          "height": 1000
        },
        "outputId": "088e5b53-bb8c-45e8-8fc1-49cf1c94ed3d"
      },
      "source": [
        "data_name = []\n",
        "data_id = []\n",
        "for _, r in df.iterrows():\n",
        "  label = urllib.parse.quote(r['label'])\n",
        "  lang = r['country'].lower()\n",
        "  if lang in ['gb', 'vg'] or lang.startswith('us-'):\n",
        "    lang = 'en'\n",
        "  print(r['label'])\n",
        "  resp = requests.get(f'https://www.wikidata.org/w/api.php?action=wbsearchentities&search={label}&language=en&format=json')\n",
        "  print(resp)\n",
        "  resp_json = resp.json()\n",
        "  if len(resp_json['search']) != 0:\n",
        "    data_name.append(resp_json['search'][0]['label'])\n",
        "    data_id.append(resp_json['search'][0]['id'])\n",
        "  else:\n",
        "    data_name.append(None)\n",
        "    data_id.append(None)\n",
        "  time.sleep(0.5)"
      ],
      "execution_count": 53,
      "outputs": [
        {
          "output_type": "stream",
          "text": [
            "BANQUE CENTRALE DE COMPENSATION\n",
            "<Response [200]>\n",
            "European Central Counterparty N.V.\n",
            "<Response [200]>\n",
            "MORGAN STANLEY & CO. INTERNATIONAL PLC\n",
            "<Response [200]>\n",
            "GOLDMAN SACHS INTERNATIONAL\n",
            "<Response [200]>\n",
            "XTX MARKETS LIMITED\n",
            "<Response [200]>\n",
            "LCH LIMITED\n",
            "<Response [200]>\n",
            "HRTEU LIMITED\n",
            "<Response [200]>\n",
            "CREDIT SUISSE SECURITIES (EUROPE) LIMITED\n",
            "<Response [200]>\n",
            "J.P. MORGAN SECURITIES PLC\n",
            "<Response [200]>\n",
            "SOCIETE GENERALE\n",
            "<Response [200]>\n",
            "TOWER RESEARCH CAPITAL EUROPE B.V.\n",
            "<Response [200]>\n",
            "Jump Trading Europe B.V.\n",
            "<Response [200]>\n",
            "MORGAN STANLEY FRANCE\n",
            "<Response [200]>\n",
            "CREDIT SUISSE SECURITIES SOCIEDAD DE VALORES SOCIEDAD ANONIMA\n",
            "<Response [200]>\n",
            "CITADEL SECURITIES GCS (IRELAND) LIMITED\n",
            "<Response [200]>\n",
            "MERRILL LYNCH INTERNATIONAL\n",
            "<Response [200]>\n",
            "Morgan Stanley Europe SE\n",
            "<Response [200]>\n",
            "CITIGROUP GLOBAL MARKETS LIMITED\n",
            "<Response [200]>\n",
            "J.P. Morgan AG\n",
            "<Response [200]>\n",
            "SIX x-clear AG\n",
            "<Response [200]>\n",
            "UBS AG\n",
            "<Response [200]>\n",
            "UBS Europe SE\n",
            "<Response [200]>\n",
            "AVIVA INVESTORS GLOBAL SERVICES LIMITED\n",
            "<Response [200]>\n",
            "JEFFERIES INTERNATIONAL LIMITED\n",
            "<Response [200]>\n",
            "BARCLAYS CAPITAL SECURITIES LIMITED\n",
            "<Response [200]>\n",
            "Citigroup Global Markets Europe AG\n",
            "<Response [200]>\n",
            "BOFA SECURITIES EUROPE SA\n",
            "<Response [200]>\n",
            "INSTINET EUROPE LIMITED\n",
            "<Response [200]>\n",
            "Optiver V.O.F.\n",
            "<Response [200]>\n",
            "BNP PARIBAS ARBITRAGE\n",
            "<Response [200]>\n",
            "AVIVA INVESTORS FRANCE\n",
            "<Response [200]>\n",
            "EXANE\n",
            "<Response [200]>\n",
            "ETORO (EUROPE) LIMITED\n",
            "<Response [200]>\n",
            "DEUTSCHE BANK AKTIENGESELLSCHAFT\n",
            "<Response [200]>\n",
            "KEPLER CHEUVREUX\n",
            "<Response [200]>\n",
            "HSBC BANK PLC\n",
            "<Response [200]>\n",
            "BNP PARIBAS\n",
            "<Response [200]>\n",
            "TOWER RESEARCH CAPITAL EUROPE LIMITED\n",
            "<Response [200]>\n",
            "J.P. MORGAN SECURITIES LLC\n",
            "<Response [200]>\n",
            "VIRTU FINANCIAL IRELAND LIMITED\n",
            "<Response [200]>\n",
            "REDBURN (EUROPE) LIMITED\n",
            "<Response [200]>\n",
            "RBC EUROPE LIMITED\n",
            "<Response [200]>\n",
            "GLOBAL PRIME PARTNERS LTD\n",
            "<Response [200]>\n",
            "CREDIT AGRICOLE TITRES\n",
            "<Response [200]>\n",
            "CITADEL SECURITIES (EUROPE) LIMITED\n",
            "<Response [200]>\n",
            "Quantlab Europe B.V.\n",
            "<Response [200]>\n",
            "SANFORD C. BERNSTEIN LIMITED\n",
            "<Response [200]>\n",
            "EUREX Clearing Aktiengesellschaft\n",
            "<Response [200]>\n",
            "MORGAN STANLEY & CO. LLC\n",
            "<Response [200]>\n",
            "COWEN EXECUTION SERVICES LLC\n",
            "<Response [200]>\n",
            "Susquehanna International Securities Limited\n",
            "<Response [200]>\n",
            "ODDO BHF SCA\n",
            "<Response [200]>\n",
            "AMUNDI ASSET MANAGEMENT\n",
            "<Response [200]>\n",
            "Joh. Berenberg, Gossler & Co. KG\n",
            "<Response [200]>\n",
            "NATIXIS\n",
            "<Response [200]>\n",
            "JANE STREET FINANCIAL LIMITED\n",
            "<Response [200]>\n",
            "NATIXIS ASSET MANAGEMENT FINANCE\n",
            "<Response [200]>\n",
            "BARCLAYS BANK PLC\n",
            "<Response [200]>\n",
            "VIRTU ITG EUROPE LIMITED\n",
            "<Response [200]>\n",
            "PROCAPITAL\n",
            "<Response [200]>\n",
            "CREDIT INDUSTRIEL ET COMMERCIAL\n",
            "<Response [200]>\n",
            "SANFORD C. BERNSTEIN & CO., LLC\n",
            "<Response [200]>\n",
            "Tradegate AG Wertpapierhandelsbank\n",
            "<Response [200]>\n",
            "BOURSORAMA\n",
            "<Response [200]>\n",
            "MORGAN STANLEY INVESTMENT MANAGEMENT LIMITED\n",
            "<Response [200]>\n",
            "CAPITAL RESEARCH AND MANAGEMENT COMPANY\n",
            "<Response [200]>\n",
            "BANQUE FEDERATIVE DU CREDIT MUTUEL\n",
            "<Response [200]>\n",
            "EXANE DERIVATIVES\n",
            "<Response [200]>\n",
            "Bank Julius Bär & Co. AG\n",
            "<Response [200]>\n",
            "EXANE, INC.\n",
            "<Response [200]>\n",
            "MACQUARIE CAPITAL (EUROPE) LIMITED\n",
            "<Response [200]>\n",
            "TFS DERIVATIVES LIMITED\n",
            "<Response [200]>\n",
            "AMUNDI IRELAND LIMITED\n",
            "<Response [200]>\n",
            "UBS Switzerland AG\n",
            "<Response [200]>\n",
            "ARKEA DIRECT BANK\n",
            "<Response [200]>\n",
            "Issar Limited\n",
            "<Response [200]>\n",
            "COMMERZBANK Aktiengesellschaft\n",
            "<Response [200]>\n",
            "Baader Bank Aktiengesellschaft\n",
            "<Response [200]>\n",
            "CREDIT SUISSE INTERNATIONAL\n",
            "<Response [200]>\n",
            "LIQUIDNET EUROPE LIMITED\n",
            "<Response [200]>\n",
            "LAZARD FRERES GESTION\n",
            "<Response [200]>\n",
            "JPMORGAN ASSET MANAGEMENT (UK) LIMITED\n",
            "<Response [200]>\n",
            "SOCIETE DE BOURSE GILBERT DUPONT\n",
            "<Response [200]>\n",
            "BARCLAYS BANK IRELAND PUBLIC LIMITED COMPANY\n",
            "<Response [200]>\n",
            "BANCA D'ITALIA\n",
            "<Response [200]>\n",
            "Credit Suisse AG\n",
            "<Response [200]>\n",
            "H2O AM LLP\n",
            "<Response [200]>\n",
            "GAIR LOCH ENTERPRISES LTD\n",
            "<Response [200]>\n",
            "SG OPTION EUROPE\n",
            "<Response [200]>\n",
            "Goldman Sachs Bank Europe SE\n",
            "<Response [200]>\n",
            "Banque Pictet & Cie S.A.\n",
            "<Response [200]>\n",
            "Lime Brokerage LLC\n",
            "<Response [200]>\n",
            "CAPITAL RESEARCH COMPANY\n",
            "<Response [200]>\n",
            "LCH.CLEARNET LLC\n",
            "<Response [200]>\n",
            "BANCA IMI S.P.A. IN FORMA ABBREVIATA ANCHE SOLO IMI S.P.A.\n",
            "<Response [200]>\n",
            "OLIVETREE FINANCIAL LIMITED\n",
            "<Response [200]>\n",
            "Nomura International PLC\n",
            "<Response [200]>\n"
          ],
          "name": "stdout"
        }
      ]
    },
    {
      "cell_type": "code",
      "metadata": {
        "id": "1mkyXPv6VafG",
        "colab_type": "code",
        "colab": {
          "base_uri": "https://localhost:8080/",
          "height": 1000
        },
        "outputId": "4f4521b2-948e-4e40-86ce-4b910e45f3e1"
      },
      "source": [
        "data_name"
      ],
      "execution_count": 54,
      "outputs": [
        {
          "output_type": "execute_result",
          "data": {
            "text/plain": [
              "[None,\n",
              " None,\n",
              " None,\n",
              " 'GOLDMAN SACHS INTERNATIONAL',\n",
              " None,\n",
              " None,\n",
              " 'HRTEU LIMITED - SYSTEMATIC INTERNALISER',\n",
              " None,\n",
              " 'J.P. MORGAN SECURITIES PLC',\n",
              " 'Society General',\n",
              " None,\n",
              " None,\n",
              " None,\n",
              " None,\n",
              " None,\n",
              " 'MERRILL LYNCH INTERNATIONAL',\n",
              " None,\n",
              " 'CITIGROUP GLOBAL MARKETS LIMITED',\n",
              " 'J.P. MORGAN AG - SYSTEMATIC INTERNALISER',\n",
              " 'SIX X-CLEAR AG',\n",
              " 'UBS',\n",
              " 'UBS EUROPE SE - TRADING',\n",
              " None,\n",
              " None,\n",
              " 'BARCLAYS CAPITAL SECURITIES LIMITED',\n",
              " 'CITIGROUP GLOBAL MARKETS EUROPE AG - SYSTEMATIC INTERNALISER',\n",
              " None,\n",
              " 'INSTINET EUROPE LIMITED',\n",
              " None,\n",
              " 'BNP PARIBAS ARBITRAGE SNC - SYSTEMATIC INTERNALISER',\n",
              " None,\n",
              " 'Exanet',\n",
              " None,\n",
              " 'Deutsche Bank Aktiengesellschaft Filiale Prag, organizační složka',\n",
              " 'Kepler Cheuvreux',\n",
              " 'HSBC Bank',\n",
              " 'BNP Paribas',\n",
              " None,\n",
              " None,\n",
              " 'VIRTU FINANCIAL IRELAND LIMITED',\n",
              " None,\n",
              " 'RBC EUROPE LIMITED',\n",
              " None,\n",
              " None,\n",
              " None,\n",
              " None,\n",
              " None,\n",
              " None,\n",
              " None,\n",
              " None,\n",
              " 'SUSQUEHANNA INTERNATIONAL SECURITIES LIMITED - SYSTEMATIC INTERNALISER',\n",
              " None,\n",
              " 'Amundi',\n",
              " 'Berenberg Bank',\n",
              " 'Natixis',\n",
              " None,\n",
              " None,\n",
              " 'BARCLAYS BANK PLC',\n",
              " None,\n",
              " 'Procapitalist',\n",
              " 'French Industrial and Commercial Bank',\n",
              " None,\n",
              " None,\n",
              " 'Boursorama',\n",
              " None,\n",
              " 'Capital Group Companies',\n",
              " None,\n",
              " 'EXANE DERIVATIVES - SYSTEMATIC INTERNALISER',\n",
              " 'Julius Baer Group',\n",
              " None,\n",
              " None,\n",
              " None,\n",
              " None,\n",
              " None,\n",
              " None,\n",
              " None,\n",
              " 'Commerzbank',\n",
              " None,\n",
              " 'CREDIT SUISSE INTERNATIONAL',\n",
              " None,\n",
              " None,\n",
              " None,\n",
              " None,\n",
              " None,\n",
              " 'Bank of Italy',\n",
              " 'Credit Suisse',\n",
              " None,\n",
              " None,\n",
              " 'SG OPTION EUROPE - SYSTEMATIC INTERNALISER',\n",
              " 'GOLDMAN SACHS BANK EUROPE SE',\n",
              " None,\n",
              " None,\n",
              " None,\n",
              " None,\n",
              " None,\n",
              " None,\n",
              " 'Nomura International plc']"
            ]
          },
          "metadata": {
            "tags": []
          },
          "execution_count": 54
        }
      ]
    },
    {
      "cell_type": "code",
      "metadata": {
        "id": "bYIdOd8dV3Xq",
        "colab_type": "code",
        "colab": {}
      },
      "source": [
        "df['data_name'] = data_name\n",
        "df['data_id'] = data_id"
      ],
      "execution_count": 0,
      "outputs": []
    },
    {
      "cell_type": "code",
      "metadata": {
        "id": "4lGmH1NaWJgF",
        "colab_type": "code",
        "colab": {
          "base_uri": "https://localhost:8080/",
          "height": 151
        },
        "outputId": "db5df496-6cd5-4f6d-b4e2-05f4fd7404f3"
      },
      "source": [
        "df.count()"
      ],
      "execution_count": 56,
      "outputs": [
        {
          "output_type": "execute_result",
          "data": {
            "text/plain": [
              "label          97\n",
              "country        97\n",
              "search_lang    22\n",
              "search_en      12\n",
              "search         25\n",
              "data_name      39\n",
              "data_id        39\n",
              "dtype: int64"
            ]
          },
          "metadata": {
            "tags": []
          },
          "execution_count": 56
        }
      ]
    },
    {
      "cell_type": "code",
      "metadata": {
        "id": "WVs-RMPPWNr1",
        "colab_type": "code",
        "colab": {}
      },
      "source": [
        "df.to_csv('lei_search.csv', sep=';')"
      ],
      "execution_count": 0,
      "outputs": []
    },
    {
      "cell_type": "code",
      "metadata": {
        "id": "JtvsTgZ7WPLS",
        "colab_type": "code",
        "colab": {}
      },
      "source": [
        ""
      ],
      "execution_count": 0,
      "outputs": []
    }
  ]
}